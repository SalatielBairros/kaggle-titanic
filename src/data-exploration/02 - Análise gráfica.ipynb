{
  "nbformat": 4,
  "nbformat_minor": 5,
  "metadata": {
    "kernelspec": {
      "display_name": "Python 3",
      "language": "python",
      "name": "python3"
    },
    "language_info": {
      "codemirror_mode": {
        "name": "ipython",
        "version": 3
      },
      "file_extension": ".py",
      "mimetype": "text/x-python",
      "name": "python",
      "nbconvert_exporter": "python",
      "pygments_lexer": "ipython3",
      "version": "3.8.8"
    },
    "colab": {
      "name": "02 - Análise gráfica.ipynb",
      "provenance": []
    }
  },
  "cells": [
    {
      "cell_type": "markdown",
      "metadata": {
        "id": "8f56c35e"
      },
      "source": [
        "# 02 - Análise gráfica - Kaggle Titanic\n",
        "\n",
        "Conjunto de análises gráficas dos dados de treino do Titanic após a realização dos tratamentos dos mesmos."
      ],
      "id": "8f56c35e"
    },
    {
      "cell_type": "markdown",
      "metadata": {
        "id": "341358bb"
      },
      "source": [
        "## Preparando o ambiente"
      ],
      "id": "341358bb"
    },
    {
      "cell_type": "code",
      "metadata": {
        "id": "819710b6"
      },
      "source": [
        "import pandas as pd\n",
        "import numpy as np\n",
        "import seaborn as sns\n",
        "import matplotlib.pyplot as plt\n",
        "import matplotlib as mpl"
      ],
      "id": "819710b6",
      "execution_count": 4,
      "outputs": []
    },
    {
      "cell_type": "code",
      "metadata": {
        "id": "bcc3ec2d"
      },
      "source": [
        "mpl.rcParams['figure.figsize'] = (12, 7)\n",
        "sns.set(style='darkgrid')"
      ],
      "id": "bcc3ec2d",
      "execution_count": 11,
      "outputs": []
    },
    {
      "cell_type": "markdown",
      "metadata": {
        "id": "I25k-qcxkbLk"
      },
      "source": [
        "## Carregando dados"
      ],
      "id": "I25k-qcxkbLk"
    },
    {
      "cell_type": "code",
      "metadata": {
        "id": "h3S5erEKkWus",
        "outputId": "2555776f-6950-4ee5-9768-a742fcabce15",
        "colab": {
          "base_uri": "https://localhost:8080/",
          "height": 204
        }
      },
      "source": [
        "titanic = pd.read_csv('https://raw.githubusercontent.com/SalatielBairros/kaggle-titanic/main/data/processed/train_processed.csv')\n",
        "del titanic['Unnamed: 0']\n",
        "titanic.head(5)"
      ],
      "id": "h3S5erEKkWus",
      "execution_count": 12,
      "outputs": [
        {
          "output_type": "execute_result",
          "data": {
            "text/html": [
              "<div>\n",
              "<style scoped>\n",
              "    .dataframe tbody tr th:only-of-type {\n",
              "        vertical-align: middle;\n",
              "    }\n",
              "\n",
              "    .dataframe tbody tr th {\n",
              "        vertical-align: top;\n",
              "    }\n",
              "\n",
              "    .dataframe thead th {\n",
              "        text-align: right;\n",
              "    }\n",
              "</style>\n",
              "<table border=\"1\" class=\"dataframe\">\n",
              "  <thead>\n",
              "    <tr style=\"text-align: right;\">\n",
              "      <th></th>\n",
              "      <th>Survived</th>\n",
              "      <th>Pclass</th>\n",
              "      <th>Sex</th>\n",
              "      <th>Age</th>\n",
              "      <th>SibSp</th>\n",
              "      <th>Parch</th>\n",
              "      <th>Floor</th>\n",
              "      <th>Embarked</th>\n",
              "    </tr>\n",
              "  </thead>\n",
              "  <tbody>\n",
              "    <tr>\n",
              "      <th>0</th>\n",
              "      <td>0</td>\n",
              "      <td>3</td>\n",
              "      <td>male</td>\n",
              "      <td>22</td>\n",
              "      <td>1</td>\n",
              "      <td>0</td>\n",
              "      <td>SC</td>\n",
              "      <td>S</td>\n",
              "    </tr>\n",
              "    <tr>\n",
              "      <th>1</th>\n",
              "      <td>1</td>\n",
              "      <td>1</td>\n",
              "      <td>female</td>\n",
              "      <td>38</td>\n",
              "      <td>1</td>\n",
              "      <td>0</td>\n",
              "      <td>C</td>\n",
              "      <td>C</td>\n",
              "    </tr>\n",
              "    <tr>\n",
              "      <th>2</th>\n",
              "      <td>1</td>\n",
              "      <td>3</td>\n",
              "      <td>female</td>\n",
              "      <td>26</td>\n",
              "      <td>0</td>\n",
              "      <td>0</td>\n",
              "      <td>SC</td>\n",
              "      <td>S</td>\n",
              "    </tr>\n",
              "    <tr>\n",
              "      <th>3</th>\n",
              "      <td>1</td>\n",
              "      <td>1</td>\n",
              "      <td>female</td>\n",
              "      <td>35</td>\n",
              "      <td>1</td>\n",
              "      <td>0</td>\n",
              "      <td>C</td>\n",
              "      <td>S</td>\n",
              "    </tr>\n",
              "    <tr>\n",
              "      <th>4</th>\n",
              "      <td>0</td>\n",
              "      <td>3</td>\n",
              "      <td>male</td>\n",
              "      <td>35</td>\n",
              "      <td>0</td>\n",
              "      <td>0</td>\n",
              "      <td>SC</td>\n",
              "      <td>S</td>\n",
              "    </tr>\n",
              "  </tbody>\n",
              "</table>\n",
              "</div>"
            ],
            "text/plain": [
              "   Survived  Pclass     Sex  Age  SibSp  Parch Floor Embarked\n",
              "0         0       3    male   22      1      0    SC        S\n",
              "1         1       1  female   38      1      0     C        C\n",
              "2         1       3  female   26      0      0    SC        S\n",
              "3         1       1  female   35      1      0     C        S\n",
              "4         0       3    male   35      0      0    SC        S"
            ]
          },
          "metadata": {
            "tags": []
          },
          "execution_count": 12
        }
      ]
    },
    {
      "cell_type": "markdown",
      "metadata": {
        "id": "uM2zrR4Tmwic"
      },
      "source": [
        "## Sobreviventes\n",
        "\n",
        "Começo com a contagem geral da proporção de sobreviventes na base de teste."
      ],
      "id": "uM2zrR4Tmwic"
    },
    {
      "cell_type": "code",
      "metadata": {
        "id": "GBuisVcdkkP3",
        "outputId": "066baa49-c9f4-428e-f679-dc4c943c5bfc",
        "colab": {
          "base_uri": "https://localhost:8080/",
          "height": 448
        }
      },
      "source": [
        "sns.countplot(x = 'Survived', data=titanic);"
      ],
      "id": "GBuisVcdkkP3",
      "execution_count": 13,
      "outputs": [
        {
          "output_type": "display_data",
          "data": {
            "image/png": "[encoded data removed]",
            "text/plain": [
              "<Figure size 864x504 with 1 Axes>"
            ]
          },
          "metadata": {
            "tags": []
          }
        }
      ]
    },
    {
      "cell_type": "markdown",
      "metadata": {
        "id": "7gV1IqeSnMfp"
      },
      "source": [
        "A maior parte das pessoas dessa base de dados não sobreviveu ao acidente, mas ainda assim foram vários os sobreviventes."
      ],
      "id": "7gV1IqeSnMfp"
    },
    {
      "cell_type": "markdown",
      "metadata": {
        "id": "__qErVVwneET"
      },
      "source": [
        "## Sobreviventes por classe"
      ],
      "id": "__qErVVwneET"
    },
    {
      "cell_type": "code",
      "metadata": {
        "id": "_no98CfbnFMy",
        "outputId": "730ce269-aa14-479b-a8a7-30925ab6a29d",
        "colab": {
          "base_uri": "https://localhost:8080/",
          "height": 448
        }
      },
      "source": [
        "sns.countplot(x = 'Pclass', data=titanic, hue='Survived');"
      ],
      "id": "_no98CfbnFMy",
      "execution_count": 14,
      "outputs": [
        {
          "output_type": "display_data",
          "data": {
            "image/png": "[encoded data removed]",
            "text/plain": [
              "<Figure size 864x504 with 1 Axes>"
            ]
          },
          "metadata": {
            "tags": []
          }
        }
      ]
    },
    {
      "cell_type": "markdown",
      "metadata": {
        "id": "zenUTWwfn9Mx"
      },
      "source": [
        "Um número bastante semelhante sobreviveu em cada classe, mas proporcionalmente a terceira classe foi a que mais pessoas morreram. Portanto é possível afirmar que existe uma relação entre a classe e a sobrevivência, especialmente para a terceira classe. "
      ],
      "id": "zenUTWwfn9Mx"
    },
    {
      "cell_type": "markdown",
      "metadata": {
        "id": "fwkkf-XIoWYO"
      },
      "source": [
        "## Sobreviventes por sexo"
      ],
      "id": "fwkkf-XIoWYO"
    },
    {
      "cell_type": "code",
      "metadata": {
        "id": "Z3En4djloY81",
        "outputId": "7b6e3ad1-6c18-4495-99aa-4d7a7066eafb",
        "colab": {
          "base_uri": "https://localhost:8080/",
          "height": 448
        }
      },
      "source": [
        "sns.countplot(x = 'Sex', data=titanic, hue='Survived');"
      ],
      "id": "Z3En4djloY81",
      "execution_count": 15,
      "outputs": [
        {
          "output_type": "display_data",
          "data": {
            "image/png": "[encoded data removed]",
            "text/plain": [
              "<Figure size 864x504 with 1 Axes>"
            ]
          },
          "metadata": {
            "tags": []
          }
        }
      ]
    },
    {
      "cell_type": "markdown",
      "metadata": {
        "id": "APTR7rkMofiY"
      },
      "source": [
        "É notável que tanto proporcionalmente quanto em números absolutos as mulheres sobreviveram muito mais."
      ],
      "id": "APTR7rkMofiY"
    },
    {
      "cell_type": "markdown",
      "metadata": {
        "id": "it-a-cd-oymt"
      },
      "source": [
        "## Sexo por classe\n",
        "\n",
        "Para validar as conclusões dos dados anteriores e melhorar o conhecimento da base de dados, vamos ver se existe alguma diferença de proporção entre homens e mulheres entre as classes."
      ],
      "id": "it-a-cd-oymt"
    },
    {
      "cell_type": "code",
      "metadata": {
        "id": "rfe8jqt5nrxY",
        "outputId": "7dd2ff61-dbc0-4f78-fed1-e46044384458",
        "colab": {
          "base_uri": "https://localhost:8080/",
          "height": 448
        }
      },
      "source": [
        "sns.countplot(x = 'Pclass', data=titanic, hue='Sex');"
      ],
      "id": "rfe8jqt5nrxY",
      "execution_count": 16,
      "outputs": [
        {
          "output_type": "display_data",
          "data": {
            "image/png": "[encoded data removed]",
            "text/plain": [
              "<Figure size 864x504 with 1 Axes>"
            ]
          },
          "metadata": {
            "tags": []
          }
        }
      ]
    },
    {
      "cell_type": "markdown",
      "metadata": {
        "id": "FkS0r1-mpHsQ"
      },
      "source": [
        "Em todas elas existem mais homens que mulheres, com um destaque proporcional para a terceira classe."
      ],
      "id": "FkS0r1-mpHsQ"
    },
    {
      "cell_type": "code",
      "metadata": {
        "id": "e9MybFDWpXSH"
      },
      "source": [
        ""
      ],
      "id": "e9MybFDWpXSH",
      "execution_count": null,
      "outputs": []
    }
  ]
}