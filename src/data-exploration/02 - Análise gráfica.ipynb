{
 "cells": [
  {
   "cell_type": "markdown",
   "id": "8f56c35e",
   "metadata": {},
   "source": [
    "# 02 - Análise gráfica - Kaggle Titanic\n",
    "\n",
    "Conjunto de análises gráficas dos dados de treino do Titanic após a realização dos tratamentos dos mesmos."
   ]
  },
  {
   "cell_type": "markdown",
   "id": "341358bb",
   "metadata": {},
   "source": [
    "## Preparando o ambiente"
   ]
  },
  {
   "cell_type": "code",
   "execution_count": 1,
   "id": "819710b6",
   "metadata": {},
   "outputs": [],
   "source": [
    "import pandas as pd\n",
    "import numpy as np\n",
    "import seaborn as sns\n",
    "import matplotlib.pyplot as plt\n",
    "import matplotlib as plt"
   ]
  },
  {
   "cell_type": "code",
   "execution_count": null,
   "id": "bcc3ec2d",
   "metadata": {},
   "outputs": [],
   "source": []
  }
 ],
 "metadata": {
  "kernelspec": {
   "display_name": "Python 3",
   "language": "python",
   "name": "python3"
  },
  "language_info": {
   "codemirror_mode": {
    "name": "ipython",
    "version": 3
   },
   "file_extension": ".py",
   "mimetype": "text/x-python",
   "name": "python",
   "nbconvert_exporter": "python",
   "pygments_lexer": "ipython3",
   "version": "3.8.8"
  }
 },
 "nbformat": 4,
 "nbformat_minor": 5
}
