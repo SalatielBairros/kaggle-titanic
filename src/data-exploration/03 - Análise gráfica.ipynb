{
 "cells": [
  {
   "cell_type": "markdown",
   "id": "8f56c35e",
   "metadata": {
    "id": "8f56c35e"
   },
   "source": [
    "# 03 - Análise gráfica - Kaggle Titanic\n",
    "\n",
    "Conjunto de análises gráficas dos dados de treino do Titanic após a realização dos tratamentos dos mesmos."
   ]
  },
  {
   "cell_type": "markdown",
   "id": "341358bb",
   "metadata": {
    "id": "341358bb"
   },
   "source": [
    "## Preparando o ambiente"
   ]
  },
  {
   "cell_type": "code",
   "execution_count": 1,
   "id": "819710b6",
   "metadata": {
    "id": "819710b6"
   },
   "outputs": [],
   "source": [
    "import pandas as pd\n",
    "import numpy as np\n",
    "import seaborn as sns\n",
    "import matplotlib.pyplot as plt\n",
    "import matplotlib as mpl"
   ]
  },
  {
   "cell_type": "code",
   "execution_count": 2,
   "id": "bcc3ec2d",
   "metadata": {
    "id": "bcc3ec2d"
   },
   "outputs": [],
   "source": [
    "mpl.rcParams['figure.figsize'] = (12, 7)\n",
    "sns.set(style='darkgrid')"
   ]
  },
  {
   "cell_type": "markdown",
   "id": "I25k-qcxkbLk",
   "metadata": {
    "id": "I25k-qcxkbLk"
   },
   "source": [
    "## Carregando dados"
   ]
  },
  {
   "cell_type": "code",
   "execution_count": 3,
   "id": "h3S5erEKkWus",
   "metadata": {
    "colab": {
     "base_uri": "https://localhost:8080/",
     "height": 204
    },
    "id": "h3S5erEKkWus",
    "outputId": "2555776f-6950-4ee5-9768-a742fcabce15"
   },
   "outputs": [
    {
     "data": {
      "text/html": [
       "<div>\n",
       "<style scoped>\n",
       "    .dataframe tbody tr th:only-of-type {\n",
       "        vertical-align: middle;\n",
       "    }\n",
       "\n",
       "    .dataframe tbody tr th {\n",
       "        vertical-align: top;\n",
       "    }\n",
       "\n",
       "    .dataframe thead th {\n",
       "        text-align: right;\n",
       "    }\n",
       "</style>\n",
       "<table border=\"1\" class=\"dataframe\">\n",
       "  <thead>\n",
       "    <tr style=\"text-align: right;\">\n",
       "      <th></th>\n",
       "      <th>Survived</th>\n",
       "      <th>Pclass</th>\n",
       "      <th>Sex</th>\n",
       "      <th>Age</th>\n",
       "      <th>SibSp</th>\n",
       "      <th>Parch</th>\n",
       "      <th>Floor</th>\n",
       "      <th>Embarked</th>\n",
       "      <th>Relateds</th>\n",
       "    </tr>\n",
       "  </thead>\n",
       "  <tbody>\n",
       "    <tr>\n",
       "      <th>0</th>\n",
       "      <td>0</td>\n",
       "      <td>3</td>\n",
       "      <td>male</td>\n",
       "      <td>22</td>\n",
       "      <td>1</td>\n",
       "      <td>0</td>\n",
       "      <td>SC</td>\n",
       "      <td>S</td>\n",
       "      <td>1</td>\n",
       "    </tr>\n",
       "    <tr>\n",
       "      <th>1</th>\n",
       "      <td>1</td>\n",
       "      <td>1</td>\n",
       "      <td>female</td>\n",
       "      <td>38</td>\n",
       "      <td>1</td>\n",
       "      <td>0</td>\n",
       "      <td>C</td>\n",
       "      <td>C</td>\n",
       "      <td>1</td>\n",
       "    </tr>\n",
       "    <tr>\n",
       "      <th>2</th>\n",
       "      <td>1</td>\n",
       "      <td>3</td>\n",
       "      <td>female</td>\n",
       "      <td>26</td>\n",
       "      <td>0</td>\n",
       "      <td>0</td>\n",
       "      <td>SC</td>\n",
       "      <td>S</td>\n",
       "      <td>0</td>\n",
       "    </tr>\n",
       "    <tr>\n",
       "      <th>3</th>\n",
       "      <td>1</td>\n",
       "      <td>1</td>\n",
       "      <td>female</td>\n",
       "      <td>35</td>\n",
       "      <td>1</td>\n",
       "      <td>0</td>\n",
       "      <td>C</td>\n",
       "      <td>S</td>\n",
       "      <td>1</td>\n",
       "    </tr>\n",
       "    <tr>\n",
       "      <th>4</th>\n",
       "      <td>0</td>\n",
       "      <td>3</td>\n",
       "      <td>male</td>\n",
       "      <td>35</td>\n",
       "      <td>0</td>\n",
       "      <td>0</td>\n",
       "      <td>SC</td>\n",
       "      <td>S</td>\n",
       "      <td>0</td>\n",
       "    </tr>\n",
       "  </tbody>\n",
       "</table>\n",
       "</div>"
      ],
      "text/plain": [
       "   Survived  Pclass     Sex  Age  SibSp  Parch Floor Embarked  Relateds\n",
       "0         0       3    male   22      1      0    SC        S         1\n",
       "1         1       1  female   38      1      0     C        C         1\n",
       "2         1       3  female   26      0      0    SC        S         0\n",
       "3         1       1  female   35      1      0     C        S         1\n",
       "4         0       3    male   35      0      0    SC        S         0"
      ]
     },
     "execution_count": 3,
     "metadata": {},
     "output_type": "execute_result"
    }
   ],
   "source": [
    "titanic = pd.read_csv('https://raw.githubusercontent.com/SalatielBairros/kaggle-titanic/main/data/processed/train_processed.csv')\n",
    "del titanic['Unnamed: 0']\n",
    "titanic.head(5)"
   ]
  },
  {
   "cell_type": "markdown",
   "id": "AY7dROD-vvda",
   "metadata": {
    "id": "AY7dROD-vvda"
   },
   "source": [
    "## Análise individual"
   ]
  },
  {
   "cell_type": "markdown",
   "id": "uM2zrR4Tmwic",
   "metadata": {
    "id": "uM2zrR4Tmwic"
   },
   "source": [
    "### Sobreviventes\n",
    "\n",
    "Começo com a contagem geral da proporção de sobreviventes na base de teste."
   ]
  },
  {
   "cell_type": "code",
   "execution_count": 4,
   "id": "GBuisVcdkkP3",
   "metadata": {
    "colab": {
     "base_uri": "https://localhost:8080/",
     "height": 448
    },
    "id": "GBuisVcdkkP3",
    "outputId": "066baa49-c9f4-428e-f679-dc4c943c5bfc"
   },
   "outputs": [
    {
     "data": {
      "image/png": "[encoded data removed]",
      "text/plain": [
       "<Figure size 864x504 with 1 Axes>"
      ]
     },
     "metadata": {},
     "output_type": "display_data"
    }
   ],
   "source": [
    "sns.countplot(x = 'Survived', data=titanic);"
   ]
  },
  {
   "cell_type": "markdown",
   "id": "7gV1IqeSnMfp",
   "metadata": {
    "id": "7gV1IqeSnMfp"
   },
   "source": [
    "A maior parte das pessoas dessa base de dados não sobreviveu ao acidente, mas ainda assim foram vários os sobreviventes."
   ]
  },
  {
   "cell_type": "markdown",
   "id": "ym0-jsjdv3lR",
   "metadata": {
    "id": "ym0-jsjdv3lR"
   },
   "source": [
    "### Classe"
   ]
  },
  {
   "cell_type": "code",
   "execution_count": 5,
   "id": "e8jIjw25v7dY",
   "metadata": {
    "colab": {
     "base_uri": "https://localhost:8080/",
     "height": 448
    },
    "id": "e8jIjw25v7dY",
    "outputId": "444daf43-444e-4c64-bebc-26f26c561703"
   },
   "outputs": [
    {
     "data": {
      "image/png": "[encoded data removed]",
      "text/plain": [
       "<Figure size 864x504 with 1 Axes>"
      ]
     },
     "metadata": {},
     "output_type": "display_data"
    }
   ],
   "source": [
    "sns.countplot(x = 'Pclass', data=titanic);"
   ]
  },
  {
   "cell_type": "markdown",
   "id": "nzhKGCRjwGFF",
   "metadata": {
    "id": "nzhKGCRjwGFF"
   },
   "source": [
    "A terceira classe possuía pouco mais pessoas que a primeira e segunda combinadas."
   ]
  },
  {
   "cell_type": "markdown",
   "id": "noLP1iq6wZpd",
   "metadata": {
    "id": "noLP1iq6wZpd"
   },
   "source": [
    "### Sexo"
   ]
  },
  {
   "cell_type": "code",
   "execution_count": 6,
   "id": "9WDz_62Wwb5n",
   "metadata": {
    "colab": {
     "base_uri": "https://localhost:8080/",
     "height": 448
    },
    "id": "9WDz_62Wwb5n",
    "outputId": "74a21ef9-139f-4d6c-8646-1dda1dabb44f"
   },
   "outputs": [
    {
     "data": {
      "image/png": "[encoded data removed]",
      "text/plain": [
       "<Figure size 864x504 with 1 Axes>"
      ]
     },
     "metadata": {},
     "output_type": "display_data"
    }
   ],
   "source": [
    "sns.countplot(x = 'Sex', data=titanic);"
   ]
  },
  {
   "cell_type": "markdown",
   "id": "Og5rZF4RwsSv",
   "metadata": {
    "id": "Og5rZF4RwsSv"
   },
   "source": [
    "A maior parte dos integrantes do navio eram homens mas já sabemos que a maioria dos sobreviventes eram mulheres."
   ]
  },
  {
   "cell_type": "markdown",
   "id": "fxTrdyL2xBIB",
   "metadata": {
    "id": "fxTrdyL2xBIB"
   },
   "source": [
    "### Idade"
   ]
  },
  {
   "cell_type": "code",
   "execution_count": 7,
   "id": "7ZC8OHDUxEEJ",
   "metadata": {
    "colab": {
     "base_uri": "https://localhost:8080/",
     "height": 448
    },
    "id": "7ZC8OHDUxEEJ",
    "outputId": "f25d999c-fb7a-47fe-84fb-026446d39070"
   },
   "outputs": [
    {
     "data": {
      "image/png": "[encoded data removed]",
      "text/plain": [
       "<Figure size 864x504 with 1 Axes>"
      ]
     },
     "metadata": {},
     "output_type": "display_data"
    }
   ],
   "source": [
    "sns.histplot(x='Age', data=titanic);"
   ]
  },
  {
   "cell_type": "markdown",
   "id": "bRVJDIYixhdp",
   "metadata": {
    "id": "bRVJDIYixhdp"
   },
   "source": [
    "A maior parte dos passageiros tinha entre 20 e 45 anos."
   ]
  },
  {
   "cell_type": "markdown",
   "id": "97GX2ez_xvWz",
   "metadata": {
    "id": "97GX2ez_xvWz"
   },
   "source": [
    "### SibSp\n",
    "\n",
    "Corresponde ao número de irmãos e cônjuges a bordo. Não considera noivos, namorados ou semelhantes, apenas casados."
   ]
  },
  {
   "cell_type": "code",
   "execution_count": 8,
   "id": "ZH3HYdWtx8h3",
   "metadata": {
    "colab": {
     "base_uri": "https://localhost:8080/",
     "height": 448
    },
    "id": "ZH3HYdWtx8h3",
    "outputId": "cd4a69b5-60d0-4a1b-f5cf-8de295fdbc3c"
   },
   "outputs": [
    {
     "data": {
      "image/png": "[encoded data removed]",
      "text/plain": [
       "<Figure size 864x504 with 1 Axes>"
      ]
     },
     "metadata": {},
     "output_type": "display_data"
    }
   ],
   "source": [
    "sns.countplot(x='SibSp', data=titanic);"
   ]
  },
  {
   "cell_type": "markdown",
   "id": "__qErVVwneET",
   "metadata": {
    "id": "__qErVVwneET"
   },
   "source": [
    "## Sobreviventes por classe"
   ]
  },
  {
   "cell_type": "code",
   "execution_count": 9,
   "id": "_no98CfbnFMy",
   "metadata": {
    "colab": {
     "base_uri": "https://localhost:8080/",
     "height": 448
    },
    "id": "_no98CfbnFMy",
    "outputId": "730ce269-aa14-479b-a8a7-30925ab6a29d"
   },
   "outputs": [
    {
     "data": {
      "image/png": "[encoded data removed]",
      "text/plain": [
       "<Figure size 864x504 with 1 Axes>"
      ]
     },
     "metadata": {},
     "output_type": "display_data"
    }
   ],
   "source": [
    "sns.countplot(x = 'Pclass', data=titanic, hue='Survived');"
   ]
  },
  {
   "cell_type": "markdown",
   "id": "zenUTWwfn9Mx",
   "metadata": {
    "id": "zenUTWwfn9Mx"
   },
   "source": [
    "Um número bastante semelhante sobreviveu em cada classe, mas proporcionalmente a terceira classe foi a que mais pessoas morreram. Portanto é possível afirmar que existe uma relação entre a classe e a sobrevivência, especialmente para a terceira classe. "
   ]
  },
  {
   "cell_type": "markdown",
   "id": "fwkkf-XIoWYO",
   "metadata": {
    "id": "fwkkf-XIoWYO"
   },
   "source": [
    "## Sobreviventes por sexo"
   ]
  },
  {
   "cell_type": "code",
   "execution_count": 10,
   "id": "Z3En4djloY81",
   "metadata": {
    "colab": {
     "base_uri": "https://localhost:8080/",
     "height": 448
    },
    "id": "Z3En4djloY81",
    "outputId": "7b6e3ad1-6c18-4495-99aa-4d7a7066eafb"
   },
   "outputs": [
    {
     "data": {
      "image/png": "[encoded data removed]",
      "text/plain": [
       "<Figure size 864x504 with 1 Axes>"
      ]
     },
     "metadata": {},
     "output_type": "display_data"
    }
   ],
   "source": [
    "sns.countplot(x = 'Sex', data=titanic, hue='Survived');"
   ]
  },
  {
   "cell_type": "markdown",
   "id": "APTR7rkMofiY",
   "metadata": {
    "id": "APTR7rkMofiY"
   },
   "source": [
    "É notável que tanto proporcionalmente quanto em números absolutos as mulheres sobreviveram muito mais."
   ]
  },
  {
   "cell_type": "markdown",
   "id": "it-a-cd-oymt",
   "metadata": {
    "id": "it-a-cd-oymt"
   },
   "source": [
    "## Sexo por classe\n",
    "\n",
    "Para validar as conclusões dos dados anteriores e melhorar o conhecimento da base de dados, vamos ver se existe alguma diferença de proporção entre homens e mulheres entre as classes."
   ]
  },
  {
   "cell_type": "code",
   "execution_count": 11,
   "id": "rfe8jqt5nrxY",
   "metadata": {
    "colab": {
     "base_uri": "https://localhost:8080/",
     "height": 448
    },
    "id": "rfe8jqt5nrxY",
    "outputId": "7dd2ff61-dbc0-4f78-fed1-e46044384458"
   },
   "outputs": [
    {
     "data": {
      "image/png": "[encoded data removed]",
      "text/plain": [
       "<Figure size 864x504 with 1 Axes>"
      ]
     },
     "metadata": {},
     "output_type": "display_data"
    }
   ],
   "source": [
    "sns.countplot(x = 'Pclass', data=titanic, hue='Sex');"
   ]
  },
  {
   "cell_type": "markdown",
   "id": "FkS0r1-mpHsQ",
   "metadata": {
    "id": "FkS0r1-mpHsQ"
   },
   "source": [
    "Em todas elas existem mais homens que mulheres, com um destaque proporcional para a terceira classe."
   ]
  },
  {
   "cell_type": "code",
   "execution_count": null,
   "id": "e9MybFDWpXSH",
   "metadata": {
    "id": "e9MybFDWpXSH"
   },
   "outputs": [],
   "source": []
  }
 ],
 "metadata": {
  "colab": {
   "name": "02 - Análise gráfica.ipynb",
   "provenance": []
  },
  "kernelspec": {
   "display_name": "Python 3",
   "language": "python",
   "name": "python3"
  },
  "language_info": {
   "codemirror_mode": {
    "name": "ipython",
    "version": 3
   },
   "file_extension": ".py",
   "mimetype": "text/x-python",
   "name": "python",
   "nbconvert_exporter": "python",
   "pygments_lexer": "ipython3",
   "version": "3.8.8"
  }
 },
 "nbformat": 4,
 "nbformat_minor": 5
}
