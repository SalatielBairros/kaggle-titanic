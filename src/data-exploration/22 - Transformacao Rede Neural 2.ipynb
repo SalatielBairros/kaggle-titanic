{
  "cells": [
    {
      "cell_type": "markdown",
      "metadata": {
        "id": "gof5fviAR4lk"
      },
      "source": [
        "# Transformação para rede neural\n",
        "\n",
        "Baseada em exemplo do Kaggle"
      ]
    },
    {
      "cell_type": "markdown",
      "metadata": {
        "id": "ltCy6VmpR4lo"
      },
      "source": [
        "## Preparando o ambiente"
      ]
    },
    {
      "cell_type": "code",
      "execution_count": 134,
      "metadata": {},
      "outputs": [],
      "source": [
        "import numpy as np \n",
        "import pandas as pd \n",
        "from sklearn.preprocessing import StandardScaler, LabelEncoder\n",
        "from sklearn.model_selection import cross_val_score, StratifiedKFold, GridSearchCV\n",
        "from sklearn.metrics import classification_report, confusion_matrix, accuracy_score\n",
        "from sklearn.ensemble import RandomForestClassifier\n",
        "from keras.wrappers.scikit_learn import KerasClassifier\n",
        "from keras.models import Sequential\n",
        "from keras.layers import Dense, Dropout\n",
        "import tensorflow as tf"
      ]
    },
    {
      "cell_type": "code",
      "execution_count": 135,
      "metadata": {},
      "outputs": [],
      "source": [
        "SEED = 1002\n",
        "tf.random.set_seed(1002)\n",
        "np.random.seed(1002)"
      ]
    },
    {
      "cell_type": "markdown",
      "metadata": {},
      "source": [
        "## Carregando os dados"
      ]
    },
    {
      "cell_type": "code",
      "execution_count": 87,
      "metadata": {},
      "outputs": [],
      "source": [
        "train = pd.read_csv(\"https://raw.githubusercontent.com/SalatielBairros/kaggle-titanic/main/data/original/train.csv\")\n",
        "test = pd.read_csv(\"https://raw.githubusercontent.com/SalatielBairros/kaggle-titanic/main/data/original/test.csv\")\n",
        "gt = pd.read_csv('https://raw.githubusercontent.com/SalatielBairros/kaggle-titanic/main/data/original/ground_truth.csv')"
      ]
    },
    {
      "cell_type": "markdown",
      "metadata": {},
      "source": [
        "Adicionando coluna para identificar os registros como treino e teste e juntando os dados para fazer o merge junto.\n",
        "\n",
        "> Realizar o tratamento de dados com o dataset único pode ser problemático para alguns datasets pois dados de teste podem \"vazar\" para os dados de treino."
      ]
    },
    {
      "cell_type": "code",
      "execution_count": 88,
      "metadata": {},
      "outputs": [
        {
          "name": "stderr",
          "output_type": "stream",
          "text": [
            "C:\\Users\\salat\\AppData\\Local\\Temp/ipykernel_67336/3610457090.py:4: FutureWarning: The frame.append method is deprecated and will be removed from pandas in a future version. Use pandas.concat instead.\n",
            "  data = train.append(test)\n"
          ]
        }
      ],
      "source": [
        "train['Type'] = 'train'\n",
        "test['Type'] = 'test'\n",
        "\n",
        "data = train.append(test)"
      ]
    },
    {
      "cell_type": "code",
      "execution_count": 89,
      "metadata": {},
      "outputs": [
        {
          "data": {
            "text/html": [
              "<div>\n",
              "<style scoped>\n",
              "    .dataframe tbody tr th:only-of-type {\n",
              "        vertical-align: middle;\n",
              "    }\n",
              "\n",
              "    .dataframe tbody tr th {\n",
              "        vertical-align: top;\n",
              "    }\n",
              "\n",
              "    .dataframe thead th {\n",
              "        text-align: right;\n",
              "    }\n",
              "</style>\n",
              "<table border=\"1\" class=\"dataframe\">\n",
              "  <thead>\n",
              "    <tr style=\"text-align: right;\">\n",
              "      <th></th>\n",
              "      <th>PassengerId</th>\n",
              "      <th>Survived</th>\n",
              "      <th>Pclass</th>\n",
              "      <th>Name</th>\n",
              "      <th>Sex</th>\n",
              "      <th>Age</th>\n",
              "      <th>SibSp</th>\n",
              "      <th>Parch</th>\n",
              "      <th>Ticket</th>\n",
              "      <th>Fare</th>\n",
              "      <th>Cabin</th>\n",
              "      <th>Embarked</th>\n",
              "      <th>Type</th>\n",
              "    </tr>\n",
              "  </thead>\n",
              "  <tbody>\n",
              "    <tr>\n",
              "      <th>0</th>\n",
              "      <td>1</td>\n",
              "      <td>0.0</td>\n",
              "      <td>3</td>\n",
              "      <td>Braund, Mr. Owen Harris</td>\n",
              "      <td>male</td>\n",
              "      <td>22.0</td>\n",
              "      <td>1</td>\n",
              "      <td>0</td>\n",
              "      <td>A/5 21171</td>\n",
              "      <td>7.2500</td>\n",
              "      <td>NaN</td>\n",
              "      <td>S</td>\n",
              "      <td>train</td>\n",
              "    </tr>\n",
              "    <tr>\n",
              "      <th>1</th>\n",
              "      <td>2</td>\n",
              "      <td>1.0</td>\n",
              "      <td>1</td>\n",
              "      <td>Cumings, Mrs. John Bradley (Florence Briggs Th...</td>\n",
              "      <td>female</td>\n",
              "      <td>38.0</td>\n",
              "      <td>1</td>\n",
              "      <td>0</td>\n",
              "      <td>PC 17599</td>\n",
              "      <td>71.2833</td>\n",
              "      <td>C85</td>\n",
              "      <td>C</td>\n",
              "      <td>train</td>\n",
              "    </tr>\n",
              "  </tbody>\n",
              "</table>\n",
              "</div>"
            ],
            "text/plain": [
              "   PassengerId  Survived  Pclass  \\\n",
              "0            1       0.0       3   \n",
              "1            2       1.0       1   \n",
              "\n",
              "                                                Name     Sex   Age  SibSp  \\\n",
              "0                            Braund, Mr. Owen Harris    male  22.0      1   \n",
              "1  Cumings, Mrs. John Bradley (Florence Briggs Th...  female  38.0      1   \n",
              "\n",
              "   Parch     Ticket     Fare Cabin Embarked   Type  \n",
              "0      0  A/5 21171   7.2500   NaN        S  train  \n",
              "1      0   PC 17599  71.2833   C85        C  train  "
            ]
          },
          "execution_count": 89,
          "metadata": {},
          "output_type": "execute_result"
        }
      ],
      "source": [
        "data.head(2)"
      ]
    },
    {
      "cell_type": "markdown",
      "metadata": {},
      "source": [
        "## Tratamento dos dados faltantes e _feature engineering_"
      ]
    },
    {
      "cell_type": "markdown",
      "metadata": {},
      "source": [
        "### `Title`"
      ]
    },
    {
      "cell_type": "code",
      "execution_count": 90,
      "metadata": {},
      "outputs": [],
      "source": [
        "data['Title'] = data['Name']\n",
        "\n",
        "# Cleaning name and extracting Title using regex\n",
        "for name_string in data['Name']:\n",
        "    data['Title'] = data['Name'].str.extract('([A-Za-z]+)\\.', expand=True)"
      ]
    },
    {
      "cell_type": "markdown",
      "metadata": {},
      "source": [
        "Trocando títulos mais raros por títulos mais comuns: isso exige um conhecimento maior da própria lingua inglesa e seus respectivos pronomes de tratamento. Provavelmente aqui teve um dos maiores ganhos dessa transformação em relação às feitas por mim."
      ]
    },
    {
      "cell_type": "code",
      "execution_count": 91,
      "metadata": {},
      "outputs": [],
      "source": [
        "mapping = {'Mlle': 'Miss', 'Ms': 'Miss', 'Mme': 'Mrs', 'Major': 'Other', \n",
        "           'Col': 'Other', 'Dr' : 'Other', 'Rev' : 'Other', 'Capt': 'Other', \n",
        "           'Jonkheer': 'Royal', 'Sir': 'Royal', 'Lady': 'Royal', \n",
        "           'Don': 'Royal', 'Countess': 'Royal', 'Dona': 'Royal'}\n",
        "           \n",
        "data.replace({'Title': mapping}, inplace=True)\n",
        "titles = ['Miss', 'Mr', 'Mrs', 'Royal', 'Other', 'Master']"
      ]
    },
    {
      "cell_type": "markdown",
      "metadata": {},
      "source": [
        "### `Age`\n",
        "\n",
        "Idades faltantes são substituídas pela mediana do título - semelhante ao que eu fiz nas primeiras análises."
      ]
    },
    {
      "cell_type": "code",
      "execution_count": 92,
      "metadata": {},
      "outputs": [],
      "source": [
        "for title in titles:\n",
        "    age_to_impute = data.groupby('Title')['Age'].median()[titles.index(title)]\n",
        "    data.loc[(data['Age'].isnull()) & (data['Title'] == title), 'Age'] = age_to_impute"
      ]
    },
    {
      "cell_type": "markdown",
      "metadata": {},
      "source": [
        "Abaixo também a informação para considerar como criança ou não, o que como foi visto é relevante. Talvez o relevante seja isso e não toda a faixa etária como eu fiz."
      ]
    },
    {
      "cell_type": "code",
      "execution_count": 93,
      "metadata": {},
      "outputs": [],
      "source": [
        "data.loc[:,'Child'] = 1\n",
        "data.loc[(data['Age'] >= 18),'Child'] =0"
      ]
    },
    {
      "cell_type": "markdown",
      "metadata": {},
      "source": [
        "### Informações da família (`SibSp` e `Parch`)"
      ]
    },
    {
      "cell_type": "markdown",
      "metadata": {},
      "source": [
        "Número de pessoas na família e a informação se estava sozinho ou não foi corretamente entendida como relevante nas minhas análises, mas a melhora aqui está em criar uma classificação entre famílias maiores e menores. **Existe alguma diferença nos dados com relação a isso?**"
      ]
    },
    {
      "cell_type": "markdown",
      "metadata": {},
      "source": [
        "#### `Family_Size`"
      ]
    },
    {
      "cell_type": "code",
      "execution_count": 94,
      "metadata": {},
      "outputs": [],
      "source": [
        "data['Family_Size'] = data['Parch'] + data['SibSp'] + 1\n",
        "data.loc[:,'FsizeD'] = 'Alone'\n",
        "data.loc[(data['Family_Size'] > 1),'FsizeD'] = 'Small'\n",
        "data.loc[(data['Family_Size'] > 4),'FsizeD'] = 'Big'"
      ]
    },
    {
      "cell_type": "markdown",
      "metadata": {},
      "source": [
        "#### `Last_Name` e `Family_Survival`\n",
        "\n",
        "Muito interessante considerar a sobrevivência pelo sobrenome. Isso pode ser encontrado também [neste notebook](https://www.kaggle.com/konstantinmasich/titanic-0-82-0-83)."
      ]
    },
    {
      "cell_type": "code",
      "execution_count": 95,
      "metadata": {},
      "outputs": [],
      "source": [
        "data['Last_Name'] = data['Name'].apply(lambda x: str.split(x, \",\")[0])"
      ]
    },
    {
      "cell_type": "code",
      "execution_count": 96,
      "metadata": {},
      "outputs": [],
      "source": [
        "DEFAULT_SURVIVAL_VALUE = 0.5\n",
        "data['Family_Survival'] = DEFAULT_SURVIVAL_VALUE\n",
        "for grp, grp_df in data[['Survived','Name', 'Last_Name', 'Fare', 'Ticket', 'PassengerId',\n",
        "                           'SibSp', 'Parch', 'Age', 'Cabin']].groupby(['Last_Name', 'Fare']):\n",
        "                               \n",
        "    if (len(grp_df) != 1):\n",
        "        # A Family group is found.\n",
        "        for ind, row in grp_df.iterrows():\n",
        "            # For each member of the family, we get if someone has survided or not (except him)\n",
        "            smax = grp_df.drop(ind)['Survived'].max()\n",
        "            smin = grp_df.drop(ind)['Survived'].min()\n",
        "            passID = row['PassengerId']\n",
        "            if (smax == 1.0):\n",
        "                # If someone has survived, so the value is one\n",
        "                data.loc[data['PassengerId'] == passID, 'Family_Survival'] = 1\n",
        "            elif (smin == 0.0):\n",
        "                # If anyone has survived, so the value is zero\n",
        "                data.loc[data['PassengerId'] == passID, 'Family_Survival'] = 0\n",
        "            # If the lastname is only found at the test data, we impute the value 0.5"
      ]
    },
    {
      "cell_type": "markdown",
      "metadata": {},
      "source": [
        "Fazendo a mesma coisa mas agrupando por ticket nos casos de sobrenomes diferentes. Isso é realmente uma ótima ideia."
      ]
    },
    {
      "cell_type": "code",
      "execution_count": 97,
      "metadata": {},
      "outputs": [],
      "source": [
        "for _, grp_df in data.groupby('Ticket'):\n",
        "    if (len(grp_df) != 1):\n",
        "        for ind, row in grp_df.iterrows():\n",
        "            if (row['Family_Survival'] == 0) | (row['Family_Survival']== 0.5):\n",
        "                smax = grp_df.drop(ind)['Survived'].max()\n",
        "                smin = grp_df.drop(ind)['Survived'].min()\n",
        "                passID = row['PassengerId']\n",
        "                if (smax == 1.0):\n",
        "                    data.loc[data['PassengerId'] == passID, 'Family_Survival'] = 1\n",
        "                elif (smin == 0.0):\n",
        "                    data.loc[data['PassengerId'] == passID, 'Family_Survival'] = 0"
      ]
    },
    {
      "cell_type": "markdown",
      "metadata": {},
      "source": [
        "A principal preocupação com relação a esse tratamento é que ele pode \"vazar\" dados do dataset de treino para o de teste, visto que a sobrevivênvia do dataset de treino pode ser considerado no dataset do de teste."
      ]
    },
    {
      "cell_type": "markdown",
      "metadata": {},
      "source": [
        "### `Fare`\n",
        "\n",
        "Esse é o atributo mais complicado de trabalhar desse dataset depois do ticket. Os dados faltantes foram preenchidos com a mediana da classe, o que faz muito sentido e eu não tinha pensado em fazer."
      ]
    },
    {
      "cell_type": "code",
      "execution_count": 98,
      "metadata": {},
      "outputs": [],
      "source": [
        "fa = data[data[\"Pclass\"] == 3]\n",
        "data['Fare'].fillna(fa['Fare'].median(), inplace = True)"
      ]
    },
    {
      "cell_type": "markdown",
      "metadata": {},
      "source": [
        "## Encoding e Pre-modeling\n",
        "\n",
        "Remoção de features desnecesárias e encodificação das features, ou seja, dummies, numericals e outros."
      ]
    },
    {
      "cell_type": "markdown",
      "metadata": {},
      "source": [
        "### Removendo features desnecessárias\n",
        "\n",
        "Interessante que a Cabine, local de embarque, ticket e até mesmo o tamanho da família foram descartados. Será que nenhum deles mesmo é relevante para a sobrevivência?"
      ]
    },
    {
      "cell_type": "code",
      "execution_count": 99,
      "metadata": {},
      "outputs": [],
      "source": [
        "data = data.drop(columns = ['Age','Cabin','Embarked','Name','Last_Name',\n",
        "                            'Parch', 'SibSp','Ticket', 'Family_Size'])"
      ]
    },
    {
      "cell_type": "markdown",
      "metadata": {},
      "source": [
        "### Encoding das features"
      ]
    },
    {
      "cell_type": "markdown",
      "metadata": {},
      "source": [
        "Muito interessante essa separação pelo número de valores únicos nas features."
      ]
    },
    {
      "cell_type": "code",
      "execution_count": 100,
      "metadata": {},
      "outputs": [],
      "source": [
        "target_col = [\"Survived\"]\n",
        "id_dataset = [\"Type\"]"
      ]
    },
    {
      "cell_type": "markdown",
      "metadata": {},
      "source": [
        "Separando as variáveis categóricas."
      ]
    },
    {
      "cell_type": "code",
      "execution_count": 101,
      "metadata": {},
      "outputs": [
        {
          "data": {
            "text/plain": [
              "['Survived',\n",
              " 'Pclass',\n",
              " 'Sex',\n",
              " 'Type',\n",
              " 'Title',\n",
              " 'Child',\n",
              " 'FsizeD',\n",
              " 'Family_Survival']"
            ]
          },
          "execution_count": 101,
          "metadata": {},
          "output_type": "execute_result"
        }
      ],
      "source": [
        "cat_cols   = data.nunique()[data.nunique() < 12].keys().tolist()\n",
        "cat_cols   = [x for x in cat_cols ]\n",
        "cat_cols"
      ]
    },
    {
      "cell_type": "markdown",
      "metadata": {},
      "source": [
        "Colunas numéricas"
      ]
    },
    {
      "cell_type": "code",
      "execution_count": 102,
      "metadata": {},
      "outputs": [],
      "source": [
        "num_cols = [x for x in data.columns if x not in cat_cols + target_col + id_dataset]"
      ]
    },
    {
      "cell_type": "markdown",
      "metadata": {},
      "source": [
        "Colunas binárias"
      ]
    },
    {
      "cell_type": "code",
      "execution_count": 103,
      "metadata": {},
      "outputs": [],
      "source": [
        "bin_cols = data.nunique()[data.nunique() == 2].keys().tolist()"
      ]
    },
    {
      "cell_type": "markdown",
      "metadata": {},
      "source": [
        "Colunas com mais de dois valores"
      ]
    },
    {
      "cell_type": "code",
      "execution_count": 104,
      "metadata": {},
      "outputs": [],
      "source": [
        "multi_cols = [i for i in cat_cols if i not in bin_cols]"
      ]
    },
    {
      "cell_type": "markdown",
      "metadata": {},
      "source": [
        "Encoding colunas binárias"
      ]
    },
    {
      "cell_type": "code",
      "execution_count": 105,
      "metadata": {},
      "outputs": [
        {
          "data": {
            "text/html": [
              "<div>\n",
              "<style scoped>\n",
              "    .dataframe tbody tr th:only-of-type {\n",
              "        vertical-align: middle;\n",
              "    }\n",
              "\n",
              "    .dataframe tbody tr th {\n",
              "        vertical-align: top;\n",
              "    }\n",
              "\n",
              "    .dataframe thead th {\n",
              "        text-align: right;\n",
              "    }\n",
              "</style>\n",
              "<table border=\"1\" class=\"dataframe\">\n",
              "  <thead>\n",
              "    <tr style=\"text-align: right;\">\n",
              "      <th></th>\n",
              "      <th>PassengerId</th>\n",
              "      <th>Survived</th>\n",
              "      <th>Pclass</th>\n",
              "      <th>Sex</th>\n",
              "      <th>Fare</th>\n",
              "      <th>Type</th>\n",
              "      <th>Title</th>\n",
              "      <th>Child</th>\n",
              "      <th>FsizeD</th>\n",
              "      <th>Family_Survival</th>\n",
              "    </tr>\n",
              "  </thead>\n",
              "  <tbody>\n",
              "    <tr>\n",
              "      <th>0</th>\n",
              "      <td>1</td>\n",
              "      <td>0</td>\n",
              "      <td>3</td>\n",
              "      <td>1</td>\n",
              "      <td>7.2500</td>\n",
              "      <td>1</td>\n",
              "      <td>Mr</td>\n",
              "      <td>0</td>\n",
              "      <td>Small</td>\n",
              "      <td>0.5</td>\n",
              "    </tr>\n",
              "    <tr>\n",
              "      <th>1</th>\n",
              "      <td>2</td>\n",
              "      <td>1</td>\n",
              "      <td>1</td>\n",
              "      <td>0</td>\n",
              "      <td>71.2833</td>\n",
              "      <td>1</td>\n",
              "      <td>Mrs</td>\n",
              "      <td>0</td>\n",
              "      <td>Small</td>\n",
              "      <td>0.5</td>\n",
              "    </tr>\n",
              "  </tbody>\n",
              "</table>\n",
              "</div>"
            ],
            "text/plain": [
              "   PassengerId  Survived  Pclass  Sex     Fare  Type Title  Child FsizeD  \\\n",
              "0            1         0       3    1   7.2500     1    Mr      0  Small   \n",
              "1            2         1       1    0  71.2833     1   Mrs      0  Small   \n",
              "\n",
              "   Family_Survival  \n",
              "0              0.5  \n",
              "1              0.5  "
            ]
          },
          "execution_count": 105,
          "metadata": {},
          "output_type": "execute_result"
        }
      ],
      "source": [
        "le = LabelEncoder()\n",
        "for i in bin_cols :\n",
        "    data[i] = le.fit_transform(data[i])\n",
        "\n",
        "data.head(2)"
      ]
    },
    {
      "cell_type": "markdown",
      "metadata": {},
      "source": [
        "Dummy values"
      ]
    },
    {
      "cell_type": "code",
      "execution_count": 106,
      "metadata": {},
      "outputs": [],
      "source": [
        "data = pd.get_dummies(data = data,columns = multi_cols )"
      ]
    },
    {
      "cell_type": "code",
      "execution_count": 107,
      "metadata": {},
      "outputs": [
        {
          "data": {
            "text/html": [
              "<div>\n",
              "<style scoped>\n",
              "    .dataframe tbody tr th:only-of-type {\n",
              "        vertical-align: middle;\n",
              "    }\n",
              "\n",
              "    .dataframe tbody tr th {\n",
              "        vertical-align: top;\n",
              "    }\n",
              "\n",
              "    .dataframe thead th {\n",
              "        text-align: right;\n",
              "    }\n",
              "</style>\n",
              "<table border=\"1\" class=\"dataframe\">\n",
              "  <thead>\n",
              "    <tr style=\"text-align: right;\">\n",
              "      <th></th>\n",
              "      <th>PassengerId</th>\n",
              "      <th>Survived</th>\n",
              "      <th>Sex</th>\n",
              "      <th>Fare</th>\n",
              "      <th>Type</th>\n",
              "      <th>Child</th>\n",
              "      <th>Pclass_1</th>\n",
              "      <th>Pclass_2</th>\n",
              "      <th>Pclass_3</th>\n",
              "      <th>Title_Master</th>\n",
              "      <th>...</th>\n",
              "      <th>Title_Mr</th>\n",
              "      <th>Title_Mrs</th>\n",
              "      <th>Title_Other</th>\n",
              "      <th>Title_Royal</th>\n",
              "      <th>FsizeD_Alone</th>\n",
              "      <th>FsizeD_Big</th>\n",
              "      <th>FsizeD_Small</th>\n",
              "      <th>Family_Survival_0.0</th>\n",
              "      <th>Family_Survival_0.5</th>\n",
              "      <th>Family_Survival_1.0</th>\n",
              "    </tr>\n",
              "  </thead>\n",
              "  <tbody>\n",
              "    <tr>\n",
              "      <th>0</th>\n",
              "      <td>1</td>\n",
              "      <td>0</td>\n",
              "      <td>1</td>\n",
              "      <td>7.2500</td>\n",
              "      <td>1</td>\n",
              "      <td>0</td>\n",
              "      <td>0</td>\n",
              "      <td>0</td>\n",
              "      <td>1</td>\n",
              "      <td>0</td>\n",
              "      <td>...</td>\n",
              "      <td>1</td>\n",
              "      <td>0</td>\n",
              "      <td>0</td>\n",
              "      <td>0</td>\n",
              "      <td>0</td>\n",
              "      <td>0</td>\n",
              "      <td>1</td>\n",
              "      <td>0</td>\n",
              "      <td>1</td>\n",
              "      <td>0</td>\n",
              "    </tr>\n",
              "    <tr>\n",
              "      <th>1</th>\n",
              "      <td>2</td>\n",
              "      <td>1</td>\n",
              "      <td>0</td>\n",
              "      <td>71.2833</td>\n",
              "      <td>1</td>\n",
              "      <td>0</td>\n",
              "      <td>1</td>\n",
              "      <td>0</td>\n",
              "      <td>0</td>\n",
              "      <td>0</td>\n",
              "      <td>...</td>\n",
              "      <td>0</td>\n",
              "      <td>1</td>\n",
              "      <td>0</td>\n",
              "      <td>0</td>\n",
              "      <td>0</td>\n",
              "      <td>0</td>\n",
              "      <td>1</td>\n",
              "      <td>0</td>\n",
              "      <td>1</td>\n",
              "      <td>0</td>\n",
              "    </tr>\n",
              "  </tbody>\n",
              "</table>\n",
              "<p>2 rows × 21 columns</p>\n",
              "</div>"
            ],
            "text/plain": [
              "   PassengerId  Survived  Sex     Fare  Type  Child  Pclass_1  Pclass_2  \\\n",
              "0            1         0    1   7.2500     1      0         0         0   \n",
              "1            2         1    0  71.2833     1      0         1         0   \n",
              "\n",
              "   Pclass_3  Title_Master  ...  Title_Mr  Title_Mrs  Title_Other  Title_Royal  \\\n",
              "0         1             0  ...         1          0            0            0   \n",
              "1         0             0  ...         0          1            0            0   \n",
              "\n",
              "   FsizeD_Alone  FsizeD_Big  FsizeD_Small  Family_Survival_0.0  \\\n",
              "0             0           0             1                    0   \n",
              "1             0           0             1                    0   \n",
              "\n",
              "   Family_Survival_0.5  Family_Survival_1.0  \n",
              "0                    1                    0  \n",
              "1                    1                    0  \n",
              "\n",
              "[2 rows x 21 columns]"
            ]
          },
          "execution_count": 107,
          "metadata": {},
          "output_type": "execute_result"
        }
      ],
      "source": [
        "data.head(2)"
      ]
    },
    {
      "cell_type": "markdown",
      "metadata": {},
      "source": [
        "Normalizando colunas numéricas"
      ]
    },
    {
      "cell_type": "code",
      "execution_count": 108,
      "metadata": {},
      "outputs": [
        {
          "data": {
            "text/html": [
              "<div>\n",
              "<style scoped>\n",
              "    .dataframe tbody tr th:only-of-type {\n",
              "        vertical-align: middle;\n",
              "    }\n",
              "\n",
              "    .dataframe tbody tr th {\n",
              "        vertical-align: top;\n",
              "    }\n",
              "\n",
              "    .dataframe thead th {\n",
              "        text-align: right;\n",
              "    }\n",
              "</style>\n",
              "<table border=\"1\" class=\"dataframe\">\n",
              "  <thead>\n",
              "    <tr style=\"text-align: right;\">\n",
              "      <th></th>\n",
              "      <th>Survived</th>\n",
              "      <th>Sex</th>\n",
              "      <th>Type</th>\n",
              "      <th>Child</th>\n",
              "      <th>Pclass_1</th>\n",
              "      <th>Pclass_2</th>\n",
              "      <th>Pclass_3</th>\n",
              "      <th>Title_Master</th>\n",
              "      <th>Title_Miss</th>\n",
              "      <th>Title_Mr</th>\n",
              "      <th>Title_Mrs</th>\n",
              "      <th>Title_Other</th>\n",
              "      <th>Title_Royal</th>\n",
              "      <th>FsizeD_Alone</th>\n",
              "      <th>FsizeD_Big</th>\n",
              "      <th>FsizeD_Small</th>\n",
              "      <th>Family_Survival_0.0</th>\n",
              "      <th>Family_Survival_0.5</th>\n",
              "      <th>Family_Survival_1.0</th>\n",
              "      <th>Fare</th>\n",
              "    </tr>\n",
              "  </thead>\n",
              "  <tbody>\n",
              "    <tr>\n",
              "      <th>0</th>\n",
              "      <td>0</td>\n",
              "      <td>1</td>\n",
              "      <td>1</td>\n",
              "      <td>0</td>\n",
              "      <td>0</td>\n",
              "      <td>0</td>\n",
              "      <td>1</td>\n",
              "      <td>0</td>\n",
              "      <td>0</td>\n",
              "      <td>1</td>\n",
              "      <td>0</td>\n",
              "      <td>0</td>\n",
              "      <td>0</td>\n",
              "      <td>0</td>\n",
              "      <td>0</td>\n",
              "      <td>1</td>\n",
              "      <td>0</td>\n",
              "      <td>1</td>\n",
              "      <td>0</td>\n",
              "      <td>-0.503176</td>\n",
              "    </tr>\n",
              "    <tr>\n",
              "      <th>0</th>\n",
              "      <td>2</td>\n",
              "      <td>1</td>\n",
              "      <td>0</td>\n",
              "      <td>0</td>\n",
              "      <td>0</td>\n",
              "      <td>0</td>\n",
              "      <td>1</td>\n",
              "      <td>0</td>\n",
              "      <td>0</td>\n",
              "      <td>1</td>\n",
              "      <td>0</td>\n",
              "      <td>0</td>\n",
              "      <td>0</td>\n",
              "      <td>1</td>\n",
              "      <td>0</td>\n",
              "      <td>0</td>\n",
              "      <td>0</td>\n",
              "      <td>1</td>\n",
              "      <td>0</td>\n",
              "      <td>-0.503176</td>\n",
              "    </tr>\n",
              "  </tbody>\n",
              "</table>\n",
              "</div>"
            ],
            "text/plain": [
              "   Survived  Sex  Type  Child  Pclass_1  Pclass_2  Pclass_3  Title_Master  \\\n",
              "0         0    1     1      0         0         0         1             0   \n",
              "0         2    1     0      0         0         0         1             0   \n",
              "\n",
              "   Title_Miss  Title_Mr  Title_Mrs  Title_Other  Title_Royal  FsizeD_Alone  \\\n",
              "0           0         1          0            0            0             0   \n",
              "0           0         1          0            0            0             1   \n",
              "\n",
              "   FsizeD_Big  FsizeD_Small  Family_Survival_0.0  Family_Survival_0.5  \\\n",
              "0           0             1                    0                    1   \n",
              "0           0             0                    0                    1   \n",
              "\n",
              "   Family_Survival_1.0      Fare  \n",
              "0                    0 -0.503176  \n",
              "0                    0 -0.503176  "
            ]
          },
          "execution_count": 108,
          "metadata": {},
          "output_type": "execute_result"
        }
      ],
      "source": [
        "std = StandardScaler()\n",
        "scaled = std.fit_transform(data[num_cols])\n",
        "scaled = pd.DataFrame(scaled,columns = num_cols)\n",
        "\n",
        "df_data_og = data.copy()\n",
        "data = data.drop(columns = num_cols,axis = 1)\n",
        "data = data.merge(scaled,left_index = True,right_index = True,how = \"left\")\n",
        "data = data.drop(columns = ['PassengerId'],axis = 1)\n",
        "\n",
        "data.head(2)"
      ]
    },
    {
      "cell_type": "markdown",
      "metadata": {},
      "source": [
        "Separando o target, ou seja, o resultado esperado."
      ]
    },
    {
      "cell_type": "code",
      "execution_count": 109,
      "metadata": {},
      "outputs": [
        {
          "data": {
            "text/html": [
              "<div>\n",
              "<style scoped>\n",
              "    .dataframe tbody tr th:only-of-type {\n",
              "        vertical-align: middle;\n",
              "    }\n",
              "\n",
              "    .dataframe tbody tr th {\n",
              "        vertical-align: top;\n",
              "    }\n",
              "\n",
              "    .dataframe thead th {\n",
              "        text-align: right;\n",
              "    }\n",
              "</style>\n",
              "<table border=\"1\" class=\"dataframe\">\n",
              "  <thead>\n",
              "    <tr style=\"text-align: right;\">\n",
              "      <th></th>\n",
              "      <th>Survived</th>\n",
              "      <th>Sex</th>\n",
              "      <th>Type</th>\n",
              "      <th>Child</th>\n",
              "      <th>Pclass_1</th>\n",
              "      <th>Pclass_2</th>\n",
              "      <th>Pclass_3</th>\n",
              "      <th>Title_Master</th>\n",
              "      <th>Title_Miss</th>\n",
              "      <th>Title_Mr</th>\n",
              "      <th>Title_Mrs</th>\n",
              "      <th>Title_Other</th>\n",
              "      <th>Title_Royal</th>\n",
              "      <th>FsizeD_Alone</th>\n",
              "      <th>FsizeD_Big</th>\n",
              "      <th>FsizeD_Small</th>\n",
              "      <th>Family_Survival_0.0</th>\n",
              "      <th>Family_Survival_0.5</th>\n",
              "      <th>Family_Survival_1.0</th>\n",
              "      <th>Fare</th>\n",
              "    </tr>\n",
              "  </thead>\n",
              "  <tbody>\n",
              "    <tr>\n",
              "      <th>0</th>\n",
              "      <td>0</td>\n",
              "      <td>1</td>\n",
              "      <td>1</td>\n",
              "      <td>0</td>\n",
              "      <td>0</td>\n",
              "      <td>0</td>\n",
              "      <td>1</td>\n",
              "      <td>0</td>\n",
              "      <td>0</td>\n",
              "      <td>1</td>\n",
              "      <td>0</td>\n",
              "      <td>0</td>\n",
              "      <td>0</td>\n",
              "      <td>0</td>\n",
              "      <td>0</td>\n",
              "      <td>1</td>\n",
              "      <td>0</td>\n",
              "      <td>1</td>\n",
              "      <td>0</td>\n",
              "      <td>-0.503176</td>\n",
              "    </tr>\n",
              "    <tr>\n",
              "      <th>0</th>\n",
              "      <td>2</td>\n",
              "      <td>1</td>\n",
              "      <td>0</td>\n",
              "      <td>0</td>\n",
              "      <td>0</td>\n",
              "      <td>0</td>\n",
              "      <td>1</td>\n",
              "      <td>0</td>\n",
              "      <td>0</td>\n",
              "      <td>1</td>\n",
              "      <td>0</td>\n",
              "      <td>0</td>\n",
              "      <td>0</td>\n",
              "      <td>1</td>\n",
              "      <td>0</td>\n",
              "      <td>0</td>\n",
              "      <td>0</td>\n",
              "      <td>1</td>\n",
              "      <td>0</td>\n",
              "      <td>-0.503176</td>\n",
              "    </tr>\n",
              "  </tbody>\n",
              "</table>\n",
              "</div>"
            ],
            "text/plain": [
              "   Survived  Sex  Type  Child  Pclass_1  Pclass_2  Pclass_3  Title_Master  \\\n",
              "0         0    1     1      0         0         0         1             0   \n",
              "0         2    1     0      0         0         0         1             0   \n",
              "\n",
              "   Title_Miss  Title_Mr  Title_Mrs  Title_Other  Title_Royal  FsizeD_Alone  \\\n",
              "0           0         1          0            0            0             0   \n",
              "0           0         1          0            0            0             1   \n",
              "\n",
              "   FsizeD_Big  FsizeD_Small  Family_Survival_0.0  Family_Survival_0.5  \\\n",
              "0           0             1                    0                    1   \n",
              "0           0             0                    0                    1   \n",
              "\n",
              "   Family_Survival_1.0      Fare  \n",
              "0                    0 -0.503176  \n",
              "0                    0 -0.503176  "
            ]
          },
          "execution_count": 109,
          "metadata": {},
          "output_type": "execute_result"
        }
      ],
      "source": [
        "cols = data.columns.tolist()\n",
        "cols.insert(0, cols.pop(cols.index('Survived')))\n",
        "data = data.reindex(columns= cols)\n",
        "data.head(2)"
      ]
    },
    {
      "cell_type": "markdown",
      "metadata": {},
      "source": [
        "## Separando treino e teste"
      ]
    },
    {
      "cell_type": "code",
      "execution_count": 129,
      "metadata": {},
      "outputs": [],
      "source": [
        "train = data[data['Type'] == 1].drop(columns = ['Type'])\n",
        "test = data[data['Type'] == 0].drop(columns = ['Type'])\n",
        "\n",
        "X_train = train.iloc[:, 1:20].values\n",
        "y_train = train.iloc[:,0].values"
      ]
    },
    {
      "cell_type": "markdown",
      "metadata": {},
      "source": [
        "## Treinando a rede neural"
      ]
    },
    {
      "cell_type": "code",
      "execution_count": 126,
      "metadata": {},
      "outputs": [],
      "source": [
        "def create_baseline():\n",
        "    model = Sequential()\n",
        "    model.add(Dense(13, input_dim = 18, activation = 'relu'))\n",
        "    model.add(Dropout(0.2))\n",
        "    model.add(Dense(8, activation = 'relu'))\n",
        "    model.add(Dense(1, activation = 'sigmoid'))\n",
        "    \n",
        "    model.compile(loss='binary_crossentropy', optimizer = 'adam', metrics = ['accuracy'])\n",
        "    return model"
      ]
    },
    {
      "cell_type": "code",
      "execution_count": 127,
      "metadata": {},
      "outputs": [
        {
          "name": "stderr",
          "output_type": "stream",
          "text": [
            "C:\\Users\\salat\\AppData\\Local\\Temp/ipykernel_67336/1304971491.py:1: DeprecationWarning: KerasClassifier is deprecated, use Sci-Keras (https://github.com/adriangb/scikeras) instead. See https://www.adriangb.com/scikeras/stable/migration.html for help migrating.\n",
            "  estimator = KerasClassifier(build_fn = create_baseline, epochs = 20, batch_size = 10, verbose = 1)\n"
          ]
        },
        {
          "name": "stdout",
          "output_type": "stream",
          "text": [
            "Epoch 1/20\n",
            "72/72 [==============================] - 1s 1ms/step - loss: 0.6509 - accuracy: 0.6236\n",
            "Epoch 2/20\n",
            "72/72 [==============================] - 0s 1ms/step - loss: 0.5711 - accuracy: 0.6924\n",
            "Epoch 3/20\n",
            "72/72 [==============================] - 0s 1ms/step - loss: 0.5209 - accuracy: 0.7683\n",
            "Epoch 4/20\n",
            "72/72 [==============================] - 0s 2ms/step - loss: 0.5241 - accuracy: 0.7949\n",
            "Epoch 5/20\n",
            "72/72 [==============================] - 0s 1ms/step - loss: 0.4955 - accuracy: 0.7949\n",
            "Epoch 6/20\n",
            "72/72 [==============================] - 0s 1ms/step - loss: 0.4733 - accuracy: 0.8118\n",
            "Epoch 7/20\n",
            "72/72 [==============================] - 0s 1ms/step - loss: 0.4558 - accuracy: 0.8202\n",
            "Epoch 8/20\n",
            "72/72 [==============================] - 0s 1ms/step - loss: 0.4462 - accuracy: 0.8244\n",
            "Epoch 9/20\n",
            "72/72 [==============================] - 0s 1ms/step - loss: 0.4294 - accuracy: 0.8287\n",
            "Epoch 10/20\n",
            "72/72 [==============================] - 0s 1ms/step - loss: 0.4200 - accuracy: 0.8315\n",
            "Epoch 11/20\n",
            "72/72 [==============================] - 0s 1ms/step - loss: 0.4194 - accuracy: 0.8258\n",
            "Epoch 12/20\n",
            "72/72 [==============================] - 0s 989us/step - loss: 0.4102 - accuracy: 0.8329\n",
            "Epoch 13/20\n",
            "72/72 [==============================] - 0s 1ms/step - loss: 0.4107 - accuracy: 0.8385\n",
            "Epoch 14/20\n",
            "72/72 [==============================] - 0s 1ms/step - loss: 0.4092 - accuracy: 0.8301\n",
            "Epoch 15/20\n",
            "72/72 [==============================] - 0s 1ms/step - loss: 0.3997 - accuracy: 0.8427\n",
            "Epoch 16/20\n",
            "72/72 [==============================] - 0s 1ms/step - loss: 0.3797 - accuracy: 0.8413\n",
            "Epoch 17/20\n",
            "72/72 [==============================] - 0s 1ms/step - loss: 0.3953 - accuracy: 0.8357\n",
            "Epoch 18/20\n",
            "72/72 [==============================] - 0s 972us/step - loss: 0.3917 - accuracy: 0.8441\n",
            "Epoch 19/20\n",
            "72/72 [==============================] - 0s 1ms/step - loss: 0.3865 - accuracy: 0.8385\n",
            "Epoch 20/20\n",
            "72/72 [==============================] - 0s 1ms/step - loss: 0.3793 - accuracy: 0.8469\n",
            "18/18 [==============================] - 0s 702us/step - loss: 0.3559 - accuracy: 0.8492\n",
            "Epoch 1/20\n",
            "72/72 [==============================] - 1s 1ms/step - loss: 0.6348 - accuracy: 0.5919\n",
            "Epoch 2/20\n",
            "72/72 [==============================] - 0s 1ms/step - loss: 0.5708 - accuracy: 0.6606\n",
            "Epoch 3/20\n",
            "72/72 [==============================] - 0s 884us/step - loss: 0.5288 - accuracy: 0.7784\n",
            "Epoch 4/20\n",
            "72/72 [==============================] - 0s 985us/step - loss: 0.5035 - accuracy: 0.7910\n",
            "Epoch 5/20\n",
            "72/72 [==============================] - 0s 897us/step - loss: 0.4612 - accuracy: 0.8219\n",
            "Epoch 6/20\n",
            "72/72 [==============================] - 0s 886us/step - loss: 0.4325 - accuracy: 0.8275\n",
            "Epoch 7/20\n",
            "72/72 [==============================] - 0s 957us/step - loss: 0.4216 - accuracy: 0.8415\n",
            "Epoch 8/20\n",
            "72/72 [==============================] - 0s 950us/step - loss: 0.4104 - accuracy: 0.8345\n",
            "Epoch 9/20\n",
            "72/72 [==============================] - 0s 887us/step - loss: 0.3945 - accuracy: 0.8373\n",
            "Epoch 10/20\n",
            "72/72 [==============================] - 0s 1ms/step - loss: 0.3876 - accuracy: 0.8317\n",
            "Epoch 11/20\n",
            "72/72 [==============================] - 0s 876us/step - loss: 0.3925 - accuracy: 0.8345\n",
            "Epoch 12/20\n",
            "72/72 [==============================] - 0s 883us/step - loss: 0.3886 - accuracy: 0.8415\n",
            "Epoch 13/20\n",
            "72/72 [==============================] - 0s 873us/step - loss: 0.3904 - accuracy: 0.8429\n",
            "Epoch 14/20\n",
            "72/72 [==============================] - 0s 886us/step - loss: 0.3714 - accuracy: 0.8499\n",
            "Epoch 15/20\n",
            "72/72 [==============================] - 0s 882us/step - loss: 0.3644 - accuracy: 0.8443\n",
            "Epoch 16/20\n",
            "72/72 [==============================] - 0s 911us/step - loss: 0.3656 - accuracy: 0.8499\n",
            "Epoch 17/20\n",
            "72/72 [==============================] - 0s 911us/step - loss: 0.3639 - accuracy: 0.8555\n",
            "Epoch 18/20\n",
            "72/72 [==============================] - 0s 902us/step - loss: 0.3621 - accuracy: 0.8583\n",
            "Epoch 19/20\n",
            "72/72 [==============================] - 0s 922us/step - loss: 0.3563 - accuracy: 0.8471\n",
            "Epoch 20/20\n",
            "72/72 [==============================] - 0s 886us/step - loss: 0.3599 - accuracy: 0.8429\n",
            "18/18 [==============================] - 0s 701us/step - loss: 0.4474 - accuracy: 0.8427\n",
            "Epoch 1/20\n",
            "72/72 [==============================] - 0s 886us/step - loss: 0.6876 - accuracy: 0.5610\n",
            "Epoch 2/20\n",
            "72/72 [==============================] - 0s 1ms/step - loss: 0.6626 - accuracy: 0.7167\n",
            "Epoch 3/20\n",
            "72/72 [==============================] - 0s 943us/step - loss: 0.6238 - accuracy: 0.7504\n",
            "Epoch 4/20\n",
            "72/72 [==============================] - 0s 975us/step - loss: 0.5490 - accuracy: 0.7840\n",
            "Epoch 5/20\n",
            "72/72 [==============================] - 0s 944us/step - loss: 0.4714 - accuracy: 0.8219\n",
            "Epoch 6/20\n",
            "72/72 [==============================] - 0s 897us/step - loss: 0.4503 - accuracy: 0.8233\n",
            "Epoch 7/20\n",
            "72/72 [==============================] - 0s 903us/step - loss: 0.4288 - accuracy: 0.8233\n",
            "Epoch 8/20\n",
            "72/72 [==============================] - 0s 955us/step - loss: 0.4115 - accuracy: 0.8233\n",
            "Epoch 9/20\n",
            "72/72 [==============================] - 0s 943us/step - loss: 0.4102 - accuracy: 0.8303\n",
            "Epoch 10/20\n",
            "72/72 [==============================] - 0s 859us/step - loss: 0.4080 - accuracy: 0.8359\n",
            "Epoch 11/20\n",
            "72/72 [==============================] - 0s 1ms/step - loss: 0.4000 - accuracy: 0.8387\n",
            "Epoch 12/20\n",
            "72/72 [==============================] - 0s 976us/step - loss: 0.3848 - accuracy: 0.8443\n",
            "Epoch 13/20\n",
            "72/72 [==============================] - 0s 943us/step - loss: 0.3992 - accuracy: 0.8429\n",
            "Epoch 14/20\n",
            "72/72 [==============================] - 0s 916us/step - loss: 0.3945 - accuracy: 0.8443\n",
            "Epoch 15/20\n",
            "72/72 [==============================] - 0s 901us/step - loss: 0.3956 - accuracy: 0.8485\n",
            "Epoch 16/20\n",
            "72/72 [==============================] - 0s 933us/step - loss: 0.3917 - accuracy: 0.8401\n",
            "Epoch 17/20\n",
            "72/72 [==============================] - 0s 899us/step - loss: 0.3899 - accuracy: 0.8499\n",
            "Epoch 18/20\n",
            "72/72 [==============================] - 0s 971us/step - loss: 0.3835 - accuracy: 0.8499\n",
            "Epoch 19/20\n",
            "72/72 [==============================] - 0s 929us/step - loss: 0.3852 - accuracy: 0.8415\n",
            "Epoch 20/20\n",
            "72/72 [==============================] - 0s 995us/step - loss: 0.3834 - accuracy: 0.8499\n",
            "18/18 [==============================] - 0s 747us/step - loss: 0.3557 - accuracy: 0.8539\n",
            "Epoch 1/20\n",
            "72/72 [==============================] - 1s 997us/step - loss: 0.6883 - accuracy: 0.5947\n",
            "Epoch 2/20\n",
            "72/72 [==============================] - 0s 1ms/step - loss: 0.6695 - accuracy: 0.7405\n",
            "Epoch 3/20\n",
            "72/72 [==============================] - 0s 1ms/step - loss: 0.6327 - accuracy: 0.7924\n",
            "Epoch 4/20\n",
            "72/72 [==============================] - 0s 888us/step - loss: 0.5195 - accuracy: 0.8177\n",
            "Epoch 5/20\n",
            "72/72 [==============================] - 0s 942us/step - loss: 0.4498 - accuracy: 0.8191\n",
            "Epoch 6/20\n",
            "72/72 [==============================] - 0s 879us/step - loss: 0.4278 - accuracy: 0.8275\n",
            "Epoch 7/20\n",
            "72/72 [==============================] - 0s 978us/step - loss: 0.4191 - accuracy: 0.8289\n",
            "Epoch 8/20\n",
            "72/72 [==============================] - 0s 969us/step - loss: 0.3957 - accuracy: 0.8471\n",
            "Epoch 9/20\n",
            "72/72 [==============================] - 0s 902us/step - loss: 0.4056 - accuracy: 0.8471\n",
            "Epoch 10/20\n",
            "72/72 [==============================] - 0s 911us/step - loss: 0.3860 - accuracy: 0.8485\n",
            "Epoch 11/20\n",
            "72/72 [==============================] - 0s 899us/step - loss: 0.3847 - accuracy: 0.8583\n",
            "Epoch 12/20\n",
            "72/72 [==============================] - 0s 910us/step - loss: 0.3920 - accuracy: 0.8513\n",
            "Epoch 13/20\n",
            "72/72 [==============================] - 0s 931us/step - loss: 0.3889 - accuracy: 0.8401\n",
            "Epoch 14/20\n",
            "72/72 [==============================] - 0s 936us/step - loss: 0.3890 - accuracy: 0.8387\n",
            "Epoch 15/20\n",
            "72/72 [==============================] - 0s 961us/step - loss: 0.3831 - accuracy: 0.8513\n",
            "Epoch 16/20\n",
            "72/72 [==============================] - 0s 894us/step - loss: 0.3752 - accuracy: 0.8612\n",
            "Epoch 17/20\n",
            "72/72 [==============================] - 0s 876us/step - loss: 0.3740 - accuracy: 0.8654\n",
            "Epoch 18/20\n",
            "72/72 [==============================] - 0s 872us/step - loss: 0.3822 - accuracy: 0.8569\n",
            "Epoch 19/20\n",
            "72/72 [==============================] - 0s 904us/step - loss: 0.3758 - accuracy: 0.8654\n",
            "Epoch 20/20\n",
            "72/72 [==============================] - 0s 868us/step - loss: 0.3672 - accuracy: 0.8583\n",
            "18/18 [==============================] - 0s 790us/step - loss: 0.4042 - accuracy: 0.8258\n",
            "Epoch 1/20\n",
            "72/72 [==============================] - 0s 940us/step - loss: 0.7014 - accuracy: 0.5330\n",
            "Epoch 2/20\n",
            "72/72 [==============================] - 0s 1ms/step - loss: 0.6597 - accuracy: 0.6844\n",
            "Epoch 3/20\n",
            "72/72 [==============================] - 0s 915us/step - loss: 0.5994 - accuracy: 0.7588\n",
            "Epoch 4/20\n",
            "72/72 [==============================] - 0s 945us/step - loss: 0.5142 - accuracy: 0.7882\n",
            "Epoch 5/20\n",
            "72/72 [==============================] - 0s 965us/step - loss: 0.4494 - accuracy: 0.8205\n",
            "Epoch 6/20\n",
            "72/72 [==============================] - 0s 939us/step - loss: 0.4147 - accuracy: 0.8261\n",
            "Epoch 7/20\n",
            "72/72 [==============================] - 0s 936us/step - loss: 0.4131 - accuracy: 0.8121\n",
            "Epoch 8/20\n",
            "72/72 [==============================] - 0s 973us/step - loss: 0.4038 - accuracy: 0.8373\n",
            "Epoch 9/20\n",
            "72/72 [==============================] - 0s 873us/step - loss: 0.3989 - accuracy: 0.8317\n",
            "Epoch 10/20\n",
            "72/72 [==============================] - 0s 927us/step - loss: 0.3958 - accuracy: 0.8289\n",
            "Epoch 11/20\n",
            "72/72 [==============================] - 0s 873us/step - loss: 0.4054 - accuracy: 0.8345\n",
            "Epoch 12/20\n",
            "72/72 [==============================] - 0s 919us/step - loss: 0.4054 - accuracy: 0.8401\n",
            "Epoch 13/20\n",
            "72/72 [==============================] - 0s 889us/step - loss: 0.3989 - accuracy: 0.8317\n",
            "Epoch 14/20\n",
            "72/72 [==============================] - 0s 863us/step - loss: 0.3891 - accuracy: 0.8401\n",
            "Epoch 15/20\n",
            "72/72 [==============================] - 0s 951us/step - loss: 0.3897 - accuracy: 0.8429\n",
            "Epoch 16/20\n",
            "72/72 [==============================] - 0s 915us/step - loss: 0.3875 - accuracy: 0.8387\n",
            "Epoch 17/20\n",
            "72/72 [==============================] - 0s 967us/step - loss: 0.4072 - accuracy: 0.8289\n",
            "Epoch 18/20\n",
            "72/72 [==============================] - 0s 934us/step - loss: 0.3756 - accuracy: 0.8429\n",
            "Epoch 19/20\n",
            "72/72 [==============================] - 0s 941us/step - loss: 0.3940 - accuracy: 0.8429\n",
            "Epoch 20/20\n",
            "72/72 [==============================] - 0s 886us/step - loss: 0.3812 - accuracy: 0.8443\n",
            "18/18 [==============================] - 0s 706us/step - loss: 0.3140 - accuracy: 0.8764\n"
          ]
        }
      ],
      "source": [
        "estimator = KerasClassifier(build_fn = create_baseline, epochs = 20, batch_size = 10, verbose = 1)\n",
        "kfold = StratifiedKFold(n_splits = 5, shuffle = False)\n",
        "results = cross_val_score(estimator, X_train, y_train, cv = kfold)"
      ]
    },
    {
      "cell_type": "code",
      "execution_count": 128,
      "metadata": {},
      "outputs": [
        {
          "name": "stdout",
          "output_type": "stream",
          "text": [
            "Results: 84.96% (1.64%)\n"
          ]
        }
      ],
      "source": [
        "print(\"Results: %.2f%% (%.2f%%)\" % (results.mean()*100, results.std()*100))"
      ]
    },
    {
      "cell_type": "code",
      "execution_count": 130,
      "metadata": {},
      "outputs": [
        {
          "name": "stdout",
          "output_type": "stream",
          "text": [
            "Epoch 1/20\n",
            "90/90 [==============================] - 1s 1ms/step - loss: 0.5934 - accuracy: 0.6734\n",
            "Epoch 2/20\n",
            "90/90 [==============================] - 0s 1ms/step - loss: 0.5600 - accuracy: 0.7149\n",
            "Epoch 3/20\n",
            "90/90 [==============================] - 0s 1ms/step - loss: 0.5352 - accuracy: 0.7385\n",
            "Epoch 4/20\n",
            "90/90 [==============================] - 0s 965us/step - loss: 0.5147 - accuracy: 0.8025\n",
            "Epoch 5/20\n",
            "90/90 [==============================] - 0s 1ms/step - loss: 0.4916 - accuracy: 0.8036\n",
            "Epoch 6/20\n",
            "90/90 [==============================] - 0s 985us/step - loss: 0.4724 - accuracy: 0.8193\n",
            "Epoch 7/20\n",
            "90/90 [==============================] - 0s 974us/step - loss: 0.4534 - accuracy: 0.8103\n",
            "Epoch 8/20\n",
            "90/90 [==============================] - 0s 887us/step - loss: 0.4398 - accuracy: 0.8283\n",
            "Epoch 9/20\n",
            "90/90 [==============================] - 0s 1ms/step - loss: 0.4297 - accuracy: 0.8294\n",
            "Epoch 10/20\n",
            "90/90 [==============================] - 0s 1ms/step - loss: 0.4151 - accuracy: 0.8384\n",
            "Epoch 11/20\n",
            "90/90 [==============================] - 0s 961us/step - loss: 0.4058 - accuracy: 0.8361\n",
            "Epoch 12/20\n",
            "90/90 [==============================] - 0s 1ms/step - loss: 0.3908 - accuracy: 0.8451\n",
            "Epoch 13/20\n",
            "90/90 [==============================] - 0s 856us/step - loss: 0.3874 - accuracy: 0.8474\n",
            "Epoch 14/20\n",
            "90/90 [==============================] - 0s 981us/step - loss: 0.3935 - accuracy: 0.8305\n",
            "Epoch 15/20\n",
            "90/90 [==============================] - 0s 1ms/step - loss: 0.3809 - accuracy: 0.8384\n",
            "Epoch 16/20\n",
            "90/90 [==============================] - 0s 1ms/step - loss: 0.3917 - accuracy: 0.8384\n",
            "Epoch 17/20\n",
            "90/90 [==============================] - 0s 1ms/step - loss: 0.3828 - accuracy: 0.8474\n",
            "Epoch 18/20\n",
            "90/90 [==============================] - 0s 847us/step - loss: 0.3845 - accuracy: 0.8361\n",
            "Epoch 19/20\n",
            "90/90 [==============================] - 0s 935us/step - loss: 0.3662 - accuracy: 0.8541\n",
            "Epoch 20/20\n",
            "90/90 [==============================] - 0s 880us/step - loss: 0.3711 - accuracy: 0.8406\n"
          ]
        }
      ],
      "source": [
        "X_test = test.iloc[:, 1:20].values\n",
        "estimator.fit(X_train, y_train, epochs = 20, batch_size = 10)\n",
        "prediction = estimator.predict(X_test).tolist()"
      ]
    },
    {
      "cell_type": "markdown",
      "metadata": {},
      "source": [
        "Criando predição dos dados de teste"
      ]
    },
    {
      "cell_type": "code",
      "execution_count": 131,
      "metadata": {},
      "outputs": [],
      "source": [
        "se = pd.Series(prediction)\n",
        "# Creating new column of predictions in data_check dataframe\n",
        "test['check'] = se\n",
        "test['check'] = test['check'].str.get(0)\n",
        "\n",
        "series = []\n",
        "for val in test.check:\n",
        "    if val >= 0.5:\n",
        "        series.append(1)\n",
        "    else:\n",
        "        series.append(0)\n",
        "test['final'] = series"
      ]
    },
    {
      "cell_type": "code",
      "execution_count": 132,
      "metadata": {},
      "outputs": [],
      "source": [
        "match = 0\n",
        "nomatch = 0\n",
        "for val in test.values:\n",
        "    if val[1] == val[3]:\n",
        "        match = match +1\n",
        "    else:\n",
        "        nomatch = nomatch +1"
      ]
    },
    {
      "cell_type": "markdown",
      "metadata": {},
      "source": [
        "Validando com os dados de teste baseado no ground truth"
      ]
    },
    {
      "cell_type": "code",
      "execution_count": 133,
      "metadata": {},
      "outputs": [
        {
          "name": "stdout",
          "output_type": "stream",
          "text": [
            "              precision    recall  f1-score   support\n",
            "\n",
            "           0       0.82      0.88      0.85       260\n",
            "           1       0.78      0.68      0.73       158\n",
            "\n",
            "    accuracy                           0.81       418\n",
            "   macro avg       0.80      0.78      0.79       418\n",
            "weighted avg       0.80      0.81      0.80       418\n",
            "\n",
            "0.80622009569378\n",
            "[[229  31]\n",
            " [ 50 108]]\n"
          ]
        }
      ],
      "source": [
        "test['Survived'] = test['final']\n",
        "predictions = test['final'].tolist()\n",
        "\n",
        "print(classification_report(gt['Survived'], predictions))\n",
        "print(accuracy_score(gt['Survived'], predictions))\n",
        "print(confusion_matrix(gt['Survived'], predictions))"
      ]
    },
    {
      "cell_type": "markdown",
      "metadata": {},
      "source": [
        "Salvando predições em CSV no formato esperado"
      ]
    },
    {
      "cell_type": "code",
      "execution_count": 119,
      "metadata": {},
      "outputs": [],
      "source": [
        "validation = pd.read_csv(\"https://raw.githubusercontent.com/SalatielBairros/kaggle-titanic/main/data/original/test.csv\")\n",
        "validation['Survived'] = test['Survived']\n",
        "temp = validation[['PassengerId', 'Survived']]\n",
        "\n",
        "temp.to_csv(\"../../data/submissions/keras_ex_nn.csv\", index = False)"
      ]
    },
    {
      "cell_type": "markdown",
      "metadata": {},
      "source": [
        "## Salvando os dados processados"
      ]
    },
    {
      "cell_type": "code",
      "execution_count": 120,
      "metadata": {},
      "outputs": [
        {
          "data": {
            "text/html": [
              "<div>\n",
              "<style scoped>\n",
              "    .dataframe tbody tr th:only-of-type {\n",
              "        vertical-align: middle;\n",
              "    }\n",
              "\n",
              "    .dataframe tbody tr th {\n",
              "        vertical-align: top;\n",
              "    }\n",
              "\n",
              "    .dataframe thead th {\n",
              "        text-align: right;\n",
              "    }\n",
              "</style>\n",
              "<table border=\"1\" class=\"dataframe\">\n",
              "  <thead>\n",
              "    <tr style=\"text-align: right;\">\n",
              "      <th></th>\n",
              "      <th>Survived</th>\n",
              "      <th>Sex</th>\n",
              "      <th>Child</th>\n",
              "      <th>Pclass_1</th>\n",
              "      <th>Pclass_2</th>\n",
              "      <th>Pclass_3</th>\n",
              "      <th>Title_Master</th>\n",
              "      <th>Title_Miss</th>\n",
              "      <th>Title_Mr</th>\n",
              "      <th>Title_Mrs</th>\n",
              "      <th>Title_Other</th>\n",
              "      <th>Title_Royal</th>\n",
              "      <th>FsizeD_Alone</th>\n",
              "      <th>FsizeD_Big</th>\n",
              "      <th>FsizeD_Small</th>\n",
              "      <th>Family_Survival_0.0</th>\n",
              "      <th>Family_Survival_0.5</th>\n",
              "      <th>Family_Survival_1.0</th>\n",
              "      <th>Fare</th>\n",
              "    </tr>\n",
              "  </thead>\n",
              "  <tbody>\n",
              "    <tr>\n",
              "      <th>0</th>\n",
              "      <td>0</td>\n",
              "      <td>1</td>\n",
              "      <td>0</td>\n",
              "      <td>0</td>\n",
              "      <td>0</td>\n",
              "      <td>1</td>\n",
              "      <td>0</td>\n",
              "      <td>0</td>\n",
              "      <td>1</td>\n",
              "      <td>0</td>\n",
              "      <td>0</td>\n",
              "      <td>0</td>\n",
              "      <td>0</td>\n",
              "      <td>0</td>\n",
              "      <td>1</td>\n",
              "      <td>0</td>\n",
              "      <td>1</td>\n",
              "      <td>0</td>\n",
              "      <td>-0.503176</td>\n",
              "    </tr>\n",
              "    <tr>\n",
              "      <th>1</th>\n",
              "      <td>1</td>\n",
              "      <td>0</td>\n",
              "      <td>0</td>\n",
              "      <td>1</td>\n",
              "      <td>0</td>\n",
              "      <td>0</td>\n",
              "      <td>0</td>\n",
              "      <td>0</td>\n",
              "      <td>0</td>\n",
              "      <td>1</td>\n",
              "      <td>0</td>\n",
              "      <td>0</td>\n",
              "      <td>0</td>\n",
              "      <td>0</td>\n",
              "      <td>1</td>\n",
              "      <td>0</td>\n",
              "      <td>1</td>\n",
              "      <td>0</td>\n",
              "      <td>0.734809</td>\n",
              "    </tr>\n",
              "    <tr>\n",
              "      <th>2</th>\n",
              "      <td>1</td>\n",
              "      <td>0</td>\n",
              "      <td>0</td>\n",
              "      <td>0</td>\n",
              "      <td>0</td>\n",
              "      <td>1</td>\n",
              "      <td>0</td>\n",
              "      <td>1</td>\n",
              "      <td>0</td>\n",
              "      <td>0</td>\n",
              "      <td>0</td>\n",
              "      <td>0</td>\n",
              "      <td>1</td>\n",
              "      <td>0</td>\n",
              "      <td>0</td>\n",
              "      <td>0</td>\n",
              "      <td>1</td>\n",
              "      <td>0</td>\n",
              "      <td>-0.490126</td>\n",
              "    </tr>\n",
              "    <tr>\n",
              "      <th>3</th>\n",
              "      <td>1</td>\n",
              "      <td>0</td>\n",
              "      <td>0</td>\n",
              "      <td>1</td>\n",
              "      <td>0</td>\n",
              "      <td>0</td>\n",
              "      <td>0</td>\n",
              "      <td>0</td>\n",
              "      <td>0</td>\n",
              "      <td>1</td>\n",
              "      <td>0</td>\n",
              "      <td>0</td>\n",
              "      <td>0</td>\n",
              "      <td>0</td>\n",
              "      <td>1</td>\n",
              "      <td>1</td>\n",
              "      <td>0</td>\n",
              "      <td>0</td>\n",
              "      <td>0.383263</td>\n",
              "    </tr>\n",
              "    <tr>\n",
              "      <th>4</th>\n",
              "      <td>0</td>\n",
              "      <td>1</td>\n",
              "      <td>0</td>\n",
              "      <td>0</td>\n",
              "      <td>0</td>\n",
              "      <td>1</td>\n",
              "      <td>0</td>\n",
              "      <td>0</td>\n",
              "      <td>1</td>\n",
              "      <td>0</td>\n",
              "      <td>0</td>\n",
              "      <td>0</td>\n",
              "      <td>1</td>\n",
              "      <td>0</td>\n",
              "      <td>0</td>\n",
              "      <td>0</td>\n",
              "      <td>1</td>\n",
              "      <td>0</td>\n",
              "      <td>-0.487709</td>\n",
              "    </tr>\n",
              "  </tbody>\n",
              "</table>\n",
              "</div>"
            ],
            "text/plain": [
              "   Survived  Sex  Child  Pclass_1  Pclass_2  Pclass_3  Title_Master  \\\n",
              "0         0    1      0         0         0         1             0   \n",
              "1         1    0      0         1         0         0             0   \n",
              "2         1    0      0         0         0         1             0   \n",
              "3         1    0      0         1         0         0             0   \n",
              "4         0    1      0         0         0         1             0   \n",
              "\n",
              "   Title_Miss  Title_Mr  Title_Mrs  Title_Other  Title_Royal  FsizeD_Alone  \\\n",
              "0           0         1          0            0            0             0   \n",
              "1           0         0          1            0            0             0   \n",
              "2           1         0          0            0            0             1   \n",
              "3           0         0          1            0            0             0   \n",
              "4           0         1          0            0            0             1   \n",
              "\n",
              "   FsizeD_Big  FsizeD_Small  Family_Survival_0.0  Family_Survival_0.5  \\\n",
              "0           0             1                    0                    1   \n",
              "1           0             1                    0                    1   \n",
              "2           0             0                    0                    1   \n",
              "3           0             1                    1                    0   \n",
              "4           0             0                    0                    1   \n",
              "\n",
              "   Family_Survival_1.0      Fare  \n",
              "0                    0 -0.503176  \n",
              "1                    0  0.734809  \n",
              "2                    0 -0.490126  \n",
              "3                    0  0.383263  \n",
              "4                    0 -0.487709  "
            ]
          },
          "execution_count": 120,
          "metadata": {},
          "output_type": "execute_result"
        }
      ],
      "source": [
        "train.head()"
      ]
    },
    {
      "cell_type": "code",
      "execution_count": 121,
      "metadata": {},
      "outputs": [
        {
          "data": {
            "text/html": [
              "<div>\n",
              "<style scoped>\n",
              "    .dataframe tbody tr th:only-of-type {\n",
              "        vertical-align: middle;\n",
              "    }\n",
              "\n",
              "    .dataframe tbody tr th {\n",
              "        vertical-align: top;\n",
              "    }\n",
              "\n",
              "    .dataframe thead th {\n",
              "        text-align: right;\n",
              "    }\n",
              "</style>\n",
              "<table border=\"1\" class=\"dataframe\">\n",
              "  <thead>\n",
              "    <tr style=\"text-align: right;\">\n",
              "      <th></th>\n",
              "      <th>Survived</th>\n",
              "      <th>Sex</th>\n",
              "      <th>Child</th>\n",
              "      <th>Pclass_1</th>\n",
              "      <th>Pclass_2</th>\n",
              "      <th>Pclass_3</th>\n",
              "      <th>Title_Master</th>\n",
              "      <th>Title_Miss</th>\n",
              "      <th>Title_Mr</th>\n",
              "      <th>Title_Mrs</th>\n",
              "      <th>...</th>\n",
              "      <th>Title_Royal</th>\n",
              "      <th>FsizeD_Alone</th>\n",
              "      <th>FsizeD_Big</th>\n",
              "      <th>FsizeD_Small</th>\n",
              "      <th>Family_Survival_0.0</th>\n",
              "      <th>Family_Survival_0.5</th>\n",
              "      <th>Family_Survival_1.0</th>\n",
              "      <th>Fare</th>\n",
              "      <th>check</th>\n",
              "      <th>final</th>\n",
              "    </tr>\n",
              "  </thead>\n",
              "  <tbody>\n",
              "    <tr>\n",
              "      <th>0</th>\n",
              "      <td>0</td>\n",
              "      <td>1</td>\n",
              "      <td>0</td>\n",
              "      <td>0</td>\n",
              "      <td>0</td>\n",
              "      <td>1</td>\n",
              "      <td>0</td>\n",
              "      <td>0</td>\n",
              "      <td>1</td>\n",
              "      <td>0</td>\n",
              "      <td>...</td>\n",
              "      <td>0</td>\n",
              "      <td>1</td>\n",
              "      <td>0</td>\n",
              "      <td>0</td>\n",
              "      <td>0</td>\n",
              "      <td>1</td>\n",
              "      <td>0</td>\n",
              "      <td>-0.503176</td>\n",
              "      <td>0</td>\n",
              "      <td>0</td>\n",
              "    </tr>\n",
              "    <tr>\n",
              "      <th>1</th>\n",
              "      <td>1</td>\n",
              "      <td>0</td>\n",
              "      <td>0</td>\n",
              "      <td>0</td>\n",
              "      <td>0</td>\n",
              "      <td>1</td>\n",
              "      <td>0</td>\n",
              "      <td>0</td>\n",
              "      <td>0</td>\n",
              "      <td>1</td>\n",
              "      <td>...</td>\n",
              "      <td>0</td>\n",
              "      <td>0</td>\n",
              "      <td>0</td>\n",
              "      <td>1</td>\n",
              "      <td>0</td>\n",
              "      <td>1</td>\n",
              "      <td>0</td>\n",
              "      <td>0.734809</td>\n",
              "      <td>1</td>\n",
              "      <td>1</td>\n",
              "    </tr>\n",
              "    <tr>\n",
              "      <th>2</th>\n",
              "      <td>0</td>\n",
              "      <td>1</td>\n",
              "      <td>0</td>\n",
              "      <td>0</td>\n",
              "      <td>1</td>\n",
              "      <td>0</td>\n",
              "      <td>0</td>\n",
              "      <td>0</td>\n",
              "      <td>1</td>\n",
              "      <td>0</td>\n",
              "      <td>...</td>\n",
              "      <td>0</td>\n",
              "      <td>1</td>\n",
              "      <td>0</td>\n",
              "      <td>0</td>\n",
              "      <td>0</td>\n",
              "      <td>1</td>\n",
              "      <td>0</td>\n",
              "      <td>-0.490126</td>\n",
              "      <td>0</td>\n",
              "      <td>0</td>\n",
              "    </tr>\n",
              "    <tr>\n",
              "      <th>3</th>\n",
              "      <td>0</td>\n",
              "      <td>1</td>\n",
              "      <td>0</td>\n",
              "      <td>0</td>\n",
              "      <td>0</td>\n",
              "      <td>1</td>\n",
              "      <td>0</td>\n",
              "      <td>0</td>\n",
              "      <td>1</td>\n",
              "      <td>0</td>\n",
              "      <td>...</td>\n",
              "      <td>0</td>\n",
              "      <td>1</td>\n",
              "      <td>0</td>\n",
              "      <td>0</td>\n",
              "      <td>0</td>\n",
              "      <td>1</td>\n",
              "      <td>0</td>\n",
              "      <td>0.383263</td>\n",
              "      <td>0</td>\n",
              "      <td>0</td>\n",
              "    </tr>\n",
              "    <tr>\n",
              "      <th>4</th>\n",
              "      <td>1</td>\n",
              "      <td>0</td>\n",
              "      <td>0</td>\n",
              "      <td>0</td>\n",
              "      <td>0</td>\n",
              "      <td>1</td>\n",
              "      <td>0</td>\n",
              "      <td>0</td>\n",
              "      <td>0</td>\n",
              "      <td>1</td>\n",
              "      <td>...</td>\n",
              "      <td>0</td>\n",
              "      <td>0</td>\n",
              "      <td>0</td>\n",
              "      <td>1</td>\n",
              "      <td>0</td>\n",
              "      <td>0</td>\n",
              "      <td>1</td>\n",
              "      <td>-0.487709</td>\n",
              "      <td>1</td>\n",
              "      <td>1</td>\n",
              "    </tr>\n",
              "  </tbody>\n",
              "</table>\n",
              "<p>5 rows × 21 columns</p>\n",
              "</div>"
            ],
            "text/plain": [
              "   Survived  Sex  Child  Pclass_1  Pclass_2  Pclass_3  Title_Master  \\\n",
              "0         0    1      0         0         0         1             0   \n",
              "1         1    0      0         0         0         1             0   \n",
              "2         0    1      0         0         1         0             0   \n",
              "3         0    1      0         0         0         1             0   \n",
              "4         1    0      0         0         0         1             0   \n",
              "\n",
              "   Title_Miss  Title_Mr  Title_Mrs  ...  Title_Royal  FsizeD_Alone  \\\n",
              "0           0         1          0  ...            0             1   \n",
              "1           0         0          1  ...            0             0   \n",
              "2           0         1          0  ...            0             1   \n",
              "3           0         1          0  ...            0             1   \n",
              "4           0         0          1  ...            0             0   \n",
              "\n",
              "   FsizeD_Big  FsizeD_Small  Family_Survival_0.0  Family_Survival_0.5  \\\n",
              "0           0             0                    0                    1   \n",
              "1           0             1                    0                    1   \n",
              "2           0             0                    0                    1   \n",
              "3           0             0                    0                    1   \n",
              "4           0             1                    0                    0   \n",
              "\n",
              "   Family_Survival_1.0      Fare  check  final  \n",
              "0                    0 -0.503176      0      0  \n",
              "1                    0  0.734809      1      1  \n",
              "2                    0 -0.490126      0      0  \n",
              "3                    0  0.383263      0      0  \n",
              "4                    1 -0.487709      1      1  \n",
              "\n",
              "[5 rows x 21 columns]"
            ]
          },
          "execution_count": 121,
          "metadata": {},
          "output_type": "execute_result"
        }
      ],
      "source": [
        "test.head()"
      ]
    },
    {
      "cell_type": "code",
      "execution_count": 124,
      "metadata": {},
      "outputs": [],
      "source": [
        "test_data = test.drop(columns=['Survived', 'check', 'final'])\n",
        "test_data['PassengerId'] = validation['PassengerId']"
      ]
    },
    {
      "cell_type": "code",
      "execution_count": 125,
      "metadata": {},
      "outputs": [],
      "source": [
        "train.to_csv(\"../../data/processed_v6/train.csv\", index = False)\n",
        "test_data.to_csv(\"../../data/processed_v6/test.csv\", index = False)"
      ]
    },
    {
      "cell_type": "markdown",
      "metadata": {},
      "source": [
        "## Validando o treino com o RandomForest"
      ]
    },
    {
      "cell_type": "code",
      "execution_count": 136,
      "metadata": {},
      "outputs": [],
      "source": [
        "rfParams = {\"criterion\":[\"gini\",\"entropy\"],\n",
        "             \"n_estimators\":[10, 20, 50, 100, 180, 200],\n",
        "             \"min_samples_leaf\":[1, 2, 3, 4],\n",
        "             \"min_samples_split\":np.arange(3,8), \n",
        "             \"max_features\":[\"sqrt\", \"auto\", \"log2\"],\n",
        "             \"n_jobs\": [-1],\n",
        "             \"random_state\":[SEED]}"
      ]
    },
    {
      "cell_type": "code",
      "execution_count": 137,
      "metadata": {},
      "outputs": [],
      "source": [
        "def tune_model_params(model, params, x, y):\n",
        "    gridsearch = GridSearchCV(model, params, scoring='accuracy', n_jobs=-1, cv=10, verbose=4, return_train_score=True)\n",
        "    gridsearch.fit(x, y)\n",
        "    best_params, best_score = gridsearch.best_params_, round(gridsearch.best_score_*100, 2)\n",
        "    return best_params, best_score"
      ]
    },
    {
      "cell_type": "code",
      "execution_count": 138,
      "metadata": {},
      "outputs": [
        {
          "name": "stdout",
          "output_type": "stream",
          "text": [
            "Fitting 10 folds for each of 720 candidates, totalling 7200 fits\n",
            "Best params:  {'criterion': 'entropy', 'max_features': 'sqrt', 'min_samples_leaf': 2, 'min_samples_split': 6, 'n_estimators': 10, 'n_jobs': -1, 'random_state': 1002}\n",
            "Best score:  85.18\n"
          ]
        }
      ],
      "source": [
        "best_params, best_score = tune_model_params(RandomForestClassifier(), rfParams, X_train, y_train)\n",
        "\n",
        "print(\"Best params: \", best_params)\n",
        "print(\"Best score: \", best_score)"
      ]
    },
    {
      "cell_type": "code",
      "execution_count": 139,
      "metadata": {},
      "outputs": [
        {
          "name": "stdout",
          "output_type": "stream",
          "text": [
            "RANDOM FOREST \n",
            "\n",
            "              precision    recall  f1-score   support\n",
            "\n",
            "           0       0.81      0.86      0.83       260\n",
            "           1       0.74      0.66      0.70       158\n",
            "\n",
            "    accuracy                           0.78       418\n",
            "   macro avg       0.77      0.76      0.77       418\n",
            "weighted avg       0.78      0.78      0.78       418\n",
            "\n",
            "0.784688995215311\n",
            "[[224  36]\n",
            " [ 54 104]]\n"
          ]
        }
      ],
      "source": [
        "rf = RandomForestClassifier(**best_params)\n",
        "rf.fit(X_train, y_train)\n",
        "predictions = rf.predict(X_test)\n",
        "\n",
        "print(\"RANDOM FOREST \\n\")\n",
        "print(classification_report(gt['Survived'], predictions))\n",
        "print(accuracy_score(gt['Survived'], predictions))\n",
        "print(confusion_matrix(gt['Survived'], predictions))"
      ]
    },
    {
      "cell_type": "markdown",
      "metadata": {},
      "source": [
        "O resultado com esse dataset foi ligeramente inferior ao resultado com o dataset que eu tinha feito para a RandomForest. O caso aqui foi uma questão de boa transformação de dados com um modelo mais robusto."
      ]
    }
  ],
  "metadata": {
    "colab": {
      "name": "18 - Mais uma tentativa de melhorar a transformacao dos dados.ipynb",
      "provenance": []
    },
    "interpreter": {
      "hash": "5d8406cfaedcdf0eaa4a44a61b5b4d06f47db5698936240ac59b59333d280fd9"
    },
    "kernelspec": {
      "display_name": "Python 3.10.0 64-bit",
      "language": "python",
      "name": "python3"
    },
    "language_info": {
      "codemirror_mode": {
        "name": "ipython",
        "version": 3
      },
      "file_extension": ".py",
      "mimetype": "text/x-python",
      "name": "python",
      "nbconvert_exporter": "python",
      "pygments_lexer": "ipython3",
      "version": "3.10.0"
    },
    "orig_nbformat": 4
  },
  "nbformat": 4,
  "nbformat_minor": 0
}
