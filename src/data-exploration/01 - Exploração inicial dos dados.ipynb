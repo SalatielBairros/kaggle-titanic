{
 "cells": [
  {
   "cell_type": "markdown",
   "id": "a1adf30d",
   "metadata": {
    "id": "a1adf30d"
   },
   "source": [
    "# 01 - Exploração inicial dos dados: Kaggle Titanic  \n",
    "\n",
    "Realizando análise e ajustando os dados faltantes."
   ]
  },
  {
   "cell_type": "markdown",
   "id": "7abc55c1",
   "metadata": {
    "id": "7abc55c1"
   },
   "source": [
    "## Preparando o ambiente"
   ]
  },
  {
   "cell_type": "code",
   "execution_count": 1,
   "id": "3718bf98",
   "metadata": {
    "id": "3718bf98"
   },
   "outputs": [],
   "source": [
    "import pandas as pd\n",
    "import numpy as np\n",
    "import seaborn as sns\n",
    "import matplotlib.pyplot as plt\n",
    "import matplotlib as mpl"
   ]
  },
  {
   "cell_type": "code",
   "execution_count": 2,
   "id": "f-4LcKr1SzPE",
   "metadata": {
    "id": "f-4LcKr1SzPE"
   },
   "outputs": [],
   "source": [
    "mpl.rcParams['figure.figsize'] = (12, 7)"
   ]
  },
  {
   "cell_type": "markdown",
   "id": "8df78dd2",
   "metadata": {
    "id": "8df78dd2"
   },
   "source": [
    "## Carregando os dados"
   ]
  },
  {
   "cell_type": "code",
   "execution_count": 3,
   "id": "83dd32e4",
   "metadata": {
    "colab": {
     "base_uri": "https://localhost:8080/",
     "height": 142
    },
    "id": "83dd32e4",
    "outputId": "71197f4e-0899-4bdb-8dd5-bda62a86d8a5"
   },
   "outputs": [
    {
     "data": {
      "text/html": [
       "<div>\n",
       "<style scoped>\n",
       "    .dataframe tbody tr th:only-of-type {\n",
       "        vertical-align: middle;\n",
       "    }\n",
       "\n",
       "    .dataframe tbody tr th {\n",
       "        vertical-align: top;\n",
       "    }\n",
       "\n",
       "    .dataframe thead th {\n",
       "        text-align: right;\n",
       "    }\n",
       "</style>\n",
       "<table border=\"1\" class=\"dataframe\">\n",
       "  <thead>\n",
       "    <tr style=\"text-align: right;\">\n",
       "      <th></th>\n",
       "      <th>PassengerId</th>\n",
       "      <th>Survived</th>\n",
       "      <th>Pclass</th>\n",
       "      <th>Name</th>\n",
       "      <th>Sex</th>\n",
       "      <th>Age</th>\n",
       "      <th>SibSp</th>\n",
       "      <th>Parch</th>\n",
       "      <th>Ticket</th>\n",
       "      <th>Fare</th>\n",
       "      <th>Cabin</th>\n",
       "      <th>Embarked</th>\n",
       "    </tr>\n",
       "  </thead>\n",
       "  <tbody>\n",
       "    <tr>\n",
       "      <th>0</th>\n",
       "      <td>1</td>\n",
       "      <td>0</td>\n",
       "      <td>3</td>\n",
       "      <td>Braund, Mr. Owen Harris</td>\n",
       "      <td>male</td>\n",
       "      <td>22.0</td>\n",
       "      <td>1</td>\n",
       "      <td>0</td>\n",
       "      <td>A/5 21171</td>\n",
       "      <td>7.2500</td>\n",
       "      <td>NaN</td>\n",
       "      <td>S</td>\n",
       "    </tr>\n",
       "    <tr>\n",
       "      <th>1</th>\n",
       "      <td>2</td>\n",
       "      <td>1</td>\n",
       "      <td>1</td>\n",
       "      <td>Cumings, Mrs. John Bradley (Florence Briggs Th...</td>\n",
       "      <td>female</td>\n",
       "      <td>38.0</td>\n",
       "      <td>1</td>\n",
       "      <td>0</td>\n",
       "      <td>PC 17599</td>\n",
       "      <td>71.2833</td>\n",
       "      <td>C85</td>\n",
       "      <td>C</td>\n",
       "    </tr>\n",
       "    <tr>\n",
       "      <th>2</th>\n",
       "      <td>3</td>\n",
       "      <td>1</td>\n",
       "      <td>3</td>\n",
       "      <td>Heikkinen, Miss. Laina</td>\n",
       "      <td>female</td>\n",
       "      <td>26.0</td>\n",
       "      <td>0</td>\n",
       "      <td>0</td>\n",
       "      <td>STON/O2. 3101282</td>\n",
       "      <td>7.9250</td>\n",
       "      <td>NaN</td>\n",
       "      <td>S</td>\n",
       "    </tr>\n",
       "  </tbody>\n",
       "</table>\n",
       "</div>"
      ],
      "text/plain": [
       "   PassengerId  Survived  Pclass  \\\n",
       "0            1         0       3   \n",
       "1            2         1       1   \n",
       "2            3         1       3   \n",
       "\n",
       "                                                Name     Sex   Age  SibSp  \\\n",
       "0                            Braund, Mr. Owen Harris    male  22.0      1   \n",
       "1  Cumings, Mrs. John Bradley (Florence Briggs Th...  female  38.0      1   \n",
       "2                             Heikkinen, Miss. Laina  female  26.0      0   \n",
       "\n",
       "   Parch            Ticket     Fare Cabin Embarked  \n",
       "0      0         A/5 21171   7.2500   NaN        S  \n",
       "1      0          PC 17599  71.2833   C85        C  \n",
       "2      0  STON/O2. 3101282   7.9250   NaN        S  "
      ]
     },
     "execution_count": 3,
     "metadata": {},
     "output_type": "execute_result"
    }
   ],
   "source": [
    "titanic = pd.read_csv('https://raw.githubusercontent.com/SalatielBairros/kaggle-titanic/main/data/original/train.csv')\n",
    "titanic.head(3)"
   ]
  },
  {
   "cell_type": "code",
   "execution_count": 4,
   "id": "vZ1Uet9OWgDp",
   "metadata": {
    "colab": {
     "base_uri": "https://localhost:8080/",
     "height": 111
    },
    "id": "vZ1Uet9OWgDp",
    "outputId": "19cf7e6d-9f0f-45a7-c181-119cbe7eda59"
   },
   "outputs": [
    {
     "data": {
      "text/html": [
       "<div>\n",
       "<style scoped>\n",
       "    .dataframe tbody tr th:only-of-type {\n",
       "        vertical-align: middle;\n",
       "    }\n",
       "\n",
       "    .dataframe tbody tr th {\n",
       "        vertical-align: top;\n",
       "    }\n",
       "\n",
       "    .dataframe thead th {\n",
       "        text-align: right;\n",
       "    }\n",
       "</style>\n",
       "<table border=\"1\" class=\"dataframe\">\n",
       "  <thead>\n",
       "    <tr style=\"text-align: right;\">\n",
       "      <th></th>\n",
       "      <th>PassengerId</th>\n",
       "      <th>Pclass</th>\n",
       "      <th>Name</th>\n",
       "      <th>Sex</th>\n",
       "      <th>Age</th>\n",
       "      <th>SibSp</th>\n",
       "      <th>Parch</th>\n",
       "      <th>Ticket</th>\n",
       "      <th>Fare</th>\n",
       "      <th>Cabin</th>\n",
       "      <th>Embarked</th>\n",
       "    </tr>\n",
       "  </thead>\n",
       "  <tbody>\n",
       "    <tr>\n",
       "      <th>0</th>\n",
       "      <td>892</td>\n",
       "      <td>3</td>\n",
       "      <td>Kelly, Mr. James</td>\n",
       "      <td>male</td>\n",
       "      <td>34.5</td>\n",
       "      <td>0</td>\n",
       "      <td>0</td>\n",
       "      <td>330911</td>\n",
       "      <td>7.8292</td>\n",
       "      <td>NaN</td>\n",
       "      <td>Q</td>\n",
       "    </tr>\n",
       "    <tr>\n",
       "      <th>1</th>\n",
       "      <td>893</td>\n",
       "      <td>3</td>\n",
       "      <td>Wilkes, Mrs. James (Ellen Needs)</td>\n",
       "      <td>female</td>\n",
       "      <td>47.0</td>\n",
       "      <td>1</td>\n",
       "      <td>0</td>\n",
       "      <td>363272</td>\n",
       "      <td>7.0000</td>\n",
       "      <td>NaN</td>\n",
       "      <td>S</td>\n",
       "    </tr>\n",
       "  </tbody>\n",
       "</table>\n",
       "</div>"
      ],
      "text/plain": [
       "   PassengerId  Pclass                              Name     Sex   Age  SibSp  \\\n",
       "0          892       3                  Kelly, Mr. James    male  34.5      0   \n",
       "1          893       3  Wilkes, Mrs. James (Ellen Needs)  female  47.0      1   \n",
       "\n",
       "   Parch  Ticket    Fare Cabin Embarked  \n",
       "0      0  330911  7.8292   NaN        Q  \n",
       "1      0  363272  7.0000   NaN        S  "
      ]
     },
     "execution_count": 4,
     "metadata": {},
     "output_type": "execute_result"
    }
   ],
   "source": [
    "teste = pd.read_csv('https://raw.githubusercontent.com/SalatielBairros/kaggle-titanic/main/data/original/test.csv')\n",
    "teste.head(2)"
   ]
  },
  {
   "cell_type": "markdown",
   "id": "eJ_ZK3wWYkbj",
   "metadata": {
    "id": "eJ_ZK3wWYkbj"
   },
   "source": [
    "## Extraindo informações"
   ]
  },
  {
   "cell_type": "markdown",
   "id": "ZI-MsDfvYyes",
   "metadata": {
    "id": "ZI-MsDfvYyes"
   },
   "source": [
    "### Faixas etárias por pronome de tratamento\n",
    "\n",
    "Uma forma de resolver os faltantes de idade e agrupar as pessoas por faixas etárias pode ser separar o pronome de tratamento utilizado no nome e relacioná-lo à idade."
   ]
  },
  {
   "cell_type": "code",
   "execution_count": 5,
   "id": "WBpprjrdY70i",
   "metadata": {
    "colab": {
     "base_uri": "https://localhost:8080/"
    },
    "id": "WBpprjrdY70i",
    "outputId": "76152243-382e-49c4-f113-c32d9417a2c7"
   },
   "outputs": [
    {
     "data": {
      "text/plain": [
       "array(['Mr', 'Mrs', 'Miss', 'Master', 'Don', 'Rev', 'Dr', 'Mme', 'Ms',\n",
       "       'Major', 'Lady', 'Sir', 'Mlle', 'Col', 'Capt', 'the Countess',\n",
       "       'Jonkheer'], dtype=object)"
      ]
     },
     "execution_count": 5,
     "metadata": {},
     "output_type": "execute_result"
    }
   ],
   "source": [
    "titles = []\n",
    "for nome in titanic['Name']:\n",
    "  titles.append(nome.split(',')[1].split('.')[0].strip())\n",
    "\n",
    "titanic['title'] = titles\n",
    "titanic.title.unique()"
   ]
  },
  {
   "cell_type": "markdown",
   "id": "Y10LpBsCLDgj",
   "metadata": {
    "id": "Y10LpBsCLDgj"
   },
   "source": [
    "### Andar da Cabine"
   ]
  },
  {
   "cell_type": "markdown",
   "id": "KxsnLkbyL6f9",
   "metadata": {
    "id": "KxsnLkbyL6f9"
   },
   "source": [
    "O número específico da cabine é irrelevante, visto que identifica o usuário e não temos um mapa do navio para identificar a correlação. Portanto retiramos o número e ficamos apenas com a string, alterando, inclusive, o nome da coluna."
   ]
  },
  {
   "cell_type": "code",
   "execution_count": 6,
   "id": "AE0UurDYLoXQ",
   "metadata": {
    "id": "AE0UurDYLoXQ"
   },
   "outputs": [],
   "source": [
    "titanic.loc[(titanic.Cabin.notnull()), 'Cabin'] = titanic.loc[(titanic.Cabin.notnull()), 'Cabin'].astype(str).str[0]\n",
    "titanic.rename(columns={'Cabin': 'Floor'}, inplace=True)"
   ]
  },
  {
   "cell_type": "code",
   "execution_count": 7,
   "id": "zKT4kPdTL3Y6",
   "metadata": {
    "colab": {
     "base_uri": "https://localhost:8080/"
    },
    "id": "zKT4kPdTL3Y6",
    "outputId": "778574a6-7f60-4b63-8a9a-44c0f45de426"
   },
   "outputs": [
    {
     "data": {
      "text/plain": [
       "C    59\n",
       "B    47\n",
       "D    33\n",
       "E    32\n",
       "A    15\n",
       "F    13\n",
       "G     4\n",
       "T     1\n",
       "Name: Floor, dtype: int64"
      ]
     },
     "execution_count": 7,
     "metadata": {},
     "output_type": "execute_result"
    }
   ],
   "source": [
    "titanic['Floor'].value_counts()"
   ]
  },
  {
   "cell_type": "markdown",
   "id": "930e4ce3",
   "metadata": {},
   "source": [
    "### Total de parentes\n",
    "\n",
    "Criar coluna com o total de parentes que cada pessoa tinha a bordo. Um dos objetivos é identificar a relação entre sobrevivência e estar sozinho."
   ]
  },
  {
   "cell_type": "code",
   "execution_count": 8,
   "id": "61a9cc12",
   "metadata": {},
   "outputs": [
    {
     "data": {
      "text/html": [
       "<div>\n",
       "<style scoped>\n",
       "    .dataframe tbody tr th:only-of-type {\n",
       "        vertical-align: middle;\n",
       "    }\n",
       "\n",
       "    .dataframe tbody tr th {\n",
       "        vertical-align: top;\n",
       "    }\n",
       "\n",
       "    .dataframe thead th {\n",
       "        text-align: right;\n",
       "    }\n",
       "</style>\n",
       "<table border=\"1\" class=\"dataframe\">\n",
       "  <thead>\n",
       "    <tr style=\"text-align: right;\">\n",
       "      <th></th>\n",
       "      <th>PassengerId</th>\n",
       "      <th>Survived</th>\n",
       "      <th>Pclass</th>\n",
       "      <th>Name</th>\n",
       "      <th>Sex</th>\n",
       "      <th>Age</th>\n",
       "      <th>SibSp</th>\n",
       "      <th>Parch</th>\n",
       "      <th>Ticket</th>\n",
       "      <th>Fare</th>\n",
       "      <th>Floor</th>\n",
       "      <th>Embarked</th>\n",
       "      <th>title</th>\n",
       "      <th>Relateds</th>\n",
       "    </tr>\n",
       "  </thead>\n",
       "  <tbody>\n",
       "    <tr>\n",
       "      <th>601</th>\n",
       "      <td>602</td>\n",
       "      <td>0</td>\n",
       "      <td>3</td>\n",
       "      <td>Slabenoff, Mr. Petco</td>\n",
       "      <td>male</td>\n",
       "      <td>NaN</td>\n",
       "      <td>0</td>\n",
       "      <td>0</td>\n",
       "      <td>349214</td>\n",
       "      <td>7.8958</td>\n",
       "      <td>NaN</td>\n",
       "      <td>S</td>\n",
       "      <td>Mr</td>\n",
       "      <td>0</td>\n",
       "    </tr>\n",
       "    <tr>\n",
       "      <th>508</th>\n",
       "      <td>509</td>\n",
       "      <td>0</td>\n",
       "      <td>3</td>\n",
       "      <td>Olsen, Mr. Henry Margido</td>\n",
       "      <td>male</td>\n",
       "      <td>28.0</td>\n",
       "      <td>0</td>\n",
       "      <td>0</td>\n",
       "      <td>C 4001</td>\n",
       "      <td>22.5250</td>\n",
       "      <td>NaN</td>\n",
       "      <td>S</td>\n",
       "      <td>Mr</td>\n",
       "      <td>0</td>\n",
       "    </tr>\n",
       "    <tr>\n",
       "      <th>544</th>\n",
       "      <td>545</td>\n",
       "      <td>0</td>\n",
       "      <td>1</td>\n",
       "      <td>Douglas, Mr. Walter Donald</td>\n",
       "      <td>male</td>\n",
       "      <td>50.0</td>\n",
       "      <td>1</td>\n",
       "      <td>0</td>\n",
       "      <td>PC 17761</td>\n",
       "      <td>106.4250</td>\n",
       "      <td>C</td>\n",
       "      <td>C</td>\n",
       "      <td>Mr</td>\n",
       "      <td>1</td>\n",
       "    </tr>\n",
       "    <tr>\n",
       "      <th>666</th>\n",
       "      <td>667</td>\n",
       "      <td>0</td>\n",
       "      <td>2</td>\n",
       "      <td>Butler, Mr. Reginald Fenton</td>\n",
       "      <td>male</td>\n",
       "      <td>25.0</td>\n",
       "      <td>0</td>\n",
       "      <td>0</td>\n",
       "      <td>234686</td>\n",
       "      <td>13.0000</td>\n",
       "      <td>NaN</td>\n",
       "      <td>S</td>\n",
       "      <td>Mr</td>\n",
       "      <td>0</td>\n",
       "    </tr>\n",
       "    <tr>\n",
       "      <th>171</th>\n",
       "      <td>172</td>\n",
       "      <td>0</td>\n",
       "      <td>3</td>\n",
       "      <td>Rice, Master. Arthur</td>\n",
       "      <td>male</td>\n",
       "      <td>4.0</td>\n",
       "      <td>4</td>\n",
       "      <td>1</td>\n",
       "      <td>382652</td>\n",
       "      <td>29.1250</td>\n",
       "      <td>NaN</td>\n",
       "      <td>Q</td>\n",
       "      <td>Master</td>\n",
       "      <td>5</td>\n",
       "    </tr>\n",
       "  </tbody>\n",
       "</table>\n",
       "</div>"
      ],
      "text/plain": [
       "     PassengerId  Survived  Pclass                         Name   Sex   Age  \\\n",
       "601          602         0       3         Slabenoff, Mr. Petco  male   NaN   \n",
       "508          509         0       3     Olsen, Mr. Henry Margido  male  28.0   \n",
       "544          545         0       1   Douglas, Mr. Walter Donald  male  50.0   \n",
       "666          667         0       2  Butler, Mr. Reginald Fenton  male  25.0   \n",
       "171          172         0       3         Rice, Master. Arthur  male   4.0   \n",
       "\n",
       "     SibSp  Parch    Ticket      Fare Floor Embarked   title  Relateds  \n",
       "601      0      0    349214    7.8958   NaN        S      Mr         0  \n",
       "508      0      0    C 4001   22.5250   NaN        S      Mr         0  \n",
       "544      1      0  PC 17761  106.4250     C        C      Mr         1  \n",
       "666      0      0    234686   13.0000   NaN        S      Mr         0  \n",
       "171      4      1    382652   29.1250   NaN        Q  Master         5  "
      ]
     },
     "execution_count": 8,
     "metadata": {},
     "output_type": "execute_result"
    }
   ],
   "source": [
    "titanic['Relateds'] = titanic['SibSp'] + titanic['Parch']\n",
    "titanic.sample(5)"
   ]
  },
  {
   "cell_type": "markdown",
   "id": "vfisCREVPOnf",
   "metadata": {
    "id": "vfisCREVPOnf"
   },
   "source": [
    "## Resolvendo os dados omissos"
   ]
  },
  {
   "cell_type": "markdown",
   "id": "KH1sdHN3WSBQ",
   "metadata": {
    "id": "KH1sdHN3WSBQ"
   },
   "source": [
    "### Identificando os dados"
   ]
  },
  {
   "cell_type": "code",
   "execution_count": 9,
   "id": "DzoW7vkEO0i2",
   "metadata": {
    "colab": {
     "base_uri": "https://localhost:8080/"
    },
    "id": "DzoW7vkEO0i2",
    "outputId": "54189894-6bd3-4812-82bd-abec0b033eb0"
   },
   "outputs": [
    {
     "data": {
      "text/plain": [
       "(891, 14)"
      ]
     },
     "execution_count": 9,
     "metadata": {},
     "output_type": "execute_result"
    }
   ],
   "source": [
    "titanic.shape"
   ]
  },
  {
   "cell_type": "code",
   "execution_count": 10,
   "id": "AOp7A7fxPQ_J",
   "metadata": {
    "colab": {
     "base_uri": "https://localhost:8080/"
    },
    "id": "AOp7A7fxPQ_J",
    "outputId": "24260521-4a6b-4804-9c0c-ad1d11126cd8"
   },
   "outputs": [
    {
     "name": "stdout",
     "output_type": "stream",
     "text": [
      "<class 'pandas.core.frame.DataFrame'>\n",
      "RangeIndex: 891 entries, 0 to 890\n",
      "Data columns (total 14 columns):\n",
      " #   Column       Non-Null Count  Dtype  \n",
      "---  ------       --------------  -----  \n",
      " 0   PassengerId  891 non-null    int64  \n",
      " 1   Survived     891 non-null    int64  \n",
      " 2   Pclass       891 non-null    int64  \n",
      " 3   Name         891 non-null    object \n",
      " 4   Sex          891 non-null    object \n",
      " 5   Age          714 non-null    float64\n",
      " 6   SibSp        891 non-null    int64  \n",
      " 7   Parch        891 non-null    int64  \n",
      " 8   Ticket       891 non-null    object \n",
      " 9   Fare         891 non-null    float64\n",
      " 10  Floor        204 non-null    object \n",
      " 11  Embarked     889 non-null    object \n",
      " 12  title        891 non-null    object \n",
      " 13  Relateds     891 non-null    int64  \n",
      "dtypes: float64(2), int64(6), object(6)\n",
      "memory usage: 97.6+ KB\n"
     ]
    }
   ],
   "source": [
    "titanic.info()"
   ]
  },
  {
   "cell_type": "code",
   "execution_count": 11,
   "id": "Czdg9-loPSDi",
   "metadata": {
    "colab": {
     "base_uri": "https://localhost:8080/"
    },
    "id": "Czdg9-loPSDi",
    "outputId": "1db56f36-6577-4ee1-8b19-ac03d509b677"
   },
   "outputs": [
    {
     "data": {
      "text/plain": [
       "PassengerId      0\n",
       "Survived         0\n",
       "Pclass           0\n",
       "Name             0\n",
       "Sex              0\n",
       "Age            177\n",
       "SibSp            0\n",
       "Parch            0\n",
       "Ticket           0\n",
       "Fare             0\n",
       "Floor          687\n",
       "Embarked         2\n",
       "title            0\n",
       "Relateds         0\n",
       "dtype: int64"
      ]
     },
     "execution_count": 11,
     "metadata": {},
     "output_type": "execute_result"
    }
   ],
   "source": [
    "titanic.isnull().sum()"
   ]
  },
  {
   "cell_type": "markdown",
   "id": "2gnyFWkbP75s",
   "metadata": {
    "id": "2gnyFWkbP75s"
   },
   "source": [
    "Existem 177 idades não informadas e 687 cabines não informadas. Como a solução falta dos dados se comporta também nos dados de teste?"
   ]
  },
  {
   "cell_type": "code",
   "execution_count": 12,
   "id": "svvQ7G38Wz8H",
   "metadata": {
    "colab": {
     "base_uri": "https://localhost:8080/"
    },
    "id": "svvQ7G38Wz8H",
    "outputId": "70bd8e63-588a-4cf1-b5f6-c1e53a5a1365"
   },
   "outputs": [
    {
     "name": "stdout",
     "output_type": "stream",
     "text": [
      "<class 'pandas.core.frame.DataFrame'>\n",
      "RangeIndex: 418 entries, 0 to 417\n",
      "Data columns (total 11 columns):\n",
      " #   Column       Non-Null Count  Dtype  \n",
      "---  ------       --------------  -----  \n",
      " 0   PassengerId  418 non-null    int64  \n",
      " 1   Pclass       418 non-null    int64  \n",
      " 2   Name         418 non-null    object \n",
      " 3   Sex          418 non-null    object \n",
      " 4   Age          332 non-null    float64\n",
      " 5   SibSp        418 non-null    int64  \n",
      " 6   Parch        418 non-null    int64  \n",
      " 7   Ticket       418 non-null    object \n",
      " 8   Fare         417 non-null    float64\n",
      " 9   Cabin        91 non-null     object \n",
      " 10  Embarked     418 non-null    object \n",
      "dtypes: float64(2), int64(4), object(5)\n",
      "memory usage: 36.0+ KB\n"
     ]
    }
   ],
   "source": [
    "teste.info()"
   ]
  },
  {
   "cell_type": "code",
   "execution_count": 13,
   "id": "yKiK6RbrWxe9",
   "metadata": {
    "colab": {
     "base_uri": "https://localhost:8080/"
    },
    "id": "yKiK6RbrWxe9",
    "outputId": "b8346e0c-d684-4e30-b9c5-ef8b7d1eeab3"
   },
   "outputs": [
    {
     "data": {
      "text/plain": [
       "PassengerId      0\n",
       "Pclass           0\n",
       "Name             0\n",
       "Sex              0\n",
       "Age             86\n",
       "SibSp            0\n",
       "Parch            0\n",
       "Ticket           0\n",
       "Fare             1\n",
       "Cabin          327\n",
       "Embarked         0\n",
       "dtype: int64"
      ]
     },
     "execution_count": 13,
     "metadata": {},
     "output_type": "execute_result"
    }
   ],
   "source": [
    "teste.isnull().sum()"
   ]
  },
  {
   "cell_type": "code",
   "execution_count": 14,
   "id": "6L5V_wNXW-Li",
   "metadata": {
    "colab": {
     "base_uri": "https://localhost:8080/"
    },
    "id": "6L5V_wNXW-Li",
    "outputId": "a41ad2a5-d29b-47a4-ffba-0f4f819fa14e"
   },
   "outputs": [
    {
     "data": {
      "text/plain": [
       "0.20574162679425836"
      ]
     },
     "execution_count": 14,
     "metadata": {},
     "output_type": "execute_result"
    }
   ],
   "source": [
    "86/418"
   ]
  },
  {
   "cell_type": "code",
   "execution_count": 15,
   "id": "gLVsSIgeXDY7",
   "metadata": {
    "colab": {
     "base_uri": "https://localhost:8080/"
    },
    "id": "gLVsSIgeXDY7",
    "outputId": "8245132c-dcf0-4c2c-b2af-60f8a21917e5"
   },
   "outputs": [
    {
     "data": {
      "text/plain": [
       "0.13131313131313133"
      ]
     },
     "execution_count": 15,
     "metadata": {},
     "output_type": "execute_result"
    }
   ],
   "source": [
    "117/891"
   ]
  },
  {
   "cell_type": "code",
   "execution_count": 16,
   "id": "_MKEohihXFvY",
   "metadata": {
    "colab": {
     "base_uri": "https://localhost:8080/"
    },
    "id": "_MKEohihXFvY",
    "outputId": "577cfcc4-3848-4dfd-a069-7230383f161b"
   },
   "outputs": [
    {
     "data": {
      "text/plain": [
       "0.7822966507177034"
      ]
     },
     "execution_count": 16,
     "metadata": {},
     "output_type": "execute_result"
    }
   ],
   "source": [
    "327/418"
   ]
  },
  {
   "cell_type": "code",
   "execution_count": 17,
   "id": "TVTx3GNaXLY2",
   "metadata": {
    "colab": {
     "base_uri": "https://localhost:8080/"
    },
    "id": "TVTx3GNaXLY2",
    "outputId": "d3c02a61-6a49-4ae6-8be9-b2bc45e7f314"
   },
   "outputs": [
    {
     "data": {
      "text/plain": [
       "0.7710437710437711"
      ]
     },
     "execution_count": 17,
     "metadata": {},
     "output_type": "execute_result"
    }
   ],
   "source": [
    "687/891"
   ]
  },
  {
   "cell_type": "markdown",
   "id": "DZfk8YYVXQRH",
   "metadata": {
    "id": "DZfk8YYVXQRH"
   },
   "source": [
    "Como é notável acima, a proporção dos valores faltantes é semelhante entre os dados de treino e teste, indicando que a solução para ambos pode ser parecida."
   ]
  },
  {
   "cell_type": "markdown",
   "id": "ihs6ihubQD8f",
   "metadata": {
    "id": "ihs6ihubQD8f"
   },
   "source": [
    "### Age\n",
    "\n",
    "Vamos começar analisando as idades não informadas: \n",
    "\n",
    "**(1) Qual o perfil dos registros sem idade informada?**"
   ]
  },
  {
   "cell_type": "code",
   "execution_count": 18,
   "id": "rx8HQaI8PZKN",
   "metadata": {
    "colab": {
     "base_uri": "https://localhost:8080/",
     "height": 419
    },
    "id": "rx8HQaI8PZKN",
    "outputId": "1de1872b-d75e-4769-c952-adc83557124d"
   },
   "outputs": [
    {
     "data": {
      "text/html": [
       "<div>\n",
       "<style scoped>\n",
       "    .dataframe tbody tr th:only-of-type {\n",
       "        vertical-align: middle;\n",
       "    }\n",
       "\n",
       "    .dataframe tbody tr th {\n",
       "        vertical-align: top;\n",
       "    }\n",
       "\n",
       "    .dataframe thead th {\n",
       "        text-align: right;\n",
       "    }\n",
       "</style>\n",
       "<table border=\"1\" class=\"dataframe\">\n",
       "  <thead>\n",
       "    <tr style=\"text-align: right;\">\n",
       "      <th></th>\n",
       "      <th>PassengerId</th>\n",
       "      <th>Survived</th>\n",
       "      <th>Pclass</th>\n",
       "      <th>Name</th>\n",
       "      <th>Sex</th>\n",
       "      <th>Age</th>\n",
       "      <th>SibSp</th>\n",
       "      <th>Parch</th>\n",
       "      <th>Ticket</th>\n",
       "      <th>Fare</th>\n",
       "      <th>Floor</th>\n",
       "      <th>Embarked</th>\n",
       "      <th>title</th>\n",
       "      <th>Relateds</th>\n",
       "    </tr>\n",
       "  </thead>\n",
       "  <tbody>\n",
       "    <tr>\n",
       "      <th>5</th>\n",
       "      <td>6</td>\n",
       "      <td>0</td>\n",
       "      <td>3</td>\n",
       "      <td>Moran, Mr. James</td>\n",
       "      <td>male</td>\n",
       "      <td>NaN</td>\n",
       "      <td>0</td>\n",
       "      <td>0</td>\n",
       "      <td>330877</td>\n",
       "      <td>8.4583</td>\n",
       "      <td>NaN</td>\n",
       "      <td>Q</td>\n",
       "      <td>Mr</td>\n",
       "      <td>0</td>\n",
       "    </tr>\n",
       "    <tr>\n",
       "      <th>17</th>\n",
       "      <td>18</td>\n",
       "      <td>1</td>\n",
       "      <td>2</td>\n",
       "      <td>Williams, Mr. Charles Eugene</td>\n",
       "      <td>male</td>\n",
       "      <td>NaN</td>\n",
       "      <td>0</td>\n",
       "      <td>0</td>\n",
       "      <td>244373</td>\n",
       "      <td>13.0000</td>\n",
       "      <td>NaN</td>\n",
       "      <td>S</td>\n",
       "      <td>Mr</td>\n",
       "      <td>0</td>\n",
       "    </tr>\n",
       "    <tr>\n",
       "      <th>19</th>\n",
       "      <td>20</td>\n",
       "      <td>1</td>\n",
       "      <td>3</td>\n",
       "      <td>Masselmani, Mrs. Fatima</td>\n",
       "      <td>female</td>\n",
       "      <td>NaN</td>\n",
       "      <td>0</td>\n",
       "      <td>0</td>\n",
       "      <td>2649</td>\n",
       "      <td>7.2250</td>\n",
       "      <td>NaN</td>\n",
       "      <td>C</td>\n",
       "      <td>Mrs</td>\n",
       "      <td>0</td>\n",
       "    </tr>\n",
       "    <tr>\n",
       "      <th>26</th>\n",
       "      <td>27</td>\n",
       "      <td>0</td>\n",
       "      <td>3</td>\n",
       "      <td>Emir, Mr. Farred Chehab</td>\n",
       "      <td>male</td>\n",
       "      <td>NaN</td>\n",
       "      <td>0</td>\n",
       "      <td>0</td>\n",
       "      <td>2631</td>\n",
       "      <td>7.2250</td>\n",
       "      <td>NaN</td>\n",
       "      <td>C</td>\n",
       "      <td>Mr</td>\n",
       "      <td>0</td>\n",
       "    </tr>\n",
       "    <tr>\n",
       "      <th>28</th>\n",
       "      <td>29</td>\n",
       "      <td>1</td>\n",
       "      <td>3</td>\n",
       "      <td>O'Dwyer, Miss. Ellen \"Nellie\"</td>\n",
       "      <td>female</td>\n",
       "      <td>NaN</td>\n",
       "      <td>0</td>\n",
       "      <td>0</td>\n",
       "      <td>330959</td>\n",
       "      <td>7.8792</td>\n",
       "      <td>NaN</td>\n",
       "      <td>Q</td>\n",
       "      <td>Miss</td>\n",
       "      <td>0</td>\n",
       "    </tr>\n",
       "    <tr>\n",
       "      <th>...</th>\n",
       "      <td>...</td>\n",
       "      <td>...</td>\n",
       "      <td>...</td>\n",
       "      <td>...</td>\n",
       "      <td>...</td>\n",
       "      <td>...</td>\n",
       "      <td>...</td>\n",
       "      <td>...</td>\n",
       "      <td>...</td>\n",
       "      <td>...</td>\n",
       "      <td>...</td>\n",
       "      <td>...</td>\n",
       "      <td>...</td>\n",
       "      <td>...</td>\n",
       "    </tr>\n",
       "    <tr>\n",
       "      <th>859</th>\n",
       "      <td>860</td>\n",
       "      <td>0</td>\n",
       "      <td>3</td>\n",
       "      <td>Razi, Mr. Raihed</td>\n",
       "      <td>male</td>\n",
       "      <td>NaN</td>\n",
       "      <td>0</td>\n",
       "      <td>0</td>\n",
       "      <td>2629</td>\n",
       "      <td>7.2292</td>\n",
       "      <td>NaN</td>\n",
       "      <td>C</td>\n",
       "      <td>Mr</td>\n",
       "      <td>0</td>\n",
       "    </tr>\n",
       "    <tr>\n",
       "      <th>863</th>\n",
       "      <td>864</td>\n",
       "      <td>0</td>\n",
       "      <td>3</td>\n",
       "      <td>Sage, Miss. Dorothy Edith \"Dolly\"</td>\n",
       "      <td>female</td>\n",
       "      <td>NaN</td>\n",
       "      <td>8</td>\n",
       "      <td>2</td>\n",
       "      <td>CA. 2343</td>\n",
       "      <td>69.5500</td>\n",
       "      <td>NaN</td>\n",
       "      <td>S</td>\n",
       "      <td>Miss</td>\n",
       "      <td>10</td>\n",
       "    </tr>\n",
       "    <tr>\n",
       "      <th>868</th>\n",
       "      <td>869</td>\n",
       "      <td>0</td>\n",
       "      <td>3</td>\n",
       "      <td>van Melkebeke, Mr. Philemon</td>\n",
       "      <td>male</td>\n",
       "      <td>NaN</td>\n",
       "      <td>0</td>\n",
       "      <td>0</td>\n",
       "      <td>345777</td>\n",
       "      <td>9.5000</td>\n",
       "      <td>NaN</td>\n",
       "      <td>S</td>\n",
       "      <td>Mr</td>\n",
       "      <td>0</td>\n",
       "    </tr>\n",
       "    <tr>\n",
       "      <th>878</th>\n",
       "      <td>879</td>\n",
       "      <td>0</td>\n",
       "      <td>3</td>\n",
       "      <td>Laleff, Mr. Kristo</td>\n",
       "      <td>male</td>\n",
       "      <td>NaN</td>\n",
       "      <td>0</td>\n",
       "      <td>0</td>\n",
       "      <td>349217</td>\n",
       "      <td>7.8958</td>\n",
       "      <td>NaN</td>\n",
       "      <td>S</td>\n",
       "      <td>Mr</td>\n",
       "      <td>0</td>\n",
       "    </tr>\n",
       "    <tr>\n",
       "      <th>888</th>\n",
       "      <td>889</td>\n",
       "      <td>0</td>\n",
       "      <td>3</td>\n",
       "      <td>Johnston, Miss. Catherine Helen \"Carrie\"</td>\n",
       "      <td>female</td>\n",
       "      <td>NaN</td>\n",
       "      <td>1</td>\n",
       "      <td>2</td>\n",
       "      <td>W./C. 6607</td>\n",
       "      <td>23.4500</td>\n",
       "      <td>NaN</td>\n",
       "      <td>S</td>\n",
       "      <td>Miss</td>\n",
       "      <td>3</td>\n",
       "    </tr>\n",
       "  </tbody>\n",
       "</table>\n",
       "<p>177 rows × 14 columns</p>\n",
       "</div>"
      ],
      "text/plain": [
       "     PassengerId  Survived  Pclass                                      Name  \\\n",
       "5              6         0       3                          Moran, Mr. James   \n",
       "17            18         1       2              Williams, Mr. Charles Eugene   \n",
       "19            20         1       3                   Masselmani, Mrs. Fatima   \n",
       "26            27         0       3                   Emir, Mr. Farred Chehab   \n",
       "28            29         1       3             O'Dwyer, Miss. Ellen \"Nellie\"   \n",
       "..           ...       ...     ...                                       ...   \n",
       "859          860         0       3                          Razi, Mr. Raihed   \n",
       "863          864         0       3         Sage, Miss. Dorothy Edith \"Dolly\"   \n",
       "868          869         0       3               van Melkebeke, Mr. Philemon   \n",
       "878          879         0       3                        Laleff, Mr. Kristo   \n",
       "888          889         0       3  Johnston, Miss. Catherine Helen \"Carrie\"   \n",
       "\n",
       "        Sex  Age  SibSp  Parch      Ticket     Fare Floor Embarked title  \\\n",
       "5      male  NaN      0      0      330877   8.4583   NaN        Q    Mr   \n",
       "17     male  NaN      0      0      244373  13.0000   NaN        S    Mr   \n",
       "19   female  NaN      0      0        2649   7.2250   NaN        C   Mrs   \n",
       "26     male  NaN      0      0        2631   7.2250   NaN        C    Mr   \n",
       "28   female  NaN      0      0      330959   7.8792   NaN        Q  Miss   \n",
       "..      ...  ...    ...    ...         ...      ...   ...      ...   ...   \n",
       "859    male  NaN      0      0        2629   7.2292   NaN        C    Mr   \n",
       "863  female  NaN      8      2    CA. 2343  69.5500   NaN        S  Miss   \n",
       "868    male  NaN      0      0      345777   9.5000   NaN        S    Mr   \n",
       "878    male  NaN      0      0      349217   7.8958   NaN        S    Mr   \n",
       "888  female  NaN      1      2  W./C. 6607  23.4500   NaN        S  Miss   \n",
       "\n",
       "     Relateds  \n",
       "5           0  \n",
       "17          0  \n",
       "19          0  \n",
       "26          0  \n",
       "28          0  \n",
       "..        ...  \n",
       "859         0  \n",
       "863        10  \n",
       "868         0  \n",
       "878         0  \n",
       "888         3  \n",
       "\n",
       "[177 rows x 14 columns]"
      ]
     },
     "execution_count": 18,
     "metadata": {},
     "output_type": "execute_result"
    }
   ],
   "source": [
    "sem_idade = titanic.query(\"Age.isnull().values\")\n",
    "sem_idade"
   ]
  },
  {
   "cell_type": "code",
   "execution_count": 19,
   "id": "rOJ0s3jyQbPt",
   "metadata": {
    "colab": {
     "base_uri": "https://localhost:8080/",
     "height": 442
    },
    "id": "rOJ0s3jyQbPt",
    "outputId": "7aeacd94-779c-4167-bada-0eb31191ba8c"
   },
   "outputs": [
    {
     "data": {
      "image/png": "[encoded data removed]",
      "text/plain": [
       "<Figure size 864x504 with 1 Axes>"
      ]
     },
     "metadata": {
      "needs_background": "light"
     },
     "output_type": "display_data"
    }
   ],
   "source": [
    "sns.countplot(x='Survived', data=sem_idade);"
   ]
  },
  {
   "cell_type": "code",
   "execution_count": 20,
   "id": "DqXy1qZISj8_",
   "metadata": {
    "colab": {
     "base_uri": "https://localhost:8080/",
     "height": 442
    },
    "id": "DqXy1qZISj8_",
    "outputId": "d0208b7d-c781-47d4-f6a3-5cc55890ef32"
   },
   "outputs": [
    {
     "data": {
      "image/png": "[encoded data removed]",
      "text/plain": [
       "<Figure size 864x504 with 1 Axes>"
      ]
     },
     "metadata": {
      "needs_background": "light"
     },
     "output_type": "display_data"
    }
   ],
   "source": [
    "sns.countplot(x='Sex', data=sem_idade);"
   ]
  },
  {
   "cell_type": "code",
   "execution_count": 21,
   "id": "WIC4mZewTUGi",
   "metadata": {
    "colab": {
     "base_uri": "https://localhost:8080/",
     "height": 442
    },
    "id": "WIC4mZewTUGi",
    "outputId": "cb3e9f25-ab50-475a-9465-e90f7595dacf"
   },
   "outputs": [
    {
     "data": {
      "image/png": "[encoded data removed]",
      "text/plain": [
       "<Figure size 864x504 with 1 Axes>"
      ]
     },
     "metadata": {
      "needs_background": "light"
     },
     "output_type": "display_data"
    }
   ],
   "source": [
    "sns.countplot(x='SibSp', data=sem_idade);"
   ]
  },
  {
   "cell_type": "code",
   "execution_count": 22,
   "id": "UlAPr24YTaMj",
   "metadata": {
    "colab": {
     "base_uri": "https://localhost:8080/",
     "height": 442
    },
    "id": "UlAPr24YTaMj",
    "outputId": "a26e538f-54df-440a-b528-48fcc9d8d763"
   },
   "outputs": [
    {
     "data": {
      "image/png": "[encoded data removed]",
      "text/plain": [
       "<Figure size 864x504 with 1 Axes>"
      ]
     },
     "metadata": {
      "needs_background": "light"
     },
     "output_type": "display_data"
    }
   ],
   "source": [
    "sns.countplot(x='Parch', data=sem_idade);"
   ]
  },
  {
   "cell_type": "code",
   "execution_count": 23,
   "id": "RdZCAaEITgb3",
   "metadata": {
    "colab": {
     "base_uri": "https://localhost:8080/"
    },
    "id": "RdZCAaEITgb3",
    "outputId": "1d386886-e9cc-42c6-c40e-06b399a31a60"
   },
   "outputs": [
    {
     "data": {
      "text/plain": [
       "19"
      ]
     },
     "execution_count": 23,
     "metadata": {},
     "output_type": "execute_result"
    }
   ],
   "source": [
    "sem_idade['Floor'].notnull().sum()"
   ]
  },
  {
   "cell_type": "markdown",
   "id": "wtyxILH_Tn_M",
   "metadata": {
    "id": "wtyxILH_Tn_M"
   },
   "source": [
    "A maioria dos sem idade estavam sozinhos, eram homens e não sobreviveram. Além disso a maioria também não tinha a cabine informada."
   ]
  },
  {
   "cell_type": "markdown",
   "id": "Q0bPi15va-Ck",
   "metadata": {
    "id": "Q0bPi15va-Ck"
   },
   "source": [
    "**(2) Como se agrupa a idade pelos pronomes de tratamento?**"
   ]
  },
  {
   "cell_type": "code",
   "execution_count": 24,
   "id": "cDB6xtsUc6IZ",
   "metadata": {
    "colab": {
     "base_uri": "https://localhost:8080/"
    },
    "id": "cDB6xtsUc6IZ",
    "outputId": "0328aae3-7c0b-45f1-c7f7-d11601c7797b"
   },
   "outputs": [
    {
     "data": {
      "text/plain": [
       "Index(['PassengerId', 'Survived', 'Pclass', 'Name', 'Sex', 'Age', 'SibSp',\n",
       "       'Parch', 'Ticket', 'Fare', 'Floor', 'Embarked', 'title', 'Relateds'],\n",
       "      dtype='object')"
      ]
     },
     "execution_count": 24,
     "metadata": {},
     "output_type": "execute_result"
    }
   ],
   "source": [
    "titanic.columns"
   ]
  },
  {
   "cell_type": "code",
   "execution_count": 25,
   "id": "A2O31nJoTxtx",
   "metadata": {
    "colab": {
     "base_uri": "https://localhost:8080/",
     "height": 638
    },
    "id": "A2O31nJoTxtx",
    "outputId": "15f10877-0270-416f-a167-1393e4a399c4"
   },
   "outputs": [
    {
     "data": {
      "text/html": [
       "<div>\n",
       "<style scoped>\n",
       "    .dataframe tbody tr th:only-of-type {\n",
       "        vertical-align: middle;\n",
       "    }\n",
       "\n",
       "    .dataframe tbody tr th {\n",
       "        vertical-align: top;\n",
       "    }\n",
       "\n",
       "    .dataframe thead th {\n",
       "        text-align: right;\n",
       "    }\n",
       "</style>\n",
       "<table border=\"1\" class=\"dataframe\">\n",
       "  <thead>\n",
       "    <tr style=\"text-align: right;\">\n",
       "      <th></th>\n",
       "      <th></th>\n",
       "      <th>count</th>\n",
       "      <th>mean</th>\n",
       "      <th>std</th>\n",
       "      <th>min</th>\n",
       "      <th>25%</th>\n",
       "      <th>50%</th>\n",
       "      <th>75%</th>\n",
       "      <th>max</th>\n",
       "    </tr>\n",
       "    <tr>\n",
       "      <th>title</th>\n",
       "      <th>Sex</th>\n",
       "      <th></th>\n",
       "      <th></th>\n",
       "      <th></th>\n",
       "      <th></th>\n",
       "      <th></th>\n",
       "      <th></th>\n",
       "      <th></th>\n",
       "      <th></th>\n",
       "    </tr>\n",
       "  </thead>\n",
       "  <tbody>\n",
       "    <tr>\n",
       "      <th>Rev</th>\n",
       "      <th>male</th>\n",
       "      <td>6.0</td>\n",
       "      <td>43.166667</td>\n",
       "      <td>13.136463</td>\n",
       "      <td>27.00</td>\n",
       "      <td>31.500</td>\n",
       "      <td>46.5</td>\n",
       "      <td>53.25</td>\n",
       "      <td>57.0</td>\n",
       "    </tr>\n",
       "    <tr>\n",
       "      <th>Miss</th>\n",
       "      <th>female</th>\n",
       "      <td>146.0</td>\n",
       "      <td>21.773973</td>\n",
       "      <td>12.990292</td>\n",
       "      <td>0.75</td>\n",
       "      <td>14.125</td>\n",
       "      <td>21.0</td>\n",
       "      <td>30.00</td>\n",
       "      <td>63.0</td>\n",
       "    </tr>\n",
       "    <tr>\n",
       "      <th>Dr</th>\n",
       "      <th>male</th>\n",
       "      <td>5.0</td>\n",
       "      <td>40.600000</td>\n",
       "      <td>12.876335</td>\n",
       "      <td>23.00</td>\n",
       "      <td>32.000</td>\n",
       "      <td>44.0</td>\n",
       "      <td>50.00</td>\n",
       "      <td>54.0</td>\n",
       "    </tr>\n",
       "    <tr>\n",
       "      <th>Mr</th>\n",
       "      <th>male</th>\n",
       "      <td>398.0</td>\n",
       "      <td>32.368090</td>\n",
       "      <td>12.708793</td>\n",
       "      <td>11.00</td>\n",
       "      <td>23.000</td>\n",
       "      <td>30.0</td>\n",
       "      <td>39.00</td>\n",
       "      <td>80.0</td>\n",
       "    </tr>\n",
       "    <tr>\n",
       "      <th>Mrs</th>\n",
       "      <th>female</th>\n",
       "      <td>108.0</td>\n",
       "      <td>35.898148</td>\n",
       "      <td>11.433628</td>\n",
       "      <td>14.00</td>\n",
       "      <td>27.750</td>\n",
       "      <td>35.0</td>\n",
       "      <td>44.00</td>\n",
       "      <td>63.0</td>\n",
       "    </tr>\n",
       "    <tr>\n",
       "      <th>Major</th>\n",
       "      <th>male</th>\n",
       "      <td>2.0</td>\n",
       "      <td>48.500000</td>\n",
       "      <td>4.949747</td>\n",
       "      <td>45.00</td>\n",
       "      <td>46.750</td>\n",
       "      <td>48.5</td>\n",
       "      <td>50.25</td>\n",
       "      <td>52.0</td>\n",
       "    </tr>\n",
       "    <tr>\n",
       "      <th>Master</th>\n",
       "      <th>male</th>\n",
       "      <td>36.0</td>\n",
       "      <td>4.574167</td>\n",
       "      <td>3.619872</td>\n",
       "      <td>0.42</td>\n",
       "      <td>1.000</td>\n",
       "      <td>3.5</td>\n",
       "      <td>8.00</td>\n",
       "      <td>12.0</td>\n",
       "    </tr>\n",
       "    <tr>\n",
       "      <th>Col</th>\n",
       "      <th>male</th>\n",
       "      <td>2.0</td>\n",
       "      <td>58.000000</td>\n",
       "      <td>2.828427</td>\n",
       "      <td>56.00</td>\n",
       "      <td>57.000</td>\n",
       "      <td>58.0</td>\n",
       "      <td>59.00</td>\n",
       "      <td>60.0</td>\n",
       "    </tr>\n",
       "    <tr>\n",
       "      <th>Mlle</th>\n",
       "      <th>female</th>\n",
       "      <td>2.0</td>\n",
       "      <td>24.000000</td>\n",
       "      <td>0.000000</td>\n",
       "      <td>24.00</td>\n",
       "      <td>24.000</td>\n",
       "      <td>24.0</td>\n",
       "      <td>24.00</td>\n",
       "      <td>24.0</td>\n",
       "    </tr>\n",
       "    <tr>\n",
       "      <th>Capt</th>\n",
       "      <th>male</th>\n",
       "      <td>1.0</td>\n",
       "      <td>70.000000</td>\n",
       "      <td>NaN</td>\n",
       "      <td>70.00</td>\n",
       "      <td>70.000</td>\n",
       "      <td>70.0</td>\n",
       "      <td>70.00</td>\n",
       "      <td>70.0</td>\n",
       "    </tr>\n",
       "    <tr>\n",
       "      <th>Don</th>\n",
       "      <th>male</th>\n",
       "      <td>1.0</td>\n",
       "      <td>40.000000</td>\n",
       "      <td>NaN</td>\n",
       "      <td>40.00</td>\n",
       "      <td>40.000</td>\n",
       "      <td>40.0</td>\n",
       "      <td>40.00</td>\n",
       "      <td>40.0</td>\n",
       "    </tr>\n",
       "    <tr>\n",
       "      <th>Dr</th>\n",
       "      <th>female</th>\n",
       "      <td>1.0</td>\n",
       "      <td>49.000000</td>\n",
       "      <td>NaN</td>\n",
       "      <td>49.00</td>\n",
       "      <td>49.000</td>\n",
       "      <td>49.0</td>\n",
       "      <td>49.00</td>\n",
       "      <td>49.0</td>\n",
       "    </tr>\n",
       "    <tr>\n",
       "      <th>Jonkheer</th>\n",
       "      <th>male</th>\n",
       "      <td>1.0</td>\n",
       "      <td>38.000000</td>\n",
       "      <td>NaN</td>\n",
       "      <td>38.00</td>\n",
       "      <td>38.000</td>\n",
       "      <td>38.0</td>\n",
       "      <td>38.00</td>\n",
       "      <td>38.0</td>\n",
       "    </tr>\n",
       "    <tr>\n",
       "      <th>Lady</th>\n",
       "      <th>female</th>\n",
       "      <td>1.0</td>\n",
       "      <td>48.000000</td>\n",
       "      <td>NaN</td>\n",
       "      <td>48.00</td>\n",
       "      <td>48.000</td>\n",
       "      <td>48.0</td>\n",
       "      <td>48.00</td>\n",
       "      <td>48.0</td>\n",
       "    </tr>\n",
       "    <tr>\n",
       "      <th>Mme</th>\n",
       "      <th>female</th>\n",
       "      <td>1.0</td>\n",
       "      <td>24.000000</td>\n",
       "      <td>NaN</td>\n",
       "      <td>24.00</td>\n",
       "      <td>24.000</td>\n",
       "      <td>24.0</td>\n",
       "      <td>24.00</td>\n",
       "      <td>24.0</td>\n",
       "    </tr>\n",
       "    <tr>\n",
       "      <th>Ms</th>\n",
       "      <th>female</th>\n",
       "      <td>1.0</td>\n",
       "      <td>28.000000</td>\n",
       "      <td>NaN</td>\n",
       "      <td>28.00</td>\n",
       "      <td>28.000</td>\n",
       "      <td>28.0</td>\n",
       "      <td>28.00</td>\n",
       "      <td>28.0</td>\n",
       "    </tr>\n",
       "    <tr>\n",
       "      <th>Sir</th>\n",
       "      <th>male</th>\n",
       "      <td>1.0</td>\n",
       "      <td>49.000000</td>\n",
       "      <td>NaN</td>\n",
       "      <td>49.00</td>\n",
       "      <td>49.000</td>\n",
       "      <td>49.0</td>\n",
       "      <td>49.00</td>\n",
       "      <td>49.0</td>\n",
       "    </tr>\n",
       "    <tr>\n",
       "      <th>the Countess</th>\n",
       "      <th>female</th>\n",
       "      <td>1.0</td>\n",
       "      <td>33.000000</td>\n",
       "      <td>NaN</td>\n",
       "      <td>33.00</td>\n",
       "      <td>33.000</td>\n",
       "      <td>33.0</td>\n",
       "      <td>33.00</td>\n",
       "      <td>33.0</td>\n",
       "    </tr>\n",
       "  </tbody>\n",
       "</table>\n",
       "</div>"
      ],
      "text/plain": [
       "                     count       mean        std    min     25%   50%    75%  \\\n",
       "title        Sex                                                               \n",
       "Rev          male      6.0  43.166667  13.136463  27.00  31.500  46.5  53.25   \n",
       "Miss         female  146.0  21.773973  12.990292   0.75  14.125  21.0  30.00   \n",
       "Dr           male      5.0  40.600000  12.876335  23.00  32.000  44.0  50.00   \n",
       "Mr           male    398.0  32.368090  12.708793  11.00  23.000  30.0  39.00   \n",
       "Mrs          female  108.0  35.898148  11.433628  14.00  27.750  35.0  44.00   \n",
       "Major        male      2.0  48.500000   4.949747  45.00  46.750  48.5  50.25   \n",
       "Master       male     36.0   4.574167   3.619872   0.42   1.000   3.5   8.00   \n",
       "Col          male      2.0  58.000000   2.828427  56.00  57.000  58.0  59.00   \n",
       "Mlle         female    2.0  24.000000   0.000000  24.00  24.000  24.0  24.00   \n",
       "Capt         male      1.0  70.000000        NaN  70.00  70.000  70.0  70.00   \n",
       "Don          male      1.0  40.000000        NaN  40.00  40.000  40.0  40.00   \n",
       "Dr           female    1.0  49.000000        NaN  49.00  49.000  49.0  49.00   \n",
       "Jonkheer     male      1.0  38.000000        NaN  38.00  38.000  38.0  38.00   \n",
       "Lady         female    1.0  48.000000        NaN  48.00  48.000  48.0  48.00   \n",
       "Mme          female    1.0  24.000000        NaN  24.00  24.000  24.0  24.00   \n",
       "Ms           female    1.0  28.000000        NaN  28.00  28.000  28.0  28.00   \n",
       "Sir          male      1.0  49.000000        NaN  49.00  49.000  49.0  49.00   \n",
       "the Countess female    1.0  33.000000        NaN  33.00  33.000  33.0  33.00   \n",
       "\n",
       "                      max  \n",
       "title        Sex           \n",
       "Rev          male    57.0  \n",
       "Miss         female  63.0  \n",
       "Dr           male    54.0  \n",
       "Mr           male    80.0  \n",
       "Mrs          female  63.0  \n",
       "Major        male    52.0  \n",
       "Master       male    12.0  \n",
       "Col          male    60.0  \n",
       "Mlle         female  24.0  \n",
       "Capt         male    70.0  \n",
       "Don          male    40.0  \n",
       "Dr           female  49.0  \n",
       "Jonkheer     male    38.0  \n",
       "Lady         female  48.0  \n",
       "Mme          female  24.0  \n",
       "Ms           female  28.0  \n",
       "Sir          male    49.0  \n",
       "the Countess female  33.0  "
      ]
     },
     "execution_count": 25,
     "metadata": {},
     "output_type": "execute_result"
    }
   ],
   "source": [
    "titanic.groupby(['title', 'Sex']).Age.describe().sort_values(by='std', ascending=False)"
   ]
  },
  {
   "cell_type": "code",
   "execution_count": 26,
   "id": "6V4-fVTniZWz",
   "metadata": {
    "id": "6V4-fVTniZWz"
   },
   "outputs": [],
   "source": [
    "pessoa_adulta = ['Rev', 'Dr', 'Mr', 'Major', 'Don', 'Jonkheer', 'Sir', 'Mrs', 'Lady', 'Ms', 'the Countess', 'Col', 'Capt']\n",
    "mulher_solteira = ['Miss', 'Mlle', 'Mme']\n",
    "menino_crianca = ['Master']"
   ]
  },
  {
   "cell_type": "code",
   "execution_count": 27,
   "id": "Y2iTCSJ6qqTP",
   "metadata": {
    "colab": {
     "base_uri": "https://localhost:8080/",
     "height": 238
    },
    "id": "Y2iTCSJ6qqTP",
    "outputId": "5b7f8a94-7e98-46b2-9764-e0740838b4b3"
   },
   "outputs": [
    {
     "data": {
      "text/html": [
       "<div>\n",
       "<style scoped>\n",
       "    .dataframe tbody tr th:only-of-type {\n",
       "        vertical-align: middle;\n",
       "    }\n",
       "\n",
       "    .dataframe tbody tr th {\n",
       "        vertical-align: top;\n",
       "    }\n",
       "\n",
       "    .dataframe thead th {\n",
       "        text-align: right;\n",
       "    }\n",
       "</style>\n",
       "<table border=\"1\" class=\"dataframe\">\n",
       "  <thead>\n",
       "    <tr style=\"text-align: right;\">\n",
       "      <th></th>\n",
       "      <th>PassengerId</th>\n",
       "      <th>Survived</th>\n",
       "      <th>Pclass</th>\n",
       "      <th>Name</th>\n",
       "      <th>Sex</th>\n",
       "      <th>Age</th>\n",
       "      <th>SibSp</th>\n",
       "      <th>Parch</th>\n",
       "      <th>Ticket</th>\n",
       "      <th>Fare</th>\n",
       "      <th>Floor</th>\n",
       "      <th>Embarked</th>\n",
       "      <th>title</th>\n",
       "      <th>Relateds</th>\n",
       "      <th>faixa</th>\n",
       "    </tr>\n",
       "  </thead>\n",
       "  <tbody>\n",
       "    <tr>\n",
       "      <th>0</th>\n",
       "      <td>1</td>\n",
       "      <td>0</td>\n",
       "      <td>3</td>\n",
       "      <td>Braund, Mr. Owen Harris</td>\n",
       "      <td>male</td>\n",
       "      <td>22.0</td>\n",
       "      <td>1</td>\n",
       "      <td>0</td>\n",
       "      <td>A/5 21171</td>\n",
       "      <td>7.2500</td>\n",
       "      <td>NaN</td>\n",
       "      <td>S</td>\n",
       "      <td>Mr</td>\n",
       "      <td>1</td>\n",
       "      <td>pessoa_adulta</td>\n",
       "    </tr>\n",
       "    <tr>\n",
       "      <th>1</th>\n",
       "      <td>2</td>\n",
       "      <td>1</td>\n",
       "      <td>1</td>\n",
       "      <td>Cumings, Mrs. John Bradley (Florence Briggs Th...</td>\n",
       "      <td>female</td>\n",
       "      <td>38.0</td>\n",
       "      <td>1</td>\n",
       "      <td>0</td>\n",
       "      <td>PC 17599</td>\n",
       "      <td>71.2833</td>\n",
       "      <td>C</td>\n",
       "      <td>C</td>\n",
       "      <td>Mrs</td>\n",
       "      <td>1</td>\n",
       "      <td>pessoa_adulta</td>\n",
       "    </tr>\n",
       "    <tr>\n",
       "      <th>2</th>\n",
       "      <td>3</td>\n",
       "      <td>1</td>\n",
       "      <td>3</td>\n",
       "      <td>Heikkinen, Miss. Laina</td>\n",
       "      <td>female</td>\n",
       "      <td>26.0</td>\n",
       "      <td>0</td>\n",
       "      <td>0</td>\n",
       "      <td>STON/O2. 3101282</td>\n",
       "      <td>7.9250</td>\n",
       "      <td>NaN</td>\n",
       "      <td>S</td>\n",
       "      <td>Miss</td>\n",
       "      <td>0</td>\n",
       "      <td>mulher_solteira</td>\n",
       "    </tr>\n",
       "    <tr>\n",
       "      <th>3</th>\n",
       "      <td>4</td>\n",
       "      <td>1</td>\n",
       "      <td>1</td>\n",
       "      <td>Futrelle, Mrs. Jacques Heath (Lily May Peel)</td>\n",
       "      <td>female</td>\n",
       "      <td>35.0</td>\n",
       "      <td>1</td>\n",
       "      <td>0</td>\n",
       "      <td>113803</td>\n",
       "      <td>53.1000</td>\n",
       "      <td>C</td>\n",
       "      <td>S</td>\n",
       "      <td>Mrs</td>\n",
       "      <td>1</td>\n",
       "      <td>pessoa_adulta</td>\n",
       "    </tr>\n",
       "    <tr>\n",
       "      <th>4</th>\n",
       "      <td>5</td>\n",
       "      <td>0</td>\n",
       "      <td>3</td>\n",
       "      <td>Allen, Mr. William Henry</td>\n",
       "      <td>male</td>\n",
       "      <td>35.0</td>\n",
       "      <td>0</td>\n",
       "      <td>0</td>\n",
       "      <td>373450</td>\n",
       "      <td>8.0500</td>\n",
       "      <td>NaN</td>\n",
       "      <td>S</td>\n",
       "      <td>Mr</td>\n",
       "      <td>0</td>\n",
       "      <td>pessoa_adulta</td>\n",
       "    </tr>\n",
       "  </tbody>\n",
       "</table>\n",
       "</div>"
      ],
      "text/plain": [
       "   PassengerId  Survived  Pclass  \\\n",
       "0            1         0       3   \n",
       "1            2         1       1   \n",
       "2            3         1       3   \n",
       "3            4         1       1   \n",
       "4            5         0       3   \n",
       "\n",
       "                                                Name     Sex   Age  SibSp  \\\n",
       "0                            Braund, Mr. Owen Harris    male  22.0      1   \n",
       "1  Cumings, Mrs. John Bradley (Florence Briggs Th...  female  38.0      1   \n",
       "2                             Heikkinen, Miss. Laina  female  26.0      0   \n",
       "3       Futrelle, Mrs. Jacques Heath (Lily May Peel)  female  35.0      1   \n",
       "4                           Allen, Mr. William Henry    male  35.0      0   \n",
       "\n",
       "   Parch            Ticket     Fare Floor Embarked title  Relateds  \\\n",
       "0      0         A/5 21171   7.2500   NaN        S    Mr         1   \n",
       "1      0          PC 17599  71.2833     C        C   Mrs         1   \n",
       "2      0  STON/O2. 3101282   7.9250   NaN        S  Miss         0   \n",
       "3      0            113803  53.1000     C        S   Mrs         1   \n",
       "4      0            373450   8.0500   NaN        S    Mr         0   \n",
       "\n",
       "             faixa  \n",
       "0    pessoa_adulta  \n",
       "1    pessoa_adulta  \n",
       "2  mulher_solteira  \n",
       "3    pessoa_adulta  \n",
       "4    pessoa_adulta  "
      ]
     },
     "execution_count": 27,
     "metadata": {},
     "output_type": "execute_result"
    }
   ],
   "source": [
    "faixa_etaria = []\n",
    "for title in titanic['title']:\n",
    "  if (title in menino_crianca):\n",
    "    faixa_etaria.append('menino_crianca')\n",
    "  elif (title in mulher_solteira):\n",
    "    faixa_etaria.append('mulher_solteira')\n",
    "  else:\n",
    "    faixa_etaria.append('pessoa_adulta')\n",
    "\n",
    "titanic['faixa'] = faixa_etaria\n",
    "titanic.head(5)"
   ]
  },
  {
   "cell_type": "code",
   "execution_count": 28,
   "id": "7Ep7s4Rpwn5v",
   "metadata": {
    "colab": {
     "base_uri": "https://localhost:8080/",
     "height": 173
    },
    "id": "7Ep7s4Rpwn5v",
    "outputId": "6bf2b9c8-efab-4a41-aba4-db11ac5816ef"
   },
   "outputs": [
    {
     "data": {
      "text/html": [
       "<div>\n",
       "<style scoped>\n",
       "    .dataframe tbody tr th:only-of-type {\n",
       "        vertical-align: middle;\n",
       "    }\n",
       "\n",
       "    .dataframe tbody tr th {\n",
       "        vertical-align: top;\n",
       "    }\n",
       "\n",
       "    .dataframe thead th {\n",
       "        text-align: right;\n",
       "    }\n",
       "</style>\n",
       "<table border=\"1\" class=\"dataframe\">\n",
       "  <thead>\n",
       "    <tr style=\"text-align: right;\">\n",
       "      <th></th>\n",
       "      <th>count</th>\n",
       "      <th>mean</th>\n",
       "      <th>std</th>\n",
       "      <th>min</th>\n",
       "      <th>25%</th>\n",
       "      <th>50%</th>\n",
       "      <th>75%</th>\n",
       "      <th>max</th>\n",
       "    </tr>\n",
       "    <tr>\n",
       "      <th>faixa</th>\n",
       "      <th></th>\n",
       "      <th></th>\n",
       "      <th></th>\n",
       "      <th></th>\n",
       "      <th></th>\n",
       "      <th></th>\n",
       "      <th></th>\n",
       "      <th></th>\n",
       "    </tr>\n",
       "  </thead>\n",
       "  <tbody>\n",
       "    <tr>\n",
       "      <th>menino_crianca</th>\n",
       "      <td>36.0</td>\n",
       "      <td>4.574167</td>\n",
       "      <td>3.619872</td>\n",
       "      <td>0.42</td>\n",
       "      <td>1.0</td>\n",
       "      <td>3.5</td>\n",
       "      <td>8.0</td>\n",
       "      <td>12.0</td>\n",
       "    </tr>\n",
       "    <tr>\n",
       "      <th>mulher_solteira</th>\n",
       "      <td>149.0</td>\n",
       "      <td>21.818792</td>\n",
       "      <td>12.861787</td>\n",
       "      <td>0.75</td>\n",
       "      <td>14.5</td>\n",
       "      <td>21.0</td>\n",
       "      <td>30.0</td>\n",
       "      <td>63.0</td>\n",
       "    </tr>\n",
       "    <tr>\n",
       "      <th>pessoa_adulta</th>\n",
       "      <td>529.0</td>\n",
       "      <td>33.628544</td>\n",
       "      <td>12.715473</td>\n",
       "      <td>11.00</td>\n",
       "      <td>24.0</td>\n",
       "      <td>31.0</td>\n",
       "      <td>42.0</td>\n",
       "      <td>80.0</td>\n",
       "    </tr>\n",
       "  </tbody>\n",
       "</table>\n",
       "</div>"
      ],
      "text/plain": [
       "                 count       mean        std    min   25%   50%   75%   max\n",
       "faixa                                                                      \n",
       "menino_crianca    36.0   4.574167   3.619872   0.42   1.0   3.5   8.0  12.0\n",
       "mulher_solteira  149.0  21.818792  12.861787   0.75  14.5  21.0  30.0  63.0\n",
       "pessoa_adulta    529.0  33.628544  12.715473  11.00  24.0  31.0  42.0  80.0"
      ]
     },
     "execution_count": 28,
     "metadata": {},
     "output_type": "execute_result"
    }
   ],
   "source": [
    "por_faixa = titanic.groupby(['faixa']).Age.describe()\n",
    "por_faixa"
   ]
  },
  {
   "cell_type": "code",
   "execution_count": 29,
   "id": "2MY-FLBwrk6D",
   "metadata": {
    "colab": {
     "base_uri": "https://localhost:8080/"
    },
    "id": "2MY-FLBwrk6D",
    "outputId": "88ec56f4-4c6e-4477-821c-e1721ac4c091"
   },
   "outputs": [
    {
     "data": {
      "text/plain": [
       "Index(['PassengerId', 'Survived', 'Pclass', 'Name', 'Sex', 'Age', 'SibSp',\n",
       "       'Parch', 'Ticket', 'Fare', 'Floor', 'Embarked', 'title', 'Relateds',\n",
       "       'faixa'],\n",
       "      dtype='object')"
      ]
     },
     "execution_count": 29,
     "metadata": {},
     "output_type": "execute_result"
    }
   ],
   "source": [
    "titanic.columns"
   ]
  },
  {
   "cell_type": "code",
   "execution_count": 30,
   "id": "2VWOYOMsrTVL",
   "metadata": {
    "colab": {
     "base_uri": "https://localhost:8080/",
     "height": 224
    },
    "id": "2VWOYOMsrTVL",
    "outputId": "ea43f6c6-be6f-429f-dcf1-ba4af320174e"
   },
   "outputs": [
    {
     "data": {
      "text/html": [
       "<div>\n",
       "<style scoped>\n",
       "    .dataframe tbody tr th:only-of-type {\n",
       "        vertical-align: middle;\n",
       "    }\n",
       "\n",
       "    .dataframe tbody tr th {\n",
       "        vertical-align: top;\n",
       "    }\n",
       "\n",
       "    .dataframe thead tr th {\n",
       "        text-align: left;\n",
       "    }\n",
       "\n",
       "    .dataframe thead tr:last-of-type th {\n",
       "        text-align: right;\n",
       "    }\n",
       "</style>\n",
       "<table border=\"1\" class=\"dataframe\">\n",
       "  <thead>\n",
       "    <tr>\n",
       "      <th></th>\n",
       "      <th colspan=\"8\" halign=\"left\">PassengerId</th>\n",
       "      <th colspan=\"2\" halign=\"left\">Survived</th>\n",
       "      <th>...</th>\n",
       "      <th colspan=\"2\" halign=\"left\">Fare</th>\n",
       "      <th colspan=\"8\" halign=\"left\">Relateds</th>\n",
       "    </tr>\n",
       "    <tr>\n",
       "      <th></th>\n",
       "      <th>count</th>\n",
       "      <th>mean</th>\n",
       "      <th>std</th>\n",
       "      <th>min</th>\n",
       "      <th>25%</th>\n",
       "      <th>50%</th>\n",
       "      <th>75%</th>\n",
       "      <th>max</th>\n",
       "      <th>count</th>\n",
       "      <th>mean</th>\n",
       "      <th>...</th>\n",
       "      <th>75%</th>\n",
       "      <th>max</th>\n",
       "      <th>count</th>\n",
       "      <th>mean</th>\n",
       "      <th>std</th>\n",
       "      <th>min</th>\n",
       "      <th>25%</th>\n",
       "      <th>50%</th>\n",
       "      <th>75%</th>\n",
       "      <th>max</th>\n",
       "    </tr>\n",
       "    <tr>\n",
       "      <th>faixa</th>\n",
       "      <th></th>\n",
       "      <th></th>\n",
       "      <th></th>\n",
       "      <th></th>\n",
       "      <th></th>\n",
       "      <th></th>\n",
       "      <th></th>\n",
       "      <th></th>\n",
       "      <th></th>\n",
       "      <th></th>\n",
       "      <th></th>\n",
       "      <th></th>\n",
       "      <th></th>\n",
       "      <th></th>\n",
       "      <th></th>\n",
       "      <th></th>\n",
       "      <th></th>\n",
       "      <th></th>\n",
       "      <th></th>\n",
       "      <th></th>\n",
       "      <th></th>\n",
       "    </tr>\n",
       "  </thead>\n",
       "  <tbody>\n",
       "    <tr>\n",
       "      <th>menino_crianca</th>\n",
       "      <td>4.0</td>\n",
       "      <td>278.250000</td>\n",
       "      <td>291.943345</td>\n",
       "      <td>66.0</td>\n",
       "      <td>136.5</td>\n",
       "      <td>168.5</td>\n",
       "      <td>310.25</td>\n",
       "      <td>710.0</td>\n",
       "      <td>4.0</td>\n",
       "      <td>0.500000</td>\n",
       "      <td>...</td>\n",
       "      <td>36.487525</td>\n",
       "      <td>69.5500</td>\n",
       "      <td>4.0</td>\n",
       "      <td>4.500000</td>\n",
       "      <td>3.785939</td>\n",
       "      <td>2.0</td>\n",
       "      <td>2.0</td>\n",
       "      <td>3.0</td>\n",
       "      <td>5.5</td>\n",
       "      <td>10.0</td>\n",
       "    </tr>\n",
       "    <tr>\n",
       "      <th>mulher_solteira</th>\n",
       "      <td>36.0</td>\n",
       "      <td>396.694444</td>\n",
       "      <td>242.895841</td>\n",
       "      <td>29.0</td>\n",
       "      <td>234.5</td>\n",
       "      <td>345.0</td>\n",
       "      <td>594.75</td>\n",
       "      <td>889.0</td>\n",
       "      <td>36.0</td>\n",
       "      <td>0.611111</td>\n",
       "      <td>...</td>\n",
       "      <td>23.625000</td>\n",
       "      <td>110.8833</td>\n",
       "      <td>36.0</td>\n",
       "      <td>1.527778</td>\n",
       "      <td>2.873386</td>\n",
       "      <td>0.0</td>\n",
       "      <td>0.0</td>\n",
       "      <td>0.0</td>\n",
       "      <td>2.0</td>\n",
       "      <td>10.0</td>\n",
       "    </tr>\n",
       "    <tr>\n",
       "      <th>pessoa_adulta</th>\n",
       "      <td>137.0</td>\n",
       "      <td>450.394161</td>\n",
       "      <td>250.654448</td>\n",
       "      <td>6.0</td>\n",
       "      <td>257.0</td>\n",
       "      <td>467.0</td>\n",
       "      <td>644.00</td>\n",
       "      <td>879.0</td>\n",
       "      <td>137.0</td>\n",
       "      <td>0.204380</td>\n",
       "      <td>...</td>\n",
       "      <td>24.150000</td>\n",
       "      <td>227.5250</td>\n",
       "      <td>137.0</td>\n",
       "      <td>0.430657</td>\n",
       "      <td>1.528146</td>\n",
       "      <td>0.0</td>\n",
       "      <td>0.0</td>\n",
       "      <td>0.0</td>\n",
       "      <td>0.0</td>\n",
       "      <td>10.0</td>\n",
       "    </tr>\n",
       "  </tbody>\n",
       "</table>\n",
       "<p>3 rows × 64 columns</p>\n",
       "</div>"
      ],
      "text/plain": [
       "                PassengerId                                              \\\n",
       "                      count        mean         std   min    25%    50%   \n",
       "faixa                                                                     \n",
       "menino_crianca          4.0  278.250000  291.943345  66.0  136.5  168.5   \n",
       "mulher_solteira        36.0  396.694444  242.895841  29.0  234.5  345.0   \n",
       "pessoa_adulta         137.0  450.394161  250.654448   6.0  257.0  467.0   \n",
       "\n",
       "                               Survived            ...       Fare            \\\n",
       "                    75%    max    count      mean  ...        75%       max   \n",
       "faixa                                              ...                        \n",
       "menino_crianca   310.25  710.0      4.0  0.500000  ...  36.487525   69.5500   \n",
       "mulher_solteira  594.75  889.0     36.0  0.611111  ...  23.625000  110.8833   \n",
       "pessoa_adulta    644.00  879.0    137.0  0.204380  ...  24.150000  227.5250   \n",
       "\n",
       "                Relateds                                                \n",
       "                   count      mean       std  min  25%  50%  75%   max  \n",
       "faixa                                                                   \n",
       "menino_crianca       4.0  4.500000  3.785939  2.0  2.0  3.0  5.5  10.0  \n",
       "mulher_solteira     36.0  1.527778  2.873386  0.0  0.0  0.0  2.0  10.0  \n",
       "pessoa_adulta      137.0  0.430657  1.528146  0.0  0.0  0.0  0.0  10.0  \n",
       "\n",
       "[3 rows x 64 columns]"
      ]
     },
     "execution_count": 30,
     "metadata": {},
     "output_type": "execute_result"
    }
   ],
   "source": [
    "sem_idade = titanic.query(\"Age.isnull().values\")\n",
    "sem_idade.groupby(['faixa']).describe()"
   ]
  },
  {
   "cell_type": "code",
   "execution_count": 31,
   "id": "WRKr0QMxQg8Y",
   "metadata": {
    "id": "WRKr0QMxQg8Y"
   },
   "outputs": [],
   "source": [
    "def preenche_idade_por_faixa(nome_faixa):\n",
    "  mc = por_faixa.query(f\"faixa == '{nome_faixa}'\")\n",
    "  i = int((mc['mean'] - (mc['std'])).values[0] + 1)\n",
    "  f = int((mc['mean'] + (mc['std'])).values[0] - 1)\n",
    "  n = len(titanic.loc[(titanic.Age.isnull()) & (titanic.faixa == nome_faixa)])\n",
    "  values = np.random.randint(i, f, n)\n",
    "  titanic.loc[(titanic.Age.isnull()) & (titanic.faixa == nome_faixa), 'Age'] = values"
   ]
  },
  {
   "cell_type": "code",
   "execution_count": 32,
   "id": "fZCLIj78wdaw",
   "metadata": {
    "id": "fZCLIj78wdaw"
   },
   "outputs": [],
   "source": [
    "preenche_idade_por_faixa('menino_crianca')\n",
    "preenche_idade_por_faixa('mulher_solteira')\n",
    "preenche_idade_por_faixa('pessoa_adulta')"
   ]
  },
  {
   "cell_type": "code",
   "execution_count": 33,
   "id": "EOnSIhTdymNm",
   "metadata": {
    "colab": {
     "base_uri": "https://localhost:8080/"
    },
    "id": "EOnSIhTdymNm",
    "outputId": "4d5dc0df-7c00-4eaa-c3b0-6e13ff178ae1"
   },
   "outputs": [
    {
     "data": {
      "text/plain": [
       "PassengerId      0\n",
       "Survived         0\n",
       "Pclass           0\n",
       "Name             0\n",
       "Sex              0\n",
       "Age              0\n",
       "SibSp            0\n",
       "Parch            0\n",
       "Ticket           0\n",
       "Fare             0\n",
       "Floor          687\n",
       "Embarked         2\n",
       "title            0\n",
       "Relateds         0\n",
       "faixa            0\n",
       "dtype: int64"
      ]
     },
     "execution_count": 33,
     "metadata": {},
     "output_type": "execute_result"
    }
   ],
   "source": [
    "titanic.isna().sum()"
   ]
  },
  {
   "cell_type": "markdown",
   "id": "zKNxiU8tUc2i",
   "metadata": {
    "id": "zKNxiU8tUc2i"
   },
   "source": [
    "Alterando as idades para o valor inteiro, pois os decimais das idades das crianças menores de um ano não tem grande relevância."
   ]
  },
  {
   "cell_type": "code",
   "execution_count": 34,
   "id": "TfysmnHaUDBY",
   "metadata": {
    "id": "TfysmnHaUDBY"
   },
   "outputs": [],
   "source": [
    "titanic['Age'] = titanic['Age'].astype(int)"
   ]
  },
  {
   "cell_type": "code",
   "execution_count": 35,
   "id": "jG8PDSDTBW-K",
   "metadata": {
    "colab": {
     "base_uri": "https://localhost:8080/"
    },
    "id": "jG8PDSDTBW-K",
    "outputId": "9a85bdaf-cb0b-4399-b481-0bfaffcf80ba"
   },
   "outputs": [
    {
     "data": {
      "text/plain": [
       "array([22, 38, 26, 35, 33, 54,  2, 27, 14,  4, 58, 20, 39, 55, 24, 31, 43,\n",
       "       34, 15, 28,  8, 19, 12, 40, 23, 66, 42, 21, 18,  3, 32, 44, 16,  7,\n",
       "       49, 29, 65,  5, 11, 45,  6, 17, 25,  0, 30, 41, 46, 59, 71, 37, 47,\n",
       "       70, 13,  9, 36, 51,  1, 61, 56, 50, 62, 52, 63, 60, 10, 64, 48, 53,\n",
       "       57, 80, 74])"
      ]
     },
     "execution_count": 35,
     "metadata": {},
     "output_type": "execute_result"
    }
   ],
   "source": [
    "titanic.Age.unique()"
   ]
  },
  {
   "cell_type": "markdown",
   "id": "lBF9IfnOzTZ8",
   "metadata": {
    "id": "lBF9IfnOzTZ8"
   },
   "source": [
    "Baseado em todas as análises, dividindo pelas possíveis faixas etárias, foram atribuídas as idades baseada no intervalo `[STD - MD, MD, STD + MD]` de forma aleatória."
   ]
  },
  {
   "cell_type": "markdown",
   "id": "EK6tVh_UWY-a",
   "metadata": {
    "id": "EK6tVh_UWY-a"
   },
   "source": [
    "### Floor\n",
    "\n",
    "Contém a primeira letra dos dados inicialmente identificados como `Cabin`. O propósito é tentar identificar alguma relação que permita utilizar essa coluna como relevante de alguma forma."
   ]
  },
  {
   "cell_type": "markdown",
   "id": "DwGvAtIjWmef",
   "metadata": {
    "id": "DwGvAtIjWmef"
   },
   "source": [
    "Para isso, vamos criar uma coluna `possui_cabine` para identificar e comparar os registros com e sem cabine informada e identificar se o ato de informar ou não tem alguma relevância nos dados."
   ]
  },
  {
   "cell_type": "code",
   "execution_count": 36,
   "id": "hg7A7jYiW_hj",
   "metadata": {
    "id": "hg7A7jYiW_hj"
   },
   "outputs": [],
   "source": [
    "titanic['possui_cabine'] = titanic['Floor'].notnull()"
   ]
  },
  {
   "cell_type": "code",
   "execution_count": 37,
   "id": "0-ahdJIAXtqQ",
   "metadata": {
    "id": "0-ahdJIAXtqQ"
   },
   "outputs": [],
   "source": [
    "com_cabine = titanic[titanic['possui_cabine'] == True]\n",
    "sem_cabine = titanic[titanic['possui_cabine'] == False]"
   ]
  },
  {
   "cell_type": "markdown",
   "id": "q5EOkrTyX4jn",
   "metadata": {
    "id": "q5EOkrTyX4jn"
   },
   "source": [
    "#### Comparando o andar com a classe"
   ]
  },
  {
   "cell_type": "code",
   "execution_count": 38,
   "id": "diEsHrxBX96M",
   "metadata": {
    "colab": {
     "base_uri": "https://localhost:8080/"
    },
    "id": "diEsHrxBX96M",
    "outputId": "8d368005-40aa-47bf-e485-8871575d8d4b"
   },
   "outputs": [
    {
     "data": {
      "text/plain": [
       "Index(['PassengerId', 'Survived', 'Pclass', 'Name', 'Sex', 'Age', 'SibSp',\n",
       "       'Parch', 'Ticket', 'Fare', 'Floor', 'Embarked', 'title', 'Relateds',\n",
       "       'faixa', 'possui_cabine'],\n",
       "      dtype='object')"
      ]
     },
     "execution_count": 38,
     "metadata": {},
     "output_type": "execute_result"
    }
   ],
   "source": [
    "titanic.columns"
   ]
  },
  {
   "cell_type": "code",
   "execution_count": 39,
   "id": "ubPhXIZwZTYx",
   "metadata": {
    "colab": {
     "base_uri": "https://localhost:8080/"
    },
    "id": "ubPhXIZwZTYx",
    "outputId": "9ab30c9f-edae-431d-83a9-fef1e5446ceb"
   },
   "outputs": [
    {
     "data": {
      "text/plain": [
       "array([3, 1, 2], dtype=int64)"
      ]
     },
     "execution_count": 39,
     "metadata": {},
     "output_type": "execute_result"
    }
   ],
   "source": [
    "titanic.Pclass.unique()"
   ]
  },
  {
   "cell_type": "code",
   "execution_count": 40,
   "id": "jbPg91E7X8Gz",
   "metadata": {
    "colab": {
     "base_uri": "https://localhost:8080/",
     "height": 437
    },
    "id": "jbPg91E7X8Gz",
    "outputId": "5601471c-81f2-4c93-b415-566eaaabb630"
   },
   "outputs": [
    {
     "data": {
      "image/png": "[encoded data removed]",
      "text/plain": [
       "<Figure size 864x432 with 2 Axes>"
      ]
     },
     "metadata": {},
     "output_type": "display_data"
    }
   ],
   "source": [
    "#sns.countplot(x='Pclass', data=com_cabine);\n",
    "sns.set(style='darkgrid')\n",
    "g = sns.FacetGrid(titanic, col=\"possui_cabine\", height=6)\n",
    "g.map(sns.countplot, \"Pclass\", order=[1, 2, 3]);"
   ]
  },
  {
   "cell_type": "markdown",
   "id": "d6k8sD8mZ_DL",
   "metadata": {
    "id": "d6k8sD8mZ_DL"
   },
   "source": [
    "Parece existir uma certa correlação entre a classe e ter ou não cabine registrada. A maior parte da primeira classe possui cabine registrada, enquanto uma minoria da terceira classe possui."
   ]
  },
  {
   "cell_type": "markdown",
   "id": "SRpMzjCea3K4",
   "metadata": {
    "id": "SRpMzjCea3K4"
   },
   "source": [
    "Considerando os andares, quantos sobreviveram por andar com relação a quantos tinham?"
   ]
  },
  {
   "cell_type": "code",
   "execution_count": 41,
   "id": "A7ugVwGQcIQa",
   "metadata": {
    "colab": {
     "base_uri": "https://localhost:8080/",
     "height": 448
    },
    "id": "A7ugVwGQcIQa",
    "outputId": "bed4ce8c-e93c-4330-fc5f-5a03d3484b5e"
   },
   "outputs": [
    {
     "data": {
      "image/png": "[encoded data removed]",
      "text/plain": [
       "<Figure size 864x504 with 1 Axes>"
      ]
     },
     "metadata": {},
     "output_type": "display_data"
    }
   ],
   "source": [
    "sns.countplot(x = 'Floor', hue='Survived', data=titanic);"
   ]
  },
  {
   "cell_type": "markdown",
   "id": "FPGphgqqcxnB",
   "metadata": {
    "id": "FPGphgqqcxnB"
   },
   "source": [
    "Parece existir realmente uma relação entre o andar e sobreviver, ainda que não seja muito relevante e possa acabar viciando os dados. Por hora vamos preencher todos os nulos com `SC`: _sem cabine_ para identificar que possivelmente eles não tinham realmente cabine."
   ]
  },
  {
   "cell_type": "code",
   "execution_count": 42,
   "id": "x9wST6DsdHpK",
   "metadata": {
    "colab": {
     "base_uri": "https://localhost:8080/"
    },
    "id": "x9wST6DsdHpK",
    "outputId": "3b77c4e0-d39e-49b8-95a1-5961823f3f82"
   },
   "outputs": [
    {
     "data": {
      "text/plain": [
       "PassengerId      0\n",
       "Survived         0\n",
       "Pclass           0\n",
       "Name             0\n",
       "Sex              0\n",
       "Age              0\n",
       "SibSp            0\n",
       "Parch            0\n",
       "Ticket           0\n",
       "Fare             0\n",
       "Floor            0\n",
       "Embarked         2\n",
       "title            0\n",
       "Relateds         0\n",
       "faixa            0\n",
       "possui_cabine    0\n",
       "dtype: int64"
      ]
     },
     "execution_count": 42,
     "metadata": {},
     "output_type": "execute_result"
    }
   ],
   "source": [
    "titanic.Floor.fillna('SC', inplace=True)\n",
    "titanic.isnull().sum()"
   ]
  },
  {
   "cell_type": "markdown",
   "id": "CWTjKuAgeB6b",
   "metadata": {
    "id": "CWTjKuAgeB6b"
   },
   "source": [
    "### Embarked\n",
    "\n",
    "Como para este caso existem apenas dois registros não informados vou preencher com o valor mais frequente para esta coluna."
   ]
  },
  {
   "cell_type": "code",
   "execution_count": 43,
   "id": "cWsNzY3QeL5W",
   "metadata": {
    "colab": {
     "base_uri": "https://localhost:8080/",
     "height": 448
    },
    "id": "cWsNzY3QeL5W",
    "outputId": "34023fbe-ff54-4307-a1e0-dd985a181ec0"
   },
   "outputs": [
    {
     "data": {
      "image/png": "[encoded data removed]",
      "text/plain": [
       "<Figure size 864x504 with 1 Axes>"
      ]
     },
     "metadata": {},
     "output_type": "display_data"
    }
   ],
   "source": [
    "sns.countplot(x = 'Embarked', data=titanic);"
   ]
  },
  {
   "cell_type": "code",
   "execution_count": 44,
   "id": "gpeXLzoseYse",
   "metadata": {
    "colab": {
     "base_uri": "https://localhost:8080/"
    },
    "id": "gpeXLzoseYse",
    "outputId": "1490d83e-a7d9-462d-d27f-6eca7633ebfe"
   },
   "outputs": [
    {
     "data": {
      "text/plain": [
       "PassengerId      0\n",
       "Survived         0\n",
       "Pclass           0\n",
       "Name             0\n",
       "Sex              0\n",
       "Age              0\n",
       "SibSp            0\n",
       "Parch            0\n",
       "Ticket           0\n",
       "Fare             0\n",
       "Floor            0\n",
       "Embarked         0\n",
       "title            0\n",
       "Relateds         0\n",
       "faixa            0\n",
       "possui_cabine    0\n",
       "dtype: int64"
      ]
     },
     "execution_count": 44,
     "metadata": {},
     "output_type": "execute_result"
    }
   ],
   "source": [
    "titanic.Embarked.fillna('S', inplace=True)\n",
    "titanic.isnull().sum()"
   ]
  },
  {
   "cell_type": "markdown",
   "id": "718ba268",
   "metadata": {
    "id": "718ba268"
   },
   "source": [
    "## Removendo colunas irrelevantes"
   ]
  },
  {
   "cell_type": "markdown",
   "id": "af0e7f0b",
   "metadata": {
    "id": "af0e7f0b"
   },
   "source": [
    "Algumas informações como `PassengerId`, `Ticked` e `Name` são irrelevantes para o aprendizado pois são únicos para cada passageiro e podem ser removidos da base de aprendizado. O mesmo deve ser feito posteriormente para o tratamento dos dados de teste. Vamos primeiro salvar o dataset completo e depois o dataset sem as colunas desnecessárias."
   ]
  },
  {
   "cell_type": "code",
   "execution_count": 45,
   "id": "246fcf62",
   "metadata": {
    "id": "246fcf62"
   },
   "outputs": [],
   "source": [
    "titanic.to_csv('../../data/processed/train_complete.csv')"
   ]
  },
  {
   "cell_type": "code",
   "execution_count": 46,
   "id": "35ee4ab7",
   "metadata": {},
   "outputs": [
    {
     "data": {
      "text/html": [
       "<div>\n",
       "<style scoped>\n",
       "    .dataframe tbody tr th:only-of-type {\n",
       "        vertical-align: middle;\n",
       "    }\n",
       "\n",
       "    .dataframe tbody tr th {\n",
       "        vertical-align: top;\n",
       "    }\n",
       "\n",
       "    .dataframe thead th {\n",
       "        text-align: right;\n",
       "    }\n",
       "</style>\n",
       "<table border=\"1\" class=\"dataframe\">\n",
       "  <thead>\n",
       "    <tr style=\"text-align: right;\">\n",
       "      <th></th>\n",
       "      <th>PassengerId</th>\n",
       "      <th>Survived</th>\n",
       "      <th>Pclass</th>\n",
       "      <th>Name</th>\n",
       "      <th>Sex</th>\n",
       "      <th>Age</th>\n",
       "      <th>SibSp</th>\n",
       "      <th>Parch</th>\n",
       "      <th>Ticket</th>\n",
       "      <th>Fare</th>\n",
       "      <th>Floor</th>\n",
       "      <th>Embarked</th>\n",
       "      <th>title</th>\n",
       "      <th>Relateds</th>\n",
       "      <th>faixa</th>\n",
       "      <th>possui_cabine</th>\n",
       "    </tr>\n",
       "  </thead>\n",
       "  <tbody>\n",
       "    <tr>\n",
       "      <th>547</th>\n",
       "      <td>548</td>\n",
       "      <td>1</td>\n",
       "      <td>2</td>\n",
       "      <td>Padro y Manent, Mr. Julian</td>\n",
       "      <td>male</td>\n",
       "      <td>28</td>\n",
       "      <td>0</td>\n",
       "      <td>0</td>\n",
       "      <td>SC/PARIS 2146</td>\n",
       "      <td>13.8625</td>\n",
       "      <td>SC</td>\n",
       "      <td>C</td>\n",
       "      <td>Mr</td>\n",
       "      <td>0</td>\n",
       "      <td>pessoa_adulta</td>\n",
       "      <td>False</td>\n",
       "    </tr>\n",
       "    <tr>\n",
       "      <th>307</th>\n",
       "      <td>308</td>\n",
       "      <td>1</td>\n",
       "      <td>1</td>\n",
       "      <td>Penasco y Castellana, Mrs. Victor de Satode (M...</td>\n",
       "      <td>female</td>\n",
       "      <td>17</td>\n",
       "      <td>1</td>\n",
       "      <td>0</td>\n",
       "      <td>PC 17758</td>\n",
       "      <td>108.9000</td>\n",
       "      <td>C</td>\n",
       "      <td>C</td>\n",
       "      <td>Mrs</td>\n",
       "      <td>1</td>\n",
       "      <td>pessoa_adulta</td>\n",
       "      <td>True</td>\n",
       "    </tr>\n",
       "    <tr>\n",
       "      <th>214</th>\n",
       "      <td>215</td>\n",
       "      <td>0</td>\n",
       "      <td>3</td>\n",
       "      <td>Kiernan, Mr. Philip</td>\n",
       "      <td>male</td>\n",
       "      <td>37</td>\n",
       "      <td>1</td>\n",
       "      <td>0</td>\n",
       "      <td>367229</td>\n",
       "      <td>7.7500</td>\n",
       "      <td>SC</td>\n",
       "      <td>Q</td>\n",
       "      <td>Mr</td>\n",
       "      <td>1</td>\n",
       "      <td>pessoa_adulta</td>\n",
       "      <td>False</td>\n",
       "    </tr>\n",
       "    <tr>\n",
       "      <th>385</th>\n",
       "      <td>386</td>\n",
       "      <td>0</td>\n",
       "      <td>2</td>\n",
       "      <td>Davies, Mr. Charles Henry</td>\n",
       "      <td>male</td>\n",
       "      <td>18</td>\n",
       "      <td>0</td>\n",
       "      <td>0</td>\n",
       "      <td>S.O.C. 14879</td>\n",
       "      <td>73.5000</td>\n",
       "      <td>SC</td>\n",
       "      <td>S</td>\n",
       "      <td>Mr</td>\n",
       "      <td>0</td>\n",
       "      <td>pessoa_adulta</td>\n",
       "      <td>False</td>\n",
       "    </tr>\n",
       "    <tr>\n",
       "      <th>355</th>\n",
       "      <td>356</td>\n",
       "      <td>0</td>\n",
       "      <td>3</td>\n",
       "      <td>Vanden Steen, Mr. Leo Peter</td>\n",
       "      <td>male</td>\n",
       "      <td>28</td>\n",
       "      <td>0</td>\n",
       "      <td>0</td>\n",
       "      <td>345783</td>\n",
       "      <td>9.5000</td>\n",
       "      <td>SC</td>\n",
       "      <td>S</td>\n",
       "      <td>Mr</td>\n",
       "      <td>0</td>\n",
       "      <td>pessoa_adulta</td>\n",
       "      <td>False</td>\n",
       "    </tr>\n",
       "  </tbody>\n",
       "</table>\n",
       "</div>"
      ],
      "text/plain": [
       "     PassengerId  Survived  Pclass  \\\n",
       "547          548         1       2   \n",
       "307          308         1       1   \n",
       "214          215         0       3   \n",
       "385          386         0       2   \n",
       "355          356         0       3   \n",
       "\n",
       "                                                  Name     Sex  Age  SibSp  \\\n",
       "547                         Padro y Manent, Mr. Julian    male   28      0   \n",
       "307  Penasco y Castellana, Mrs. Victor de Satode (M...  female   17      1   \n",
       "214                                Kiernan, Mr. Philip    male   37      1   \n",
       "385                          Davies, Mr. Charles Henry    male   18      0   \n",
       "355                        Vanden Steen, Mr. Leo Peter    male   28      0   \n",
       "\n",
       "     Parch         Ticket      Fare Floor Embarked title  Relateds  \\\n",
       "547      0  SC/PARIS 2146   13.8625    SC        C    Mr         0   \n",
       "307      0       PC 17758  108.9000     C        C   Mrs         1   \n",
       "214      0         367229    7.7500    SC        Q    Mr         1   \n",
       "385      0   S.O.C. 14879   73.5000    SC        S    Mr         0   \n",
       "355      0         345783    9.5000    SC        S    Mr         0   \n",
       "\n",
       "             faixa  possui_cabine  \n",
       "547  pessoa_adulta          False  \n",
       "307  pessoa_adulta           True  \n",
       "214  pessoa_adulta          False  \n",
       "385  pessoa_adulta          False  \n",
       "355  pessoa_adulta          False  "
      ]
     },
     "execution_count": 46,
     "metadata": {},
     "output_type": "execute_result"
    }
   ],
   "source": [
    "titanic.sample(5)"
   ]
  },
  {
   "cell_type": "code",
   "execution_count": 47,
   "id": "7b77fda1",
   "metadata": {},
   "outputs": [],
   "source": [
    "titanic.drop(columns=['PassengerId', 'Name', 'Fare', 'title', 'faixa', 'possui_cabine', 'Ticket'], inplace=True)"
   ]
  },
  {
   "cell_type": "code",
   "execution_count": 48,
   "id": "8213c4f7",
   "metadata": {},
   "outputs": [],
   "source": [
    "titanic.to_csv('../../data/processed/train_processed.csv')"
   ]
  },
  {
   "cell_type": "code",
   "execution_count": null,
   "id": "4ded7f54",
   "metadata": {},
   "outputs": [],
   "source": []
  }
 ],
 "metadata": {
  "colab": {
   "name": "01 - Exploração inicial dos dados.ipynb",
   "provenance": []
  },
  "kernelspec": {
   "display_name": "Python 3",
   "language": "python",
   "name": "python3"
  },
  "language_info": {
   "codemirror_mode": {
    "name": "ipython",
    "version": 3
   },
   "file_extension": ".py",
   "mimetype": "text/x-python",
   "name": "python",
   "nbconvert_exporter": "python",
   "pygments_lexer": "ipython3",
   "version": "3.8.8"
  }
 },
 "nbformat": 4,
 "nbformat_minor": 5
}
