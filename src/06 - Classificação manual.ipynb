{
 "cells": [
  {
   "cell_type": "markdown",
   "id": "82d4963f",
   "metadata": {},
   "source": [
    "# 06 - Classificação manual\n",
    "\n",
    "Qual é o resultado para a previsão baseada na famosa frase: \"mulheres e crianças primeiro\"?"
   ]
  },
  {
   "cell_type": "markdown",
   "id": "3f663fec",
   "metadata": {},
   "source": [
    "## Preparando o ambiente"
   ]
  },
  {
   "cell_type": "code",
   "execution_count": 1,
   "id": "ba649cf1",
   "metadata": {},
   "outputs": [],
   "source": [
    "import pandas as pd\n",
    "from sklearn.metrics import accuracy_score"
   ]
  },
  {
   "cell_type": "markdown",
   "id": "62f67c3d",
   "metadata": {},
   "source": [
    "## Carregando os dados"
   ]
  },
  {
   "cell_type": "code",
   "execution_count": 2,
   "id": "0352b13f",
   "metadata": {},
   "outputs": [
    {
     "data": {
      "text/html": [
       "<div>\n",
       "<style scoped>\n",
       "    .dataframe tbody tr th:only-of-type {\n",
       "        vertical-align: middle;\n",
       "    }\n",
       "\n",
       "    .dataframe tbody tr th {\n",
       "        vertical-align: top;\n",
       "    }\n",
       "\n",
       "    .dataframe thead th {\n",
       "        text-align: right;\n",
       "    }\n",
       "</style>\n",
       "<table border=\"1\" class=\"dataframe\">\n",
       "  <thead>\n",
       "    <tr style=\"text-align: right;\">\n",
       "      <th></th>\n",
       "      <th>Survived</th>\n",
       "      <th>Pclass</th>\n",
       "      <th>Sex</th>\n",
       "      <th>Age</th>\n",
       "      <th>SibSp</th>\n",
       "      <th>Parch</th>\n",
       "      <th>Floor</th>\n",
       "      <th>Relateds</th>\n",
       "      <th>faixa_etaria</th>\n",
       "      <th>acompanhado</th>\n",
       "      <th>possui_cabine</th>\n",
       "    </tr>\n",
       "  </thead>\n",
       "  <tbody>\n",
       "    <tr>\n",
       "      <th>0</th>\n",
       "      <td>0</td>\n",
       "      <td>3</td>\n",
       "      <td>male</td>\n",
       "      <td>22</td>\n",
       "      <td>1</td>\n",
       "      <td>0</td>\n",
       "      <td>SC</td>\n",
       "      <td>1</td>\n",
       "      <td>adulto_idoso</td>\n",
       "      <td>True</td>\n",
       "      <td>False</td>\n",
       "    </tr>\n",
       "    <tr>\n",
       "      <th>1</th>\n",
       "      <td>1</td>\n",
       "      <td>1</td>\n",
       "      <td>female</td>\n",
       "      <td>38</td>\n",
       "      <td>1</td>\n",
       "      <td>0</td>\n",
       "      <td>C</td>\n",
       "      <td>1</td>\n",
       "      <td>adulto_idoso</td>\n",
       "      <td>True</td>\n",
       "      <td>True</td>\n",
       "    </tr>\n",
       "    <tr>\n",
       "      <th>2</th>\n",
       "      <td>1</td>\n",
       "      <td>3</td>\n",
       "      <td>female</td>\n",
       "      <td>26</td>\n",
       "      <td>0</td>\n",
       "      <td>0</td>\n",
       "      <td>SC</td>\n",
       "      <td>0</td>\n",
       "      <td>adulto_idoso</td>\n",
       "      <td>False</td>\n",
       "      <td>False</td>\n",
       "    </tr>\n",
       "    <tr>\n",
       "      <th>3</th>\n",
       "      <td>1</td>\n",
       "      <td>1</td>\n",
       "      <td>female</td>\n",
       "      <td>35</td>\n",
       "      <td>1</td>\n",
       "      <td>0</td>\n",
       "      <td>C</td>\n",
       "      <td>1</td>\n",
       "      <td>adulto_idoso</td>\n",
       "      <td>True</td>\n",
       "      <td>True</td>\n",
       "    </tr>\n",
       "    <tr>\n",
       "      <th>4</th>\n",
       "      <td>0</td>\n",
       "      <td>3</td>\n",
       "      <td>male</td>\n",
       "      <td>35</td>\n",
       "      <td>0</td>\n",
       "      <td>0</td>\n",
       "      <td>SC</td>\n",
       "      <td>0</td>\n",
       "      <td>adulto_idoso</td>\n",
       "      <td>False</td>\n",
       "      <td>False</td>\n",
       "    </tr>\n",
       "  </tbody>\n",
       "</table>\n",
       "</div>"
      ],
      "text/plain": [
       "   Survived  Pclass     Sex  Age  SibSp  Parch Floor  Relateds  faixa_etaria  \\\n",
       "0         0       3    male   22      1      0    SC         1  adulto_idoso   \n",
       "1         1       1  female   38      1      0     C         1  adulto_idoso   \n",
       "2         1       3  female   26      0      0    SC         0  adulto_idoso   \n",
       "3         1       1  female   35      1      0     C         1  adulto_idoso   \n",
       "4         0       3    male   35      0      0    SC         0  adulto_idoso   \n",
       "\n",
       "   acompanhado  possui_cabine  \n",
       "0         True          False  \n",
       "1         True           True  \n",
       "2        False          False  \n",
       "3         True           True  \n",
       "4        False          False  "
      ]
     },
     "execution_count": 2,
     "metadata": {},
     "output_type": "execute_result"
    }
   ],
   "source": [
    "titanic = pd.read_csv('../data/processed/train_processed_byage_ag.csv')\n",
    "del titanic['Unnamed: 0']\n",
    "titanic.head(5)"
   ]
  },
  {
   "cell_type": "code",
   "execution_count": 3,
   "id": "3133a225",
   "metadata": {},
   "outputs": [
    {
     "data": {
      "text/html": [
       "<div>\n",
       "<style scoped>\n",
       "    .dataframe tbody tr th:only-of-type {\n",
       "        vertical-align: middle;\n",
       "    }\n",
       "\n",
       "    .dataframe tbody tr th {\n",
       "        vertical-align: top;\n",
       "    }\n",
       "\n",
       "    .dataframe thead th {\n",
       "        text-align: right;\n",
       "    }\n",
       "</style>\n",
       "<table border=\"1\" class=\"dataframe\">\n",
       "  <thead>\n",
       "    <tr style=\"text-align: right;\">\n",
       "      <th></th>\n",
       "      <th>PassengerId</th>\n",
       "      <th>Pclass</th>\n",
       "      <th>Sex</th>\n",
       "      <th>Age</th>\n",
       "      <th>SibSp</th>\n",
       "      <th>Parch</th>\n",
       "      <th>Floor</th>\n",
       "      <th>Relateds</th>\n",
       "      <th>possui_cabine</th>\n",
       "      <th>acompanhado</th>\n",
       "      <th>faixa_etaria</th>\n",
       "    </tr>\n",
       "  </thead>\n",
       "  <tbody>\n",
       "    <tr>\n",
       "      <th>0</th>\n",
       "      <td>892</td>\n",
       "      <td>3</td>\n",
       "      <td>male</td>\n",
       "      <td>34</td>\n",
       "      <td>0</td>\n",
       "      <td>0</td>\n",
       "      <td>SC</td>\n",
       "      <td>0</td>\n",
       "      <td>False</td>\n",
       "      <td>False</td>\n",
       "      <td>jovem_adulto</td>\n",
       "    </tr>\n",
       "    <tr>\n",
       "      <th>1</th>\n",
       "      <td>893</td>\n",
       "      <td>3</td>\n",
       "      <td>female</td>\n",
       "      <td>47</td>\n",
       "      <td>1</td>\n",
       "      <td>0</td>\n",
       "      <td>SC</td>\n",
       "      <td>1</td>\n",
       "      <td>False</td>\n",
       "      <td>True</td>\n",
       "      <td>adulto_idoso</td>\n",
       "    </tr>\n",
       "    <tr>\n",
       "      <th>2</th>\n",
       "      <td>894</td>\n",
       "      <td>2</td>\n",
       "      <td>male</td>\n",
       "      <td>62</td>\n",
       "      <td>0</td>\n",
       "      <td>0</td>\n",
       "      <td>SC</td>\n",
       "      <td>0</td>\n",
       "      <td>False</td>\n",
       "      <td>False</td>\n",
       "      <td>adulto_idoso</td>\n",
       "    </tr>\n",
       "    <tr>\n",
       "      <th>3</th>\n",
       "      <td>895</td>\n",
       "      <td>3</td>\n",
       "      <td>male</td>\n",
       "      <td>27</td>\n",
       "      <td>0</td>\n",
       "      <td>0</td>\n",
       "      <td>SC</td>\n",
       "      <td>0</td>\n",
       "      <td>False</td>\n",
       "      <td>False</td>\n",
       "      <td>jovem_adulto</td>\n",
       "    </tr>\n",
       "    <tr>\n",
       "      <th>4</th>\n",
       "      <td>896</td>\n",
       "      <td>3</td>\n",
       "      <td>female</td>\n",
       "      <td>22</td>\n",
       "      <td>1</td>\n",
       "      <td>1</td>\n",
       "      <td>SC</td>\n",
       "      <td>2</td>\n",
       "      <td>False</td>\n",
       "      <td>True</td>\n",
       "      <td>jovem_adulto</td>\n",
       "    </tr>\n",
       "  </tbody>\n",
       "</table>\n",
       "</div>"
      ],
      "text/plain": [
       "   PassengerId  Pclass     Sex  Age  SibSp  Parch Floor  Relateds  \\\n",
       "0          892       3    male   34      0      0    SC         0   \n",
       "1          893       3  female   47      1      0    SC         1   \n",
       "2          894       2    male   62      0      0    SC         0   \n",
       "3          895       3    male   27      0      0    SC         0   \n",
       "4          896       3  female   22      1      1    SC         2   \n",
       "\n",
       "   possui_cabine  acompanhado  faixa_etaria  \n",
       "0          False        False  jovem_adulto  \n",
       "1          False         True  adulto_idoso  \n",
       "2          False        False  adulto_idoso  \n",
       "3          False        False  jovem_adulto  \n",
       "4          False         True  jovem_adulto  "
      ]
     },
     "execution_count": 3,
     "metadata": {},
     "output_type": "execute_result"
    }
   ],
   "source": [
    "teste = pd.read_csv('../data/processed/test_processed.csv')\n",
    "del teste['Unnamed: 0']\n",
    "Xvalidacao = teste.drop(columns=['PassengerId'])\n",
    "teste.head(5)"
   ]
  },
  {
   "cell_type": "code",
   "execution_count": 4,
   "id": "cd144ee1",
   "metadata": {},
   "outputs": [],
   "source": [
    "X = titanic.drop(columns=['Survived'])\n",
    "y = titanic['Survived']"
   ]
  },
  {
   "cell_type": "markdown",
   "id": "bcd2ef1d",
   "metadata": {},
   "source": [
    "## Criando o algoritmo de classificação manual"
   ]
  },
  {
   "cell_type": "code",
   "execution_count": 5,
   "id": "4c598692",
   "metadata": {},
   "outputs": [],
   "source": [
    "def predict(df):\n",
    "    predicoes = []\n",
    "    for index, row in df.iterrows():\n",
    "        if(row['Sex'] == 'female' or row['Age'] < 15):\n",
    "            predicoes.append(1)\n",
    "        else:\n",
    "            predicoes.append(0)\n",
    "    return predicoes"
   ]
  },
  {
   "cell_type": "code",
   "execution_count": 6,
   "id": "a7aab957",
   "metadata": {},
   "outputs": [
    {
     "data": {
      "text/plain": [
       "0.7901234567901234"
      ]
     },
     "execution_count": 6,
     "metadata": {},
     "output_type": "execute_result"
    }
   ],
   "source": [
    "accuracy_score(y, predict(X))"
   ]
  },
  {
   "cell_type": "markdown",
   "id": "bd984588",
   "metadata": {},
   "source": [
    "A acurácia baseada nessa regra foi de aproximadamente **79%** para os dados de treino. E para os dados de teste?"
   ]
  },
  {
   "cell_type": "code",
   "execution_count": 7,
   "id": "7198b59a",
   "metadata": {},
   "outputs": [
    {
     "data": {
      "text/html": [
       "<div>\n",
       "<style scoped>\n",
       "    .dataframe tbody tr th:only-of-type {\n",
       "        vertical-align: middle;\n",
       "    }\n",
       "\n",
       "    .dataframe tbody tr th {\n",
       "        vertical-align: top;\n",
       "    }\n",
       "\n",
       "    .dataframe thead th {\n",
       "        text-align: right;\n",
       "    }\n",
       "</style>\n",
       "<table border=\"1\" class=\"dataframe\">\n",
       "  <thead>\n",
       "    <tr style=\"text-align: right;\">\n",
       "      <th></th>\n",
       "      <th>PassengerId</th>\n",
       "      <th>Survived</th>\n",
       "    </tr>\n",
       "  </thead>\n",
       "  <tbody>\n",
       "    <tr>\n",
       "      <th>23</th>\n",
       "      <td>915</td>\n",
       "      <td>0</td>\n",
       "    </tr>\n",
       "    <tr>\n",
       "      <th>203</th>\n",
       "      <td>1095</td>\n",
       "      <td>1</td>\n",
       "    </tr>\n",
       "    <tr>\n",
       "      <th>333</th>\n",
       "      <td>1225</td>\n",
       "      <td>1</td>\n",
       "    </tr>\n",
       "    <tr>\n",
       "      <th>92</th>\n",
       "      <td>984</td>\n",
       "      <td>1</td>\n",
       "    </tr>\n",
       "    <tr>\n",
       "      <th>107</th>\n",
       "      <td>999</td>\n",
       "      <td>0</td>\n",
       "    </tr>\n",
       "  </tbody>\n",
       "</table>\n",
       "</div>"
      ],
      "text/plain": [
       "     PassengerId  Survived\n",
       "23           915         0\n",
       "203         1095         1\n",
       "333         1225         1\n",
       "92           984         1\n",
       "107          999         0"
      ]
     },
     "execution_count": 7,
     "metadata": {},
     "output_type": "execute_result"
    }
   ],
   "source": [
    "predicoes = predict(Xvalidacao)\n",
    "resultado = pd.DataFrame()\n",
    "resultado['PassengerId'] = teste['PassengerId']\n",
    "resultado['Survived'] = predicoes\n",
    "resultado.sample(5)"
   ]
  },
  {
   "cell_type": "code",
   "execution_count": 8,
   "id": "d8852403",
   "metadata": {},
   "outputs": [],
   "source": [
    "resultado.to_csv('../data/submissions/2_women_and_children.csv', index=False)"
   ]
  },
  {
   "cell_type": "markdown",
   "id": "7d41c5c5",
   "metadata": {},
   "source": [
    "## Resultado\n",
    "\n",
    "O resultado obtido no Kaggle foi de **75.3%** de acurácia. Bem semelhante ao obtido com os dados de treinamento. Dessa forma é possível estipular que este seja o valor mínimo, visto que é maior que o do `DummyClassifier`."
   ]
  },
  {
   "cell_type": "code",
   "execution_count": 9,
   "id": "94621209",
   "metadata": {},
   "outputs": [
    {
     "name": "stdout",
     "output_type": "stream",
     "text": [
      "Acurácia de 75.36% nos dados de teste (submissão Kaggle)\n"
     ]
    }
   ],
   "source": [
    "ground_truth = pd.read_csv('../data/original/ground_truth.csv')\n",
    "merged = pd.merge(ground_truth, resultado, on='PassengerId', how='inner', suffixes=('_expected', '_predicted'))\n",
    "acuracia = round(merged[merged['Survived_expected'] == merged['Survived_predicted']].shape[0] / merged.shape[0] * 100, 2)\n",
    "print(f'Acurácia de {acuracia}% nos dados de teste (submissão Kaggle)')"
   ]
  },
  {
   "attachments": {
    "image3.png": {
     "image/png": "[encoded data removed]"
    }
   },
   "cell_type": "markdown",
   "id": "5f94c313",
   "metadata": {},
   "source": [
    "Temos então que para um algoritmo de Machine Learning ser considerado útil para isso ele precisa ter mais de 76% de acurácia. Segundo [este artigo](https://www.kaggle.com/c/titanic/discussion/26284), um bom modelo deveria ter entre 83 e 84% de acurácia, no máximo 87%. Os envios na competição que possuem mais do que isso estão provavelmente utilizando meios não legítmos de obter. Veja a imagem dos envios para o Kaggle.\n",
    "\n",
    "![image3.png](attachment:image3.png)"
   ]
  }
 ],
 "metadata": {
  "kernelspec": {
   "display_name": "Python 3",
   "language": "python",
   "name": "python3"
  },
  "language_info": {
   "codemirror_mode": {
    "name": "ipython",
    "version": 3
   },
   "file_extension": ".py",
   "mimetype": "text/x-python",
   "name": "python",
   "nbconvert_exporter": "python",
   "pygments_lexer": "ipython3",
   "version": "3.12.1"
  }
 },
 "nbformat": 4,
 "nbformat_minor": 5
}
