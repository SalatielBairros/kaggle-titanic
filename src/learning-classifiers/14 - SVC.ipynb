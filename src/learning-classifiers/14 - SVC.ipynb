{
 "cells": [
  {
   "cell_type": "markdown",
   "id": "16978bcd",
   "metadata": {},
   "source": [
    "# 14 - SVC\n",
    "\n",
    "Teste com os dois datasets gerados utilizando o `SVC`(Support Vector Machine) "
   ]
  },
  {
   "cell_type": "markdown",
   "id": "99ba331b",
   "metadata": {},
   "source": [
    "## Preparando o ambiente"
   ]
  },
  {
   "cell_type": "code",
   "execution_count": 2,
   "id": "faf9e198",
   "metadata": {},
   "outputs": [],
   "source": [
    "import pandas as pd\n",
    "import numpy as np\n",
    "import matplotlib.pyplot as plt\n",
    "import seaborn as sns\n",
    "from sklearn.model_selection import train_test_split, GridSearchCV, GroupKFold, cross_validate\n",
    "from sklearn.svm import SVC, LinearSVC\n",
    "from sklearn.preprocessing import StandardScaler, MaxAbsScaler, MinMaxScaler, Normalizer, RobustScaler\n",
    "from IPython.display import display, clear_output"
   ]
  },
  {
   "cell_type": "code",
   "execution_count": 18,
   "id": "58ca5397",
   "metadata": {},
   "outputs": [],
   "source": [
    "SEED = 5\n",
    "np.random.seed(SEED)"
   ]
  },
  {
   "cell_type": "markdown",
   "id": "19953eaf",
   "metadata": {},
   "source": [
    "## Carregando os dados"
   ]
  },
  {
   "cell_type": "markdown",
   "id": "20364928",
   "metadata": {},
   "source": [
    " ### DummiesDataset"
   ]
  },
  {
   "cell_type": "code",
   "execution_count": 3,
   "id": "36d97df0",
   "metadata": {},
   "outputs": [
    {
     "data": {
      "text/html": [
       "<div>\n",
       "<style scoped>\n",
       "    .dataframe tbody tr th:only-of-type {\n",
       "        vertical-align: middle;\n",
       "    }\n",
       "\n",
       "    .dataframe tbody tr th {\n",
       "        vertical-align: top;\n",
       "    }\n",
       "\n",
       "    .dataframe thead th {\n",
       "        text-align: right;\n",
       "    }\n",
       "</style>\n",
       "<table border=\"1\" class=\"dataframe\">\n",
       "  <thead>\n",
       "    <tr style=\"text-align: right;\">\n",
       "      <th></th>\n",
       "      <th>Survived</th>\n",
       "      <th>Pclass</th>\n",
       "      <th>Age</th>\n",
       "      <th>SibSp</th>\n",
       "      <th>Parch</th>\n",
       "      <th>Relateds</th>\n",
       "      <th>possui_cabine</th>\n",
       "      <th>Sex_female</th>\n",
       "      <th>Sex_male</th>\n",
       "      <th>Embarked_C</th>\n",
       "      <th>Embarked_Q</th>\n",
       "      <th>Embarked_S</th>\n",
       "    </tr>\n",
       "  </thead>\n",
       "  <tbody>\n",
       "    <tr>\n",
       "      <th>0</th>\n",
       "      <td>0</td>\n",
       "      <td>3</td>\n",
       "      <td>22</td>\n",
       "      <td>1</td>\n",
       "      <td>0</td>\n",
       "      <td>1</td>\n",
       "      <td>0</td>\n",
       "      <td>0</td>\n",
       "      <td>1</td>\n",
       "      <td>0</td>\n",
       "      <td>0</td>\n",
       "      <td>1</td>\n",
       "    </tr>\n",
       "    <tr>\n",
       "      <th>1</th>\n",
       "      <td>1</td>\n",
       "      <td>1</td>\n",
       "      <td>38</td>\n",
       "      <td>1</td>\n",
       "      <td>0</td>\n",
       "      <td>1</td>\n",
       "      <td>1</td>\n",
       "      <td>1</td>\n",
       "      <td>0</td>\n",
       "      <td>1</td>\n",
       "      <td>0</td>\n",
       "      <td>0</td>\n",
       "    </tr>\n",
       "  </tbody>\n",
       "</table>\n",
       "</div>"
      ],
      "text/plain": [
       "   Survived  Pclass  Age  SibSp  Parch  Relateds  possui_cabine  Sex_female  \\\n",
       "0         0       3   22      1      0         1              0           0   \n",
       "1         1       1   38      1      0         1              1           1   \n",
       "\n",
       "   Sex_male  Embarked_C  Embarked_Q  Embarked_S  \n",
       "0         1           0           0           1  \n",
       "1         0           1           0           0  "
      ]
     },
     "execution_count": 3,
     "metadata": {},
     "output_type": "execute_result"
    }
   ],
   "source": [
    "treino = pd.read_csv('https://raw.githubusercontent.com/SalatielBairros/kaggle-titanic/main/data/processed_v2/train_dummies_2.csv')\n",
    "teste = pd.read_csv('https://raw.githubusercontent.com/SalatielBairros/kaggle-titanic/main/data/processed_v2/test_dummies_2.csv')\n",
    "Xvalidation = teste.drop(columns=['PassengerId'])\n",
    "treino.head(2)"
   ]
  },
  {
   "cell_type": "markdown",
   "id": "20991cd1",
   "metadata": {},
   "source": [
    "### Without Dummies"
   ]
  },
  {
   "cell_type": "code",
   "execution_count": 24,
   "id": "3337cdb3",
   "metadata": {},
   "outputs": [
    {
     "data": {
      "text/html": [
       "<div>\n",
       "<style scoped>\n",
       "    .dataframe tbody tr th:only-of-type {\n",
       "        vertical-align: middle;\n",
       "    }\n",
       "\n",
       "    .dataframe tbody tr th {\n",
       "        vertical-align: top;\n",
       "    }\n",
       "\n",
       "    .dataframe thead th {\n",
       "        text-align: right;\n",
       "    }\n",
       "</style>\n",
       "<table border=\"1\" class=\"dataframe\">\n",
       "  <thead>\n",
       "    <tr style=\"text-align: right;\">\n",
       "      <th></th>\n",
       "      <th>Pclass</th>\n",
       "      <th>Sex</th>\n",
       "      <th>Age</th>\n",
       "      <th>SibSp</th>\n",
       "      <th>Parch</th>\n",
       "      <th>Floor</th>\n",
       "      <th>Relateds</th>\n",
       "      <th>possui_cabine</th>\n",
       "      <th>acompanhado</th>\n",
       "      <th>faixa_etaria</th>\n",
       "    </tr>\n",
       "  </thead>\n",
       "  <tbody>\n",
       "    <tr>\n",
       "      <th>0</th>\n",
       "      <td>3</td>\n",
       "      <td>0</td>\n",
       "      <td>34</td>\n",
       "      <td>0</td>\n",
       "      <td>0</td>\n",
       "      <td>0</td>\n",
       "      <td>0</td>\n",
       "      <td>0</td>\n",
       "      <td>0</td>\n",
       "      <td>1</td>\n",
       "    </tr>\n",
       "    <tr>\n",
       "      <th>1</th>\n",
       "      <td>3</td>\n",
       "      <td>1</td>\n",
       "      <td>47</td>\n",
       "      <td>1</td>\n",
       "      <td>0</td>\n",
       "      <td>0</td>\n",
       "      <td>1</td>\n",
       "      <td>0</td>\n",
       "      <td>1</td>\n",
       "      <td>2</td>\n",
       "    </tr>\n",
       "    <tr>\n",
       "      <th>2</th>\n",
       "      <td>2</td>\n",
       "      <td>0</td>\n",
       "      <td>62</td>\n",
       "      <td>0</td>\n",
       "      <td>0</td>\n",
       "      <td>0</td>\n",
       "      <td>0</td>\n",
       "      <td>0</td>\n",
       "      <td>0</td>\n",
       "      <td>2</td>\n",
       "    </tr>\n",
       "    <tr>\n",
       "      <th>3</th>\n",
       "      <td>3</td>\n",
       "      <td>0</td>\n",
       "      <td>27</td>\n",
       "      <td>0</td>\n",
       "      <td>0</td>\n",
       "      <td>0</td>\n",
       "      <td>0</td>\n",
       "      <td>0</td>\n",
       "      <td>0</td>\n",
       "      <td>1</td>\n",
       "    </tr>\n",
       "    <tr>\n",
       "      <th>4</th>\n",
       "      <td>3</td>\n",
       "      <td>1</td>\n",
       "      <td>22</td>\n",
       "      <td>1</td>\n",
       "      <td>1</td>\n",
       "      <td>0</td>\n",
       "      <td>2</td>\n",
       "      <td>0</td>\n",
       "      <td>1</td>\n",
       "      <td>1</td>\n",
       "    </tr>\n",
       "  </tbody>\n",
       "</table>\n",
       "</div>"
      ],
      "text/plain": [
       "   Pclass  Sex  Age  SibSp  Parch  Floor  Relateds  possui_cabine  \\\n",
       "0       3    0   34      0      0      0         0              0   \n",
       "1       3    1   47      1      0      0         1              0   \n",
       "2       2    0   62      0      0      0         0              0   \n",
       "3       3    0   27      0      0      0         0              0   \n",
       "4       3    1   22      1      1      0         2              0   \n",
       "\n",
       "   acompanhado  faixa_etaria  \n",
       "0            0             1  \n",
       "1            1             2  \n",
       "2            0             2  \n",
       "3            0             1  \n",
       "4            1             1  "
      ]
     },
     "execution_count": 24,
     "metadata": {},
     "output_type": "execute_result"
    }
   ],
   "source": [
    "nd_treino = pd.read_csv('https://raw.githubusercontent.com/SalatielBairros/kaggle-titanic/main/data/processed/train_processed_byage_ag_nm.csv')\n",
    "nd_teste = pd.read_csv('https://raw.githubusercontent.com/SalatielBairros/kaggle-titanic/main/data/processed/test_processed_byage_ag_nm.csv')\n",
    "nd_Xvalidacao = nd_teste.drop(columns=['PassengerId'])\n",
    "nd_Xvalidacao.head(5)"
   ]
  },
  {
   "cell_type": "markdown",
   "id": "67e3b0d4",
   "metadata": {},
   "source": [
    "## Separando treino e teste"
   ]
  },
  {
   "cell_type": "code",
   "execution_count": 19,
   "id": "c46aa462",
   "metadata": {},
   "outputs": [
    {
     "name": "stdout",
     "output_type": "stream",
     "text": [
      "Treinaremos com 712 elementos e testaremos com 179 elementos\n"
     ]
    }
   ],
   "source": [
    "X = treino.drop(columns=['Survived'])\n",
    "y = treino['Survived']\n",
    "\n",
    "treino_x, teste_x, treino_y, teste_y = train_test_split(X, y, test_size = 0.2, stratify = y)\n",
    "print(\"Treinaremos com %d elementos e testaremos com %d elementos\" % (len(treino_x), len(teste_x)))"
   ]
  },
  {
   "cell_type": "code",
   "execution_count": 26,
   "id": "4a97b436",
   "metadata": {},
   "outputs": [],
   "source": [
    "nd_X = nd_treino.drop(columns=['Survived'])\n",
    "nd_y = nd_treino['Survived']\n",
    "\n",
    "nd_treino_x, nd_teste_x, nd_treino_y, nd_teste_y = train_test_split(nd_X, nd_y, test_size = 0.2, stratify = nd_y)"
   ]
  },
  {
   "cell_type": "markdown",
   "id": "ecbec524",
   "metadata": {},
   "source": [
    "## Executando o `SVC`"
   ]
  },
  {
   "cell_type": "markdown",
   "id": "55bd1862",
   "metadata": {},
   "source": [
    "### Utilizando o `train_test_split`"
   ]
  },
  {
   "cell_type": "code",
   "execution_count": 22,
   "id": "113d39a2",
   "metadata": {},
   "outputs": [
    {
     "name": "stdout",
     "output_type": "stream",
     "text": [
      "[LibSVM]\n",
      "TrainScore: 78.51123595505618% | TestScore: 79.3296089385475%\n"
     ]
    }
   ],
   "source": [
    "# kernel{‘linear’, ‘poly’, ‘rbf’, ‘sigmoid’, ‘precomputed’}, default=’rbf’\n",
    "modelo = SVC(kernel='linear', verbose=1)\n",
    "modelo.fit(treino_x, treino_y)\n",
    "train_score = modelo.score(treino_x, treino_y)\n",
    "test_score = modelo.score(teste_x, teste_y)\n",
    "print(f'\\nTrainScore: {train_score * 100}% | TestScore: {test_score * 100}%')"
   ]
  },
  {
   "cell_type": "code",
   "execution_count": 27,
   "id": "529b45dd",
   "metadata": {},
   "outputs": [
    {
     "name": "stdout",
     "output_type": "stream",
     "text": [
      "[LibSVM]\n",
      "TrainScore: 78.51123595505618% | TestScore: 81.00558659217877%\n"
     ]
    }
   ],
   "source": [
    "# kernel{‘linear’, ‘poly’, ‘rbf’, ‘sigmoid’, ‘precomputed’}, default=’rbf’\n",
    "modelo = SVC(kernel='linear', verbose=1)\n",
    "modelo.fit(nd_treino_x, nd_treino_y)\n",
    "train_score = modelo.score(nd_treino_x, nd_treino_y)\n",
    "test_score = modelo.score(nd_teste_x, nd_teste_y)\n",
    "print(f'\\nTrainScore: {train_score * 100}% | TestScore: {test_score * 100}%')"
   ]
  },
  {
   "cell_type": "markdown",
   "id": "d7281714",
   "metadata": {},
   "source": [
    "A acurácia do SVC no teste foi maior para o dataset sem os Dummies. Além disso, a acurácia de teste está melhor que a acurácia de treino, o que pode indicar uma divisão ruim dos dados, junto com a variabilidade do `SEED`. Vamos usar o `cross_validation`. Além disso o melhor `kernel` foi o `linear`, indicando que talvez o `LinearSVC` tenha melhor desempenho."
   ]
  },
  {
   "cell_type": "markdown",
   "id": "563a3be7",
   "metadata": {},
   "source": [
    "#### `SVC` + `train_test_split` + `cross_validate`"
   ]
  },
  {
   "cell_type": "code",
   "execution_count": 37,
   "id": "8f2f195d",
   "metadata": {},
   "outputs": [
    {
     "data": {
      "text/html": [
       "<div>\n",
       "<style scoped>\n",
       "    .dataframe tbody tr th:only-of-type {\n",
       "        vertical-align: middle;\n",
       "    }\n",
       "\n",
       "    .dataframe tbody tr th {\n",
       "        vertical-align: top;\n",
       "    }\n",
       "\n",
       "    .dataframe thead th {\n",
       "        text-align: right;\n",
       "    }\n",
       "</style>\n",
       "<table border=\"1\" class=\"dataframe\">\n",
       "  <thead>\n",
       "    <tr style=\"text-align: right;\">\n",
       "      <th></th>\n",
       "      <th>test_score</th>\n",
       "      <th>train_score</th>\n",
       "    </tr>\n",
       "  </thead>\n",
       "  <tbody>\n",
       "    <tr>\n",
       "      <th>count</th>\n",
       "      <td>10.000000</td>\n",
       "      <td>10.000000</td>\n",
       "    </tr>\n",
       "    <tr>\n",
       "      <th>mean</th>\n",
       "      <td>0.786723</td>\n",
       "      <td>0.786756</td>\n",
       "    </tr>\n",
       "    <tr>\n",
       "      <th>std</th>\n",
       "      <td>0.052433</td>\n",
       "      <td>0.005835</td>\n",
       "    </tr>\n",
       "    <tr>\n",
       "      <th>min</th>\n",
       "      <td>0.685393</td>\n",
       "      <td>0.779302</td>\n",
       "    </tr>\n",
       "    <tr>\n",
       "      <th>25%</th>\n",
       "      <td>0.762034</td>\n",
       "      <td>0.782419</td>\n",
       "    </tr>\n",
       "    <tr>\n",
       "      <th>50%</th>\n",
       "      <td>0.792135</td>\n",
       "      <td>0.786160</td>\n",
       "    </tr>\n",
       "    <tr>\n",
       "      <th>75%</th>\n",
       "      <td>0.825843</td>\n",
       "      <td>0.789474</td>\n",
       "    </tr>\n",
       "    <tr>\n",
       "      <th>max</th>\n",
       "      <td>0.853933</td>\n",
       "      <td>0.798005</td>\n",
       "    </tr>\n",
       "  </tbody>\n",
       "</table>\n",
       "</div>"
      ],
      "text/plain": [
       "       test_score  train_score\n",
       "count   10.000000    10.000000\n",
       "mean     0.786723     0.786756\n",
       "std      0.052433     0.005835\n",
       "min      0.685393     0.779302\n",
       "25%      0.762034     0.782419\n",
       "50%      0.792135     0.786160\n",
       "75%      0.825843     0.789474\n",
       "max      0.853933     0.798005"
      ]
     },
     "execution_count": 37,
     "metadata": {},
     "output_type": "execute_result"
    }
   ],
   "source": [
    "modelo = SVC(kernel='linear')\n",
    "results = cross_validate(modelo, X, y, cv = GroupKFold(n_splits = 10), groups = treino.Age, return_train_score=True)\n",
    "pd.DataFrame(results).drop(columns=['fit_time', 'score_time']).describe()"
   ]
  },
  {
   "cell_type": "code",
   "execution_count": 42,
   "id": "c4bec7fb",
   "metadata": {},
   "outputs": [
    {
     "data": {
      "text/html": [
       "<div>\n",
       "<style scoped>\n",
       "    .dataframe tbody tr th:only-of-type {\n",
       "        vertical-align: middle;\n",
       "    }\n",
       "\n",
       "    .dataframe tbody tr th {\n",
       "        vertical-align: top;\n",
       "    }\n",
       "\n",
       "    .dataframe thead th {\n",
       "        text-align: right;\n",
       "    }\n",
       "</style>\n",
       "<table border=\"1\" class=\"dataframe\">\n",
       "  <thead>\n",
       "    <tr style=\"text-align: right;\">\n",
       "      <th></th>\n",
       "      <th>test_score</th>\n",
       "      <th>train_score</th>\n",
       "    </tr>\n",
       "  </thead>\n",
       "  <tbody>\n",
       "    <tr>\n",
       "      <th>count</th>\n",
       "      <td>10.000000</td>\n",
       "      <td>10.000000</td>\n",
       "    </tr>\n",
       "    <tr>\n",
       "      <th>mean</th>\n",
       "      <td>0.790094</td>\n",
       "      <td>0.791744</td>\n",
       "    </tr>\n",
       "    <tr>\n",
       "      <th>std</th>\n",
       "      <td>0.056053</td>\n",
       "      <td>0.006716</td>\n",
       "    </tr>\n",
       "    <tr>\n",
       "      <th>min</th>\n",
       "      <td>0.685393</td>\n",
       "      <td>0.781796</td>\n",
       "    </tr>\n",
       "    <tr>\n",
       "      <th>25%</th>\n",
       "      <td>0.762034</td>\n",
       "      <td>0.787406</td>\n",
       "    </tr>\n",
       "    <tr>\n",
       "      <th>50%</th>\n",
       "      <td>0.797753</td>\n",
       "      <td>0.789900</td>\n",
       "    </tr>\n",
       "    <tr>\n",
       "      <th>75%</th>\n",
       "      <td>0.825843</td>\n",
       "      <td>0.796945</td>\n",
       "    </tr>\n",
       "    <tr>\n",
       "      <th>max</th>\n",
       "      <td>0.876404</td>\n",
       "      <td>0.802993</td>\n",
       "    </tr>\n",
       "  </tbody>\n",
       "</table>\n",
       "</div>"
      ],
      "text/plain": [
       "       test_score  train_score\n",
       "count   10.000000    10.000000\n",
       "mean     0.790094     0.791744\n",
       "std      0.056053     0.006716\n",
       "min      0.685393     0.781796\n",
       "25%      0.762034     0.787406\n",
       "50%      0.797753     0.789900\n",
       "75%      0.825843     0.796945\n",
       "max      0.876404     0.802993"
      ]
     },
     "execution_count": 42,
     "metadata": {},
     "output_type": "execute_result"
    }
   ],
   "source": [
    "modelo = SVC(kernel='linear')\n",
    "results = cross_validate(modelo, nd_X, nd_y, cv = GroupKFold(n_splits = 10), groups = nd_treino.Age, return_train_score=True)\n",
    "pd.DataFrame(results).drop(columns=['fit_time', 'score_time']).describe()"
   ]
  },
  {
   "cell_type": "markdown",
   "id": "8da99eaf",
   "metadata": {},
   "source": [
    "O `cross_validate` mostrou a acurácia mais real do modelo (removendo o problema do treino e teste mencionado anteriormente). Continuou tendo melhor resultado no dataset antigo."
   ]
  },
  {
   "cell_type": "markdown",
   "id": "b2639b1b",
   "metadata": {},
   "source": [
    "### Utilizando o `Scalers`"
   ]
  },
  {
   "cell_type": "code",
   "execution_count": 45,
   "id": "d7640b41",
   "metadata": {},
   "outputs": [],
   "source": [
    "scalers = [StandardScaler(), MaxAbsScaler(), MinMaxScaler(), Normalizer(), RobustScaler()]"
   ]
  },
  {
   "cell_type": "code",
   "execution_count": 48,
   "id": "8309e431",
   "metadata": {},
   "outputs": [
    {
     "data": {
      "text/html": [
       "<div>\n",
       "<style scoped>\n",
       "    .dataframe tbody tr th:only-of-type {\n",
       "        vertical-align: middle;\n",
       "    }\n",
       "\n",
       "    .dataframe tbody tr th {\n",
       "        vertical-align: top;\n",
       "    }\n",
       "\n",
       "    .dataframe thead th {\n",
       "        text-align: right;\n",
       "    }\n",
       "</style>\n",
       "<table border=\"1\" class=\"dataframe\">\n",
       "  <thead>\n",
       "    <tr style=\"text-align: right;\">\n",
       "      <th></th>\n",
       "      <th>test_score</th>\n",
       "      <th>train_score</th>\n",
       "      <th>scaler</th>\n",
       "    </tr>\n",
       "  </thead>\n",
       "  <tbody>\n",
       "    <tr>\n",
       "      <th>0</th>\n",
       "      <td>0.786723</td>\n",
       "      <td>0.786756</td>\n",
       "      <td>StandardScaler()</td>\n",
       "    </tr>\n",
       "    <tr>\n",
       "      <th>1</th>\n",
       "      <td>0.786723</td>\n",
       "      <td>0.786756</td>\n",
       "      <td>MaxAbsScaler()</td>\n",
       "    </tr>\n",
       "    <tr>\n",
       "      <th>2</th>\n",
       "      <td>0.786723</td>\n",
       "      <td>0.786756</td>\n",
       "      <td>MinMaxScaler()</td>\n",
       "    </tr>\n",
       "    <tr>\n",
       "      <th>3</th>\n",
       "      <td>0.631801</td>\n",
       "      <td>0.638233</td>\n",
       "      <td>Normalizer()</td>\n",
       "    </tr>\n",
       "    <tr>\n",
       "      <th>4</th>\n",
       "      <td>0.786723</td>\n",
       "      <td>0.786756</td>\n",
       "      <td>RobustScaler()</td>\n",
       "    </tr>\n",
       "  </tbody>\n",
       "</table>\n",
       "</div>"
      ],
      "text/plain": [
       "   test_score  train_score            scaler\n",
       "0    0.786723     0.786756  StandardScaler()\n",
       "1    0.786723     0.786756    MaxAbsScaler()\n",
       "2    0.786723     0.786756    MinMaxScaler()\n",
       "3    0.631801     0.638233      Normalizer()\n",
       "4    0.786723     0.786756    RobustScaler()"
      ]
     },
     "execution_count": 48,
     "metadata": {},
     "output_type": "execute_result"
    }
   ],
   "source": [
    "resultado = []\n",
    "for scaler in scalers:\n",
    "    sX = scaler.fit_transform(X)\n",
    "    modelo = SVC(kernel='linear')\n",
    "    results = cross_validate(modelo, sX, y, cv = GroupKFold(n_splits = 10), groups = treino.Age, return_train_score=True)\n",
    "    resultado.append({\n",
    "        'test_score': results['test_score'].mean(),\n",
    "        'train_score': results['train_score'].mean(),\n",
    "        'scaler': scaler\n",
    "    })\n",
    "\n",
    "pd.DataFrame(resultado)\n",
    "    "
   ]
  },
  {
   "cell_type": "code",
   "execution_count": 49,
   "id": "3e2c4f3b",
   "metadata": {},
   "outputs": [
    {
     "data": {
      "text/html": [
       "<div>\n",
       "<style scoped>\n",
       "    .dataframe tbody tr th:only-of-type {\n",
       "        vertical-align: middle;\n",
       "    }\n",
       "\n",
       "    .dataframe tbody tr th {\n",
       "        vertical-align: top;\n",
       "    }\n",
       "\n",
       "    .dataframe thead th {\n",
       "        text-align: right;\n",
       "    }\n",
       "</style>\n",
       "<table border=\"1\" class=\"dataframe\">\n",
       "  <thead>\n",
       "    <tr style=\"text-align: right;\">\n",
       "      <th></th>\n",
       "      <th>test_score</th>\n",
       "      <th>train_score</th>\n",
       "      <th>scaler</th>\n",
       "    </tr>\n",
       "  </thead>\n",
       "  <tbody>\n",
       "    <tr>\n",
       "      <th>0</th>\n",
       "      <td>0.616058</td>\n",
       "      <td>0.61616</td>\n",
       "      <td>StandardScaler()</td>\n",
       "    </tr>\n",
       "    <tr>\n",
       "      <th>1</th>\n",
       "      <td>0.616058</td>\n",
       "      <td>0.61616</td>\n",
       "      <td>MaxAbsScaler()</td>\n",
       "    </tr>\n",
       "    <tr>\n",
       "      <th>2</th>\n",
       "      <td>0.616058</td>\n",
       "      <td>0.61616</td>\n",
       "      <td>MinMaxScaler()</td>\n",
       "    </tr>\n",
       "    <tr>\n",
       "      <th>3</th>\n",
       "      <td>0.616058</td>\n",
       "      <td>0.61616</td>\n",
       "      <td>Normalizer()</td>\n",
       "    </tr>\n",
       "    <tr>\n",
       "      <th>4</th>\n",
       "      <td>0.616058</td>\n",
       "      <td>0.61616</td>\n",
       "      <td>RobustScaler()</td>\n",
       "    </tr>\n",
       "  </tbody>\n",
       "</table>\n",
       "</div>"
      ],
      "text/plain": [
       "   test_score  train_score            scaler\n",
       "0    0.616058      0.61616  StandardScaler()\n",
       "1    0.616058      0.61616    MaxAbsScaler()\n",
       "2    0.616058      0.61616    MinMaxScaler()\n",
       "3    0.616058      0.61616      Normalizer()\n",
       "4    0.616058      0.61616    RobustScaler()"
      ]
     },
     "execution_count": 49,
     "metadata": {},
     "output_type": "execute_result"
    }
   ],
   "source": [
    "resultado = []\n",
    "for scaler in scalers:\n",
    "    sX = scaler.fit_transform(nd_X)\n",
    "    modelo = SVC(kernel='linear')\n",
    "    results = cross_validate(modelo, sX, y, cv = GroupKFold(n_splits = 10), groups = treino.Age, return_train_score=True)\n",
    "    resultado.append({\n",
    "        'test_score': results['test_score'].mean(),\n",
    "        'train_score': results['train_score'].mean(),\n",
    "        'scaler': scaler\n",
    "    })\n",
    "\n",
    "pd.DataFrame(resultado)\n",
    "    "
   ]
  },
  {
   "cell_type": "markdown",
   "id": "2cdb8e88",
   "metadata": {},
   "source": [
    "O dataset com dummies se mostrou melhor à normalização, mantendo a acurácia, enquanto o dataset antigo (sem dummies) teve uma perda considerável de score."
   ]
  },
  {
   "cell_type": "markdown",
   "id": "1501562a",
   "metadata": {},
   "source": [
    "### Gerando os Submissions"
   ]
  },
  {
   "cell_type": "code",
   "execution_count": 54,
   "id": "e25ecc3f",
   "metadata": {},
   "outputs": [],
   "source": [
    "modelo = SVC(kernel='linear')\n",
    "modelo.fit(X, y)\n",
    "d_predictions = modelo.predict(Xvalidation)\n",
    "resultado = pd.DataFrame()\n",
    "resultado['PassengerId'] = teste['PassengerId']\n",
    "resultado['Survived'] = d_predictions\n",
    "resultado.to_csv('../../data/submissions/svc_dummies.csv', index=False)"
   ]
  },
  {
   "cell_type": "code",
   "execution_count": 55,
   "id": "6ad07843",
   "metadata": {},
   "outputs": [],
   "source": [
    "modelo = SVC(kernel='linear')\n",
    "modelo.fit(nd_X, nd_y)\n",
    "d_predictions = modelo.predict(nd_Xvalidacao)\n",
    "resultado = pd.DataFrame()\n",
    "resultado['PassengerId'] = teste['PassengerId']\n",
    "resultado['Survived'] = d_predictions\n",
    "resultado.to_csv('../../data/submissions/svc_no_dummies.csv', index=False)"
   ]
  },
  {
   "cell_type": "code",
   "execution_count": 56,
   "id": "0a7bdfa7",
   "metadata": {},
   "outputs": [],
   "source": [
    "modelo = SVC(kernel='linear')\n",
    "scaler = StandardScaler()\n",
    "sX = scaler.fit_transform(X)\n",
    "modelo.fit(sX, y)\n",
    "d_predictions = modelo.predict(Xvalidation)\n",
    "resultado = pd.DataFrame()\n",
    "resultado['PassengerId'] = teste['PassengerId']\n",
    "resultado['Survived'] = d_predictions\n",
    "resultado.to_csv('../../data/submissions/svc_dummies_ss.csv', index=False)"
   ]
  },
  {
   "cell_type": "markdown",
   "id": "77a4f9ee",
   "metadata": {},
   "source": [
    "O melhor modelo foi o `SVC` sem dummies e sem normalização, obtendo no kaggle 77% de acurácia, ainda inferior ao melhor resultado da `DecisionTree`. O problema está no dataset ou no modelo? No caso do `SVC` a diferença entre o teste no treino e a validação no Kaggle ficou em torno de 1 ~ 2%, enquanto nas árvores a diferença chegou a 10%, indicando overfitting."
   ]
  },
  {
   "cell_type": "markdown",
   "id": "d0fcaff0",
   "metadata": {},
   "source": [
    "## `LinearSVC`"
   ]
  },
  {
   "cell_type": "code",
   "execution_count": 81,
   "id": "5c4f8ae0",
   "metadata": {},
   "outputs": [
    {
     "name": "stdout",
     "output_type": "stream",
     "text": [
      "\n",
      "TrainScore: 80.14711355171771% | TestScore: 79.68735103847465%\n"
     ]
    }
   ],
   "source": [
    "modelo = LinearSVC(max_iter=3000)\n",
    "scaler = StandardScaler()\n",
    "sX = scaler.fit_transform(X)\n",
    "results = cross_validate(modelo, sX, y, cv = GroupKFold(n_splits = 10), groups = treino.Age, return_train_score=True)\n",
    "print(f\"\\nTrainScore: {results['train_score'].mean() * 100}% | TestScore: {results['test_score'].mean() * 100}%\")"
   ]
  },
  {
   "cell_type": "code",
   "execution_count": 93,
   "id": "ae8b7794",
   "metadata": {},
   "outputs": [
    {
     "name": "stdout",
     "output_type": "stream",
     "text": [
      "\n",
      "TrainScore: 80.80810164752033% | TestScore: 80.47386789240723%\n"
     ]
    }
   ],
   "source": [
    "modelo = LinearSVC(max_iter=2000)\n",
    "scaler = StandardScaler()\n",
    "sX = scaler.fit_transform(nd_X)\n",
    "results = cross_validate(modelo, sX, nd_y, cv = GroupKFold(n_splits = 10), groups = treino.Age, return_train_score=True)\n",
    "print(f\"\\nTrainScore: {results['train_score'].mean() * 100}% | TestScore: {results['test_score'].mean() * 100}%\")"
   ]
  },
  {
   "cell_type": "code",
   "execution_count": 94,
   "id": "9fe227f9",
   "metadata": {},
   "outputs": [],
   "source": [
    "scaler = StandardScaler()\n",
    "vX = scaler.fit_transform(nd_Xvalidacao)\n",
    "\n",
    "modelo.fit(sX, nd_y)\n",
    "predictions = modelo.predict(vX)\n",
    "resultado = pd.DataFrame()\n",
    "resultado['PassengerId'] = teste['PassengerId']\n",
    "resultado['Survived'] = d_predictions\n",
    "resultado.to_csv('../../data/submissions/linear_svc.csv', index=False)"
   ]
  },
  {
   "cell_type": "markdown",
   "id": "b6650a7d",
   "metadata": {},
   "source": [
    "Mesmo tendo testes mais consistentes aqui, para o Kaggle o resultado ainda foi 76.5%. Na verdade poucos modelos conseguem ultrapassar esse valor. Tudo parece indicar para o tratamento dado ao dataset original."
   ]
  },
  {
   "cell_type": "code",
   "execution_count": null,
   "id": "71958583",
   "metadata": {},
   "outputs": [],
   "source": []
  }
 ],
 "metadata": {
  "kernelspec": {
   "display_name": "Python 3",
   "language": "python",
   "name": "python3"
  },
  "language_info": {
   "codemirror_mode": {
    "name": "ipython",
    "version": 3
   },
   "file_extension": ".py",
   "mimetype": "text/x-python",
   "name": "python",
   "nbconvert_exporter": "python",
   "pygments_lexer": "ipython3",
   "version": "3.8.8"
  }
 },
 "nbformat": 4,
 "nbformat_minor": 5
}
