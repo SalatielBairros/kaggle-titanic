{
 "cells": [
  {
   "cell_type": "markdown",
   "id": "88fcba17",
   "metadata": {},
   "source": [
    "# 07 - DecisionTree\n",
    "\n",
    "Realizando a predição com DecisionTree. Lembrando que a acurácia para os dados de treino precisa ser superior a 78% para que seja considerada válida para testarmos com os dados de teste."
   ]
  },
  {
   "cell_type": "markdown",
   "id": "6dc9e151",
   "metadata": {},
   "source": [
    "## Preparando o ambiente"
   ]
  },
  {
   "cell_type": "code",
   "execution_count": 1,
   "id": "69248cf2",
   "metadata": {},
   "outputs": [],
   "source": [
    "#!pip install graphviz\n",
    "#!conda install python-graphviz"
   ]
  },
  {
   "cell_type": "code",
   "execution_count": 2,
   "id": "bd296f7c",
   "metadata": {},
   "outputs": [
    {
     "name": "stdout",
     "output_type": "stream",
     "text": [
      "GraphViz: 0.17\n"
     ]
    }
   ],
   "source": [
    "import pandas as pd\n",
    "import numpy as np\n",
    "import seaborn as sns\n",
    "from sklearn.model_selection import train_test_split, GridSearchCV\n",
    "from sklearn.metrics import accuracy_score\n",
    "from sklearn.tree import DecisionTreeClassifier\n",
    "from sklearn.tree import export_graphviz\n",
    "from sklearn.preprocessing import StandardScaler, MaxAbsScaler, MinMaxScaler, Normalizer, RobustScaler\n",
    "import graphviz\n",
    "from IPython.display import display\n",
    "\n",
    "print(f'GraphViz: {graphviz.__version__}')"
   ]
  },
  {
   "cell_type": "code",
   "execution_count": 3,
   "id": "07a90bef",
   "metadata": {},
   "outputs": [],
   "source": [
    "sns.set(rc={'figure.figsize':(18, 12)})"
   ]
  },
  {
   "cell_type": "code",
   "execution_count": 4,
   "id": "4beb6743",
   "metadata": {},
   "outputs": [],
   "source": [
    "def exibir_arvore(modelo):\n",
    "  dot_data = export_graphviz(modelo, \n",
    "                  out_file=None,\n",
    "                  filled=True,\n",
    "                  rounded=True)\n",
    "  display(graphviz.Source(dot_data))"
   ]
  },
  {
   "cell_type": "markdown",
   "id": "359c57e8",
   "metadata": {},
   "source": [
    "## Carregando os dados"
   ]
  },
  {
   "cell_type": "markdown",
   "id": "2d80354f",
   "metadata": {},
   "source": [
    "### Carregando dados de treino"
   ]
  },
  {
   "cell_type": "code",
   "execution_count": 49,
   "id": "366187c7",
   "metadata": {},
   "outputs": [
    {
     "data": {
      "text/html": [
       "<div>\n",
       "<style scoped>\n",
       "    .dataframe tbody tr th:only-of-type {\n",
       "        vertical-align: middle;\n",
       "    }\n",
       "\n",
       "    .dataframe tbody tr th {\n",
       "        vertical-align: top;\n",
       "    }\n",
       "\n",
       "    .dataframe thead th {\n",
       "        text-align: right;\n",
       "    }\n",
       "</style>\n",
       "<table border=\"1\" class=\"dataframe\">\n",
       "  <thead>\n",
       "    <tr style=\"text-align: right;\">\n",
       "      <th></th>\n",
       "      <th>Survived</th>\n",
       "      <th>Pclass</th>\n",
       "      <th>Sex</th>\n",
       "      <th>Age</th>\n",
       "      <th>SibSp</th>\n",
       "      <th>Parch</th>\n",
       "      <th>Floor</th>\n",
       "      <th>Relateds</th>\n",
       "      <th>faixa_etaria</th>\n",
       "      <th>acompanhado</th>\n",
       "      <th>possui_cabine</th>\n",
       "    </tr>\n",
       "  </thead>\n",
       "  <tbody>\n",
       "    <tr>\n",
       "      <th>0</th>\n",
       "      <td>0</td>\n",
       "      <td>3</td>\n",
       "      <td>male</td>\n",
       "      <td>22</td>\n",
       "      <td>1</td>\n",
       "      <td>0</td>\n",
       "      <td>SC</td>\n",
       "      <td>1</td>\n",
       "      <td>jovem_adulto</td>\n",
       "      <td>True</td>\n",
       "      <td>False</td>\n",
       "    </tr>\n",
       "    <tr>\n",
       "      <th>1</th>\n",
       "      <td>0</td>\n",
       "      <td>3</td>\n",
       "      <td>male</td>\n",
       "      <td>22</td>\n",
       "      <td>0</td>\n",
       "      <td>0</td>\n",
       "      <td>SC</td>\n",
       "      <td>0</td>\n",
       "      <td>jovem_adulto</td>\n",
       "      <td>False</td>\n",
       "      <td>False</td>\n",
       "    </tr>\n",
       "    <tr>\n",
       "      <th>2</th>\n",
       "      <td>0</td>\n",
       "      <td>3</td>\n",
       "      <td>male</td>\n",
       "      <td>22</td>\n",
       "      <td>0</td>\n",
       "      <td>0</td>\n",
       "      <td>SC</td>\n",
       "      <td>0</td>\n",
       "      <td>jovem_adulto</td>\n",
       "      <td>False</td>\n",
       "      <td>False</td>\n",
       "    </tr>\n",
       "    <tr>\n",
       "      <th>3</th>\n",
       "      <td>0</td>\n",
       "      <td>3</td>\n",
       "      <td>male</td>\n",
       "      <td>22</td>\n",
       "      <td>0</td>\n",
       "      <td>0</td>\n",
       "      <td>SC</td>\n",
       "      <td>0</td>\n",
       "      <td>jovem_adulto</td>\n",
       "      <td>False</td>\n",
       "      <td>False</td>\n",
       "    </tr>\n",
       "    <tr>\n",
       "      <th>4</th>\n",
       "      <td>0</td>\n",
       "      <td>3</td>\n",
       "      <td>male</td>\n",
       "      <td>22</td>\n",
       "      <td>0</td>\n",
       "      <td>0</td>\n",
       "      <td>SC</td>\n",
       "      <td>0</td>\n",
       "      <td>jovem_adulto</td>\n",
       "      <td>False</td>\n",
       "      <td>False</td>\n",
       "    </tr>\n",
       "  </tbody>\n",
       "</table>\n",
       "</div>"
      ],
      "text/plain": [
       "   Survived  Pclass   Sex  Age  SibSp  Parch Floor  Relateds  faixa_etaria  \\\n",
       "0         0       3  male   22      1      0    SC         1  jovem_adulto   \n",
       "1         0       3  male   22      0      0    SC         0  jovem_adulto   \n",
       "2         0       3  male   22      0      0    SC         0  jovem_adulto   \n",
       "3         0       3  male   22      0      0    SC         0  jovem_adulto   \n",
       "4         0       3  male   22      0      0    SC         0  jovem_adulto   \n",
       "\n",
       "   acompanhado  possui_cabine  \n",
       "0         True          False  \n",
       "1        False          False  \n",
       "2        False          False  \n",
       "3        False          False  \n",
       "4        False          False  "
      ]
     },
     "execution_count": 49,
     "metadata": {},
     "output_type": "execute_result"
    }
   ],
   "source": [
    "titanic = pd.read_csv('https://raw.githubusercontent.com/SalatielBairros/kaggle-titanic/main/data/processed/train_processed_byage_ag.csv')\n",
    "del titanic['Unnamed: 0']\n",
    "titanic.head(5)"
   ]
  },
  {
   "cell_type": "code",
   "execution_count": 50,
   "id": "9230c28d",
   "metadata": {},
   "outputs": [
    {
     "data": {
      "text/html": [
       "<div>\n",
       "<style scoped>\n",
       "    .dataframe tbody tr th:only-of-type {\n",
       "        vertical-align: middle;\n",
       "    }\n",
       "\n",
       "    .dataframe tbody tr th {\n",
       "        vertical-align: top;\n",
       "    }\n",
       "\n",
       "    .dataframe thead th {\n",
       "        text-align: right;\n",
       "    }\n",
       "</style>\n",
       "<table border=\"1\" class=\"dataframe\">\n",
       "  <thead>\n",
       "    <tr style=\"text-align: right;\">\n",
       "      <th></th>\n",
       "      <th>Survived</th>\n",
       "      <th>Pclass</th>\n",
       "      <th>Sex</th>\n",
       "      <th>Age</th>\n",
       "      <th>SibSp</th>\n",
       "      <th>Parch</th>\n",
       "      <th>Floor</th>\n",
       "      <th>Relateds</th>\n",
       "      <th>faixa_etaria</th>\n",
       "      <th>acompanhado</th>\n",
       "      <th>possui_cabine</th>\n",
       "    </tr>\n",
       "  </thead>\n",
       "  <tbody>\n",
       "    <tr>\n",
       "      <th>0</th>\n",
       "      <td>0</td>\n",
       "      <td>3</td>\n",
       "      <td>0</td>\n",
       "      <td>22</td>\n",
       "      <td>1</td>\n",
       "      <td>0</td>\n",
       "      <td>SC</td>\n",
       "      <td>1</td>\n",
       "      <td>jovem_adulto</td>\n",
       "      <td>True</td>\n",
       "      <td>False</td>\n",
       "    </tr>\n",
       "    <tr>\n",
       "      <th>1</th>\n",
       "      <td>0</td>\n",
       "      <td>3</td>\n",
       "      <td>0</td>\n",
       "      <td>22</td>\n",
       "      <td>0</td>\n",
       "      <td>0</td>\n",
       "      <td>SC</td>\n",
       "      <td>0</td>\n",
       "      <td>jovem_adulto</td>\n",
       "      <td>False</td>\n",
       "      <td>False</td>\n",
       "    </tr>\n",
       "  </tbody>\n",
       "</table>\n",
       "</div>"
      ],
      "text/plain": [
       "   Survived  Pclass  Sex  Age  SibSp  Parch Floor  Relateds  faixa_etaria  \\\n",
       "0         0       3    0   22      1      0    SC         1  jovem_adulto   \n",
       "1         0       3    0   22      0      0    SC         0  jovem_adulto   \n",
       "\n",
       "   acompanhado  possui_cabine  \n",
       "0         True          False  \n",
       "1        False          False  "
      ]
     },
     "execution_count": 50,
     "metadata": {},
     "output_type": "execute_result"
    }
   ],
   "source": [
    "sex_map = {\n",
    "    'male': 0,\n",
    "    'female': 1\n",
    "}\n",
    "titanic['Sex'] = titanic['Sex'].map(sex_map)\n",
    "titanic.head(2)"
   ]
  },
  {
   "cell_type": "code",
   "execution_count": 51,
   "id": "6b37d0f1",
   "metadata": {},
   "outputs": [
    {
     "data": {
      "text/html": [
       "<div>\n",
       "<style scoped>\n",
       "    .dataframe tbody tr th:only-of-type {\n",
       "        vertical-align: middle;\n",
       "    }\n",
       "\n",
       "    .dataframe tbody tr th {\n",
       "        vertical-align: top;\n",
       "    }\n",
       "\n",
       "    .dataframe thead th {\n",
       "        text-align: right;\n",
       "    }\n",
       "</style>\n",
       "<table border=\"1\" class=\"dataframe\">\n",
       "  <thead>\n",
       "    <tr style=\"text-align: right;\">\n",
       "      <th></th>\n",
       "      <th>Survived</th>\n",
       "      <th>Pclass</th>\n",
       "      <th>Sex</th>\n",
       "      <th>Age</th>\n",
       "      <th>SibSp</th>\n",
       "      <th>Parch</th>\n",
       "      <th>Floor</th>\n",
       "      <th>Relateds</th>\n",
       "      <th>faixa_etaria</th>\n",
       "      <th>acompanhado</th>\n",
       "      <th>possui_cabine</th>\n",
       "    </tr>\n",
       "  </thead>\n",
       "  <tbody>\n",
       "    <tr>\n",
       "      <th>0</th>\n",
       "      <td>0</td>\n",
       "      <td>3</td>\n",
       "      <td>0</td>\n",
       "      <td>22</td>\n",
       "      <td>1</td>\n",
       "      <td>0</td>\n",
       "      <td>SC</td>\n",
       "      <td>1</td>\n",
       "      <td>jovem_adulto</td>\n",
       "      <td>1</td>\n",
       "      <td>0</td>\n",
       "    </tr>\n",
       "    <tr>\n",
       "      <th>1</th>\n",
       "      <td>0</td>\n",
       "      <td>3</td>\n",
       "      <td>0</td>\n",
       "      <td>22</td>\n",
       "      <td>0</td>\n",
       "      <td>0</td>\n",
       "      <td>SC</td>\n",
       "      <td>0</td>\n",
       "      <td>jovem_adulto</td>\n",
       "      <td>0</td>\n",
       "      <td>0</td>\n",
       "    </tr>\n",
       "  </tbody>\n",
       "</table>\n",
       "</div>"
      ],
      "text/plain": [
       "   Survived  Pclass  Sex  Age  SibSp  Parch Floor  Relateds  faixa_etaria  \\\n",
       "0         0       3    0   22      1      0    SC         1  jovem_adulto   \n",
       "1         0       3    0   22      0      0    SC         0  jovem_adulto   \n",
       "\n",
       "   acompanhado  possui_cabine  \n",
       "0            1              0  \n",
       "1            0              0  "
      ]
     },
     "execution_count": 51,
     "metadata": {},
     "output_type": "execute_result"
    }
   ],
   "source": [
    "boolean_map = {\n",
    "    True: 1,\n",
    "    False: 0\n",
    "}\n",
    "titanic['acompanhado'] = titanic['acompanhado'].map(boolean_map)\n",
    "titanic['possui_cabine'] = titanic['possui_cabine'].map(boolean_map)\n",
    "titanic.head(2)"
   ]
  },
  {
   "cell_type": "code",
   "execution_count": 52,
   "id": "3901c43f",
   "metadata": {},
   "outputs": [
    {
     "data": {
      "text/plain": [
       "array(['SC', 'C', 'E', 'B', 'A', 'D', 'G', 'F', 'T'], dtype=object)"
      ]
     },
     "execution_count": 52,
     "metadata": {},
     "output_type": "execute_result"
    }
   ],
   "source": [
    "titanic['Floor'].unique()"
   ]
  },
  {
   "cell_type": "code",
   "execution_count": 53,
   "id": "21d68e99",
   "metadata": {},
   "outputs": [
    {
     "data": {
      "text/plain": [
       "Survived         0\n",
       "Pclass           0\n",
       "Sex              0\n",
       "Age              0\n",
       "SibSp            0\n",
       "Parch            0\n",
       "Floor            0\n",
       "Relateds         0\n",
       "faixa_etaria     0\n",
       "acompanhado      0\n",
       "possui_cabine    0\n",
       "dtype: int64"
      ]
     },
     "execution_count": 53,
     "metadata": {},
     "output_type": "execute_result"
    }
   ],
   "source": [
    "floor_map = {\n",
    "    'SC': 0,\n",
    "    'A': 1,\n",
    "    'B': 2,\n",
    "    'C': 3,\n",
    "    'D': 4,\n",
    "    'E': 5,\n",
    "    'F': 6,\n",
    "    'G': 7,\n",
    "    'T': 8\n",
    "}\n",
    "titanic['Floor'] = titanic['Floor'].map(floor_map)\n",
    "titanic.isnull().sum()"
   ]
  },
  {
   "cell_type": "code",
   "execution_count": 54,
   "id": "1270344f",
   "metadata": {},
   "outputs": [
    {
     "data": {
      "text/html": [
       "<div>\n",
       "<style scoped>\n",
       "    .dataframe tbody tr th:only-of-type {\n",
       "        vertical-align: middle;\n",
       "    }\n",
       "\n",
       "    .dataframe tbody tr th {\n",
       "        vertical-align: top;\n",
       "    }\n",
       "\n",
       "    .dataframe thead th {\n",
       "        text-align: right;\n",
       "    }\n",
       "</style>\n",
       "<table border=\"1\" class=\"dataframe\">\n",
       "  <thead>\n",
       "    <tr style=\"text-align: right;\">\n",
       "      <th></th>\n",
       "      <th>Survived</th>\n",
       "      <th>Pclass</th>\n",
       "      <th>Sex</th>\n",
       "      <th>Age</th>\n",
       "      <th>SibSp</th>\n",
       "      <th>Parch</th>\n",
       "      <th>Floor</th>\n",
       "      <th>Relateds</th>\n",
       "      <th>faixa_etaria</th>\n",
       "      <th>acompanhado</th>\n",
       "      <th>possui_cabine</th>\n",
       "    </tr>\n",
       "  </thead>\n",
       "  <tbody>\n",
       "    <tr>\n",
       "      <th>0</th>\n",
       "      <td>0</td>\n",
       "      <td>3</td>\n",
       "      <td>0</td>\n",
       "      <td>22</td>\n",
       "      <td>1</td>\n",
       "      <td>0</td>\n",
       "      <td>0</td>\n",
       "      <td>1</td>\n",
       "      <td>1</td>\n",
       "      <td>1</td>\n",
       "      <td>0</td>\n",
       "    </tr>\n",
       "    <tr>\n",
       "      <th>1</th>\n",
       "      <td>0</td>\n",
       "      <td>3</td>\n",
       "      <td>0</td>\n",
       "      <td>22</td>\n",
       "      <td>0</td>\n",
       "      <td>0</td>\n",
       "      <td>0</td>\n",
       "      <td>0</td>\n",
       "      <td>1</td>\n",
       "      <td>0</td>\n",
       "      <td>0</td>\n",
       "    </tr>\n",
       "  </tbody>\n",
       "</table>\n",
       "</div>"
      ],
      "text/plain": [
       "   Survived  Pclass  Sex  Age  SibSp  Parch  Floor  Relateds  faixa_etaria  \\\n",
       "0         0       3    0   22      1      0      0         1             1   \n",
       "1         0       3    0   22      0      0      0         0             1   \n",
       "\n",
       "   acompanhado  possui_cabine  \n",
       "0            1              0  \n",
       "1            0              0  "
      ]
     },
     "execution_count": 54,
     "metadata": {},
     "output_type": "execute_result"
    }
   ],
   "source": [
    "faixa_etaria_map = {\n",
    "    'jovem_adulto': 1,\n",
    "    'adulto_idoso': 2,\n",
    "    'crianca_adolescente': 0\n",
    "}\n",
    "titanic['faixa_etaria'] = titanic['faixa_etaria'].map(faixa_etaria_map)\n",
    "titanic.head(2)"
   ]
  },
  {
   "cell_type": "code",
   "execution_count": 55,
   "id": "c1a3b577",
   "metadata": {},
   "outputs": [
    {
     "data": {
      "text/html": [
       "<div>\n",
       "<style scoped>\n",
       "    .dataframe tbody tr th:only-of-type {\n",
       "        vertical-align: middle;\n",
       "    }\n",
       "\n",
       "    .dataframe tbody tr th {\n",
       "        vertical-align: top;\n",
       "    }\n",
       "\n",
       "    .dataframe thead th {\n",
       "        text-align: right;\n",
       "    }\n",
       "</style>\n",
       "<table border=\"1\" class=\"dataframe\">\n",
       "  <thead>\n",
       "    <tr style=\"text-align: right;\">\n",
       "      <th></th>\n",
       "      <th>Survived</th>\n",
       "      <th>Pclass</th>\n",
       "      <th>Sex</th>\n",
       "      <th>Age</th>\n",
       "      <th>SibSp</th>\n",
       "      <th>Parch</th>\n",
       "      <th>Floor</th>\n",
       "      <th>Relateds</th>\n",
       "      <th>faixa_etaria</th>\n",
       "      <th>acompanhado</th>\n",
       "      <th>possui_cabine</th>\n",
       "    </tr>\n",
       "  </thead>\n",
       "  <tbody>\n",
       "    <tr>\n",
       "      <th>61</th>\n",
       "      <td>0</td>\n",
       "      <td>3</td>\n",
       "      <td>0</td>\n",
       "      <td>26</td>\n",
       "      <td>0</td>\n",
       "      <td>0</td>\n",
       "      <td>0</td>\n",
       "      <td>0</td>\n",
       "      <td>1</td>\n",
       "      <td>0</td>\n",
       "      <td>0</td>\n",
       "    </tr>\n",
       "    <tr>\n",
       "      <th>210</th>\n",
       "      <td>1</td>\n",
       "      <td>1</td>\n",
       "      <td>1</td>\n",
       "      <td>39</td>\n",
       "      <td>1</td>\n",
       "      <td>1</td>\n",
       "      <td>3</td>\n",
       "      <td>2</td>\n",
       "      <td>1</td>\n",
       "      <td>1</td>\n",
       "      <td>1</td>\n",
       "    </tr>\n",
       "  </tbody>\n",
       "</table>\n",
       "</div>"
      ],
      "text/plain": [
       "     Survived  Pclass  Sex  Age  SibSp  Parch  Floor  Relateds  faixa_etaria  \\\n",
       "61          0       3    0   26      0      0      0         0             1   \n",
       "210         1       1    1   39      1      1      3         2             1   \n",
       "\n",
       "     acompanhado  possui_cabine  \n",
       "61             0              0  \n",
       "210            1              1  "
      ]
     },
     "execution_count": 55,
     "metadata": {},
     "output_type": "execute_result"
    }
   ],
   "source": [
    "treino_1 = titanic\n",
    "treino_1.sample(2)"
   ]
  },
  {
   "cell_type": "markdown",
   "id": "237bbc53",
   "metadata": {},
   "source": [
    "### Carregando dados de teste"
   ]
  },
  {
   "cell_type": "code",
   "execution_count": 56,
   "id": "a805a3e1",
   "metadata": {},
   "outputs": [
    {
     "data": {
      "text/html": [
       "<div>\n",
       "<style scoped>\n",
       "    .dataframe tbody tr th:only-of-type {\n",
       "        vertical-align: middle;\n",
       "    }\n",
       "\n",
       "    .dataframe tbody tr th {\n",
       "        vertical-align: top;\n",
       "    }\n",
       "\n",
       "    .dataframe thead th {\n",
       "        text-align: right;\n",
       "    }\n",
       "</style>\n",
       "<table border=\"1\" class=\"dataframe\">\n",
       "  <thead>\n",
       "    <tr style=\"text-align: right;\">\n",
       "      <th></th>\n",
       "      <th>Pclass</th>\n",
       "      <th>Sex</th>\n",
       "      <th>Age</th>\n",
       "      <th>SibSp</th>\n",
       "      <th>Parch</th>\n",
       "      <th>Floor</th>\n",
       "      <th>Relateds</th>\n",
       "      <th>possui_cabine</th>\n",
       "      <th>acompanhado</th>\n",
       "      <th>faixa_etaria</th>\n",
       "    </tr>\n",
       "  </thead>\n",
       "  <tbody>\n",
       "    <tr>\n",
       "      <th>0</th>\n",
       "      <td>3</td>\n",
       "      <td>0</td>\n",
       "      <td>34</td>\n",
       "      <td>0</td>\n",
       "      <td>0</td>\n",
       "      <td>0</td>\n",
       "      <td>0</td>\n",
       "      <td>0</td>\n",
       "      <td>0</td>\n",
       "      <td>1</td>\n",
       "    </tr>\n",
       "    <tr>\n",
       "      <th>1</th>\n",
       "      <td>3</td>\n",
       "      <td>1</td>\n",
       "      <td>47</td>\n",
       "      <td>1</td>\n",
       "      <td>0</td>\n",
       "      <td>0</td>\n",
       "      <td>1</td>\n",
       "      <td>0</td>\n",
       "      <td>1</td>\n",
       "      <td>2</td>\n",
       "    </tr>\n",
       "    <tr>\n",
       "      <th>2</th>\n",
       "      <td>2</td>\n",
       "      <td>0</td>\n",
       "      <td>62</td>\n",
       "      <td>0</td>\n",
       "      <td>0</td>\n",
       "      <td>0</td>\n",
       "      <td>0</td>\n",
       "      <td>0</td>\n",
       "      <td>0</td>\n",
       "      <td>2</td>\n",
       "    </tr>\n",
       "    <tr>\n",
       "      <th>3</th>\n",
       "      <td>3</td>\n",
       "      <td>0</td>\n",
       "      <td>27</td>\n",
       "      <td>0</td>\n",
       "      <td>0</td>\n",
       "      <td>0</td>\n",
       "      <td>0</td>\n",
       "      <td>0</td>\n",
       "      <td>0</td>\n",
       "      <td>1</td>\n",
       "    </tr>\n",
       "    <tr>\n",
       "      <th>4</th>\n",
       "      <td>3</td>\n",
       "      <td>1</td>\n",
       "      <td>22</td>\n",
       "      <td>1</td>\n",
       "      <td>1</td>\n",
       "      <td>0</td>\n",
       "      <td>2</td>\n",
       "      <td>0</td>\n",
       "      <td>1</td>\n",
       "      <td>1</td>\n",
       "    </tr>\n",
       "  </tbody>\n",
       "</table>\n",
       "</div>"
      ],
      "text/plain": [
       "   Pclass  Sex  Age  SibSp  Parch  Floor  Relateds  possui_cabine  \\\n",
       "0       3    0   34      0      0      0         0              0   \n",
       "1       3    1   47      1      0      0         1              0   \n",
       "2       2    0   62      0      0      0         0              0   \n",
       "3       3    0   27      0      0      0         0              0   \n",
       "4       3    1   22      1      1      0         2              0   \n",
       "\n",
       "   acompanhado  faixa_etaria  \n",
       "0            0             1  \n",
       "1            1             2  \n",
       "2            0             2  \n",
       "3            0             1  \n",
       "4            1             1  "
      ]
     },
     "execution_count": 56,
     "metadata": {},
     "output_type": "execute_result"
    }
   ],
   "source": [
    "teste = pd.read_csv('https://raw.githubusercontent.com/SalatielBairros/kaggle-titanic/main/data/processed/test_processed.csv')\n",
    "del teste['Unnamed: 0']\n",
    "\n",
    "teste['acompanhado'] = teste['acompanhado'].map(boolean_map)\n",
    "teste['possui_cabine'] = teste['possui_cabine'].map(boolean_map)\n",
    "teste['Floor'] = teste['Floor'].map(floor_map)\n",
    "teste['Sex'] = teste['Sex'].map(sex_map)\n",
    "teste['faixa_etaria'] = teste['faixa_etaria'].map(faixa_etaria_map)\n",
    "\n",
    "Xvalidacao = teste.drop(columns=['PassengerId'])\n",
    "Xvalidacao.head(5)"
   ]
  },
  {
   "cell_type": "markdown",
   "id": "799479de",
   "metadata": {},
   "source": [
    "### Separando treino e teste"
   ]
  },
  {
   "cell_type": "code",
   "execution_count": 57,
   "id": "420f7d3f",
   "metadata": {},
   "outputs": [],
   "source": [
    "SEED = 5\n",
    "np.random.seed(SEED)"
   ]
  },
  {
   "cell_type": "code",
   "execution_count": 58,
   "id": "09afeab7",
   "metadata": {},
   "outputs": [],
   "source": [
    "X = treino_1.drop(columns=['Survived'])\n",
    "y = treino_1['Survived']"
   ]
  },
  {
   "cell_type": "code",
   "execution_count": 59,
   "id": "c9f90083",
   "metadata": {},
   "outputs": [],
   "source": [
    "treino_x, teste_x, treino_y, teste_y = train_test_split(X, y, test_size = 0.2, stratify = y)"
   ]
  },
  {
   "cell_type": "code",
   "execution_count": 60,
   "id": "8a2d0a72",
   "metadata": {},
   "outputs": [
    {
     "name": "stdout",
     "output_type": "stream",
     "text": [
      "Treinaremos com 712 elementos e testaremos com 179 elementos\n"
     ]
    }
   ],
   "source": [
    "print(\"Treinaremos com %d elementos e testaremos com %d elementos\" % (len(treino_x), len(teste_x)))"
   ]
  },
  {
   "cell_type": "markdown",
   "id": "07438153",
   "metadata": {},
   "source": [
    "## Execução da Árvore de decisão"
   ]
  },
  {
   "cell_type": "code",
   "execution_count": 87,
   "id": "344058f2",
   "metadata": {},
   "outputs": [],
   "source": [
    "espaco_de_parametros = {\n",
    "    \"criterion\": [\"gini\", \"entropy\"],\n",
    "    \"max_depth\" : [2, 3, 5, 7, 9, 11, 13],\n",
    "    \"min_samples_split\": [2, 8, 16, 32],\n",
    "    \"min_samples_leaf\": [1, 2, 8, 16, 32]    \n",
    "}"
   ]
  },
  {
   "cell_type": "code",
   "execution_count": 88,
   "id": "07827de0",
   "metadata": {},
   "outputs": [],
   "source": [
    "busca = GridSearchCV(DecisionTreeClassifier(), espaco_de_parametros)"
   ]
  },
  {
   "cell_type": "code",
   "execution_count": 89,
   "id": "f6662827",
   "metadata": {},
   "outputs": [
    {
     "data": {
      "text/plain": [
       "GridSearchCV(estimator=DecisionTreeClassifier(),\n",
       "             param_grid={'criterion': ['gini', 'entropy'],\n",
       "                         'max_depth': [2, 3, 5, 7, 9, 11, 13],\n",
       "                         'min_samples_leaf': [1, 2, 8, 16, 32],\n",
       "                         'min_samples_split': [2, 8, 16, 32]})"
      ]
     },
     "execution_count": 89,
     "metadata": {},
     "output_type": "execute_result"
    }
   ],
   "source": [
    "busca.fit(treino_x, treino_y)"
   ]
  },
  {
   "cell_type": "code",
   "execution_count": 90,
   "id": "38a39dda",
   "metadata": {},
   "outputs": [
    {
     "data": {
      "text/html": [
       "<div>\n",
       "<style scoped>\n",
       "    .dataframe tbody tr th:only-of-type {\n",
       "        vertical-align: middle;\n",
       "    }\n",
       "\n",
       "    .dataframe tbody tr th {\n",
       "        vertical-align: top;\n",
       "    }\n",
       "\n",
       "    .dataframe thead th {\n",
       "        text-align: right;\n",
       "    }\n",
       "</style>\n",
       "<table border=\"1\" class=\"dataframe\">\n",
       "  <thead>\n",
       "    <tr style=\"text-align: right;\">\n",
       "      <th></th>\n",
       "      <th>mean_fit_time</th>\n",
       "      <th>std_fit_time</th>\n",
       "      <th>mean_score_time</th>\n",
       "      <th>std_score_time</th>\n",
       "      <th>param_criterion</th>\n",
       "      <th>param_max_depth</th>\n",
       "      <th>param_min_samples_leaf</th>\n",
       "      <th>param_min_samples_split</th>\n",
       "      <th>params</th>\n",
       "      <th>split0_test_score</th>\n",
       "      <th>split1_test_score</th>\n",
       "      <th>split2_test_score</th>\n",
       "      <th>split3_test_score</th>\n",
       "      <th>split4_test_score</th>\n",
       "      <th>mean_test_score</th>\n",
       "      <th>std_test_score</th>\n",
       "      <th>rank_test_score</th>\n",
       "    </tr>\n",
       "  </thead>\n",
       "  <tbody>\n",
       "    <tr>\n",
       "      <th>157</th>\n",
       "      <td>0.003126</td>\n",
       "      <td>0.006252</td>\n",
       "      <td>0.00313</td>\n",
       "      <td>0.006260</td>\n",
       "      <td>entropy</td>\n",
       "      <td>2</td>\n",
       "      <td>32</td>\n",
       "      <td>8</td>\n",
       "      <td>{'criterion': 'entropy', 'max_depth': 2, 'min_...</td>\n",
       "      <td>0.755245</td>\n",
       "      <td>0.762238</td>\n",
       "      <td>0.767606</td>\n",
       "      <td>0.753521</td>\n",
       "      <td>0.830986</td>\n",
       "      <td>0.773919</td>\n",
       "      <td>0.028975</td>\n",
       "      <td>240</td>\n",
       "    </tr>\n",
       "    <tr>\n",
       "      <th>26</th>\n",
       "      <td>0.001602</td>\n",
       "      <td>0.003204</td>\n",
       "      <td>0.00601</td>\n",
       "      <td>0.003124</td>\n",
       "      <td>gini</td>\n",
       "      <td>3</td>\n",
       "      <td>2</td>\n",
       "      <td>16</td>\n",
       "      <td>{'criterion': 'gini', 'max_depth': 3, 'min_sam...</td>\n",
       "      <td>0.811189</td>\n",
       "      <td>0.818182</td>\n",
       "      <td>0.753521</td>\n",
       "      <td>0.809859</td>\n",
       "      <td>0.830986</td>\n",
       "      <td>0.804747</td>\n",
       "      <td>0.026686</td>\n",
       "      <td>30</td>\n",
       "    </tr>\n",
       "  </tbody>\n",
       "</table>\n",
       "</div>"
      ],
      "text/plain": [
       "     mean_fit_time  std_fit_time  mean_score_time  std_score_time  \\\n",
       "157       0.003126      0.006252          0.00313        0.006260   \n",
       "26        0.001602      0.003204          0.00601        0.003124   \n",
       "\n",
       "    param_criterion param_max_depth param_min_samples_leaf  \\\n",
       "157         entropy               2                     32   \n",
       "26             gini               3                      2   \n",
       "\n",
       "    param_min_samples_split  \\\n",
       "157                       8   \n",
       "26                       16   \n",
       "\n",
       "                                                params  split0_test_score  \\\n",
       "157  {'criterion': 'entropy', 'max_depth': 2, 'min_...           0.755245   \n",
       "26   {'criterion': 'gini', 'max_depth': 3, 'min_sam...           0.811189   \n",
       "\n",
       "     split1_test_score  split2_test_score  split3_test_score  \\\n",
       "157           0.762238           0.767606           0.753521   \n",
       "26            0.818182           0.753521           0.809859   \n",
       "\n",
       "     split4_test_score  mean_test_score  std_test_score  rank_test_score  \n",
       "157           0.830986         0.773919        0.028975              240  \n",
       "26            0.830986         0.804747        0.026686               30  "
      ]
     },
     "execution_count": 90,
     "metadata": {},
     "output_type": "execute_result"
    }
   ],
   "source": [
    "resultados = pd.DataFrame(busca.cv_results_)\n",
    "resultados.sample(2)"
   ]
  },
  {
   "cell_type": "code",
   "execution_count": 91,
   "id": "99dac8c7",
   "metadata": {},
   "outputs": [
    {
     "name": "stdout",
     "output_type": "stream",
     "text": [
      "{'criterion': 'gini', 'max_depth': 11, 'min_samples_leaf': 2, 'min_samples_split': 8}\n",
      "82.16980202895697\n"
     ]
    }
   ],
   "source": [
    "print(busca.best_params_)\n",
    "print(busca.best_score_ * 100)"
   ]
  },
  {
   "cell_type": "code",
   "execution_count": 92,
   "id": "3484c174",
   "metadata": {},
   "outputs": [
    {
     "data": {
      "text/plain": [
       "84.91620111731844"
      ]
     },
     "execution_count": 92,
     "metadata": {},
     "output_type": "execute_result"
    }
   ],
   "source": [
    "busca.best_estimator_.score(teste_x, teste_y) * 100"
   ]
  },
  {
   "cell_type": "markdown",
   "id": "698979b8",
   "metadata": {},
   "source": [
    "A acurácia obtida de 86.2% já foi melhor do que o classificador manual, mas ainda não satisfatoriamente melhor."
   ]
  },
  {
   "cell_type": "markdown",
   "id": "fc0286e7",
   "metadata": {},
   "source": [
    "## Normalizando os dados\n",
    "\n",
    "Realizando os testes normalizando através de: `StandardScaler, MaxAbsScaler, MinMaxScaler, Normalizer, RobustScaler`"
   ]
  },
  {
   "cell_type": "markdown",
   "id": "0fd70c6e",
   "metadata": {},
   "source": [
    "### `StandardScaler`"
   ]
  },
  {
   "cell_type": "code",
   "execution_count": 93,
   "id": "4d364abe",
   "metadata": {},
   "outputs": [],
   "source": [
    "scaler = StandardScaler()\n",
    "scaler.fit(treino_x)\n",
    "n_treino_x = scaler.transform(treino_x)\n",
    "n_teste_x = scaler.transform(teste_x)"
   ]
  },
  {
   "cell_type": "code",
   "execution_count": 94,
   "id": "00bb88e0",
   "metadata": {},
   "outputs": [
    {
     "name": "stdout",
     "output_type": "stream",
     "text": [
      "{'criterion': 'gini', 'max_depth': 11, 'min_samples_leaf': 2, 'min_samples_split': 8}\n",
      "81.46656160740669\n"
     ]
    }
   ],
   "source": [
    "busca = GridSearchCV(DecisionTreeClassifier(), espaco_de_parametros)\n",
    "busca.fit(n_treino_x, treino_y)\n",
    "print(busca.best_params_)\n",
    "print(busca.best_score_ * 100)"
   ]
  },
  {
   "cell_type": "code",
   "execution_count": 95,
   "id": "22f5d7bc",
   "metadata": {},
   "outputs": [
    {
     "data": {
      "text/plain": [
       "84.91620111731844"
      ]
     },
     "execution_count": 95,
     "metadata": {},
     "output_type": "execute_result"
    }
   ],
   "source": [
    "busca.best_estimator_.score(n_teste_x, teste_y) * 100"
   ]
  },
  {
   "cell_type": "markdown",
   "id": "2aa45be6",
   "metadata": {},
   "source": [
    "`MaxAbsScaler`"
   ]
  },
  {
   "cell_type": "code",
   "execution_count": 96,
   "id": "5aad76e9",
   "metadata": {},
   "outputs": [
    {
     "name": "stdout",
     "output_type": "stream",
     "text": [
      "{'criterion': 'gini', 'max_depth': 13, 'min_samples_leaf': 2, 'min_samples_split': 8}\n",
      "81.8871269575495\n",
      "84.35754189944134\n"
     ]
    }
   ],
   "source": [
    "scaler = MaxAbsScaler()\n",
    "scaler.fit(treino_x)\n",
    "n_treino_x = scaler.transform(treino_x)\n",
    "n_teste_x = scaler.transform(teste_x)\n",
    "\n",
    "busca = GridSearchCV(DecisionTreeClassifier(), espaco_de_parametros)\n",
    "busca.fit(n_treino_x, treino_y)\n",
    "print(busca.best_params_)\n",
    "print(busca.best_score_ * 100)\n",
    "print(busca.best_estimator_.score(n_teste_x, teste_y) * 100)"
   ]
  },
  {
   "cell_type": "code",
   "execution_count": 97,
   "id": "a5072746",
   "metadata": {},
   "outputs": [
    {
     "name": "stdout",
     "output_type": "stream",
     "text": [
      "{'criterion': 'gini', 'max_depth': 11, 'min_samples_leaf': 2, 'min_samples_split': 8}\n",
      "81.74825174825176\n",
      "84.91620111731844\n"
     ]
    }
   ],
   "source": [
    "scaler = MinMaxScaler()\n",
    "scaler.fit(treino_x)\n",
    "n_treino_x = scaler.transform(treino_x)\n",
    "n_teste_x = scaler.transform(teste_x)\n",
    "\n",
    "busca = GridSearchCV(DecisionTreeClassifier(), espaco_de_parametros)\n",
    "busca.fit(n_treino_x, treino_y)\n",
    "print(busca.best_params_)\n",
    "print(busca.best_score_ * 100)\n",
    "print(busca.best_estimator_.score(n_teste_x, teste_y) * 100)"
   ]
  },
  {
   "cell_type": "code",
   "execution_count": 98,
   "id": "1d91c7ec",
   "metadata": {},
   "outputs": [
    {
     "name": "stdout",
     "output_type": "stream",
     "text": [
      "{'criterion': 'gini', 'max_depth': 7, 'min_samples_leaf': 8, 'min_samples_split': 8}\n",
      "79.07712006303555\n",
      "81.00558659217877\n"
     ]
    }
   ],
   "source": [
    "scaler = Normalizer()\n",
    "scaler.fit(treino_x)\n",
    "n_treino_x = scaler.transform(treino_x)\n",
    "n_teste_x = scaler.transform(teste_x)\n",
    "\n",
    "busca = GridSearchCV(DecisionTreeClassifier(), espaco_de_parametros)\n",
    "busca.fit(n_treino_x, treino_y)\n",
    "print(busca.best_params_)\n",
    "print(busca.best_score_ * 100)\n",
    "print(busca.best_estimator_.score(n_teste_x, teste_y) * 100)"
   ]
  },
  {
   "cell_type": "code",
   "execution_count": 100,
   "id": "5b169c0c",
   "metadata": {},
   "outputs": [
    {
     "name": "stdout",
     "output_type": "stream",
     "text": [
      "{'criterion': 'gini', 'max_depth': 11, 'min_samples_leaf': 2, 'min_samples_split': 8}\n",
      "82.16980202895697\n",
      "84.91620111731844\n",
      "0.8491620111731844\n"
     ]
    }
   ],
   "source": [
    "scaler = RobustScaler()\n",
    "scaler.fit(treino_x)\n",
    "n_treino_x = scaler.transform(treino_x)\n",
    "n_teste_x = scaler.transform(teste_x)\n",
    "\n",
    "busca = GridSearchCV(DecisionTreeClassifier(), espaco_de_parametros)\n",
    "busca.fit(n_treino_x, treino_y)\n",
    "print(busca.best_params_)\n",
    "print(busca.best_score_ * 100)\n",
    "print(busca.best_estimator_.score(n_teste_x, teste_y) * 100)"
   ]
  },
  {
   "cell_type": "markdown",
   "id": "a476a2f0",
   "metadata": {},
   "source": [
    "Mesmo com a normalização, a acurácia se manteve em **86.0%**"
   ]
  }
 ],
 "metadata": {
  "kernelspec": {
   "display_name": "Python 3",
   "language": "python",
   "name": "python3"
  },
  "language_info": {
   "codemirror_mode": {
    "name": "ipython",
    "version": 3
   },
   "file_extension": ".py",
   "mimetype": "text/x-python",
   "name": "python",
   "nbconvert_exporter": "python",
   "pygments_lexer": "ipython3",
   "version": "3.8.8"
  }
 },
 "nbformat": 4,
 "nbformat_minor": 5
}
