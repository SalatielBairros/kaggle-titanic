{
 "cells": [
  {
   "cell_type": "markdown",
   "id": "88fcba17",
   "metadata": {},
   "source": [
    "# 07 - DecisionTree\n",
    "\n",
    "Realizando a predição com DecisionTree. Lembrando que a acurácia para os dados de treino precisa ser superior a 78% para que seja considerada válida para testarmos com os dados de teste."
   ]
  },
  {
   "cell_type": "markdown",
   "id": "6dc9e151",
   "metadata": {},
   "source": [
    "## Preparando o ambiente"
   ]
  },
  {
   "cell_type": "code",
   "execution_count": 1,
   "id": "69248cf2",
   "metadata": {},
   "outputs": [],
   "source": [
    "#!pip install graphviz\n",
    "#!conda install python-graphviz"
   ]
  },
  {
   "cell_type": "code",
   "execution_count": 70,
   "id": "bd296f7c",
   "metadata": {},
   "outputs": [
    {
     "name": "stdout",
     "output_type": "stream",
     "text": [
      "GraphViz: 0.17\n"
     ]
    }
   ],
   "source": [
    "import pandas as pd\n",
    "import numpy as np\n",
    "import seaborn as sns\n",
    "from sklearn.model_selection import train_test_split, GridSearchCV, GroupKFold, cross_validate\n",
    "from sklearn.metrics import accuracy_score\n",
    "from sklearn.tree import DecisionTreeClassifier\n",
    "from sklearn.tree import export_graphviz\n",
    "from sklearn.preprocessing import StandardScaler, MaxAbsScaler, MinMaxScaler, Normalizer, RobustScaler\n",
    "import graphviz\n",
    "from IPython.display import display\n",
    "\n",
    "print(f'GraphViz: {graphviz.__version__}')"
   ]
  },
  {
   "cell_type": "code",
   "execution_count": 3,
   "id": "07a90bef",
   "metadata": {},
   "outputs": [],
   "source": [
    "sns.set(rc={'figure.figsize':(18, 12)})"
   ]
  },
  {
   "cell_type": "code",
   "execution_count": 4,
   "id": "4beb6743",
   "metadata": {},
   "outputs": [],
   "source": [
    "def exibir_arvore(modelo):\n",
    "  dot_data = export_graphviz(modelo, \n",
    "                  out_file=None,\n",
    "                  filled=True,\n",
    "                  rounded=True)\n",
    "  display(graphviz.Source(dot_data))"
   ]
  },
  {
   "cell_type": "markdown",
   "id": "359c57e8",
   "metadata": {},
   "source": [
    "## Carregando os dados"
   ]
  },
  {
   "cell_type": "markdown",
   "id": "2d80354f",
   "metadata": {},
   "source": [
    "### Carregando dados de treino"
   ]
  },
  {
   "cell_type": "code",
   "execution_count": 5,
   "id": "366187c7",
   "metadata": {},
   "outputs": [
    {
     "data": {
      "text/html": [
       "<div>\n",
       "<style scoped>\n",
       "    .dataframe tbody tr th:only-of-type {\n",
       "        vertical-align: middle;\n",
       "    }\n",
       "\n",
       "    .dataframe tbody tr th {\n",
       "        vertical-align: top;\n",
       "    }\n",
       "\n",
       "    .dataframe thead th {\n",
       "        text-align: right;\n",
       "    }\n",
       "</style>\n",
       "<table border=\"1\" class=\"dataframe\">\n",
       "  <thead>\n",
       "    <tr style=\"text-align: right;\">\n",
       "      <th></th>\n",
       "      <th>Survived</th>\n",
       "      <th>Pclass</th>\n",
       "      <th>Sex</th>\n",
       "      <th>Age</th>\n",
       "      <th>SibSp</th>\n",
       "      <th>Parch</th>\n",
       "      <th>Floor</th>\n",
       "      <th>Relateds</th>\n",
       "      <th>faixa_etaria</th>\n",
       "      <th>acompanhado</th>\n",
       "      <th>possui_cabine</th>\n",
       "    </tr>\n",
       "  </thead>\n",
       "  <tbody>\n",
       "    <tr>\n",
       "      <th>0</th>\n",
       "      <td>0</td>\n",
       "      <td>3</td>\n",
       "      <td>male</td>\n",
       "      <td>22</td>\n",
       "      <td>1</td>\n",
       "      <td>0</td>\n",
       "      <td>SC</td>\n",
       "      <td>1</td>\n",
       "      <td>jovem_adulto</td>\n",
       "      <td>True</td>\n",
       "      <td>False</td>\n",
       "    </tr>\n",
       "    <tr>\n",
       "      <th>1</th>\n",
       "      <td>0</td>\n",
       "      <td>3</td>\n",
       "      <td>male</td>\n",
       "      <td>22</td>\n",
       "      <td>0</td>\n",
       "      <td>0</td>\n",
       "      <td>SC</td>\n",
       "      <td>0</td>\n",
       "      <td>jovem_adulto</td>\n",
       "      <td>False</td>\n",
       "      <td>False</td>\n",
       "    </tr>\n",
       "    <tr>\n",
       "      <th>2</th>\n",
       "      <td>0</td>\n",
       "      <td>3</td>\n",
       "      <td>male</td>\n",
       "      <td>22</td>\n",
       "      <td>0</td>\n",
       "      <td>0</td>\n",
       "      <td>SC</td>\n",
       "      <td>0</td>\n",
       "      <td>jovem_adulto</td>\n",
       "      <td>False</td>\n",
       "      <td>False</td>\n",
       "    </tr>\n",
       "    <tr>\n",
       "      <th>3</th>\n",
       "      <td>0</td>\n",
       "      <td>3</td>\n",
       "      <td>male</td>\n",
       "      <td>22</td>\n",
       "      <td>0</td>\n",
       "      <td>0</td>\n",
       "      <td>SC</td>\n",
       "      <td>0</td>\n",
       "      <td>jovem_adulto</td>\n",
       "      <td>False</td>\n",
       "      <td>False</td>\n",
       "    </tr>\n",
       "    <tr>\n",
       "      <th>4</th>\n",
       "      <td>0</td>\n",
       "      <td>3</td>\n",
       "      <td>male</td>\n",
       "      <td>22</td>\n",
       "      <td>0</td>\n",
       "      <td>0</td>\n",
       "      <td>SC</td>\n",
       "      <td>0</td>\n",
       "      <td>jovem_adulto</td>\n",
       "      <td>False</td>\n",
       "      <td>False</td>\n",
       "    </tr>\n",
       "  </tbody>\n",
       "</table>\n",
       "</div>"
      ],
      "text/plain": [
       "   Survived  Pclass   Sex  Age  SibSp  Parch Floor  Relateds  faixa_etaria  \\\n",
       "0         0       3  male   22      1      0    SC         1  jovem_adulto   \n",
       "1         0       3  male   22      0      0    SC         0  jovem_adulto   \n",
       "2         0       3  male   22      0      0    SC         0  jovem_adulto   \n",
       "3         0       3  male   22      0      0    SC         0  jovem_adulto   \n",
       "4         0       3  male   22      0      0    SC         0  jovem_adulto   \n",
       "\n",
       "   acompanhado  possui_cabine  \n",
       "0         True          False  \n",
       "1        False          False  \n",
       "2        False          False  \n",
       "3        False          False  \n",
       "4        False          False  "
      ]
     },
     "execution_count": 5,
     "metadata": {},
     "output_type": "execute_result"
    }
   ],
   "source": [
    "titanic = pd.read_csv('https://raw.githubusercontent.com/SalatielBairros/kaggle-titanic/main/data/processed/train_processed_byage_ag.csv')\n",
    "del titanic['Unnamed: 0']\n",
    "titanic.head(5)"
   ]
  },
  {
   "cell_type": "code",
   "execution_count": 6,
   "id": "9230c28d",
   "metadata": {},
   "outputs": [
    {
     "data": {
      "text/html": [
       "<div>\n",
       "<style scoped>\n",
       "    .dataframe tbody tr th:only-of-type {\n",
       "        vertical-align: middle;\n",
       "    }\n",
       "\n",
       "    .dataframe tbody tr th {\n",
       "        vertical-align: top;\n",
       "    }\n",
       "\n",
       "    .dataframe thead th {\n",
       "        text-align: right;\n",
       "    }\n",
       "</style>\n",
       "<table border=\"1\" class=\"dataframe\">\n",
       "  <thead>\n",
       "    <tr style=\"text-align: right;\">\n",
       "      <th></th>\n",
       "      <th>Survived</th>\n",
       "      <th>Pclass</th>\n",
       "      <th>Sex</th>\n",
       "      <th>Age</th>\n",
       "      <th>SibSp</th>\n",
       "      <th>Parch</th>\n",
       "      <th>Floor</th>\n",
       "      <th>Relateds</th>\n",
       "      <th>faixa_etaria</th>\n",
       "      <th>acompanhado</th>\n",
       "      <th>possui_cabine</th>\n",
       "    </tr>\n",
       "  </thead>\n",
       "  <tbody>\n",
       "    <tr>\n",
       "      <th>0</th>\n",
       "      <td>0</td>\n",
       "      <td>3</td>\n",
       "      <td>0</td>\n",
       "      <td>22</td>\n",
       "      <td>1</td>\n",
       "      <td>0</td>\n",
       "      <td>SC</td>\n",
       "      <td>1</td>\n",
       "      <td>jovem_adulto</td>\n",
       "      <td>True</td>\n",
       "      <td>False</td>\n",
       "    </tr>\n",
       "    <tr>\n",
       "      <th>1</th>\n",
       "      <td>0</td>\n",
       "      <td>3</td>\n",
       "      <td>0</td>\n",
       "      <td>22</td>\n",
       "      <td>0</td>\n",
       "      <td>0</td>\n",
       "      <td>SC</td>\n",
       "      <td>0</td>\n",
       "      <td>jovem_adulto</td>\n",
       "      <td>False</td>\n",
       "      <td>False</td>\n",
       "    </tr>\n",
       "  </tbody>\n",
       "</table>\n",
       "</div>"
      ],
      "text/plain": [
       "   Survived  Pclass  Sex  Age  SibSp  Parch Floor  Relateds  faixa_etaria  \\\n",
       "0         0       3    0   22      1      0    SC         1  jovem_adulto   \n",
       "1         0       3    0   22      0      0    SC         0  jovem_adulto   \n",
       "\n",
       "   acompanhado  possui_cabine  \n",
       "0         True          False  \n",
       "1        False          False  "
      ]
     },
     "execution_count": 6,
     "metadata": {},
     "output_type": "execute_result"
    }
   ],
   "source": [
    "sex_map = {\n",
    "    'male': 0,\n",
    "    'female': 1\n",
    "}\n",
    "titanic['Sex'] = titanic['Sex'].map(sex_map)\n",
    "titanic.head(2)"
   ]
  },
  {
   "cell_type": "code",
   "execution_count": 7,
   "id": "6b37d0f1",
   "metadata": {},
   "outputs": [
    {
     "data": {
      "text/html": [
       "<div>\n",
       "<style scoped>\n",
       "    .dataframe tbody tr th:only-of-type {\n",
       "        vertical-align: middle;\n",
       "    }\n",
       "\n",
       "    .dataframe tbody tr th {\n",
       "        vertical-align: top;\n",
       "    }\n",
       "\n",
       "    .dataframe thead th {\n",
       "        text-align: right;\n",
       "    }\n",
       "</style>\n",
       "<table border=\"1\" class=\"dataframe\">\n",
       "  <thead>\n",
       "    <tr style=\"text-align: right;\">\n",
       "      <th></th>\n",
       "      <th>Survived</th>\n",
       "      <th>Pclass</th>\n",
       "      <th>Sex</th>\n",
       "      <th>Age</th>\n",
       "      <th>SibSp</th>\n",
       "      <th>Parch</th>\n",
       "      <th>Floor</th>\n",
       "      <th>Relateds</th>\n",
       "      <th>faixa_etaria</th>\n",
       "      <th>acompanhado</th>\n",
       "      <th>possui_cabine</th>\n",
       "    </tr>\n",
       "  </thead>\n",
       "  <tbody>\n",
       "    <tr>\n",
       "      <th>0</th>\n",
       "      <td>0</td>\n",
       "      <td>3</td>\n",
       "      <td>0</td>\n",
       "      <td>22</td>\n",
       "      <td>1</td>\n",
       "      <td>0</td>\n",
       "      <td>SC</td>\n",
       "      <td>1</td>\n",
       "      <td>jovem_adulto</td>\n",
       "      <td>1</td>\n",
       "      <td>0</td>\n",
       "    </tr>\n",
       "    <tr>\n",
       "      <th>1</th>\n",
       "      <td>0</td>\n",
       "      <td>3</td>\n",
       "      <td>0</td>\n",
       "      <td>22</td>\n",
       "      <td>0</td>\n",
       "      <td>0</td>\n",
       "      <td>SC</td>\n",
       "      <td>0</td>\n",
       "      <td>jovem_adulto</td>\n",
       "      <td>0</td>\n",
       "      <td>0</td>\n",
       "    </tr>\n",
       "  </tbody>\n",
       "</table>\n",
       "</div>"
      ],
      "text/plain": [
       "   Survived  Pclass  Sex  Age  SibSp  Parch Floor  Relateds  faixa_etaria  \\\n",
       "0         0       3    0   22      1      0    SC         1  jovem_adulto   \n",
       "1         0       3    0   22      0      0    SC         0  jovem_adulto   \n",
       "\n",
       "   acompanhado  possui_cabine  \n",
       "0            1              0  \n",
       "1            0              0  "
      ]
     },
     "execution_count": 7,
     "metadata": {},
     "output_type": "execute_result"
    }
   ],
   "source": [
    "boolean_map = {\n",
    "    True: 1,\n",
    "    False: 0\n",
    "}\n",
    "titanic['acompanhado'] = titanic['acompanhado'].map(boolean_map)\n",
    "titanic['possui_cabine'] = titanic['possui_cabine'].map(boolean_map)\n",
    "titanic.head(2)"
   ]
  },
  {
   "cell_type": "code",
   "execution_count": 8,
   "id": "3901c43f",
   "metadata": {},
   "outputs": [
    {
     "data": {
      "text/plain": [
       "array(['SC', 'C', 'E', 'B', 'A', 'D', 'G', 'F', 'T'], dtype=object)"
      ]
     },
     "execution_count": 8,
     "metadata": {},
     "output_type": "execute_result"
    }
   ],
   "source": [
    "titanic['Floor'].unique()"
   ]
  },
  {
   "cell_type": "code",
   "execution_count": 9,
   "id": "21d68e99",
   "metadata": {},
   "outputs": [
    {
     "data": {
      "text/plain": [
       "Survived         0\n",
       "Pclass           0\n",
       "Sex              0\n",
       "Age              0\n",
       "SibSp            0\n",
       "Parch            0\n",
       "Floor            0\n",
       "Relateds         0\n",
       "faixa_etaria     0\n",
       "acompanhado      0\n",
       "possui_cabine    0\n",
       "dtype: int64"
      ]
     },
     "execution_count": 9,
     "metadata": {},
     "output_type": "execute_result"
    }
   ],
   "source": [
    "floor_map = {\n",
    "    'SC': 0,\n",
    "    'A': 1,\n",
    "    'B': 2,\n",
    "    'C': 3,\n",
    "    'D': 4,\n",
    "    'E': 5,\n",
    "    'F': 6,\n",
    "    'G': 7,\n",
    "    'T': 8\n",
    "}\n",
    "titanic['Floor'] = titanic['Floor'].map(floor_map)\n",
    "titanic.isnull().sum()"
   ]
  },
  {
   "cell_type": "code",
   "execution_count": 10,
   "id": "1270344f",
   "metadata": {},
   "outputs": [
    {
     "data": {
      "text/html": [
       "<div>\n",
       "<style scoped>\n",
       "    .dataframe tbody tr th:only-of-type {\n",
       "        vertical-align: middle;\n",
       "    }\n",
       "\n",
       "    .dataframe tbody tr th {\n",
       "        vertical-align: top;\n",
       "    }\n",
       "\n",
       "    .dataframe thead th {\n",
       "        text-align: right;\n",
       "    }\n",
       "</style>\n",
       "<table border=\"1\" class=\"dataframe\">\n",
       "  <thead>\n",
       "    <tr style=\"text-align: right;\">\n",
       "      <th></th>\n",
       "      <th>Survived</th>\n",
       "      <th>Pclass</th>\n",
       "      <th>Sex</th>\n",
       "      <th>Age</th>\n",
       "      <th>SibSp</th>\n",
       "      <th>Parch</th>\n",
       "      <th>Floor</th>\n",
       "      <th>Relateds</th>\n",
       "      <th>faixa_etaria</th>\n",
       "      <th>acompanhado</th>\n",
       "      <th>possui_cabine</th>\n",
       "    </tr>\n",
       "  </thead>\n",
       "  <tbody>\n",
       "    <tr>\n",
       "      <th>0</th>\n",
       "      <td>0</td>\n",
       "      <td>3</td>\n",
       "      <td>0</td>\n",
       "      <td>22</td>\n",
       "      <td>1</td>\n",
       "      <td>0</td>\n",
       "      <td>0</td>\n",
       "      <td>1</td>\n",
       "      <td>1</td>\n",
       "      <td>1</td>\n",
       "      <td>0</td>\n",
       "    </tr>\n",
       "    <tr>\n",
       "      <th>1</th>\n",
       "      <td>0</td>\n",
       "      <td>3</td>\n",
       "      <td>0</td>\n",
       "      <td>22</td>\n",
       "      <td>0</td>\n",
       "      <td>0</td>\n",
       "      <td>0</td>\n",
       "      <td>0</td>\n",
       "      <td>1</td>\n",
       "      <td>0</td>\n",
       "      <td>0</td>\n",
       "    </tr>\n",
       "  </tbody>\n",
       "</table>\n",
       "</div>"
      ],
      "text/plain": [
       "   Survived  Pclass  Sex  Age  SibSp  Parch  Floor  Relateds  faixa_etaria  \\\n",
       "0         0       3    0   22      1      0      0         1             1   \n",
       "1         0       3    0   22      0      0      0         0             1   \n",
       "\n",
       "   acompanhado  possui_cabine  \n",
       "0            1              0  \n",
       "1            0              0  "
      ]
     },
     "execution_count": 10,
     "metadata": {},
     "output_type": "execute_result"
    }
   ],
   "source": [
    "faixa_etaria_map = {\n",
    "    'jovem_adulto': 1,\n",
    "    'adulto_idoso': 2,\n",
    "    'crianca_adolescente': 0\n",
    "}\n",
    "titanic['faixa_etaria'] = titanic['faixa_etaria'].map(faixa_etaria_map)\n",
    "titanic.head(2)"
   ]
  },
  {
   "cell_type": "code",
   "execution_count": 11,
   "id": "c1a3b577",
   "metadata": {},
   "outputs": [
    {
     "data": {
      "text/html": [
       "<div>\n",
       "<style scoped>\n",
       "    .dataframe tbody tr th:only-of-type {\n",
       "        vertical-align: middle;\n",
       "    }\n",
       "\n",
       "    .dataframe tbody tr th {\n",
       "        vertical-align: top;\n",
       "    }\n",
       "\n",
       "    .dataframe thead th {\n",
       "        text-align: right;\n",
       "    }\n",
       "</style>\n",
       "<table border=\"1\" class=\"dataframe\">\n",
       "  <thead>\n",
       "    <tr style=\"text-align: right;\">\n",
       "      <th></th>\n",
       "      <th>Survived</th>\n",
       "      <th>Pclass</th>\n",
       "      <th>Sex</th>\n",
       "      <th>Age</th>\n",
       "      <th>SibSp</th>\n",
       "      <th>Parch</th>\n",
       "      <th>Floor</th>\n",
       "      <th>Relateds</th>\n",
       "      <th>faixa_etaria</th>\n",
       "      <th>acompanhado</th>\n",
       "      <th>possui_cabine</th>\n",
       "    </tr>\n",
       "  </thead>\n",
       "  <tbody>\n",
       "    <tr>\n",
       "      <th>15</th>\n",
       "      <td>0</td>\n",
       "      <td>3</td>\n",
       "      <td>0</td>\n",
       "      <td>22</td>\n",
       "      <td>8</td>\n",
       "      <td>2</td>\n",
       "      <td>0</td>\n",
       "      <td>10</td>\n",
       "      <td>1</td>\n",
       "      <td>1</td>\n",
       "      <td>0</td>\n",
       "    </tr>\n",
       "    <tr>\n",
       "      <th>215</th>\n",
       "      <td>0</td>\n",
       "      <td>1</td>\n",
       "      <td>0</td>\n",
       "      <td>39</td>\n",
       "      <td>0</td>\n",
       "      <td>0</td>\n",
       "      <td>1</td>\n",
       "      <td>0</td>\n",
       "      <td>1</td>\n",
       "      <td>0</td>\n",
       "      <td>1</td>\n",
       "    </tr>\n",
       "  </tbody>\n",
       "</table>\n",
       "</div>"
      ],
      "text/plain": [
       "     Survived  Pclass  Sex  Age  SibSp  Parch  Floor  Relateds  faixa_etaria  \\\n",
       "15          0       3    0   22      8      2      0        10             1   \n",
       "215         0       1    0   39      0      0      1         0             1   \n",
       "\n",
       "     acompanhado  possui_cabine  \n",
       "15             1              0  \n",
       "215            0              1  "
      ]
     },
     "execution_count": 11,
     "metadata": {},
     "output_type": "execute_result"
    }
   ],
   "source": [
    "treino_1 = titanic\n",
    "treino_1.sample(2)"
   ]
  },
  {
   "cell_type": "markdown",
   "id": "237bbc53",
   "metadata": {},
   "source": [
    "### Carregando dados de teste"
   ]
  },
  {
   "cell_type": "code",
   "execution_count": 12,
   "id": "a805a3e1",
   "metadata": {},
   "outputs": [
    {
     "data": {
      "text/html": [
       "<div>\n",
       "<style scoped>\n",
       "    .dataframe tbody tr th:only-of-type {\n",
       "        vertical-align: middle;\n",
       "    }\n",
       "\n",
       "    .dataframe tbody tr th {\n",
       "        vertical-align: top;\n",
       "    }\n",
       "\n",
       "    .dataframe thead th {\n",
       "        text-align: right;\n",
       "    }\n",
       "</style>\n",
       "<table border=\"1\" class=\"dataframe\">\n",
       "  <thead>\n",
       "    <tr style=\"text-align: right;\">\n",
       "      <th></th>\n",
       "      <th>Pclass</th>\n",
       "      <th>Sex</th>\n",
       "      <th>Age</th>\n",
       "      <th>SibSp</th>\n",
       "      <th>Parch</th>\n",
       "      <th>Floor</th>\n",
       "      <th>Relateds</th>\n",
       "      <th>possui_cabine</th>\n",
       "      <th>acompanhado</th>\n",
       "      <th>faixa_etaria</th>\n",
       "    </tr>\n",
       "  </thead>\n",
       "  <tbody>\n",
       "    <tr>\n",
       "      <th>0</th>\n",
       "      <td>3</td>\n",
       "      <td>0</td>\n",
       "      <td>34</td>\n",
       "      <td>0</td>\n",
       "      <td>0</td>\n",
       "      <td>0</td>\n",
       "      <td>0</td>\n",
       "      <td>0</td>\n",
       "      <td>0</td>\n",
       "      <td>1</td>\n",
       "    </tr>\n",
       "    <tr>\n",
       "      <th>1</th>\n",
       "      <td>3</td>\n",
       "      <td>1</td>\n",
       "      <td>47</td>\n",
       "      <td>1</td>\n",
       "      <td>0</td>\n",
       "      <td>0</td>\n",
       "      <td>1</td>\n",
       "      <td>0</td>\n",
       "      <td>1</td>\n",
       "      <td>2</td>\n",
       "    </tr>\n",
       "    <tr>\n",
       "      <th>2</th>\n",
       "      <td>2</td>\n",
       "      <td>0</td>\n",
       "      <td>62</td>\n",
       "      <td>0</td>\n",
       "      <td>0</td>\n",
       "      <td>0</td>\n",
       "      <td>0</td>\n",
       "      <td>0</td>\n",
       "      <td>0</td>\n",
       "      <td>2</td>\n",
       "    </tr>\n",
       "    <tr>\n",
       "      <th>3</th>\n",
       "      <td>3</td>\n",
       "      <td>0</td>\n",
       "      <td>27</td>\n",
       "      <td>0</td>\n",
       "      <td>0</td>\n",
       "      <td>0</td>\n",
       "      <td>0</td>\n",
       "      <td>0</td>\n",
       "      <td>0</td>\n",
       "      <td>1</td>\n",
       "    </tr>\n",
       "    <tr>\n",
       "      <th>4</th>\n",
       "      <td>3</td>\n",
       "      <td>1</td>\n",
       "      <td>22</td>\n",
       "      <td>1</td>\n",
       "      <td>1</td>\n",
       "      <td>0</td>\n",
       "      <td>2</td>\n",
       "      <td>0</td>\n",
       "      <td>1</td>\n",
       "      <td>1</td>\n",
       "    </tr>\n",
       "  </tbody>\n",
       "</table>\n",
       "</div>"
      ],
      "text/plain": [
       "   Pclass  Sex  Age  SibSp  Parch  Floor  Relateds  possui_cabine  \\\n",
       "0       3    0   34      0      0      0         0              0   \n",
       "1       3    1   47      1      0      0         1              0   \n",
       "2       2    0   62      0      0      0         0              0   \n",
       "3       3    0   27      0      0      0         0              0   \n",
       "4       3    1   22      1      1      0         2              0   \n",
       "\n",
       "   acompanhado  faixa_etaria  \n",
       "0            0             1  \n",
       "1            1             2  \n",
       "2            0             2  \n",
       "3            0             1  \n",
       "4            1             1  "
      ]
     },
     "execution_count": 12,
     "metadata": {},
     "output_type": "execute_result"
    }
   ],
   "source": [
    "teste = pd.read_csv('https://raw.githubusercontent.com/SalatielBairros/kaggle-titanic/main/data/processed/test_processed.csv')\n",
    "del teste['Unnamed: 0']\n",
    "\n",
    "teste['acompanhado'] = teste['acompanhado'].map(boolean_map)\n",
    "teste['possui_cabine'] = teste['possui_cabine'].map(boolean_map)\n",
    "teste['Floor'] = teste['Floor'].map(floor_map)\n",
    "teste['Sex'] = teste['Sex'].map(sex_map)\n",
    "teste['faixa_etaria'] = teste['faixa_etaria'].map(faixa_etaria_map)\n",
    "\n",
    "Xvalidacao = teste.drop(columns=['PassengerId'])\n",
    "Xvalidacao.head(5)"
   ]
  },
  {
   "cell_type": "markdown",
   "id": "799479de",
   "metadata": {},
   "source": [
    "### Separando treino e teste"
   ]
  },
  {
   "cell_type": "code",
   "execution_count": 13,
   "id": "420f7d3f",
   "metadata": {},
   "outputs": [],
   "source": [
    "SEED = 5\n",
    "np.random.seed(SEED)"
   ]
  },
  {
   "cell_type": "code",
   "execution_count": 14,
   "id": "09afeab7",
   "metadata": {},
   "outputs": [],
   "source": [
    "X = treino_1.drop(columns=['Survived'])\n",
    "y = treino_1['Survived']"
   ]
  },
  {
   "cell_type": "code",
   "execution_count": 15,
   "id": "c9f90083",
   "metadata": {},
   "outputs": [],
   "source": [
    "treino_x, teste_x, treino_y, teste_y = train_test_split(X, y, test_size = 0.2, stratify = y)"
   ]
  },
  {
   "cell_type": "code",
   "execution_count": 16,
   "id": "8a2d0a72",
   "metadata": {},
   "outputs": [
    {
     "name": "stdout",
     "output_type": "stream",
     "text": [
      "Treinaremos com 712 elementos e testaremos com 179 elementos\n"
     ]
    }
   ],
   "source": [
    "print(\"Treinaremos com %d elementos e testaremos com %d elementos\" % (len(treino_x), len(teste_x)))"
   ]
  },
  {
   "cell_type": "code",
   "execution_count": 31,
   "id": "8397b98c",
   "metadata": {},
   "outputs": [],
   "source": [
    "cv = GroupKFold(n_splits = 10)"
   ]
  },
  {
   "cell_type": "markdown",
   "id": "07438153",
   "metadata": {},
   "source": [
    "## Execução da Árvore de decisão"
   ]
  },
  {
   "cell_type": "code",
   "execution_count": 17,
   "id": "344058f2",
   "metadata": {},
   "outputs": [],
   "source": [
    "espaco_de_parametros = {\n",
    "    \"criterion\": [\"gini\", \"entropy\"],\n",
    "    \"max_depth\" : [2, 3, 5, 7, 9, 11, 13],\n",
    "    \"min_samples_split\": [2, 8, 16, 32],\n",
    "    \"min_samples_leaf\": [1, 2, 8, 16, 32]    \n",
    "}"
   ]
  },
  {
   "cell_type": "code",
   "execution_count": 18,
   "id": "07827de0",
   "metadata": {},
   "outputs": [],
   "source": [
    "busca = GridSearchCV(DecisionTreeClassifier(), espaco_de_parametros)"
   ]
  },
  {
   "cell_type": "code",
   "execution_count": 19,
   "id": "f6662827",
   "metadata": {},
   "outputs": [
    {
     "data": {
      "text/plain": [
       "GridSearchCV(estimator=DecisionTreeClassifier(),\n",
       "             param_grid={'criterion': ['gini', 'entropy'],\n",
       "                         'max_depth': [2, 3, 5, 7, 9, 11, 13],\n",
       "                         'min_samples_leaf': [1, 2, 8, 16, 32],\n",
       "                         'min_samples_split': [2, 8, 16, 32]})"
      ]
     },
     "execution_count": 19,
     "metadata": {},
     "output_type": "execute_result"
    }
   ],
   "source": [
    "busca.fit(treino_x, treino_y)"
   ]
  },
  {
   "cell_type": "code",
   "execution_count": 20,
   "id": "38a39dda",
   "metadata": {},
   "outputs": [
    {
     "data": {
      "text/html": [
       "<div>\n",
       "<style scoped>\n",
       "    .dataframe tbody tr th:only-of-type {\n",
       "        vertical-align: middle;\n",
       "    }\n",
       "\n",
       "    .dataframe tbody tr th {\n",
       "        vertical-align: top;\n",
       "    }\n",
       "\n",
       "    .dataframe thead th {\n",
       "        text-align: right;\n",
       "    }\n",
       "</style>\n",
       "<table border=\"1\" class=\"dataframe\">\n",
       "  <thead>\n",
       "    <tr style=\"text-align: right;\">\n",
       "      <th></th>\n",
       "      <th>mean_fit_time</th>\n",
       "      <th>std_fit_time</th>\n",
       "      <th>mean_score_time</th>\n",
       "      <th>std_score_time</th>\n",
       "      <th>param_criterion</th>\n",
       "      <th>param_max_depth</th>\n",
       "      <th>param_min_samples_leaf</th>\n",
       "      <th>param_min_samples_split</th>\n",
       "      <th>params</th>\n",
       "      <th>split0_test_score</th>\n",
       "      <th>split1_test_score</th>\n",
       "      <th>split2_test_score</th>\n",
       "      <th>split3_test_score</th>\n",
       "      <th>split4_test_score</th>\n",
       "      <th>mean_test_score</th>\n",
       "      <th>std_test_score</th>\n",
       "      <th>rank_test_score</th>\n",
       "    </tr>\n",
       "  </thead>\n",
       "  <tbody>\n",
       "    <tr>\n",
       "      <th>251</th>\n",
       "      <td>0.002989</td>\n",
       "      <td>0.001091</td>\n",
       "      <td>0.001596</td>\n",
       "      <td>0.000797</td>\n",
       "      <td>entropy</td>\n",
       "      <td>11</td>\n",
       "      <td>8</td>\n",
       "      <td>32</td>\n",
       "      <td>{'criterion': 'entropy', 'max_depth': 11, 'min...</td>\n",
       "      <td>0.797203</td>\n",
       "      <td>0.776224</td>\n",
       "      <td>0.732394</td>\n",
       "      <td>0.781690</td>\n",
       "      <td>0.830986</td>\n",
       "      <td>0.783699</td>\n",
       "      <td>0.031970</td>\n",
       "      <td>193</td>\n",
       "    </tr>\n",
       "    <tr>\n",
       "      <th>264</th>\n",
       "      <td>0.001595</td>\n",
       "      <td>0.000488</td>\n",
       "      <td>0.000797</td>\n",
       "      <td>0.000399</td>\n",
       "      <td>entropy</td>\n",
       "      <td>13</td>\n",
       "      <td>2</td>\n",
       "      <td>2</td>\n",
       "      <td>{'criterion': 'entropy', 'max_depth': 13, 'min...</td>\n",
       "      <td>0.790210</td>\n",
       "      <td>0.797203</td>\n",
       "      <td>0.816901</td>\n",
       "      <td>0.746479</td>\n",
       "      <td>0.823944</td>\n",
       "      <td>0.794947</td>\n",
       "      <td>0.027201</td>\n",
       "      <td>68</td>\n",
       "    </tr>\n",
       "  </tbody>\n",
       "</table>\n",
       "</div>"
      ],
      "text/plain": [
       "     mean_fit_time  std_fit_time  mean_score_time  std_score_time  \\\n",
       "251       0.002989      0.001091         0.001596        0.000797   \n",
       "264       0.001595      0.000488         0.000797        0.000399   \n",
       "\n",
       "    param_criterion param_max_depth param_min_samples_leaf  \\\n",
       "251         entropy              11                      8   \n",
       "264         entropy              13                      2   \n",
       "\n",
       "    param_min_samples_split  \\\n",
       "251                      32   \n",
       "264                       2   \n",
       "\n",
       "                                                params  split0_test_score  \\\n",
       "251  {'criterion': 'entropy', 'max_depth': 11, 'min...           0.797203   \n",
       "264  {'criterion': 'entropy', 'max_depth': 13, 'min...           0.790210   \n",
       "\n",
       "     split1_test_score  split2_test_score  split3_test_score  \\\n",
       "251           0.776224           0.732394           0.781690   \n",
       "264           0.797203           0.816901           0.746479   \n",
       "\n",
       "     split4_test_score  mean_test_score  std_test_score  rank_test_score  \n",
       "251           0.830986         0.783699        0.031970              193  \n",
       "264           0.823944         0.794947        0.027201               68  "
      ]
     },
     "execution_count": 20,
     "metadata": {},
     "output_type": "execute_result"
    }
   ],
   "source": [
    "resultados = pd.DataFrame(busca.cv_results_)\n",
    "resultados.sample(2)"
   ]
  },
  {
   "cell_type": "code",
   "execution_count": 21,
   "id": "99dac8c7",
   "metadata": {},
   "outputs": [
    {
     "name": "stdout",
     "output_type": "stream",
     "text": [
      "{'criterion': 'gini', 'max_depth': 13, 'min_samples_leaf': 2, 'min_samples_split': 8}\n",
      "81.60543681670444\n"
     ]
    }
   ],
   "source": [
    "print(busca.best_params_)\n",
    "print(busca.best_score_ * 100)"
   ]
  },
  {
   "cell_type": "code",
   "execution_count": 22,
   "id": "3484c174",
   "metadata": {},
   "outputs": [
    {
     "data": {
      "text/plain": [
       "84.35754189944134"
      ]
     },
     "execution_count": 22,
     "metadata": {},
     "output_type": "execute_result"
    }
   ],
   "source": [
    "busca.best_estimator_.score(teste_x, teste_y) * 100"
   ]
  },
  {
   "cell_type": "markdown",
   "id": "698979b8",
   "metadata": {},
   "source": [
    "A acurácia obtida de 86.2% já foi melhor do que o classificador manual, mas ainda não satisfatoriamente melhor."
   ]
  },
  {
   "cell_type": "markdown",
   "id": "fc0286e7",
   "metadata": {},
   "source": [
    "## Normalizando os dados\n",
    "\n",
    "Realizando os testes normalizando através de: `StandardScaler, MaxAbsScaler, MinMaxScaler, Normalizer, RobustScaler`"
   ]
  },
  {
   "cell_type": "markdown",
   "id": "0fd70c6e",
   "metadata": {},
   "source": [
    "### `StandardScaler`"
   ]
  },
  {
   "cell_type": "code",
   "execution_count": 23,
   "id": "4d364abe",
   "metadata": {},
   "outputs": [],
   "source": [
    "scaler = StandardScaler()\n",
    "scaler.fit(treino_x)\n",
    "n_treino_x = scaler.transform(treino_x)\n",
    "n_teste_x = scaler.transform(teste_x)"
   ]
  },
  {
   "cell_type": "code",
   "execution_count": 24,
   "id": "00bb88e0",
   "metadata": {},
   "outputs": [
    {
     "name": "stdout",
     "output_type": "stream",
     "text": [
      "{'criterion': 'gini', 'max_depth': 13, 'min_samples_leaf': 2, 'min_samples_split': 8}\n",
      "82.02797202797203\n"
     ]
    }
   ],
   "source": [
    "busca = GridSearchCV(DecisionTreeClassifier(), espaco_de_parametros)\n",
    "busca.fit(n_treino_x, treino_y)\n",
    "print(busca.best_params_)\n",
    "print(busca.best_score_ * 100)"
   ]
  },
  {
   "cell_type": "code",
   "execution_count": 25,
   "id": "22f5d7bc",
   "metadata": {},
   "outputs": [
    {
     "data": {
      "text/plain": [
       "84.35754189944134"
      ]
     },
     "execution_count": 25,
     "metadata": {},
     "output_type": "execute_result"
    }
   ],
   "source": [
    "busca.best_estimator_.score(n_teste_x, teste_y) * 100"
   ]
  },
  {
   "cell_type": "markdown",
   "id": "2aa45be6",
   "metadata": {},
   "source": [
    "`MaxAbsScaler`"
   ]
  },
  {
   "cell_type": "code",
   "execution_count": 26,
   "id": "5aad76e9",
   "metadata": {},
   "outputs": [
    {
     "name": "stdout",
     "output_type": "stream",
     "text": [
      "{'criterion': 'gini', 'max_depth': 7, 'min_samples_leaf': 2, 'min_samples_split': 8}\n",
      "81.32670146754654\n",
      "86.03351955307262\n"
     ]
    }
   ],
   "source": [
    "scaler = MaxAbsScaler()\n",
    "scaler.fit(treino_x)\n",
    "n_treino_x = scaler.transform(treino_x)\n",
    "n_teste_x = scaler.transform(teste_x)\n",
    "\n",
    "busca = GridSearchCV(DecisionTreeClassifier(), espaco_de_parametros)\n",
    "busca.fit(n_treino_x, treino_y)\n",
    "print(busca.best_params_)\n",
    "print(busca.best_score_ * 100)\n",
    "print(busca.best_estimator_.score(n_teste_x, teste_y) * 100)"
   ]
  },
  {
   "cell_type": "code",
   "execution_count": 27,
   "id": "a5072746",
   "metadata": {},
   "outputs": [
    {
     "name": "stdout",
     "output_type": "stream",
     "text": [
      "{'criterion': 'gini', 'max_depth': 13, 'min_samples_leaf': 2, 'min_samples_split': 8}\n",
      "81.74628188712695\n",
      "84.35754189944134\n"
     ]
    }
   ],
   "source": [
    "scaler = MinMaxScaler()\n",
    "scaler.fit(treino_x)\n",
    "n_treino_x = scaler.transform(treino_x)\n",
    "n_teste_x = scaler.transform(teste_x)\n",
    "\n",
    "busca = GridSearchCV(DecisionTreeClassifier(), espaco_de_parametros)\n",
    "busca.fit(n_treino_x, treino_y)\n",
    "print(busca.best_params_)\n",
    "print(busca.best_score_ * 100)\n",
    "print(busca.best_estimator_.score(n_teste_x, teste_y) * 100)"
   ]
  },
  {
   "cell_type": "code",
   "execution_count": 28,
   "id": "1d91c7ec",
   "metadata": {},
   "outputs": [
    {
     "name": "stdout",
     "output_type": "stream",
     "text": [
      "{'criterion': 'entropy', 'max_depth': 5, 'min_samples_leaf': 1, 'min_samples_split': 32}\n",
      "79.35585541219343\n",
      "79.3296089385475\n"
     ]
    }
   ],
   "source": [
    "scaler = Normalizer()\n",
    "scaler.fit(treino_x)\n",
    "n_treino_x = scaler.transform(treino_x)\n",
    "n_teste_x = scaler.transform(teste_x)\n",
    "\n",
    "busca = GridSearchCV(DecisionTreeClassifier(), espaco_de_parametros)\n",
    "busca.fit(n_treino_x, treino_y)\n",
    "print(busca.best_params_)\n",
    "print(busca.best_score_ * 100)\n",
    "print(busca.best_estimator_.score(n_teste_x, teste_y) * 100)"
   ]
  },
  {
   "cell_type": "code",
   "execution_count": 29,
   "id": "5b169c0c",
   "metadata": {},
   "outputs": [
    {
     "name": "stdout",
     "output_type": "stream",
     "text": [
      "{'criterion': 'gini', 'max_depth': 11, 'min_samples_leaf': 2, 'min_samples_split': 8}\n",
      "82.16980202895697\n",
      "84.91620111731844\n"
     ]
    }
   ],
   "source": [
    "scaler = RobustScaler()\n",
    "scaler.fit(treino_x)\n",
    "n_treino_x = scaler.transform(treino_x)\n",
    "n_teste_x = scaler.transform(teste_x)\n",
    "\n",
    "busca = GridSearchCV(DecisionTreeClassifier(), espaco_de_parametros)\n",
    "busca.fit(n_treino_x, treino_y)\n",
    "print(busca.best_params_)\n",
    "print(busca.best_score_ * 100)\n",
    "print(busca.best_estimator_.score(n_teste_x, teste_y) * 100)"
   ]
  },
  {
   "cell_type": "markdown",
   "id": "a476a2f0",
   "metadata": {},
   "source": [
    "Mesmo com a normalização, a acurácia se manteve em **86.0%**"
   ]
  },
  {
   "cell_type": "markdown",
   "id": "afc29784",
   "metadata": {},
   "source": [
    "## Testando com `GroupCV`"
   ]
  },
  {
   "cell_type": "code",
   "execution_count": 35,
   "id": "ff009161",
   "metadata": {},
   "outputs": [
    {
     "data": {
      "text/html": [
       "<div>\n",
       "<style scoped>\n",
       "    .dataframe tbody tr th:only-of-type {\n",
       "        vertical-align: middle;\n",
       "    }\n",
       "\n",
       "    .dataframe tbody tr th {\n",
       "        vertical-align: top;\n",
       "    }\n",
       "\n",
       "    .dataframe thead th {\n",
       "        text-align: right;\n",
       "    }\n",
       "</style>\n",
       "<table border=\"1\" class=\"dataframe\">\n",
       "  <thead>\n",
       "    <tr style=\"text-align: right;\">\n",
       "      <th></th>\n",
       "      <th>Pclass</th>\n",
       "      <th>Sex</th>\n",
       "      <th>Age</th>\n",
       "      <th>SibSp</th>\n",
       "      <th>Parch</th>\n",
       "      <th>Floor</th>\n",
       "      <th>Relateds</th>\n",
       "      <th>faixa_etaria</th>\n",
       "      <th>acompanhado</th>\n",
       "      <th>possui_cabine</th>\n",
       "    </tr>\n",
       "  </thead>\n",
       "  <tbody>\n",
       "    <tr>\n",
       "      <th>0</th>\n",
       "      <td>3</td>\n",
       "      <td>0</td>\n",
       "      <td>22</td>\n",
       "      <td>1</td>\n",
       "      <td>0</td>\n",
       "      <td>0</td>\n",
       "      <td>1</td>\n",
       "      <td>1</td>\n",
       "      <td>1</td>\n",
       "      <td>0</td>\n",
       "    </tr>\n",
       "    <tr>\n",
       "      <th>1</th>\n",
       "      <td>3</td>\n",
       "      <td>0</td>\n",
       "      <td>22</td>\n",
       "      <td>0</td>\n",
       "      <td>0</td>\n",
       "      <td>0</td>\n",
       "      <td>0</td>\n",
       "      <td>1</td>\n",
       "      <td>0</td>\n",
       "      <td>0</td>\n",
       "    </tr>\n",
       "    <tr>\n",
       "      <th>2</th>\n",
       "      <td>3</td>\n",
       "      <td>0</td>\n",
       "      <td>22</td>\n",
       "      <td>0</td>\n",
       "      <td>0</td>\n",
       "      <td>0</td>\n",
       "      <td>0</td>\n",
       "      <td>1</td>\n",
       "      <td>0</td>\n",
       "      <td>0</td>\n",
       "    </tr>\n",
       "    <tr>\n",
       "      <th>3</th>\n",
       "      <td>3</td>\n",
       "      <td>0</td>\n",
       "      <td>22</td>\n",
       "      <td>0</td>\n",
       "      <td>0</td>\n",
       "      <td>0</td>\n",
       "      <td>0</td>\n",
       "      <td>1</td>\n",
       "      <td>0</td>\n",
       "      <td>0</td>\n",
       "    </tr>\n",
       "    <tr>\n",
       "      <th>4</th>\n",
       "      <td>3</td>\n",
       "      <td>0</td>\n",
       "      <td>22</td>\n",
       "      <td>0</td>\n",
       "      <td>0</td>\n",
       "      <td>0</td>\n",
       "      <td>0</td>\n",
       "      <td>1</td>\n",
       "      <td>0</td>\n",
       "      <td>0</td>\n",
       "    </tr>\n",
       "    <tr>\n",
       "      <th>...</th>\n",
       "      <td>...</td>\n",
       "      <td>...</td>\n",
       "      <td>...</td>\n",
       "      <td>...</td>\n",
       "      <td>...</td>\n",
       "      <td>...</td>\n",
       "      <td>...</td>\n",
       "      <td>...</td>\n",
       "      <td>...</td>\n",
       "      <td>...</td>\n",
       "    </tr>\n",
       "    <tr>\n",
       "      <th>886</th>\n",
       "      <td>1</td>\n",
       "      <td>1</td>\n",
       "      <td>53</td>\n",
       "      <td>2</td>\n",
       "      <td>0</td>\n",
       "      <td>3</td>\n",
       "      <td>2</td>\n",
       "      <td>2</td>\n",
       "      <td>1</td>\n",
       "      <td>1</td>\n",
       "    </tr>\n",
       "    <tr>\n",
       "      <th>887</th>\n",
       "      <td>2</td>\n",
       "      <td>0</td>\n",
       "      <td>57</td>\n",
       "      <td>0</td>\n",
       "      <td>0</td>\n",
       "      <td>0</td>\n",
       "      <td>0</td>\n",
       "      <td>2</td>\n",
       "      <td>0</td>\n",
       "      <td>0</td>\n",
       "    </tr>\n",
       "    <tr>\n",
       "      <th>888</th>\n",
       "      <td>2</td>\n",
       "      <td>1</td>\n",
       "      <td>57</td>\n",
       "      <td>0</td>\n",
       "      <td>0</td>\n",
       "      <td>5</td>\n",
       "      <td>0</td>\n",
       "      <td>2</td>\n",
       "      <td>0</td>\n",
       "      <td>1</td>\n",
       "    </tr>\n",
       "    <tr>\n",
       "      <th>889</th>\n",
       "      <td>1</td>\n",
       "      <td>0</td>\n",
       "      <td>80</td>\n",
       "      <td>0</td>\n",
       "      <td>0</td>\n",
       "      <td>1</td>\n",
       "      <td>0</td>\n",
       "      <td>2</td>\n",
       "      <td>0</td>\n",
       "      <td>1</td>\n",
       "    </tr>\n",
       "    <tr>\n",
       "      <th>890</th>\n",
       "      <td>3</td>\n",
       "      <td>0</td>\n",
       "      <td>74</td>\n",
       "      <td>0</td>\n",
       "      <td>0</td>\n",
       "      <td>0</td>\n",
       "      <td>0</td>\n",
       "      <td>2</td>\n",
       "      <td>0</td>\n",
       "      <td>0</td>\n",
       "    </tr>\n",
       "  </tbody>\n",
       "</table>\n",
       "<p>891 rows × 10 columns</p>\n",
       "</div>"
      ],
      "text/plain": [
       "     Pclass  Sex  Age  SibSp  Parch  Floor  Relateds  faixa_etaria  \\\n",
       "0         3    0   22      1      0      0         1             1   \n",
       "1         3    0   22      0      0      0         0             1   \n",
       "2         3    0   22      0      0      0         0             1   \n",
       "3         3    0   22      0      0      0         0             1   \n",
       "4         3    0   22      0      0      0         0             1   \n",
       "..      ...  ...  ...    ...    ...    ...       ...           ...   \n",
       "886       1    1   53      2      0      3         2             2   \n",
       "887       2    0   57      0      0      0         0             2   \n",
       "888       2    1   57      0      0      5         0             2   \n",
       "889       1    0   80      0      0      1         0             2   \n",
       "890       3    0   74      0      0      0         0             2   \n",
       "\n",
       "     acompanhado  possui_cabine  \n",
       "0              1              0  \n",
       "1              0              0  \n",
       "2              0              0  \n",
       "3              0              0  \n",
       "4              0              0  \n",
       "..           ...            ...  \n",
       "886            1              1  \n",
       "887            0              0  \n",
       "888            0              1  \n",
       "889            0              1  \n",
       "890            0              0  \n",
       "\n",
       "[891 rows x 10 columns]"
      ]
     },
     "execution_count": 35,
     "metadata": {},
     "output_type": "execute_result"
    }
   ],
   "source": [
    "X"
   ]
  },
  {
   "cell_type": "code",
   "execution_count": 38,
   "id": "b3deeaf4",
   "metadata": {},
   "outputs": [
    {
     "name": "stdout",
     "output_type": "stream",
     "text": [
      "{'criterion': 'entropy', 'max_depth': 3, 'min_samples_leaf': 1, 'min_samples_split': 2}\n",
      "81.59122120077174\n"
     ]
    }
   ],
   "source": [
    "scaler = StandardScaler()\n",
    "scaler.fit(X)\n",
    "n_x = scaler.transform(X)\n",
    "\n",
    "busca = GridSearchCV(DecisionTreeClassifier(), espaco_de_parametros, cv = cv)\n",
    "busca.fit(n_x, y, groups=X.Age)\n",
    "print(busca.best_params_)\n",
    "print(busca.best_score_ * 100)"
   ]
  },
  {
   "cell_type": "markdown",
   "id": "0284811b",
   "metadata": {},
   "source": [
    "A acurácia parece ter piorado utilizando o cross validate."
   ]
  },
  {
   "cell_type": "markdown",
   "id": "eadeabc7",
   "metadata": {},
   "source": [
    "## Busca em grid manual"
   ]
  },
  {
   "cell_type": "code",
   "execution_count": 62,
   "id": "3576aa66",
   "metadata": {},
   "outputs": [
    {
     "data": {
      "text/html": [
       "<div>\n",
       "<style scoped>\n",
       "    .dataframe tbody tr th:only-of-type {\n",
       "        vertical-align: middle;\n",
       "    }\n",
       "\n",
       "    .dataframe tbody tr th {\n",
       "        vertical-align: top;\n",
       "    }\n",
       "\n",
       "    .dataframe thead th {\n",
       "        text-align: right;\n",
       "    }\n",
       "</style>\n",
       "<table border=\"1\" class=\"dataframe\">\n",
       "  <thead>\n",
       "    <tr style=\"text-align: right;\">\n",
       "      <th></th>\n",
       "      <th>criterion</th>\n",
       "      <th>max_depth</th>\n",
       "      <th>min_samples_split</th>\n",
       "      <th>min_samples_leaf</th>\n",
       "      <th>score</th>\n",
       "    </tr>\n",
       "  </thead>\n",
       "  <tbody>\n",
       "    <tr>\n",
       "      <th>61</th>\n",
       "      <td>gini</td>\n",
       "      <td>7</td>\n",
       "      <td>2</td>\n",
       "      <td>2</td>\n",
       "      <td>0.860335</td>\n",
       "    </tr>\n",
       "    <tr>\n",
       "      <th>70</th>\n",
       "      <td>gini</td>\n",
       "      <td>7</td>\n",
       "      <td>16</td>\n",
       "      <td>1</td>\n",
       "      <td>0.860335</td>\n",
       "    </tr>\n",
       "    <tr>\n",
       "      <th>71</th>\n",
       "      <td>gini</td>\n",
       "      <td>7</td>\n",
       "      <td>16</td>\n",
       "      <td>2</td>\n",
       "      <td>0.860335</td>\n",
       "    </tr>\n",
       "    <tr>\n",
       "      <th>66</th>\n",
       "      <td>gini</td>\n",
       "      <td>7</td>\n",
       "      <td>8</td>\n",
       "      <td>2</td>\n",
       "      <td>0.860335</td>\n",
       "    </tr>\n",
       "    <tr>\n",
       "      <th>60</th>\n",
       "      <td>gini</td>\n",
       "      <td>7</td>\n",
       "      <td>2</td>\n",
       "      <td>1</td>\n",
       "      <td>0.854749</td>\n",
       "    </tr>\n",
       "    <tr>\n",
       "      <th>...</th>\n",
       "      <td>...</td>\n",
       "      <td>...</td>\n",
       "      <td>...</td>\n",
       "      <td>...</td>\n",
       "      <td>...</td>\n",
       "    </tr>\n",
       "    <tr>\n",
       "      <th>145</th>\n",
       "      <td>entropy</td>\n",
       "      <td>2</td>\n",
       "      <td>8</td>\n",
       "      <td>1</td>\n",
       "      <td>0.782123</td>\n",
       "    </tr>\n",
       "    <tr>\n",
       "      <th>144</th>\n",
       "      <td>entropy</td>\n",
       "      <td>2</td>\n",
       "      <td>2</td>\n",
       "      <td>32</td>\n",
       "      <td>0.782123</td>\n",
       "    </tr>\n",
       "    <tr>\n",
       "      <th>143</th>\n",
       "      <td>entropy</td>\n",
       "      <td>2</td>\n",
       "      <td>2</td>\n",
       "      <td>16</td>\n",
       "      <td>0.782123</td>\n",
       "    </tr>\n",
       "    <tr>\n",
       "      <th>142</th>\n",
       "      <td>entropy</td>\n",
       "      <td>2</td>\n",
       "      <td>2</td>\n",
       "      <td>8</td>\n",
       "      <td>0.782123</td>\n",
       "    </tr>\n",
       "    <tr>\n",
       "      <th>140</th>\n",
       "      <td>entropy</td>\n",
       "      <td>2</td>\n",
       "      <td>2</td>\n",
       "      <td>1</td>\n",
       "      <td>0.782123</td>\n",
       "    </tr>\n",
       "  </tbody>\n",
       "</table>\n",
       "<p>280 rows × 5 columns</p>\n",
       "</div>"
      ],
      "text/plain": [
       "    criterion  max_depth  min_samples_split  min_samples_leaf     score\n",
       "61       gini          7                  2                 2  0.860335\n",
       "70       gini          7                 16                 1  0.860335\n",
       "71       gini          7                 16                 2  0.860335\n",
       "66       gini          7                  8                 2  0.860335\n",
       "60       gini          7                  2                 1  0.854749\n",
       "..        ...        ...                ...               ...       ...\n",
       "145   entropy          2                  8                 1  0.782123\n",
       "144   entropy          2                  2                32  0.782123\n",
       "143   entropy          2                  2                16  0.782123\n",
       "142   entropy          2                  2                 8  0.782123\n",
       "140   entropy          2                  2                 1  0.782123\n",
       "\n",
       "[280 rows x 5 columns]"
      ]
     },
     "execution_count": 62,
     "metadata": {},
     "output_type": "execute_result"
    }
   ],
   "source": [
    "def dt_grid_search(treino_x, treino_y, teste_x, teste_y):\n",
    "    criterion = [\"gini\", \"entropy\"]\n",
    "    max_depth = [2, 3, 5, 7, 9, 11, 13]\n",
    "    min_samples_split = [2, 8, 16, 32]\n",
    "    min_samples_leaf = [1, 2, 8, 16, 32]\n",
    "    resultados = []\n",
    "\n",
    "    for c in criterion:\n",
    "        for md in max_depth:\n",
    "            for ms in min_samples_split:\n",
    "                for ml in min_samples_leaf:\n",
    "                    modelo = DecisionTreeClassifier(criterion = c, max_depth = md, min_samples_split = ms, min_samples_leaf = ml)\n",
    "                    modelo.fit(treino_x, treino_y)\n",
    "                    score = modelo.score(teste_x, teste_y)\n",
    "                    resultados.append({\n",
    "                        \"criterion\": c,\n",
    "                        \"max_depth\" : md,\n",
    "                        \"min_samples_split\": ms,\n",
    "                        \"min_samples_leaf\": ml,\n",
    "                        \"score\": score\n",
    "                    })\n",
    "\n",
    "    return pd.DataFrame(resultados)\n",
    "    \n",
    "resultados = dt_grid_search(treino_x, treino_y, teste_x, teste_y).sort_values(by='score', ascending=False)\n",
    "resultados"
   ]
  },
  {
   "cell_type": "markdown",
   "id": "515c0d25",
   "metadata": {},
   "source": [
    "A melhor acurácia encontrada foi mesmo **86%**. Para o momento ficarei com essa e validarei com os dados de teste do Kaggle."
   ]
  },
  {
   "cell_type": "markdown",
   "id": "f0da69ca",
   "metadata": {},
   "source": [
    "## Validando com dados de teste do Kaggle"
   ]
  },
  {
   "cell_type": "code",
   "execution_count": 57,
   "id": "c487f388",
   "metadata": {},
   "outputs": [
    {
     "data": {
      "text/plain": [
       "{'criterion': 'gini',\n",
       " 'max_depth': 7,\n",
       " 'min_samples_split': 16,\n",
       " 'min_samples_leaf': 2}"
      ]
     },
     "execution_count": 57,
     "metadata": {},
     "output_type": "execute_result"
    }
   ],
   "source": [
    "best_params = resultados.sort_values(by=['score'], ascending=[False]).head(1).drop(columns=['score']).to_dict(orient='records')[0]\n",
    "best_params"
   ]
  },
  {
   "cell_type": "code",
   "execution_count": 58,
   "id": "16f03576",
   "metadata": {},
   "outputs": [
    {
     "data": {
      "text/plain": [
       "DecisionTreeClassifier(max_depth=7, min_samples_leaf=2, min_samples_split=16)"
      ]
     },
     "execution_count": 58,
     "metadata": {},
     "output_type": "execute_result"
    }
   ],
   "source": [
    "melhor_modelo = DecisionTreeClassifier().set_params(**best_params)\n",
    "melhor_modelo"
   ]
  },
  {
   "cell_type": "code",
   "execution_count": 59,
   "id": "6e3a2203",
   "metadata": {},
   "outputs": [],
   "source": [
    "melhor_modelo.fit(X, y)\n",
    "predicoes = melhor_modelo.predict(Xvalidacao)"
   ]
  },
  {
   "cell_type": "code",
   "execution_count": 60,
   "id": "e1902884",
   "metadata": {},
   "outputs": [
    {
     "data": {
      "text/html": [
       "<div>\n",
       "<style scoped>\n",
       "    .dataframe tbody tr th:only-of-type {\n",
       "        vertical-align: middle;\n",
       "    }\n",
       "\n",
       "    .dataframe tbody tr th {\n",
       "        vertical-align: top;\n",
       "    }\n",
       "\n",
       "    .dataframe thead th {\n",
       "        text-align: right;\n",
       "    }\n",
       "</style>\n",
       "<table border=\"1\" class=\"dataframe\">\n",
       "  <thead>\n",
       "    <tr style=\"text-align: right;\">\n",
       "      <th></th>\n",
       "      <th>PassengerId</th>\n",
       "      <th>Survived</th>\n",
       "    </tr>\n",
       "  </thead>\n",
       "  <tbody>\n",
       "    <tr>\n",
       "      <th>109</th>\n",
       "      <td>1001</td>\n",
       "      <td>0</td>\n",
       "    </tr>\n",
       "    <tr>\n",
       "      <th>231</th>\n",
       "      <td>1123</td>\n",
       "      <td>1</td>\n",
       "    </tr>\n",
       "    <tr>\n",
       "      <th>235</th>\n",
       "      <td>1127</td>\n",
       "      <td>0</td>\n",
       "    </tr>\n",
       "    <tr>\n",
       "      <th>264</th>\n",
       "      <td>1156</td>\n",
       "      <td>0</td>\n",
       "    </tr>\n",
       "    <tr>\n",
       "      <th>369</th>\n",
       "      <td>1261</td>\n",
       "      <td>0</td>\n",
       "    </tr>\n",
       "  </tbody>\n",
       "</table>\n",
       "</div>"
      ],
      "text/plain": [
       "     PassengerId  Survived\n",
       "109         1001         0\n",
       "231         1123         1\n",
       "235         1127         0\n",
       "264         1156         0\n",
       "369         1261         0"
      ]
     },
     "execution_count": 60,
     "metadata": {},
     "output_type": "execute_result"
    }
   ],
   "source": [
    "resultado = pd.DataFrame()\n",
    "resultado['PassengerId'] = teste['PassengerId']\n",
    "resultado['Survived'] = predicoes\n",
    "resultado.sample(5)"
   ]
  },
  {
   "cell_type": "code",
   "execution_count": 61,
   "id": "128213bd",
   "metadata": {},
   "outputs": [],
   "source": [
    "resultado.to_csv('../../data/submissions/decision_tree.csv', index=False)"
   ]
  },
  {
   "cell_type": "markdown",
   "id": "38980c0f",
   "metadata": {},
   "source": [
    "A acurácia no Kaggle foi de **76.5%**, ou seja, muito pouco melhor que o classificador manual."
   ]
  },
  {
   "cell_type": "markdown",
   "id": "d78d64f7",
   "metadata": {},
   "source": [
    "## Scaler + Manual Grid Search"
   ]
  },
  {
   "cell_type": "code",
   "execution_count": 67,
   "id": "82702bde",
   "metadata": {},
   "outputs": [
    {
     "data": {
      "text/html": [
       "<div>\n",
       "<style scoped>\n",
       "    .dataframe tbody tr th:only-of-type {\n",
       "        vertical-align: middle;\n",
       "    }\n",
       "\n",
       "    .dataframe tbody tr th {\n",
       "        vertical-align: top;\n",
       "    }\n",
       "\n",
       "    .dataframe thead th {\n",
       "        text-align: right;\n",
       "    }\n",
       "</style>\n",
       "<table border=\"1\" class=\"dataframe\">\n",
       "  <thead>\n",
       "    <tr style=\"text-align: right;\">\n",
       "      <th></th>\n",
       "      <th>criterion</th>\n",
       "      <th>max_depth</th>\n",
       "      <th>min_samples_split</th>\n",
       "      <th>min_samples_leaf</th>\n",
       "      <th>score</th>\n",
       "    </tr>\n",
       "  </thead>\n",
       "  <tbody>\n",
       "    <tr>\n",
       "      <th>66</th>\n",
       "      <td>gini</td>\n",
       "      <td>7</td>\n",
       "      <td>8</td>\n",
       "      <td>2</td>\n",
       "      <td>0.860335</td>\n",
       "    </tr>\n",
       "    <tr>\n",
       "      <th>71</th>\n",
       "      <td>gini</td>\n",
       "      <td>7</td>\n",
       "      <td>16</td>\n",
       "      <td>2</td>\n",
       "      <td>0.860335</td>\n",
       "    </tr>\n",
       "    <tr>\n",
       "      <th>61</th>\n",
       "      <td>gini</td>\n",
       "      <td>7</td>\n",
       "      <td>2</td>\n",
       "      <td>2</td>\n",
       "      <td>0.860335</td>\n",
       "    </tr>\n",
       "    <tr>\n",
       "      <th>70</th>\n",
       "      <td>gini</td>\n",
       "      <td>7</td>\n",
       "      <td>16</td>\n",
       "      <td>1</td>\n",
       "      <td>0.860335</td>\n",
       "    </tr>\n",
       "    <tr>\n",
       "      <th>60</th>\n",
       "      <td>gini</td>\n",
       "      <td>7</td>\n",
       "      <td>2</td>\n",
       "      <td>1</td>\n",
       "      <td>0.849162</td>\n",
       "    </tr>\n",
       "    <tr>\n",
       "      <th>...</th>\n",
       "      <td>...</td>\n",
       "      <td>...</td>\n",
       "      <td>...</td>\n",
       "      <td>...</td>\n",
       "      <td>...</td>\n",
       "    </tr>\n",
       "    <tr>\n",
       "      <th>145</th>\n",
       "      <td>entropy</td>\n",
       "      <td>2</td>\n",
       "      <td>8</td>\n",
       "      <td>1</td>\n",
       "      <td>0.782123</td>\n",
       "    </tr>\n",
       "    <tr>\n",
       "      <th>144</th>\n",
       "      <td>entropy</td>\n",
       "      <td>2</td>\n",
       "      <td>2</td>\n",
       "      <td>32</td>\n",
       "      <td>0.782123</td>\n",
       "    </tr>\n",
       "    <tr>\n",
       "      <th>143</th>\n",
       "      <td>entropy</td>\n",
       "      <td>2</td>\n",
       "      <td>2</td>\n",
       "      <td>16</td>\n",
       "      <td>0.782123</td>\n",
       "    </tr>\n",
       "    <tr>\n",
       "      <th>142</th>\n",
       "      <td>entropy</td>\n",
       "      <td>2</td>\n",
       "      <td>2</td>\n",
       "      <td>8</td>\n",
       "      <td>0.782123</td>\n",
       "    </tr>\n",
       "    <tr>\n",
       "      <th>140</th>\n",
       "      <td>entropy</td>\n",
       "      <td>2</td>\n",
       "      <td>2</td>\n",
       "      <td>1</td>\n",
       "      <td>0.782123</td>\n",
       "    </tr>\n",
       "  </tbody>\n",
       "</table>\n",
       "<p>280 rows × 5 columns</p>\n",
       "</div>"
      ],
      "text/plain": [
       "    criterion  max_depth  min_samples_split  min_samples_leaf     score\n",
       "66       gini          7                  8                 2  0.860335\n",
       "71       gini          7                 16                 2  0.860335\n",
       "61       gini          7                  2                 2  0.860335\n",
       "70       gini          7                 16                 1  0.860335\n",
       "60       gini          7                  2                 1  0.849162\n",
       "..        ...        ...                ...               ...       ...\n",
       "145   entropy          2                  8                 1  0.782123\n",
       "144   entropy          2                  2                32  0.782123\n",
       "143   entropy          2                  2                16  0.782123\n",
       "142   entropy          2                  2                 8  0.782123\n",
       "140   entropy          2                  2                 1  0.782123\n",
       "\n",
       "[280 rows x 5 columns]"
      ]
     },
     "execution_count": 67,
     "metadata": {},
     "output_type": "execute_result"
    }
   ],
   "source": [
    "# `StandardScaler, MaxAbsScaler, MinMaxScaler, Normalizer, RobustScaler`\n",
    "scaler = RobustScaler()\n",
    "scaler.fit(treino_x)\n",
    "n_treino_x = scaler.transform(treino_x)\n",
    "n_teste_x = scaler.transform(teste_x)\n",
    "\n",
    "resultados = dt_grid_search(n_treino_x, treino_y, n_teste_x, teste_y).sort_values(by='score', ascending=False)\n",
    "resultados"
   ]
  },
  {
   "cell_type": "markdown",
   "id": "57418c07",
   "metadata": {},
   "source": [
    "Os scalers não alteraram o resultado no treino então creio não valer apena tentar no Kaggle."
   ]
  },
  {
   "cell_type": "code",
   "execution_count": 73,
   "id": "fba5e7ac",
   "metadata": {},
   "outputs": [],
   "source": [
    "def dt_grid_search(X, y):\n",
    "    criterion = [\"gini\", \"entropy\"]\n",
    "    max_depth = [2, 3, 5, 7, 9, 11, 13]\n",
    "    min_samples_split = [2, 8, 16, 32]\n",
    "    min_samples_leaf = [1, 2, 8, 16, 32]\n",
    "    resultados = []\n",
    "    cv = GroupKFold(n_splits = 2)\n",
    "    \n",
    "    for c in criterion:\n",
    "        for md in max_depth:\n",
    "            for ms in min_samples_split:\n",
    "                for ml in min_samples_leaf:\n",
    "                    modelo = DecisionTreeClassifier(criterion = c, max_depth = md, min_samples_split = ms, min_samples_leaf = ml)\n",
    "                    results = cross_validate(modelo, X, y, cv = cv, groups = X.faixa_etaria, return_train_score=True)\n",
    "                    resultados.append({\n",
    "                        \"criterion\": c,\n",
    "                        \"max_depth\" : md,\n",
    "                        \"min_samples_split\": ms,\n",
    "                        \"min_samples_leaf\": ml,\n",
    "                        \"test_score\": (results['test_score'][0] + results['test_score'][1]) / 2,\n",
    "                        \"train_score\": (results['train_score'][0] + results['train_score'][1]) / 2\n",
    "                    })\n",
    "\n",
    "    return pd.DataFrame(resultados)"
   ]
  },
  {
   "cell_type": "code",
   "execution_count": 77,
   "id": "1ecce455",
   "metadata": {},
   "outputs": [
    {
     "data": {
      "text/html": [
       "<div>\n",
       "<style scoped>\n",
       "    .dataframe tbody tr th:only-of-type {\n",
       "        vertical-align: middle;\n",
       "    }\n",
       "\n",
       "    .dataframe tbody tr th {\n",
       "        vertical-align: top;\n",
       "    }\n",
       "\n",
       "    .dataframe thead th {\n",
       "        text-align: right;\n",
       "    }\n",
       "</style>\n",
       "<table border=\"1\" class=\"dataframe\">\n",
       "  <thead>\n",
       "    <tr style=\"text-align: right;\">\n",
       "      <th></th>\n",
       "      <th>criterion</th>\n",
       "      <th>max_depth</th>\n",
       "      <th>min_samples_split</th>\n",
       "      <th>min_samples_leaf</th>\n",
       "      <th>test_score</th>\n",
       "      <th>train_score</th>\n",
       "    </tr>\n",
       "  </thead>\n",
       "  <tbody>\n",
       "    <tr>\n",
       "      <th>245</th>\n",
       "      <td>entropy</td>\n",
       "      <td>11</td>\n",
       "      <td>8</td>\n",
       "      <td>1</td>\n",
       "      <td>0.805509</td>\n",
       "      <td>0.897946</td>\n",
       "    </tr>\n",
       "    <tr>\n",
       "      <th>205</th>\n",
       "      <td>entropy</td>\n",
       "      <td>7</td>\n",
       "      <td>8</td>\n",
       "      <td>1</td>\n",
       "      <td>0.803932</td>\n",
       "      <td>0.884959</td>\n",
       "    </tr>\n",
       "    <tr>\n",
       "      <th>200</th>\n",
       "      <td>entropy</td>\n",
       "      <td>7</td>\n",
       "      <td>2</td>\n",
       "      <td>1</td>\n",
       "      <td>0.801618</td>\n",
       "      <td>0.900207</td>\n",
       "    </tr>\n",
       "    <tr>\n",
       "      <th>225</th>\n",
       "      <td>entropy</td>\n",
       "      <td>9</td>\n",
       "      <td>8</td>\n",
       "      <td>1</td>\n",
       "      <td>0.801566</td>\n",
       "      <td>0.895580</td>\n",
       "    </tr>\n",
       "    <tr>\n",
       "      <th>265</th>\n",
       "      <td>entropy</td>\n",
       "      <td>13</td>\n",
       "      <td>8</td>\n",
       "      <td>1</td>\n",
       "      <td>0.799988</td>\n",
       "      <td>0.900312</td>\n",
       "    </tr>\n",
       "    <tr>\n",
       "      <th>...</th>\n",
       "      <td>...</td>\n",
       "      <td>...</td>\n",
       "      <td>...</td>\n",
       "      <td>...</td>\n",
       "      <td>...</td>\n",
       "      <td>...</td>\n",
       "    </tr>\n",
       "    <tr>\n",
       "      <th>37</th>\n",
       "      <td>gini</td>\n",
       "      <td>3</td>\n",
       "      <td>32</td>\n",
       "      <td>8</td>\n",
       "      <td>0.759869</td>\n",
       "      <td>0.842053</td>\n",
       "    </tr>\n",
       "    <tr>\n",
       "      <th>162</th>\n",
       "      <td>entropy</td>\n",
       "      <td>3</td>\n",
       "      <td>2</td>\n",
       "      <td>8</td>\n",
       "      <td>0.759869</td>\n",
       "      <td>0.842053</td>\n",
       "    </tr>\n",
       "    <tr>\n",
       "      <th>167</th>\n",
       "      <td>entropy</td>\n",
       "      <td>3</td>\n",
       "      <td>8</td>\n",
       "      <td>8</td>\n",
       "      <td>0.759869</td>\n",
       "      <td>0.842053</td>\n",
       "    </tr>\n",
       "    <tr>\n",
       "      <th>172</th>\n",
       "      <td>entropy</td>\n",
       "      <td>3</td>\n",
       "      <td>16</td>\n",
       "      <td>8</td>\n",
       "      <td>0.759869</td>\n",
       "      <td>0.842053</td>\n",
       "    </tr>\n",
       "    <tr>\n",
       "      <th>177</th>\n",
       "      <td>entropy</td>\n",
       "      <td>3</td>\n",
       "      <td>32</td>\n",
       "      <td>8</td>\n",
       "      <td>0.759869</td>\n",
       "      <td>0.842053</td>\n",
       "    </tr>\n",
       "  </tbody>\n",
       "</table>\n",
       "<p>280 rows × 6 columns</p>\n",
       "</div>"
      ],
      "text/plain": [
       "    criterion  max_depth  min_samples_split  min_samples_leaf  test_score  \\\n",
       "245   entropy         11                  8                 1    0.805509   \n",
       "205   entropy          7                  8                 1    0.803932   \n",
       "200   entropy          7                  2                 1    0.801618   \n",
       "225   entropy          9                  8                 1    0.801566   \n",
       "265   entropy         13                  8                 1    0.799988   \n",
       "..        ...        ...                ...               ...         ...   \n",
       "37       gini          3                 32                 8    0.759869   \n",
       "162   entropy          3                  2                 8    0.759869   \n",
       "167   entropy          3                  8                 8    0.759869   \n",
       "172   entropy          3                 16                 8    0.759869   \n",
       "177   entropy          3                 32                 8    0.759869   \n",
       "\n",
       "     train_score  \n",
       "245     0.897946  \n",
       "205     0.884959  \n",
       "200     0.900207  \n",
       "225     0.895580  \n",
       "265     0.900312  \n",
       "..           ...  \n",
       "37      0.842053  \n",
       "162     0.842053  \n",
       "167     0.842053  \n",
       "172     0.842053  \n",
       "177     0.842053  \n",
       "\n",
       "[280 rows x 6 columns]"
      ]
     },
     "execution_count": 77,
     "metadata": {},
     "output_type": "execute_result"
    }
   ],
   "source": [
    "resultados = dt_grid_search(X, y).sort_values(by=['test_score', 'train_score'], ascending=[False, False])\n",
    "resultados"
   ]
  },
  {
   "cell_type": "code",
   "execution_count": 78,
   "id": "c7597258",
   "metadata": {},
   "outputs": [
    {
     "data": {
      "text/plain": [
       "{'criterion': 'entropy',\n",
       " 'max_depth': 11,\n",
       " 'min_samples_split': 8,\n",
       " 'min_samples_leaf': 1}"
      ]
     },
     "execution_count": 78,
     "metadata": {},
     "output_type": "execute_result"
    }
   ],
   "source": [
    "best_params = resultados.sort_values(by=['test_score'], ascending=[False]).head(1).drop(columns=['test_score', 'train_score']).to_dict(orient='records')[0]\n",
    "best_params"
   ]
  },
  {
   "cell_type": "code",
   "execution_count": 79,
   "id": "93cf5bf5",
   "metadata": {},
   "outputs": [],
   "source": [
    "melhor_modelo = DecisionTreeClassifier().set_params(**best_params)\n",
    "melhor_modelo.fit(X, y)\n",
    "predicoes = melhor_modelo.predict(Xvalidacao)\n",
    "resultado = pd.DataFrame()\n",
    "resultado['PassengerId'] = teste['PassengerId']\n",
    "resultado['Survived'] = predicoes\n",
    "resultado.to_csv('../../data/submissions/decision_tree.csv', index=False)"
   ]
  },
  {
   "cell_type": "code",
   "execution_count": 80,
   "id": "d4761f22",
   "metadata": {},
   "outputs": [
    {
     "data": {
      "text/html": [
       "<div>\n",
       "<style scoped>\n",
       "    .dataframe tbody tr th:only-of-type {\n",
       "        vertical-align: middle;\n",
       "    }\n",
       "\n",
       "    .dataframe tbody tr th {\n",
       "        vertical-align: top;\n",
       "    }\n",
       "\n",
       "    .dataframe thead th {\n",
       "        text-align: right;\n",
       "    }\n",
       "</style>\n",
       "<table border=\"1\" class=\"dataframe\">\n",
       "  <thead>\n",
       "    <tr style=\"text-align: right;\">\n",
       "      <th></th>\n",
       "      <th>criterion</th>\n",
       "      <th>max_depth</th>\n",
       "      <th>min_samples_split</th>\n",
       "      <th>min_samples_leaf</th>\n",
       "      <th>test_score</th>\n",
       "      <th>train_score</th>\n",
       "    </tr>\n",
       "  </thead>\n",
       "  <tbody>\n",
       "    <tr>\n",
       "      <th>120</th>\n",
       "      <td>gini</td>\n",
       "      <td>13</td>\n",
       "      <td>2</td>\n",
       "      <td>1</td>\n",
       "      <td>0.792943</td>\n",
       "      <td>0.941376</td>\n",
       "    </tr>\n",
       "    <tr>\n",
       "      <th>260</th>\n",
       "      <td>entropy</td>\n",
       "      <td>13</td>\n",
       "      <td>2</td>\n",
       "      <td>1</td>\n",
       "      <td>0.796149</td>\n",
       "      <td>0.939799</td>\n",
       "    </tr>\n",
       "    <tr>\n",
       "      <th>100</th>\n",
       "      <td>gini</td>\n",
       "      <td>11</td>\n",
       "      <td>2</td>\n",
       "      <td>1</td>\n",
       "      <td>0.784688</td>\n",
       "      <td>0.938222</td>\n",
       "    </tr>\n",
       "    <tr>\n",
       "      <th>240</th>\n",
       "      <td>entropy</td>\n",
       "      <td>11</td>\n",
       "      <td>2</td>\n",
       "      <td>1</td>\n",
       "      <td>0.797727</td>\n",
       "      <td>0.935067</td>\n",
       "    </tr>\n",
       "    <tr>\n",
       "      <th>80</th>\n",
       "      <td>gini</td>\n",
       "      <td>9</td>\n",
       "      <td>2</td>\n",
       "      <td>1</td>\n",
       "      <td>0.789788</td>\n",
       "      <td>0.928810</td>\n",
       "    </tr>\n",
       "    <tr>\n",
       "      <th>...</th>\n",
       "      <td>...</td>\n",
       "      <td>...</td>\n",
       "      <td>...</td>\n",
       "      <td>...</td>\n",
       "      <td>...</td>\n",
       "      <td>...</td>\n",
       "    </tr>\n",
       "    <tr>\n",
       "      <th>149</th>\n",
       "      <td>entropy</td>\n",
       "      <td>2</td>\n",
       "      <td>8</td>\n",
       "      <td>32</td>\n",
       "      <td>0.768387</td>\n",
       "      <td>0.780849</td>\n",
       "    </tr>\n",
       "    <tr>\n",
       "      <th>153</th>\n",
       "      <td>entropy</td>\n",
       "      <td>2</td>\n",
       "      <td>16</td>\n",
       "      <td>16</td>\n",
       "      <td>0.768387</td>\n",
       "      <td>0.780849</td>\n",
       "    </tr>\n",
       "    <tr>\n",
       "      <th>154</th>\n",
       "      <td>entropy</td>\n",
       "      <td>2</td>\n",
       "      <td>16</td>\n",
       "      <td>32</td>\n",
       "      <td>0.768387</td>\n",
       "      <td>0.780849</td>\n",
       "    </tr>\n",
       "    <tr>\n",
       "      <th>158</th>\n",
       "      <td>entropy</td>\n",
       "      <td>2</td>\n",
       "      <td>32</td>\n",
       "      <td>16</td>\n",
       "      <td>0.768387</td>\n",
       "      <td>0.780849</td>\n",
       "    </tr>\n",
       "    <tr>\n",
       "      <th>159</th>\n",
       "      <td>entropy</td>\n",
       "      <td>2</td>\n",
       "      <td>32</td>\n",
       "      <td>32</td>\n",
       "      <td>0.768387</td>\n",
       "      <td>0.780849</td>\n",
       "    </tr>\n",
       "  </tbody>\n",
       "</table>\n",
       "<p>280 rows × 6 columns</p>\n",
       "</div>"
      ],
      "text/plain": [
       "    criterion  max_depth  min_samples_split  min_samples_leaf  test_score  \\\n",
       "120      gini         13                  2                 1    0.792943   \n",
       "260   entropy         13                  2                 1    0.796149   \n",
       "100      gini         11                  2                 1    0.784688   \n",
       "240   entropy         11                  2                 1    0.797727   \n",
       "80       gini          9                  2                 1    0.789788   \n",
       "..        ...        ...                ...               ...         ...   \n",
       "149   entropy          2                  8                32    0.768387   \n",
       "153   entropy          2                 16                16    0.768387   \n",
       "154   entropy          2                 16                32    0.768387   \n",
       "158   entropy          2                 32                16    0.768387   \n",
       "159   entropy          2                 32                32    0.768387   \n",
       "\n",
       "     train_score  \n",
       "120     0.941376  \n",
       "260     0.939799  \n",
       "100     0.938222  \n",
       "240     0.935067  \n",
       "80      0.928810  \n",
       "..           ...  \n",
       "149     0.780849  \n",
       "153     0.780849  \n",
       "154     0.780849  \n",
       "158     0.780849  \n",
       "159     0.780849  \n",
       "\n",
       "[280 rows x 6 columns]"
      ]
     },
     "execution_count": 80,
     "metadata": {},
     "output_type": "execute_result"
    }
   ],
   "source": [
    "resultados = dt_grid_search(X, y).sort_values(by=['train_score', 'test_score'], ascending=[False, False])\n",
    "resultados"
   ]
  },
  {
   "cell_type": "code",
   "execution_count": 81,
   "id": "ddcc462c",
   "metadata": {},
   "outputs": [],
   "source": [
    "best_params = resultados.sort_values(by=['test_score'], ascending=[False]).head(1).drop(columns=['test_score', 'train_score']).to_dict(orient='records')[0]\n",
    "melhor_modelo = DecisionTreeClassifier().set_params(**best_params)\n",
    "melhor_modelo.fit(X, y)\n",
    "predicoes = melhor_modelo.predict(Xvalidacao)\n",
    "resultado = pd.DataFrame()\n",
    "resultado['PassengerId'] = teste['PassengerId']\n",
    "resultado['Survived'] = predicoes\n",
    "resultado.to_csv('../../data/submissions/decision_tree.csv', index=False)"
   ]
  },
  {
   "cell_type": "markdown",
   "id": "c1855a3e",
   "metadata": {},
   "source": [
    "Os modelos retornados utilizando o CrossValidation apresentaram erro maior no kaggle (acurácia de 73.3% apenas). Isso indica que o problema da árvore não está na divisão dos dados de treino e teste."
   ]
  },
  {
   "cell_type": "markdown",
   "id": "7d7db71c",
   "metadata": {},
   "source": [
    "### Tentativa final aleatória"
   ]
  },
  {
   "cell_type": "code",
   "execution_count": 82,
   "id": "4bdd526f",
   "metadata": {},
   "outputs": [],
   "source": [
    "clf_gini = DecisionTreeClassifier(criterion='gini',\n",
    "                                 random_state=100,\n",
    "                                 max_depth=5,\n",
    "                                 min_samples_leaf=50,\n",
    "                                 min_samples_split=50)\n",
    "clf_gini.fit(X, y)\n",
    "predicoes = clf_gini.predict(Xvalidacao)\n",
    "resultado = pd.DataFrame()\n",
    "resultado['PassengerId'] = teste['PassengerId']\n",
    "resultado['Survived'] = predicoes\n",
    "resultado.to_csv('../../data/submissions/decision_tree.csv', index=False)"
   ]
  },
  {
   "cell_type": "markdown",
   "id": "20981cbf",
   "metadata": {},
   "source": [
    "## Conclusão\n",
    "\n",
    "Para o formato atual dos dados a DecisionTree não apresentou resultados satisfatórios para o Kaggle. Alcançando o máximo de 76.5% de acurácia. Talvez uma alteração no pré processamento dos dados altere o resultado da árvore."
   ]
  },
  {
   "cell_type": "markdown",
   "id": "a47c8193",
   "metadata": {},
   "source": [
    "## Apêndice: Salvando os dados formatados para árvore"
   ]
  },
  {
   "cell_type": "code",
   "execution_count": 84,
   "id": "c4b4b068",
   "metadata": {},
   "outputs": [],
   "source": [
    "treino_1.to_csv('../../data/processed/train_processed_byage_ag_nm.csv', index=False)\n",
    "teste.to_csv('../../data/processed/test_processed_byage_ag_nm.csv', index=False)"
   ]
  },
  {
   "cell_type": "code",
   "execution_count": null,
   "id": "13386b24",
   "metadata": {},
   "outputs": [],
   "source": []
  }
 ],
 "metadata": {
  "kernelspec": {
   "display_name": "Python 3",
   "language": "python",
   "name": "python3"
  },
  "language_info": {
   "codemirror_mode": {
    "name": "ipython",
    "version": 3
   },
   "file_extension": ".py",
   "mimetype": "text/x-python",
   "name": "python",
   "nbconvert_exporter": "python",
   "pygments_lexer": "ipython3",
   "version": "3.8.8"
  }
 },
 "nbformat": 4,
 "nbformat_minor": 5
}
