{
 "cells": [
  {
   "cell_type": "markdown",
   "id": "3a4386d5",
   "metadata": {},
   "source": [
    "# 13 - RandomForest + NewDummies\n",
    "\n",
    "Após um resultado um pouco melhor no `DecisionTree` com o novo dataset com dummies, realizarei uma nova tentativa com o `RandomForest`."
   ]
  },
  {
   "cell_type": "markdown",
   "id": "767f72f7",
   "metadata": {},
   "source": [
    "## Preparando o ambiente"
   ]
  },
  {
   "cell_type": "code",
   "execution_count": 1,
   "id": "10049648",
   "metadata": {},
   "outputs": [],
   "source": [
    "import pandas as pd\n",
    "import numpy as np\n",
    "import matplotlib.pyplot as plt\n",
    "from sklearn.model_selection import train_test_split, GridSearchCV, GroupKFold, cross_validate\n",
    "from sklearn.metrics import accuracy_score\n",
    "from sklearn.ensemble import RandomForestClassifier\n",
    "from sklearn.preprocessing import StandardScaler, MaxAbsScaler, MinMaxScaler, Normalizer, RobustScaler\n",
    "from IPython.display import display, clear_output"
   ]
  },
  {
   "cell_type": "code",
   "execution_count": 2,
   "id": "d9c345bd",
   "metadata": {},
   "outputs": [],
   "source": [
    "SEED = 5\n",
    "np.random.seed(SEED)"
   ]
  },
  {
   "cell_type": "markdown",
   "id": "2b8ee32d",
   "metadata": {},
   "source": [
    "## Carregando os dados"
   ]
  },
  {
   "cell_type": "code",
   "execution_count": 3,
   "id": "cf8d4d92",
   "metadata": {},
   "outputs": [
    {
     "data": {
      "text/html": [
       "<div>\n",
       "<style scoped>\n",
       "    .dataframe tbody tr th:only-of-type {\n",
       "        vertical-align: middle;\n",
       "    }\n",
       "\n",
       "    .dataframe tbody tr th {\n",
       "        vertical-align: top;\n",
       "    }\n",
       "\n",
       "    .dataframe thead th {\n",
       "        text-align: right;\n",
       "    }\n",
       "</style>\n",
       "<table border=\"1\" class=\"dataframe\">\n",
       "  <thead>\n",
       "    <tr style=\"text-align: right;\">\n",
       "      <th></th>\n",
       "      <th>Survived</th>\n",
       "      <th>Pclass</th>\n",
       "      <th>Age</th>\n",
       "      <th>SibSp</th>\n",
       "      <th>Parch</th>\n",
       "      <th>Relateds</th>\n",
       "      <th>possui_cabine</th>\n",
       "      <th>Sex_female</th>\n",
       "      <th>Sex_male</th>\n",
       "      <th>Embarked_C</th>\n",
       "      <th>Embarked_Q</th>\n",
       "      <th>Embarked_S</th>\n",
       "    </tr>\n",
       "  </thead>\n",
       "  <tbody>\n",
       "    <tr>\n",
       "      <th>0</th>\n",
       "      <td>0</td>\n",
       "      <td>3</td>\n",
       "      <td>22</td>\n",
       "      <td>1</td>\n",
       "      <td>0</td>\n",
       "      <td>1</td>\n",
       "      <td>0</td>\n",
       "      <td>0</td>\n",
       "      <td>1</td>\n",
       "      <td>0</td>\n",
       "      <td>0</td>\n",
       "      <td>1</td>\n",
       "    </tr>\n",
       "    <tr>\n",
       "      <th>1</th>\n",
       "      <td>1</td>\n",
       "      <td>1</td>\n",
       "      <td>38</td>\n",
       "      <td>1</td>\n",
       "      <td>0</td>\n",
       "      <td>1</td>\n",
       "      <td>1</td>\n",
       "      <td>1</td>\n",
       "      <td>0</td>\n",
       "      <td>1</td>\n",
       "      <td>0</td>\n",
       "      <td>0</td>\n",
       "    </tr>\n",
       "  </tbody>\n",
       "</table>\n",
       "</div>"
      ],
      "text/plain": [
       "   Survived  Pclass  Age  SibSp  Parch  Relateds  possui_cabine  Sex_female  \\\n",
       "0         0       3   22      1      0         1              0           0   \n",
       "1         1       1   38      1      0         1              1           1   \n",
       "\n",
       "   Sex_male  Embarked_C  Embarked_Q  Embarked_S  \n",
       "0         1           0           0           1  \n",
       "1         0           1           0           0  "
      ]
     },
     "execution_count": 3,
     "metadata": {},
     "output_type": "execute_result"
    }
   ],
   "source": [
    "treino = pd.read_csv('https://raw.githubusercontent.com/SalatielBairros/kaggle-titanic/main/data/processed_v2/train_dummies_2.csv')\n",
    "teste = pd.read_csv('https://raw.githubusercontent.com/SalatielBairros/kaggle-titanic/main/data/processed_v2/test_dummies_2.csv')\n",
    "Xvalidation = teste.drop(columns=['PassengerId'])\n",
    "treino.head(2)"
   ]
  },
  {
   "cell_type": "markdown",
   "id": "31080efd",
   "metadata": {},
   "source": [
    "## Separando treino e teste"
   ]
  },
  {
   "cell_type": "code",
   "execution_count": 4,
   "id": "51b9601d",
   "metadata": {},
   "outputs": [
    {
     "name": "stdout",
     "output_type": "stream",
     "text": [
      "Treinaremos com 712 elementos e testaremos com 179 elementos\n"
     ]
    }
   ],
   "source": [
    "X = treino.drop(columns=['Survived'])\n",
    "y = treino['Survived']\n",
    "\n",
    "treino_x, teste_x, treino_y, teste_y = train_test_split(X, y, test_size = 0.2, stratify = y)\n",
    "print(\"Treinaremos com %d elementos e testaremos com %d elementos\" % (len(treino_x), len(teste_x)))"
   ]
  },
  {
   "cell_type": "markdown",
   "id": "98681f37",
   "metadata": {},
   "source": [
    "## Criando a `RandomForest`"
   ]
  },
  {
   "cell_type": "code",
   "execution_count": 5,
   "id": "98aeb273",
   "metadata": {},
   "outputs": [],
   "source": [
    "def rf_grid_search(treino_x, treino_y, teste_x, teste_y):\n",
    "    n_estimators = [25, 50, 100, 300, 500]\n",
    "    criterion = [\"gini\", \"entropy\"]\n",
    "    max_depth = range(3, 100, 4)\n",
    "    min_samples_split = [4, 8, 16]\n",
    "    min_samples_leaf = [4, 8, 16]\n",
    "    resultados = []\n",
    "\n",
    "    total = len(n_estimators) * len(criterion) * len(max_depth) * len(min_samples_split) * len(min_samples_leaf)\n",
    "    counter = 0\n",
    "\n",
    "    for c in criterion:\n",
    "        for md in max_depth:\n",
    "            for ms in min_samples_split:\n",
    "                for ml in min_samples_leaf:\n",
    "                    for ne in n_estimators:\n",
    "                        modelo = RandomForestClassifier(n_estimators = ne, criterion = c, max_depth = md, min_samples_split = ms, min_samples_leaf = ml)\n",
    "                        modelo.fit(treino_x, treino_y)\n",
    "                        train_score = modelo.score(treino_x, treino_y)\n",
    "                        test_score = modelo.score(teste_x, teste_y)\n",
    "                        d = {\n",
    "                            \"criterion\": c,\n",
    "                            \"max_depth\" : md,\n",
    "                            \"min_samples_split\": ms,\n",
    "                            \"min_samples_leaf\": ml,\n",
    "                            \"n_estimators\": ne,\n",
    "                            \"train_score\": train_score,\n",
    "                            \"test_score\": test_score\n",
    "                        }\n",
    "                        counter += 1\n",
    "                        resultados.append(d)\n",
    "                        \n",
    "                        clear_output(wait=True)\n",
    "                        display(f'Execução {counter} de {total} - Score: {test_score}')\n",
    "\n",
    "    return pd.DataFrame(resultados)\n"
   ]
  },
  {
   "cell_type": "code",
   "execution_count": 6,
   "id": "6a6c0b0b",
   "metadata": {
    "scrolled": false
   },
   "outputs": [
    {
     "data": {
      "text/plain": [
       "'Execução 2250 de 2250 - Score: 0.8100558659217877'"
      ]
     },
     "metadata": {},
     "output_type": "display_data"
    }
   ],
   "source": [
    "resultados = rf_grid_search(treino_x, treino_y, teste_x, teste_y)"
   ]
  },
  {
   "cell_type": "code",
   "execution_count": 10,
   "id": "6c167a31",
   "metadata": {},
   "outputs": [
    {
     "data": {
      "text/html": [
       "<div>\n",
       "<style scoped>\n",
       "    .dataframe tbody tr th:only-of-type {\n",
       "        vertical-align: middle;\n",
       "    }\n",
       "\n",
       "    .dataframe tbody tr th {\n",
       "        vertical-align: top;\n",
       "    }\n",
       "\n",
       "    .dataframe thead th {\n",
       "        text-align: right;\n",
       "    }\n",
       "</style>\n",
       "<table border=\"1\" class=\"dataframe\">\n",
       "  <thead>\n",
       "    <tr style=\"text-align: right;\">\n",
       "      <th></th>\n",
       "      <th>criterion</th>\n",
       "      <th>max_depth</th>\n",
       "      <th>min_samples_split</th>\n",
       "      <th>min_samples_leaf</th>\n",
       "      <th>n_estimators</th>\n",
       "      <th>train_score</th>\n",
       "      <th>test_score</th>\n",
       "    </tr>\n",
       "  </thead>\n",
       "  <tbody>\n",
       "    <tr>\n",
       "      <th>360</th>\n",
       "      <td>gini</td>\n",
       "      <td>35</td>\n",
       "      <td>4</td>\n",
       "      <td>4</td>\n",
       "      <td>25</td>\n",
       "      <td>0.849719</td>\n",
       "      <td>0.860335</td>\n",
       "    </tr>\n",
       "  </tbody>\n",
       "</table>\n",
       "</div>"
      ],
      "text/plain": [
       "    criterion  max_depth  min_samples_split  min_samples_leaf  n_estimators  \\\n",
       "360      gini         35                  4                 4            25   \n",
       "\n",
       "     train_score  test_score  \n",
       "360     0.849719    0.860335  "
      ]
     },
     "execution_count": 10,
     "metadata": {},
     "output_type": "execute_result"
    }
   ],
   "source": [
    "best_result = resultados.sort_values(by=['test_score', 'train_score'], ascending=[False, False]).head(1)\n",
    "best_result"
   ]
  },
  {
   "cell_type": "markdown",
   "id": "c3e277ff",
   "metadata": {},
   "source": [
    "### Testando no Kaggle com o melhor resultado obtido"
   ]
  },
  {
   "cell_type": "code",
   "execution_count": 11,
   "id": "bd099f18",
   "metadata": {},
   "outputs": [
    {
     "data": {
      "text/plain": [
       "{'criterion': 'gini',\n",
       " 'max_depth': 35,\n",
       " 'min_samples_split': 4,\n",
       " 'min_samples_leaf': 4,\n",
       " 'n_estimators': 25}"
      ]
     },
     "execution_count": 11,
     "metadata": {},
     "output_type": "execute_result"
    }
   ],
   "source": [
    "best_params = best_result.drop(columns=['test_score', 'train_score']).to_dict(orient='records')[0]\n",
    "best_params"
   ]
  },
  {
   "cell_type": "code",
   "execution_count": 13,
   "id": "f37f31ba",
   "metadata": {},
   "outputs": [],
   "source": [
    "best_params['random_state'] = SEED\n",
    "modelo = RandomForestClassifier(**best_params)\n",
    "modelo.fit(X, y)\n",
    "predicoes = modelo.predict(Xvalidation)\n",
    "resultado = pd.DataFrame()\n",
    "resultado['PassengerId'] = teste['PassengerId']\n",
    "resultado['Survived'] = predicoes\n",
    "resultado.to_csv('../../data/submissions/random_forest_new.csv', index=False)"
   ]
  },
  {
   "cell_type": "markdown",
   "id": "6292326b",
   "metadata": {},
   "source": [
    "O melhor modelo de `RandomForest` apresentou apenas 77.2% de acurácia. Inferior ao do `DecisionTree` feito anteriormente. Parece que com o dataset dessa forma não vou conseguir obter o resultado maior que 77% na base de validação. O próximo passo será tentar com um SVC - um modelo mais complexo e menos visual. Após isso, caso a acurácia continue semelhante, talvez o ideal seja voltar mais uma vez para o modelo de dados e realizar um novo pré-processamento - talvez baseado em alguma ajuda na internet."
   ]
  },
  {
   "cell_type": "markdown",
   "id": "9dd8a4fb",
   "metadata": {},
   "source": [
    "Não vou rodar o modelo com `cross_validation` e com os `Scalers` pois os resultados nas outras tentativas não foram diferentes. Parece uma limitação ou do modelo ou dos dados, visto que ambos os modelos utilizados utilizam a árvore de decisão como base. É necessário, para teste, validar com modelos de proposta diferentes."
   ]
  },
  {
   "cell_type": "code",
   "execution_count": null,
   "id": "8e832b03",
   "metadata": {},
   "outputs": [],
   "source": []
  }
 ],
 "metadata": {
  "kernelspec": {
   "display_name": "Python 3",
   "language": "python",
   "name": "python3"
  },
  "language_info": {
   "codemirror_mode": {
    "name": "ipython",
    "version": 3
   },
   "file_extension": ".py",
   "mimetype": "text/x-python",
   "name": "python",
   "nbconvert_exporter": "python",
   "pygments_lexer": "ipython3",
   "version": "3.10.0"
  }
 },
 "nbformat": 4,
 "nbformat_minor": 5
}
