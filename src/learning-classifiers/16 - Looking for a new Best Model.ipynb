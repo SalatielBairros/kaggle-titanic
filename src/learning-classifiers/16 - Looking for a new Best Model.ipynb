{
 "cells": [
  {
   "cell_type": "markdown",
   "metadata": {},
   "source": [
    "# Procurando um novo melhor modelo.\n",
    "\n",
    "Pesquisa \"bruta\" por um melhor modelo baseado [neste notebook do Kaggle](https://www.kaggle.com/mirach21/titanic-classification-notebook#6-Modelling-)."
   ]
  },
  {
   "cell_type": "markdown",
   "metadata": {},
   "source": [
    "## Preparando o ambiente"
   ]
  },
  {
   "cell_type": "code",
   "execution_count": 31,
   "metadata": {},
   "outputs": [],
   "source": [
    "import pandas as pd\n",
    "import numpy as np\n",
    "from sklearn.model_selection import train_test_split, cross_val_score, GridSearchCV, cross_val_predict\n",
    "from sklearn.linear_model import LogisticRegression\n",
    "from sklearn.svm import SVC\n",
    "from sklearn.ensemble import RandomForestClassifier, GradientBoostingClassifier, AdaBoostClassifier, BaggingClassifier, ExtraTreesClassifier\n",
    "from sklearn.neighbors import KNeighborsClassifier\n",
    "from sklearn.naive_bayes import GaussianNB\n",
    "from sklearn.tree import DecisionTreeClassifier\n",
    "from sklearn.metrics import classification_report, accuracy_score, balanced_accuracy_score, precision_score, recall_score, f1_score\n",
    "from IPython.display import display\n",
    "from xgboost import XGBClassifier\n",
    "from mlxtend.classifier import EnsembleVoteClassifier\n",
    "import seaborn as sns\n",
    "import matplotlib.pyplot as plt\n"
   ]
  },
  {
   "cell_type": "code",
   "execution_count": 3,
   "metadata": {},
   "outputs": [],
   "source": [
    "SEED = 5\n",
    "np.random.seed(SEED)"
   ]
  },
  {
   "cell_type": "markdown",
   "metadata": {},
   "source": [
    "## Carregando os dados"
   ]
  },
  {
   "cell_type": "code",
   "execution_count": 6,
   "metadata": {},
   "outputs": [
    {
     "name": "stdout",
     "output_type": "stream",
     "text": [
      "Treinaremos com 712 elementos e testaremos com 179 elementos\n"
     ]
    }
   ],
   "source": [
    "treino = pd.read_csv('https://raw.githubusercontent.com/SalatielBairros/kaggle-titanic/main/data/processed_v2/train_dummies_2.csv')\n",
    "teste = pd.read_csv('https://raw.githubusercontent.com/SalatielBairros/kaggle-titanic/main/data/processed_v2/test_dummies_2.csv')\n",
    "Xvalidation = teste.drop(columns=['PassengerId'])\n",
    "treino.head(2)\n",
    "\n",
    "X = treino.drop(columns=['Survived'])\n",
    "y = treino['Survived']\n",
    "\n",
    "treino_x, teste_x, treino_y, teste_y = train_test_split(X, y, test_size = 0.2, stratify = y)\n",
    "print(\"Treinaremos com %d elementos e testaremos com %d elementos\" % (len(treino_x), len(teste_x)))"
   ]
  },
  {
   "cell_type": "markdown",
   "metadata": {},
   "source": [
    "## Analisando comportamento geral de diferentes modelos"
   ]
  },
  {
   "cell_type": "code",
   "execution_count": 8,
   "metadata": {},
   "outputs": [],
   "source": [
    "def model_crossval_accuracy(model):\n",
    "    accuracy = round(cross_val_score(model, treino_x, treino_y, cv=10, scoring='accuracy').mean() * 100, 2)\n",
    "    return accuracy"
   ]
  },
  {
   "cell_type": "code",
   "execution_count": 12,
   "metadata": {},
   "outputs": [
    {
     "name": "stderr",
     "output_type": "stream",
     "text": [
      "C:\\Users\\salat\\AppData\\Local\\Programs\\Python\\Python310\\lib\\site-packages\\xgboost\\data.py:262: FutureWarning: pandas.Int64Index is deprecated and will be removed from pandas in a future version. Use pandas.Index with the appropriate dtype instead.\n",
      "  elif isinstance(data.columns, (pd.Int64Index, pd.RangeIndex)):\n",
      "C:\\Users\\salat\\AppData\\Local\\Programs\\Python\\Python310\\lib\\site-packages\\xgboost\\data.py:262: FutureWarning: pandas.Int64Index is deprecated and will be removed from pandas in a future version. Use pandas.Index with the appropriate dtype instead.\n",
      "  elif isinstance(data.columns, (pd.Int64Index, pd.RangeIndex)):\n"
     ]
    },
    {
     "name": "stdout",
     "output_type": "stream",
     "text": [
      "[12:27:56] WARNING: C:/Users/Administrator/workspace/xgboost-win64_release_1.5.1/src/learner.cc:1115: Starting in XGBoost 1.3.0, the default evaluation metric used with the objective 'binary:logistic' was changed from 'error' to 'logloss'. Explicitly set eval_metric if you'd like to restore the old behavior.\n",
      "[12:27:57] WARNING: C:/Users/Administrator/workspace/xgboost-win64_release_1.5.1/src/learner.cc:1115: Starting in XGBoost 1.3.0, the default evaluation metric used with the objective 'binary:logistic' was changed from 'error' to 'logloss'. Explicitly set eval_metric if you'd like to restore the old behavior.\n"
     ]
    },
    {
     "name": "stderr",
     "output_type": "stream",
     "text": [
      "C:\\Users\\salat\\AppData\\Local\\Programs\\Python\\Python310\\lib\\site-packages\\xgboost\\data.py:262: FutureWarning: pandas.Int64Index is deprecated and will be removed from pandas in a future version. Use pandas.Index with the appropriate dtype instead.\n",
      "  elif isinstance(data.columns, (pd.Int64Index, pd.RangeIndex)):\n",
      "C:\\Users\\salat\\AppData\\Local\\Programs\\Python\\Python310\\lib\\site-packages\\xgboost\\data.py:262: FutureWarning: pandas.Int64Index is deprecated and will be removed from pandas in a future version. Use pandas.Index with the appropriate dtype instead.\n",
      "  elif isinstance(data.columns, (pd.Int64Index, pd.RangeIndex)):\n"
     ]
    },
    {
     "name": "stdout",
     "output_type": "stream",
     "text": [
      "[12:27:57] WARNING: C:/Users/Administrator/workspace/xgboost-win64_release_1.5.1/src/learner.cc:1115: Starting in XGBoost 1.3.0, the default evaluation metric used with the objective 'binary:logistic' was changed from 'error' to 'logloss'. Explicitly set eval_metric if you'd like to restore the old behavior.\n",
      "[12:27:57] WARNING: C:/Users/Administrator/workspace/xgboost-win64_release_1.5.1/src/learner.cc:1115: Starting in XGBoost 1.3.0, the default evaluation metric used with the objective 'binary:logistic' was changed from 'error' to 'logloss'. Explicitly set eval_metric if you'd like to restore the old behavior.\n"
     ]
    },
    {
     "name": "stderr",
     "output_type": "stream",
     "text": [
      "C:\\Users\\salat\\AppData\\Local\\Programs\\Python\\Python310\\lib\\site-packages\\xgboost\\data.py:262: FutureWarning: pandas.Int64Index is deprecated and will be removed from pandas in a future version. Use pandas.Index with the appropriate dtype instead.\n",
      "  elif isinstance(data.columns, (pd.Int64Index, pd.RangeIndex)):\n",
      "C:\\Users\\salat\\AppData\\Local\\Programs\\Python\\Python310\\lib\\site-packages\\xgboost\\data.py:262: FutureWarning: pandas.Int64Index is deprecated and will be removed from pandas in a future version. Use pandas.Index with the appropriate dtype instead.\n",
      "  elif isinstance(data.columns, (pd.Int64Index, pd.RangeIndex)):\n"
     ]
    },
    {
     "name": "stdout",
     "output_type": "stream",
     "text": [
      "[12:27:57] WARNING: C:/Users/Administrator/workspace/xgboost-win64_release_1.5.1/src/learner.cc:1115: Starting in XGBoost 1.3.0, the default evaluation metric used with the objective 'binary:logistic' was changed from 'error' to 'logloss'. Explicitly set eval_metric if you'd like to restore the old behavior.\n",
      "[12:27:57] WARNING: C:/Users/Administrator/workspace/xgboost-win64_release_1.5.1/src/learner.cc:1115: Starting in XGBoost 1.3.0, the default evaluation metric used with the objective 'binary:logistic' was changed from 'error' to 'logloss'. Explicitly set eval_metric if you'd like to restore the old behavior.\n"
     ]
    },
    {
     "name": "stderr",
     "output_type": "stream",
     "text": [
      "C:\\Users\\salat\\AppData\\Local\\Programs\\Python\\Python310\\lib\\site-packages\\xgboost\\data.py:262: FutureWarning: pandas.Int64Index is deprecated and will be removed from pandas in a future version. Use pandas.Index with the appropriate dtype instead.\n",
      "  elif isinstance(data.columns, (pd.Int64Index, pd.RangeIndex)):\n",
      "C:\\Users\\salat\\AppData\\Local\\Programs\\Python\\Python310\\lib\\site-packages\\xgboost\\data.py:262: FutureWarning: pandas.Int64Index is deprecated and will be removed from pandas in a future version. Use pandas.Index with the appropriate dtype instead.\n",
      "  elif isinstance(data.columns, (pd.Int64Index, pd.RangeIndex)):\n"
     ]
    },
    {
     "name": "stdout",
     "output_type": "stream",
     "text": [
      "[12:27:57] WARNING: C:/Users/Administrator/workspace/xgboost-win64_release_1.5.1/src/learner.cc:1115: Starting in XGBoost 1.3.0, the default evaluation metric used with the objective 'binary:logistic' was changed from 'error' to 'logloss'. Explicitly set eval_metric if you'd like to restore the old behavior.\n",
      "[12:27:57] WARNING: C:/Users/Administrator/workspace/xgboost-win64_release_1.5.1/src/learner.cc:1115: Starting in XGBoost 1.3.0, the default evaluation metric used with the objective 'binary:logistic' was changed from 'error' to 'logloss'. Explicitly set eval_metric if you'd like to restore the old behavior.\n"
     ]
    },
    {
     "name": "stderr",
     "output_type": "stream",
     "text": [
      "C:\\Users\\salat\\AppData\\Local\\Programs\\Python\\Python310\\lib\\site-packages\\xgboost\\data.py:262: FutureWarning: pandas.Int64Index is deprecated and will be removed from pandas in a future version. Use pandas.Index with the appropriate dtype instead.\n",
      "  elif isinstance(data.columns, (pd.Int64Index, pd.RangeIndex)):\n",
      "C:\\Users\\salat\\AppData\\Local\\Programs\\Python\\Python310\\lib\\site-packages\\xgboost\\data.py:262: FutureWarning: pandas.Int64Index is deprecated and will be removed from pandas in a future version. Use pandas.Index with the appropriate dtype instead.\n",
      "  elif isinstance(data.columns, (pd.Int64Index, pd.RangeIndex)):\n"
     ]
    },
    {
     "name": "stdout",
     "output_type": "stream",
     "text": [
      "[12:27:57] WARNING: C:/Users/Administrator/workspace/xgboost-win64_release_1.5.1/src/learner.cc:1115: Starting in XGBoost 1.3.0, the default evaluation metric used with the objective 'binary:logistic' was changed from 'error' to 'logloss'. Explicitly set eval_metric if you'd like to restore the old behavior.\n",
      "[12:27:58] WARNING: C:/Users/Administrator/workspace/xgboost-win64_release_1.5.1/src/learner.cc:1115: Starting in XGBoost 1.3.0, the default evaluation metric used with the objective 'binary:logistic' was changed from 'error' to 'logloss'. Explicitly set eval_metric if you'd like to restore the old behavior.\n"
     ]
    }
   ],
   "source": [
    "lr = LogisticRegression(solver='liblinear')\n",
    "svc = SVC(gamma = \"auto\")\n",
    "rf = RandomForestClassifier(random_state = SEED, n_estimators = 100)\n",
    "knn = KNeighborsClassifier()\n",
    "gnb = GaussianNB()\n",
    "dt = DecisionTreeClassifier(random_state = SEED)\n",
    "gbc = GradientBoostingClassifier(random_state = SEED)\n",
    "abc = AdaBoostClassifier(random_state = SEED)\n",
    "etc = ExtraTreesClassifier(random_state = SEED)\n",
    "xgbc = XGBClassifier(random_state = SEED, use_label_encoder=False)\n",
    "\n",
    "models = [lr, svc, rf, knn, gnb, dt, gbc, abc, etc, xgbc]\n",
    "models_str = ['lr', 'svc', 'rf', 'knn', 'gnb', 'dt', 'gbc', 'abc', 'etc', 'xgbc']\n",
    "\n",
    "crossval_scores = list(map(model_crossval_accuracy, models))\n",
    "crossval_scores_df = pd.DataFrame(crossval_scores, columns=['score'], index=models_str).sort_values(by=\"score\", ascending=False)"
   ]
  },
  {
   "cell_type": "code",
   "execution_count": 13,
   "metadata": {},
   "outputs": [
    {
     "data": {
      "text/html": [
       "<div>\n",
       "<style scoped>\n",
       "    .dataframe tbody tr th:only-of-type {\n",
       "        vertical-align: middle;\n",
       "    }\n",
       "\n",
       "    .dataframe tbody tr th {\n",
       "        vertical-align: top;\n",
       "    }\n",
       "\n",
       "    .dataframe thead th {\n",
       "        text-align: right;\n",
       "    }\n",
       "</style>\n",
       "<table border=\"1\" class=\"dataframe\">\n",
       "  <thead>\n",
       "    <tr style=\"text-align: right;\">\n",
       "      <th></th>\n",
       "      <th>score</th>\n",
       "    </tr>\n",
       "  </thead>\n",
       "  <tbody>\n",
       "    <tr>\n",
       "      <th>abc</th>\n",
       "      <td>81.74</td>\n",
       "    </tr>\n",
       "    <tr>\n",
       "      <th>gbc</th>\n",
       "      <td>80.76</td>\n",
       "    </tr>\n",
       "    <tr>\n",
       "      <th>svc</th>\n",
       "      <td>80.06</td>\n",
       "    </tr>\n",
       "    <tr>\n",
       "      <th>lr</th>\n",
       "      <td>79.49</td>\n",
       "    </tr>\n",
       "    <tr>\n",
       "      <th>xgbc</th>\n",
       "      <td>78.23</td>\n",
       "    </tr>\n",
       "    <tr>\n",
       "      <th>dt</th>\n",
       "      <td>77.53</td>\n",
       "    </tr>\n",
       "    <tr>\n",
       "      <th>rf</th>\n",
       "      <td>77.52</td>\n",
       "    </tr>\n",
       "    <tr>\n",
       "      <th>gnb</th>\n",
       "      <td>77.10</td>\n",
       "    </tr>\n",
       "    <tr>\n",
       "      <th>etc</th>\n",
       "      <td>75.70</td>\n",
       "    </tr>\n",
       "    <tr>\n",
       "      <th>knn</th>\n",
       "      <td>75.28</td>\n",
       "    </tr>\n",
       "  </tbody>\n",
       "</table>\n",
       "</div>"
      ],
      "text/plain": [
       "      score\n",
       "abc   81.74\n",
       "gbc   80.76\n",
       "svc   80.06\n",
       "lr    79.49\n",
       "xgbc  78.23\n",
       "dt    77.53\n",
       "rf    77.52\n",
       "gnb   77.10\n",
       "etc   75.70\n",
       "knn   75.28"
      ]
     },
     "execution_count": 13,
     "metadata": {},
     "output_type": "execute_result"
    }
   ],
   "source": [
    "crossval_scores_df"
   ]
  },
  {
   "cell_type": "markdown",
   "metadata": {},
   "source": [
    "## Tunning models"
   ]
  },
  {
   "cell_type": "markdown",
   "metadata": {},
   "source": [
    "Isso já foi feito com outros notebooks mas ainda nenhum vários dos algoritimos usados aqui não tinham sido usados antes, assim como a forma que o GridSearchCV foi usado. Vamos revalidar o modelo e tentar usar um ensamble sobre ele."
   ]
  },
  {
   "cell_type": "code",
   "execution_count": 15,
   "metadata": {},
   "outputs": [],
   "source": [
    "def tune_model_params(model, params):\n",
    "    gridsearch = GridSearchCV(model, params, scoring='accuracy', n_jobs=-1, cv=10)\n",
    "    gridsearch.fit(treino_x, treino_y)\n",
    "    best_params, best_score = gridsearch.best_params_, round(gridsearch.best_score_*100, 2)\n",
    "    return best_params, best_score"
   ]
  },
  {
   "cell_type": "code",
   "execution_count": 16,
   "metadata": {},
   "outputs": [],
   "source": [
    "lrParams = {\"penalty\":[\"l1\", \"l2\"],\n",
    "            \"C\": np.logspace(0, 4, 10),\n",
    "            \"max_iter\":[5000]}\n",
    "\n",
    "gbcParams = {\"learning_rate\": [0.01, 0.02, 0.05, 0.01],\n",
    "              \"max_depth\": [4, 6, 8],\n",
    "              \"max_features\": [1.0, 0.3, 0.1], \n",
    "              \"min_samples_split\": [ 2, 3, 4],\n",
    "              \"random_state\":[SEED]}\n",
    "\n",
    "svcParams = {\"C\": np.arange(6,13), \n",
    "              \"kernel\": [\"linear\",\"rbf\"],\n",
    "              \"gamma\": [0.5, 0.2, 0.1, 0.001, 0.0001]}\n",
    "\n",
    "dtParams = {\"max_features\": [\"auto\", \"sqrt\", \"log2\"],\n",
    "             \"min_samples_split\": np.arange(2,16), \n",
    "             \"min_samples_leaf\":np.arange(1,12),\n",
    "             \"random_state\":[SEED]}\n",
    "\n",
    "rfParams = {\"criterion\":[\"gini\",\"entropy\"],\n",
    "             \"n_estimators\":[10, 15, 20, 25, 30, 100, 200],\n",
    "             \"min_samples_leaf\":[1, 2, 3],\n",
    "             \"min_samples_split\":np.arange(3,8), \n",
    "             \"max_features\":[\"sqrt\", \"auto\", \"log2\"],\n",
    "             \"max_depth\": range(3, 100, 4),\n",
    "             \"n_jobs\": [-1],\n",
    "             \"random_state\":[SEED]}\n",
    "\n",
    "knnParams = {\"n_neighbors\":np.arange(3,9),\n",
    "              \"leaf_size\":[1, 2, 3, 5],\n",
    "              \"weights\":[\"uniform\", \"distance\"],\n",
    "              \"algorithm\":[\"auto\", \"ball_tree\",\"kd_tree\",\"brute\"]}\n",
    "\n",
    "abcParams = {\"n_estimators\":[1, 5, 10, 15, 20, 25, 40, 50, 60, 80, 100, 130, 160, 200, 250, 300],\n",
    "              \"learning_rate\":[0.0001, 0.001, 0.01, 0.1, 0.2, 0.3,1.5],\n",
    "              \"random_state\":[SEED]}\n",
    "\n",
    "etcParams = {\"max_depth\":[None],\n",
    "              \"max_features\":[1, 3, 10],\n",
    "              \"min_samples_split\":[2, 3, 10],\n",
    "              \"min_samples_leaf\":[1, 3, 10],\n",
    "              \"bootstrap\":[False],\n",
    "              \"n_estimators\":[100, 300],\n",
    "              \"criterion\":[\"gini\"],\n",
    "              \"random_state\":[SEED]}\n",
    "\n",
    "models_totune = [lr, svc, rf, knn, dt, gbc, abc, etc]\n",
    "models_totune_str = ['lr', 'svc', 'rf', 'knn', 'dt', 'gbc', 'abc', 'etc']\n",
    "models_totune_params = [lrParams, svcParams, rfParams, knnParams, dtParams, gbcParams, abcParams, etcParams]\n",
    "best_params_and_scores = list(map(tune_model_params, models_totune, models_totune_params))"
   ]
  },
  {
   "cell_type": "markdown",
   "metadata": {},
   "source": [
    "A execução desse tunning pode levar um tempo considerável para rodar."
   ]
  },
  {
   "cell_type": "code",
   "execution_count": 17,
   "metadata": {},
   "outputs": [
    {
     "data": {
      "text/html": [
       "<div>\n",
       "<style scoped>\n",
       "    .dataframe tbody tr th:only-of-type {\n",
       "        vertical-align: middle;\n",
       "    }\n",
       "\n",
       "    .dataframe tbody tr th {\n",
       "        vertical-align: top;\n",
       "    }\n",
       "\n",
       "    .dataframe thead th {\n",
       "        text-align: right;\n",
       "    }\n",
       "</style>\n",
       "<table border=\"1\" class=\"dataframe\">\n",
       "  <thead>\n",
       "    <tr style=\"text-align: right;\">\n",
       "      <th></th>\n",
       "      <th>best_params</th>\n",
       "      <th>best_score</th>\n",
       "    </tr>\n",
       "  </thead>\n",
       "  <tbody>\n",
       "    <tr>\n",
       "      <th>gbc</th>\n",
       "      <td>{'learning_rate': 0.01, 'max_depth': 6, 'max_features': 0.3, 'min_samples_split': 4, 'random_state': 5}</td>\n",
       "      <td>83.15</td>\n",
       "    </tr>\n",
       "    <tr>\n",
       "      <th>abc</th>\n",
       "      <td>{'learning_rate': 0.2, 'n_estimators': 50, 'random_state': 5}</td>\n",
       "      <td>82.02</td>\n",
       "    </tr>\n",
       "    <tr>\n",
       "      <th>dt</th>\n",
       "      <td>{'max_features': 'auto', 'min_samples_leaf': 4, 'min_samples_split': 2, 'random_state': 5}</td>\n",
       "      <td>81.88</td>\n",
       "    </tr>\n",
       "    <tr>\n",
       "      <th>etc</th>\n",
       "      <td>{'bootstrap': False, 'criterion': 'gini', 'max_depth': None, 'max_features': 1, 'min_samples_leaf': 10, 'min_samples_split': 2, 'n_estimators': 300, 'random_state': 5}</td>\n",
       "      <td>81.33</td>\n",
       "    </tr>\n",
       "    <tr>\n",
       "      <th>rf</th>\n",
       "      <td>{'criterion': 'gini', 'max_features': 'sqrt', 'min_samples_leaf': 2, 'min_samples_split': 5, 'n_estimators': 10, 'random_state': 5}</td>\n",
       "      <td>81.04</td>\n",
       "    </tr>\n",
       "    <tr>\n",
       "      <th>svc</th>\n",
       "      <td>{'C': 11, 'gamma': 0.001, 'kernel': 'rbf'}</td>\n",
       "      <td>81.03</td>\n",
       "    </tr>\n",
       "    <tr>\n",
       "      <th>lr</th>\n",
       "      <td>{'C': 21.544346900318832, 'max_iter': 5000, 'penalty': 'l1'}</td>\n",
       "      <td>79.78</td>\n",
       "    </tr>\n",
       "    <tr>\n",
       "      <th>knn</th>\n",
       "      <td>{'algorithm': 'ball_tree', 'leaf_size': 1, 'n_neighbors': 8, 'weights': 'distance'}</td>\n",
       "      <td>77.67</td>\n",
       "    </tr>\n",
       "  </tbody>\n",
       "</table>\n",
       "</div>"
      ],
      "text/plain": [
       "                                                                                                                                                                 best_params  \\\n",
       "gbc                                                                  {'learning_rate': 0.01, 'max_depth': 6, 'max_features': 0.3, 'min_samples_split': 4, 'random_state': 5}   \n",
       "abc                                                                                                            {'learning_rate': 0.2, 'n_estimators': 50, 'random_state': 5}   \n",
       "dt                                                                                {'max_features': 'auto', 'min_samples_leaf': 4, 'min_samples_split': 2, 'random_state': 5}   \n",
       "etc  {'bootstrap': False, 'criterion': 'gini', 'max_depth': None, 'max_features': 1, 'min_samples_leaf': 10, 'min_samples_split': 2, 'n_estimators': 300, 'random_state': 5}   \n",
       "rf                                       {'criterion': 'gini', 'max_features': 'sqrt', 'min_samples_leaf': 2, 'min_samples_split': 5, 'n_estimators': 10, 'random_state': 5}   \n",
       "svc                                                                                                                               {'C': 11, 'gamma': 0.001, 'kernel': 'rbf'}   \n",
       "lr                                                                                                              {'C': 21.544346900318832, 'max_iter': 5000, 'penalty': 'l1'}   \n",
       "knn                                                                                      {'algorithm': 'ball_tree', 'leaf_size': 1, 'n_neighbors': 8, 'weights': 'distance'}   \n",
       "\n",
       "     best_score  \n",
       "gbc       83.15  \n",
       "abc       82.02  \n",
       "dt        81.88  \n",
       "etc       81.33  \n",
       "rf        81.04  \n",
       "svc       81.03  \n",
       "lr        79.78  \n",
       "knn       77.67  "
      ]
     },
     "execution_count": 17,
     "metadata": {},
     "output_type": "execute_result"
    }
   ],
   "source": [
    "best_params_and_scores_df = pd.DataFrame(best_params_and_scores, columns=['best_params', 'best_score'], index=models_totune_str).sort_values(by='best_score', ascending=False)\n",
    "pd.set_option(\"max_colwidth\", None)\n",
    "best_params_and_scores_df"
   ]
  },
  {
   "cell_type": "code",
   "execution_count": 18,
   "metadata": {},
   "outputs": [],
   "source": [
    "gbc = GradientBoostingClassifier(**best_params_and_scores_df.loc['gbc', 'best_params'])\n",
    "rf  = RandomForestClassifier(**best_params_and_scores_df.loc['rf', 'best_params'])\n",
    "abc = AdaBoostClassifier(**best_params_and_scores_df.loc['abc', 'best_params'])\n",
    "dt  = DecisionTreeClassifier(**best_params_and_scores_df.loc['dt', 'best_params'])\n",
    "etc = ExtraTreesClassifier(**best_params_and_scores_df.loc['etc', 'best_params'])\n",
    "knn = KNeighborsClassifier(**best_params_and_scores_df.loc['knn', 'best_params'])\n",
    "lr  = LogisticRegression(**best_params_and_scores_df.loc['lr', 'best_params'], solver='liblinear')\n",
    "svc = SVC(**best_params_and_scores_df.loc['svc', 'best_params'])"
   ]
  },
  {
   "cell_type": "code",
   "execution_count": 22,
   "metadata": {},
   "outputs": [
    {
     "data": {
      "text/plain": [
       "'GradientBoostingClassifier'"
      ]
     },
     "metadata": {},
     "output_type": "display_data"
    },
    {
     "data": {
      "text/html": [
       "<div>\n",
       "<style scoped>\n",
       "    .dataframe tbody tr th:only-of-type {\n",
       "        vertical-align: middle;\n",
       "    }\n",
       "\n",
       "    .dataframe tbody tr th {\n",
       "        vertical-align: top;\n",
       "    }\n",
       "\n",
       "    .dataframe thead th {\n",
       "        text-align: right;\n",
       "    }\n",
       "</style>\n",
       "<table border=\"1\" class=\"dataframe\">\n",
       "  <thead>\n",
       "    <tr style=\"text-align: right;\">\n",
       "      <th>predicted</th>\n",
       "      <th>0</th>\n",
       "      <th>1</th>\n",
       "      <th>All</th>\n",
       "    </tr>\n",
       "    <tr>\n",
       "      <th>actual</th>\n",
       "      <th></th>\n",
       "      <th></th>\n",
       "      <th></th>\n",
       "    </tr>\n",
       "  </thead>\n",
       "  <tbody>\n",
       "    <tr>\n",
       "      <th>0</th>\n",
       "      <td>416</td>\n",
       "      <td>23</td>\n",
       "      <td>439</td>\n",
       "    </tr>\n",
       "    <tr>\n",
       "      <th>1</th>\n",
       "      <td>97</td>\n",
       "      <td>176</td>\n",
       "      <td>273</td>\n",
       "    </tr>\n",
       "    <tr>\n",
       "      <th>All</th>\n",
       "      <td>513</td>\n",
       "      <td>199</td>\n",
       "      <td>712</td>\n",
       "    </tr>\n",
       "  </tbody>\n",
       "</table>\n",
       "</div>"
      ],
      "text/plain": [
       "predicted    0    1  All\n",
       "actual                  \n",
       "0          416   23  439\n",
       "1           97  176  273\n",
       "All        513  199  712"
      ]
     },
     "metadata": {},
     "output_type": "display_data"
    },
    {
     "data": {
      "text/html": [
       "<div>\n",
       "<style scoped>\n",
       "    .dataframe tbody tr th:only-of-type {\n",
       "        vertical-align: middle;\n",
       "    }\n",
       "\n",
       "    .dataframe tbody tr th {\n",
       "        vertical-align: top;\n",
       "    }\n",
       "\n",
       "    .dataframe thead th {\n",
       "        text-align: right;\n",
       "    }\n",
       "</style>\n",
       "<table border=\"1\" class=\"dataframe\">\n",
       "  <thead>\n",
       "    <tr style=\"text-align: right;\">\n",
       "      <th></th>\n",
       "      <th>precision</th>\n",
       "      <th>recall</th>\n",
       "      <th>f1-score</th>\n",
       "      <th>support</th>\n",
       "    </tr>\n",
       "  </thead>\n",
       "  <tbody>\n",
       "    <tr>\n",
       "      <th>0</th>\n",
       "      <td>0.810916</td>\n",
       "      <td>0.947608</td>\n",
       "      <td>0.873950</td>\n",
       "      <td>439.000000</td>\n",
       "    </tr>\n",
       "    <tr>\n",
       "      <th>1</th>\n",
       "      <td>0.884422</td>\n",
       "      <td>0.644689</td>\n",
       "      <td>0.745763</td>\n",
       "      <td>273.000000</td>\n",
       "    </tr>\n",
       "    <tr>\n",
       "      <th>accuracy</th>\n",
       "      <td>0.831461</td>\n",
       "      <td>0.831461</td>\n",
       "      <td>0.831461</td>\n",
       "      <td>0.831461</td>\n",
       "    </tr>\n",
       "    <tr>\n",
       "      <th>macro avg</th>\n",
       "      <td>0.847669</td>\n",
       "      <td>0.796148</td>\n",
       "      <td>0.809856</td>\n",
       "      <td>712.000000</td>\n",
       "    </tr>\n",
       "    <tr>\n",
       "      <th>weighted avg</th>\n",
       "      <td>0.839100</td>\n",
       "      <td>0.831461</td>\n",
       "      <td>0.824799</td>\n",
       "      <td>712.000000</td>\n",
       "    </tr>\n",
       "  </tbody>\n",
       "</table>\n",
       "</div>"
      ],
      "text/plain": [
       "              precision    recall  f1-score     support\n",
       "0              0.810916  0.947608  0.873950  439.000000\n",
       "1              0.884422  0.644689  0.745763  273.000000\n",
       "accuracy       0.831461  0.831461  0.831461    0.831461\n",
       "macro avg      0.847669  0.796148  0.809856  712.000000\n",
       "weighted avg   0.839100  0.831461  0.824799  712.000000"
      ]
     },
     "metadata": {},
     "output_type": "display_data"
    },
    {
     "data": {
      "text/plain": [
       "None"
      ]
     },
     "metadata": {},
     "output_type": "display_data"
    },
    {
     "data": {
      "text/plain": [
       "'RandomForestClassifier'"
      ]
     },
     "metadata": {},
     "output_type": "display_data"
    },
    {
     "data": {
      "text/html": [
       "<div>\n",
       "<style scoped>\n",
       "    .dataframe tbody tr th:only-of-type {\n",
       "        vertical-align: middle;\n",
       "    }\n",
       "\n",
       "    .dataframe tbody tr th {\n",
       "        vertical-align: top;\n",
       "    }\n",
       "\n",
       "    .dataframe thead th {\n",
       "        text-align: right;\n",
       "    }\n",
       "</style>\n",
       "<table border=\"1\" class=\"dataframe\">\n",
       "  <thead>\n",
       "    <tr style=\"text-align: right;\">\n",
       "      <th>predicted</th>\n",
       "      <th>0</th>\n",
       "      <th>1</th>\n",
       "      <th>All</th>\n",
       "    </tr>\n",
       "    <tr>\n",
       "      <th>actual</th>\n",
       "      <th></th>\n",
       "      <th></th>\n",
       "      <th></th>\n",
       "    </tr>\n",
       "  </thead>\n",
       "  <tbody>\n",
       "    <tr>\n",
       "      <th>0</th>\n",
       "      <td>395</td>\n",
       "      <td>44</td>\n",
       "      <td>439</td>\n",
       "    </tr>\n",
       "    <tr>\n",
       "      <th>1</th>\n",
       "      <td>91</td>\n",
       "      <td>182</td>\n",
       "      <td>273</td>\n",
       "    </tr>\n",
       "    <tr>\n",
       "      <th>All</th>\n",
       "      <td>486</td>\n",
       "      <td>226</td>\n",
       "      <td>712</td>\n",
       "    </tr>\n",
       "  </tbody>\n",
       "</table>\n",
       "</div>"
      ],
      "text/plain": [
       "predicted    0    1  All\n",
       "actual                  \n",
       "0          395   44  439\n",
       "1           91  182  273\n",
       "All        486  226  712"
      ]
     },
     "metadata": {},
     "output_type": "display_data"
    },
    {
     "data": {
      "text/html": [
       "<div>\n",
       "<style scoped>\n",
       "    .dataframe tbody tr th:only-of-type {\n",
       "        vertical-align: middle;\n",
       "    }\n",
       "\n",
       "    .dataframe tbody tr th {\n",
       "        vertical-align: top;\n",
       "    }\n",
       "\n",
       "    .dataframe thead th {\n",
       "        text-align: right;\n",
       "    }\n",
       "</style>\n",
       "<table border=\"1\" class=\"dataframe\">\n",
       "  <thead>\n",
       "    <tr style=\"text-align: right;\">\n",
       "      <th></th>\n",
       "      <th>precision</th>\n",
       "      <th>recall</th>\n",
       "      <th>f1-score</th>\n",
       "      <th>support</th>\n",
       "    </tr>\n",
       "  </thead>\n",
       "  <tbody>\n",
       "    <tr>\n",
       "      <th>0</th>\n",
       "      <td>0.812757</td>\n",
       "      <td>0.899772</td>\n",
       "      <td>0.854054</td>\n",
       "      <td>439.000000</td>\n",
       "    </tr>\n",
       "    <tr>\n",
       "      <th>1</th>\n",
       "      <td>0.805310</td>\n",
       "      <td>0.666667</td>\n",
       "      <td>0.729459</td>\n",
       "      <td>273.000000</td>\n",
       "    </tr>\n",
       "    <tr>\n",
       "      <th>accuracy</th>\n",
       "      <td>0.810393</td>\n",
       "      <td>0.810393</td>\n",
       "      <td>0.810393</td>\n",
       "      <td>0.810393</td>\n",
       "    </tr>\n",
       "    <tr>\n",
       "      <th>macro avg</th>\n",
       "      <td>0.809033</td>\n",
       "      <td>0.783219</td>\n",
       "      <td>0.791756</td>\n",
       "      <td>712.000000</td>\n",
       "    </tr>\n",
       "    <tr>\n",
       "      <th>weighted avg</th>\n",
       "      <td>0.809902</td>\n",
       "      <td>0.810393</td>\n",
       "      <td>0.806281</td>\n",
       "      <td>712.000000</td>\n",
       "    </tr>\n",
       "  </tbody>\n",
       "</table>\n",
       "</div>"
      ],
      "text/plain": [
       "              precision    recall  f1-score     support\n",
       "0              0.812757  0.899772  0.854054  439.000000\n",
       "1              0.805310  0.666667  0.729459  273.000000\n",
       "accuracy       0.810393  0.810393  0.810393    0.810393\n",
       "macro avg      0.809033  0.783219  0.791756  712.000000\n",
       "weighted avg   0.809902  0.810393  0.806281  712.000000"
      ]
     },
     "metadata": {},
     "output_type": "display_data"
    },
    {
     "data": {
      "text/plain": [
       "None"
      ]
     },
     "metadata": {},
     "output_type": "display_data"
    },
    {
     "data": {
      "text/plain": [
       "'AdaBoostClassifier'"
      ]
     },
     "metadata": {},
     "output_type": "display_data"
    },
    {
     "data": {
      "text/html": [
       "<div>\n",
       "<style scoped>\n",
       "    .dataframe tbody tr th:only-of-type {\n",
       "        vertical-align: middle;\n",
       "    }\n",
       "\n",
       "    .dataframe tbody tr th {\n",
       "        vertical-align: top;\n",
       "    }\n",
       "\n",
       "    .dataframe thead th {\n",
       "        text-align: right;\n",
       "    }\n",
       "</style>\n",
       "<table border=\"1\" class=\"dataframe\">\n",
       "  <thead>\n",
       "    <tr style=\"text-align: right;\">\n",
       "      <th>predicted</th>\n",
       "      <th>0</th>\n",
       "      <th>1</th>\n",
       "      <th>All</th>\n",
       "    </tr>\n",
       "    <tr>\n",
       "      <th>actual</th>\n",
       "      <th></th>\n",
       "      <th></th>\n",
       "      <th></th>\n",
       "    </tr>\n",
       "  </thead>\n",
       "  <tbody>\n",
       "    <tr>\n",
       "      <th>0</th>\n",
       "      <td>387</td>\n",
       "      <td>52</td>\n",
       "      <td>439</td>\n",
       "    </tr>\n",
       "    <tr>\n",
       "      <th>1</th>\n",
       "      <td>76</td>\n",
       "      <td>197</td>\n",
       "      <td>273</td>\n",
       "    </tr>\n",
       "    <tr>\n",
       "      <th>All</th>\n",
       "      <td>463</td>\n",
       "      <td>249</td>\n",
       "      <td>712</td>\n",
       "    </tr>\n",
       "  </tbody>\n",
       "</table>\n",
       "</div>"
      ],
      "text/plain": [
       "predicted    0    1  All\n",
       "actual                  \n",
       "0          387   52  439\n",
       "1           76  197  273\n",
       "All        463  249  712"
      ]
     },
     "metadata": {},
     "output_type": "display_data"
    },
    {
     "data": {
      "text/html": [
       "<div>\n",
       "<style scoped>\n",
       "    .dataframe tbody tr th:only-of-type {\n",
       "        vertical-align: middle;\n",
       "    }\n",
       "\n",
       "    .dataframe tbody tr th {\n",
       "        vertical-align: top;\n",
       "    }\n",
       "\n",
       "    .dataframe thead th {\n",
       "        text-align: right;\n",
       "    }\n",
       "</style>\n",
       "<table border=\"1\" class=\"dataframe\">\n",
       "  <thead>\n",
       "    <tr style=\"text-align: right;\">\n",
       "      <th></th>\n",
       "      <th>precision</th>\n",
       "      <th>recall</th>\n",
       "      <th>f1-score</th>\n",
       "      <th>support</th>\n",
       "    </tr>\n",
       "  </thead>\n",
       "  <tbody>\n",
       "    <tr>\n",
       "      <th>0</th>\n",
       "      <td>0.835853</td>\n",
       "      <td>0.881549</td>\n",
       "      <td>0.858093</td>\n",
       "      <td>439.000000</td>\n",
       "    </tr>\n",
       "    <tr>\n",
       "      <th>1</th>\n",
       "      <td>0.791165</td>\n",
       "      <td>0.721612</td>\n",
       "      <td>0.754789</td>\n",
       "      <td>273.000000</td>\n",
       "    </tr>\n",
       "    <tr>\n",
       "      <th>accuracy</th>\n",
       "      <td>0.820225</td>\n",
       "      <td>0.820225</td>\n",
       "      <td>0.820225</td>\n",
       "      <td>0.820225</td>\n",
       "    </tr>\n",
       "    <tr>\n",
       "      <th>macro avg</th>\n",
       "      <td>0.813509</td>\n",
       "      <td>0.801580</td>\n",
       "      <td>0.806441</td>\n",
       "      <td>712.000000</td>\n",
       "    </tr>\n",
       "    <tr>\n",
       "      <th>weighted avg</th>\n",
       "      <td>0.818718</td>\n",
       "      <td>0.820225</td>\n",
       "      <td>0.818484</td>\n",
       "      <td>712.000000</td>\n",
       "    </tr>\n",
       "  </tbody>\n",
       "</table>\n",
       "</div>"
      ],
      "text/plain": [
       "              precision    recall  f1-score     support\n",
       "0              0.835853  0.881549  0.858093  439.000000\n",
       "1              0.791165  0.721612  0.754789  273.000000\n",
       "accuracy       0.820225  0.820225  0.820225    0.820225\n",
       "macro avg      0.813509  0.801580  0.806441  712.000000\n",
       "weighted avg   0.818718  0.820225  0.818484  712.000000"
      ]
     },
     "metadata": {},
     "output_type": "display_data"
    },
    {
     "data": {
      "text/plain": [
       "None"
      ]
     },
     "metadata": {},
     "output_type": "display_data"
    }
   ],
   "source": [
    "def prediction_and_confusion_matrix_scoress(model, X_train, y):\n",
    "    prediction = cross_val_predict(model, X_train, y, cv=10)\n",
    "    confusion_matrix = pd.crosstab(y, prediction, rownames=['actual'], colnames=['predicted'], margins=True)\n",
    "    #correct_pred = (confusion_matrix.loc[0, 0] + confusion_matrix.loc[1, 1])\n",
    "    classificationReport = pd.DataFrame(classification_report(y, prediction, output_dict=True)).transpose()\n",
    "    title = str(model).split('(')[0]\n",
    "    display(title)\n",
    "    display(confusion_matrix)\n",
    "    display(classificationReport)\n",
    "\n",
    "for model in [gbc,rf,abc]:\n",
    "    display(prediction_and_confusion_matrix_scoress(model, treino_x, treino_y))"
   ]
  },
  {
   "cell_type": "markdown",
   "metadata": {},
   "source": [
    "Analisando a importância de cada feature:"
   ]
  },
  {
   "cell_type": "code",
   "execution_count": 25,
   "metadata": {},
   "outputs": [
    {
     "data": {
      "image/png": "[encoded data removed]",
      "text/plain": [
       "<Figure size 1800x576 with 3 Axes>"
      ]
     },
     "metadata": {
      "needs_background": "light"
     },
     "output_type": "display_data"
    },
    {
     "data": {
      "text/plain": [
       "<Figure size 1440x2880 with 0 Axes>"
      ]
     },
     "metadata": {},
     "output_type": "display_data"
    },
    {
     "data": {
      "text/plain": [
       "<Figure size 1440x2880 with 0 Axes>"
      ]
     },
     "metadata": {},
     "output_type": "display_data"
    },
    {
     "data": {
      "text/plain": [
       "<Figure size 1440x2880 with 0 Axes>"
      ]
     },
     "metadata": {},
     "output_type": "display_data"
    }
   ],
   "source": [
    "for model in [lr, svc, rf, knn, dt, gbc, abc, etc]:\n",
    "    model.fit(treino_x, treino_y)\n",
    "\n",
    "def feature_importance(models):\n",
    "    n = len(models)\n",
    "    f, axes = plt.subplots(1, n, figsize=(25,8))\n",
    "    for i, model in enumerate(models):\n",
    "        importance_df = pd.DataFrame({\"feature\": treino_x.columns, \"importance\": np.round(model.feature_importances_,2)}).sort_values(by = \"importance\", ascending = False)\n",
    "        plt.figure(figsize=(20,40))\n",
    "        title = str(model).split('(')[0]\n",
    "        sns.barplot(ax = axes[i], x='importance', y='feature', data=importance_df).set_title(title)\n",
    "    f.tight_layout()\n",
    "        \n",
    "\n",
    "feature_importance([gbc,rf,abc])"
   ]
  },
  {
   "cell_type": "markdown",
   "metadata": {},
   "source": [
    "Um ensamble útil para usar é o hard voting: ele busca fazer uma votação entre inúmeros modelos diferentes que tenham suas decisões correlacionadas (por isso a visualização de feature importance)."
   ]
  },
  {
   "cell_type": "code",
   "execution_count": 27,
   "metadata": {},
   "outputs": [
    {
     "data": {
      "text/html": [
       "<div>\n",
       "<style scoped>\n",
       "    .dataframe tbody tr th:only-of-type {\n",
       "        vertical-align: middle;\n",
       "    }\n",
       "\n",
       "    .dataframe tbody tr th {\n",
       "        vertical-align: top;\n",
       "    }\n",
       "\n",
       "    .dataframe thead th {\n",
       "        text-align: right;\n",
       "    }\n",
       "</style>\n",
       "<table border=\"1\" class=\"dataframe\">\n",
       "  <thead>\n",
       "    <tr style=\"text-align: right;\">\n",
       "      <th></th>\n",
       "      <th>score</th>\n",
       "    </tr>\n",
       "  </thead>\n",
       "  <tbody>\n",
       "    <tr>\n",
       "      <th>hard voting</th>\n",
       "      <td>82.16</td>\n",
       "    </tr>\n",
       "    <tr>\n",
       "      <th>dt</th>\n",
       "      <td>81.88</td>\n",
       "    </tr>\n",
       "    <tr>\n",
       "      <th>etc</th>\n",
       "      <td>81.33</td>\n",
       "    </tr>\n",
       "    <tr>\n",
       "      <th>rf</th>\n",
       "      <td>81.04</td>\n",
       "    </tr>\n",
       "    <tr>\n",
       "      <th>lr</th>\n",
       "      <td>79.78</td>\n",
       "    </tr>\n",
       "    <tr>\n",
       "      <th>knn</th>\n",
       "      <td>77.67</td>\n",
       "    </tr>\n",
       "  </tbody>\n",
       "</table>\n",
       "</div>"
      ],
      "text/plain": [
       "             score\n",
       "hard voting  82.16\n",
       "dt           81.88\n",
       "etc          81.33\n",
       "rf           81.04\n",
       "lr           79.78\n",
       "knn          77.67"
      ]
     },
     "metadata": {},
     "output_type": "display_data"
    }
   ],
   "source": [
    "base_models = [dt, knn, rf, etc, lr]\n",
    "base_models_str = ['dt', 'knn', 'rf', 'etc', 'lr']\n",
    "\n",
    "hard_voting_model = EnsembleVoteClassifier(clfs = base_models, voting=\"hard\")\n",
    "hard_voting_model.fit(treino_x, treino_y)\n",
    "hard_voting_crossval_score = round(cross_val_score(hard_voting_model, treino_x, treino_y, cv=10, scoring='accuracy').mean()*100, 2)\n",
    "hard_voting_vs_original_df = pd.DataFrame({'score': [hard_voting_crossval_score, \n",
    "                                                     *best_params_and_scores_df.loc[base_models_str, 'best_score']]}, \n",
    "                                          index=['hard voting', *base_models_str]).sort_values(by='score', ascending=False)\n",
    "display(hard_voting_vs_original_df)"
   ]
  },
  {
   "cell_type": "markdown",
   "metadata": {},
   "source": [
    "Bagging é um modelo para reduzir overfitting. Ele separada subsets do dataset para cada classificador informado."
   ]
  },
  {
   "cell_type": "code",
   "execution_count": 30,
   "metadata": {},
   "outputs": [
    {
     "data": {
      "text/html": [
       "<div>\n",
       "<style scoped>\n",
       "    .dataframe tbody tr th:only-of-type {\n",
       "        vertical-align: middle;\n",
       "    }\n",
       "\n",
       "    .dataframe tbody tr th {\n",
       "        vertical-align: top;\n",
       "    }\n",
       "\n",
       "    .dataframe thead th {\n",
       "        text-align: right;\n",
       "    }\n",
       "</style>\n",
       "<table border=\"1\" class=\"dataframe\">\n",
       "  <thead>\n",
       "    <tr style=\"text-align: right;\">\n",
       "      <th></th>\n",
       "      <th>score</th>\n",
       "    </tr>\n",
       "  </thead>\n",
       "  <tbody>\n",
       "    <tr>\n",
       "      <th>bagging</th>\n",
       "      <td>82.16</td>\n",
       "    </tr>\n",
       "    <tr>\n",
       "      <th>dt</th>\n",
       "      <td>81.88</td>\n",
       "    </tr>\n",
       "    <tr>\n",
       "      <th>etc</th>\n",
       "      <td>81.33</td>\n",
       "    </tr>\n",
       "    <tr>\n",
       "      <th>rf</th>\n",
       "      <td>81.04</td>\n",
       "    </tr>\n",
       "    <tr>\n",
       "      <th>lr</th>\n",
       "      <td>79.78</td>\n",
       "    </tr>\n",
       "    <tr>\n",
       "      <th>knn</th>\n",
       "      <td>77.67</td>\n",
       "    </tr>\n",
       "  </tbody>\n",
       "</table>\n",
       "</div>"
      ],
      "text/plain": [
       "         score\n",
       "bagging  82.16\n",
       "dt       81.88\n",
       "etc      81.33\n",
       "rf       81.04\n",
       "lr       79.78\n",
       "knn      77.67"
      ]
     },
     "metadata": {},
     "output_type": "display_data"
    }
   ],
   "source": [
    "bagging_model = BaggingClassifier(base_estimator = gbc, verbose = 0, n_jobs = -1, random_state = SEED)\n",
    "bagging_model.fit(treino_x, treino_y)\n",
    "bagging_crossval_score = round(cross_val_score(bagging_model, treino_x, treino_y, cv=10, scoring='accuracy').mean()*100, 2)\n",
    "bagging_vs_original_df = pd.DataFrame({'score': [bagging_crossval_score, \n",
    "                                                 *best_params_and_scores_df.loc[base_models_str, 'best_score']]}, \n",
    "                                      index=['bagging', *base_models_str]).sort_values(by='score', ascending=False)\n",
    "display(bagging_vs_original_df)"
   ]
  },
  {
   "cell_type": "markdown",
   "metadata": {},
   "source": [
    "## Validando o modelo"
   ]
  },
  {
   "cell_type": "code",
   "execution_count": 32,
   "metadata": {},
   "outputs": [
    {
     "name": "stdout",
     "output_type": "stream",
     "text": [
      "{'accuracy_score': 0.8212290502793296, 'recall_score': 0.5797101449275363, 'balanced_accuracy_score': 0.7762187088274045, 'precision_score': 0.9302325581395349, 'f1_score': 0.7142857142857143}\n"
     ]
    }
   ],
   "source": [
    "predictions = bagging_model.predict(teste_x)\n",
    "print({\n",
    "    'accuracy_score': accuracy_score(teste_y, predictions),\n",
    "    'recall_score': recall_score(teste_y, predictions),\n",
    "    'balanced_accuracy_score': balanced_accuracy_score(teste_y, predictions),\n",
    "    'precision_score': precision_score(teste_y, predictions),\n",
    "    'f1_score': f1_score(teste_y, predictions)\n",
    "})"
   ]
  },
  {
   "cell_type": "markdown",
   "metadata": {},
   "source": [
    "Os resultados não parecem promissores, mas vamos comparar com o Kaggle."
   ]
  },
  {
   "cell_type": "code",
   "execution_count": 35,
   "metadata": {},
   "outputs": [],
   "source": [
    "def export_titanic_custom_model_submission(modelo, filename):\n",
    "    treino = pd.read_csv('https://raw.githubusercontent.com/SalatielBairros/kaggle-titanic/main/data/processed_v2/train_dummies_2.csv')\n",
    "    teste = pd.read_csv('https://raw.githubusercontent.com/SalatielBairros/kaggle-titanic/main/data/processed_v2/test_dummies_2.csv')\n",
    "    Xvalidation = teste.drop(columns=['PassengerId'])\n",
    "\n",
    "    X = treino.drop(columns=['Survived'])\n",
    "    y = treino['Survived']\n",
    "\n",
    "    modelo.fit(X, y)\n",
    "    predicoes = modelo.predict(Xvalidation)\n",
    "    resultado = pd.DataFrame()\n",
    "    resultado['PassengerId'] = teste['PassengerId']\n",
    "    resultado['Survived'] = predicoes\n",
    "    resultado.to_csv(f'../../data/submissions/{filename}.csv', index=False)"
   ]
  },
  {
   "cell_type": "code",
   "execution_count": null,
   "metadata": {},
   "outputs": [],
   "source": [
    "export_titanic_custom_model_submission(bagging_model)"
   ]
  },
  {
   "cell_type": "markdown",
   "metadata": {},
   "source": [
    "O score se mostrou 0.7703, o que é inferior que os outros. No entanto, para \"descargo de consciência\", o que acontece se utilizar diretamente gbc?"
   ]
  },
  {
   "cell_type": "code",
   "execution_count": 36,
   "metadata": {},
   "outputs": [],
   "source": [
    "export_titanic_custom_model_submission(gbc, 'gbc')"
   ]
  },
  {
   "cell_type": "markdown",
   "metadata": {},
   "source": [
    "Retornou um score ainda menor. Ou seja, a forma com que os modelos ali foram usados no notebook de exemplo não se encaixam bem com a forma que os dados estão pré-processados aqui."
   ]
  },
  {
   "cell_type": "markdown",
   "metadata": {},
   "source": [
    "O que acontece se eu utilizar o bestmodel com o bagging?"
   ]
  },
  {
   "cell_type": "code",
   "execution_count": 37,
   "metadata": {},
   "outputs": [],
   "source": [
    "best_params = {\n",
    "    'criterion': 'gini',\n",
    "    'max_depth': 35,\n",
    "    'min_samples_split': 4,\n",
    "    'min_samples_leaf': 4,\n",
    "    'n_estimators': 25,\n",
    "    'random_state': SEED\n",
    "}"
   ]
  },
  {
   "cell_type": "code",
   "execution_count": 38,
   "metadata": {},
   "outputs": [
    {
     "data": {
      "text/html": [
       "<div>\n",
       "<style scoped>\n",
       "    .dataframe tbody tr th:only-of-type {\n",
       "        vertical-align: middle;\n",
       "    }\n",
       "\n",
       "    .dataframe tbody tr th {\n",
       "        vertical-align: top;\n",
       "    }\n",
       "\n",
       "    .dataframe thead th {\n",
       "        text-align: right;\n",
       "    }\n",
       "</style>\n",
       "<table border=\"1\" class=\"dataframe\">\n",
       "  <thead>\n",
       "    <tr style=\"text-align: right;\">\n",
       "      <th></th>\n",
       "      <th>score</th>\n",
       "    </tr>\n",
       "  </thead>\n",
       "  <tbody>\n",
       "    <tr>\n",
       "      <th>dt</th>\n",
       "      <td>81.88</td>\n",
       "    </tr>\n",
       "    <tr>\n",
       "      <th>etc</th>\n",
       "      <td>81.33</td>\n",
       "    </tr>\n",
       "    <tr>\n",
       "      <th>rf</th>\n",
       "      <td>81.04</td>\n",
       "    </tr>\n",
       "    <tr>\n",
       "      <th>bagging</th>\n",
       "      <td>80.76</td>\n",
       "    </tr>\n",
       "    <tr>\n",
       "      <th>lr</th>\n",
       "      <td>79.78</td>\n",
       "    </tr>\n",
       "    <tr>\n",
       "      <th>knn</th>\n",
       "      <td>77.67</td>\n",
       "    </tr>\n",
       "  </tbody>\n",
       "</table>\n",
       "</div>"
      ],
      "text/plain": [
       "         score\n",
       "dt       81.88\n",
       "etc      81.33\n",
       "rf       81.04\n",
       "bagging  80.76\n",
       "lr       79.78\n",
       "knn      77.67"
      ]
     },
     "metadata": {},
     "output_type": "display_data"
    }
   ],
   "source": [
    "best_rf = RandomForestClassifier(**best_params)\n",
    "bagging_model = BaggingClassifier(base_estimator = best_rf, verbose = 0, n_jobs = -1, random_state = SEED)\n",
    "bagging_model.fit(treino_x, treino_y)\n",
    "bagging_crossval_score = round(cross_val_score(bagging_model, treino_x, treino_y, cv=10, scoring='accuracy').mean()*100, 2)\n",
    "bagging_vs_original_df = pd.DataFrame({'score': [bagging_crossval_score, \n",
    "                                                 *best_params_and_scores_df.loc[base_models_str, 'best_score']]}, \n",
    "                                      index=['bagging', *base_models_str]).sort_values(by='score', ascending=False)\n",
    "display(bagging_vs_original_df)"
   ]
  },
  {
   "cell_type": "code",
   "execution_count": 39,
   "metadata": {},
   "outputs": [
    {
     "name": "stdout",
     "output_type": "stream",
     "text": [
      "{'accuracy_score': 0.8212290502793296, 'recall_score': 0.6521739130434783, 'balanced_accuracy_score': 0.7897233201581028, 'precision_score': 0.8490566037735849, 'f1_score': 0.7377049180327868}\n"
     ]
    }
   ],
   "source": [
    "predictions = bagging_model.predict(teste_x)\n",
    "print({\n",
    "    'accuracy_score': accuracy_score(teste_y, predictions),\n",
    "    'recall_score': recall_score(teste_y, predictions),\n",
    "    'balanced_accuracy_score': balanced_accuracy_score(teste_y, predictions),\n",
    "    'precision_score': precision_score(teste_y, predictions),\n",
    "    'f1_score': f1_score(teste_y, predictions)\n",
    "})"
   ]
  },
  {
   "cell_type": "markdown",
   "metadata": {},
   "source": [
    "Continua inferior. Provavelmente por esse pré-processamento conter muito menos features."
   ]
  }
 ],
 "metadata": {
  "interpreter": {
   "hash": "5d8406cfaedcdf0eaa4a44a61b5b4d06f47db5698936240ac59b59333d280fd9"
  },
  "kernelspec": {
   "display_name": "Python 3.10.0 64-bit",
   "language": "python",
   "name": "python3"
  },
  "language_info": {
   "codemirror_mode": {
    "name": "ipython",
    "version": 3
   },
   "file_extension": ".py",
   "mimetype": "text/x-python",
   "name": "python",
   "nbconvert_exporter": "python",
   "pygments_lexer": "ipython3",
   "version": "3.10.0"
  },
  "orig_nbformat": 4
 },
 "nbformat": 4,
 "nbformat_minor": 2
}
